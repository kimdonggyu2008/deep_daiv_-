{
  "nbformat": 4,
  "nbformat_minor": 0,
  "metadata": {
    "colab": {
      "provenance": [],
      "collapsed_sections": [
        "8VPdgWpAN2af",
        "VLthuuzuN8y_"
      ],
      "gpuType": "T4",
      "mount_file_id": "1C4Q6ceYWlu8kYcQJIFceFKI7aMntgr45",
      "authorship_tag": "ABX9TyP54gfZNAB+5xLUyfuf6MoZ",
      "include_colab_link": true
    },
    "kernelspec": {
      "name": "python3",
      "display_name": "Python 3"
    },
    "language_info": {
      "name": "python"
    },
    "accelerator": "GPU"
  },
  "cells": [
    {
      "cell_type": "markdown",
      "metadata": {
        "id": "view-in-github",
        "colab_type": "text"
      },
      "source": [
        "<a href=\"https://colab.research.google.com/github/kimdonggyu2008/deep_daiv_-/blob/main/fast_speech2_%ED%8C%8C%EC%9D%B4%ED%94%84%EB%9D%BC%EC%9D%B8_origin.ipynb\" target=\"_parent\"><img src=\"https://colab.research.google.com/assets/colab-badge.svg\" alt=\"Open In Colab\"/></a>"
      ]
    },
    {
      "cell_type": "markdown",
      "source": [
        "#fast speech2 파이프라인"
      ],
      "metadata": {
        "id": "pBVf5fzTMwJg"
      }
    },
    {
      "cell_type": "markdown",
      "source": [
        "https://github.com/HGU-DLLAB/Korean-FastSpeech2-Pytorch"
      ],
      "metadata": {
        "id": "UTBT-hr8xMcS"
      }
    },
    {
      "cell_type": "code",
      "source": [
        "# #데이터셋이 없는 경우에만 다운로드\n",
        "# import os\n",
        "\n",
        "# # Kaggle 데이터셋 다운로드\n",
        "# !kaggle datasets download -d bryanpark/korean-single-speaker-speech-dataset -p /content/drive/MyDrive/fast_speech2\n",
        "\n",
        "# # 압축 해제\n",
        "# !unzip -q /content/drive/MyDrive/fast_speech2/korean-single-speaker-speech-dataset.zip -d /content/drive/MyDrive/fast_speech2/dataset\n",
        "# print(\"Dataset saved to /content/drive/MyDrive/fast_speech2\")"
      ],
      "metadata": {
        "id": "qq2RlS_FYse7"
      },
      "execution_count": 1,
      "outputs": []
    },
    {
      "cell_type": "code",
      "source": [
        "# import gdown #다운 받으면 일부 파일 누락됨\n",
        "# !gdown https://drive.google.com/uc?id=1LgZPfWAvPcdOpGBSncvMgv54rGIf1y-H"
      ],
      "metadata": {
        "id": "u2EeuZCEKDZ4"
      },
      "execution_count": 2,
      "outputs": []
    },
    {
      "cell_type": "code",
      "source": [
        "from google.colab import drive, output\n",
        "drive.mount('/content/drive')"
      ],
      "metadata": {
        "colab": {
          "base_uri": "https://localhost:8080/"
        },
        "id": "SnTU5aw3M3ND",
        "outputId": "b9ee843d-61cd-4fc3-9137-bc5290ecd033"
      },
      "execution_count": 3,
      "outputs": [
        {
          "output_type": "stream",
          "name": "stdout",
          "text": [
            "Drive already mounted at /content/drive; to attempt to forcibly remount, call drive.mount(\"/content/drive\", force_remount=True).\n"
          ]
        }
      ]
    },
    {
      "cell_type": "code",
      "source": [
        "# !unzip -q /content/drive/MyDrive/TextGrid.zip -d /content/drive/MyDrive/fast_speech2/dataset/preprocessed/kss\n",
        "# print(\"Dataset saved to /content/drive/MyDrive/fast_speech2/dataset/preprocessed/kss\")"
      ],
      "metadata": {
        "id": "7DJePL3ALE8P"
      },
      "execution_count": 4,
      "outputs": []
    },
    {
      "cell_type": "code",
      "source": [
        "!pip install -r \"/content/drive/MyDrive/fast_speech2/requirements.txt\"\n",
        "output.clear() #버전 에러가 나는 경우, 여기 확인"
      ],
      "metadata": {
        "id": "4Itmk-38Q-bT"
      },
      "execution_count": 5,
      "outputs": []
    },
    {
      "cell_type": "code",
      "source": [
        "!pip install g2pk\n",
        "!pip install jamo\n",
        "!pip install unidecode\n",
        "!pip install pyworld\n",
        "!pip install tgt\n",
        "!pip install cleaners\n",
        "!pip install utils\n",
        "!pip install audio\n",
        "output.clear()"
      ],
      "metadata": {
        "id": "p7yAMUPBzC7x"
      },
      "execution_count": 6,
      "outputs": []
    },
    {
      "cell_type": "code",
      "source": [
        "# Standard Libraries\n",
        "import os\n",
        "import shutil\n",
        "import time\n",
        "import re\n",
        "import math\n",
        "import json\n",
        "import codecs\n",
        "import argparse\n",
        "from string import punctuation\n",
        "from collections import OrderedDict\n",
        "import copy\n",
        "import ast\n",
        "import inflect\n",
        "import utils\n",
        "import matplotlib.pyplot as plt\n",
        "import matplotlib\n",
        "\n",
        "\n",
        "\n",
        "# Numerical Computations\n",
        "import numpy as np\n",
        "\n",
        "# PyTorch Libraries\n",
        "import torch\n",
        "import torch.nn as nn\n",
        "import torch.nn.functional as F\n",
        "from torch.utils.data import DataLoader, Dataset\n",
        "from torch.utils.tensorboard import SummaryWriter\n",
        "from torch.autograd import Variable\n",
        "\n",
        "\n",
        "# Korean Language Libraries\n",
        "from g2pk import G2p\n",
        "from jamo import hangul_to_jamo, h2j, j2h, hcj_to_jamo, is_hcj\n",
        "from jamo.jamo import _jamo_char_to_hcj\n",
        "from unidecode import unidecode\n",
        "\n",
        "# Audio and Signal Libraries\n",
        "from scipy.io import wavfile\n",
        "from scipy.io.wavfile import read, write\n",
        "from scipy.signal import get_window\n",
        "from librosa.util import pad_center, tiny\n",
        "from librosa.filters import mel as librosa_mel_fn\n",
        "\n",
        "import librosa.util as librosa_util\n",
        "import pyworld as pw\n",
        "import tgt\n",
        "\n",
        "# Scikit-learn\n",
        "from sklearn.preprocessing import StandardScaler\n",
        "output.clear()"
      ],
      "metadata": {
        "id": "EP4LDynQ1FjW"
      },
      "execution_count": 7,
      "outputs": []
    },
    {
      "cell_type": "markdown",
      "source": [
        "# 하이퍼 파라미터, 필요 내용 분할필요"
      ],
      "metadata": {
        "id": "49qmgLfLOdNe"
      }
    },
    {
      "cell_type": "code",
      "source": [
        "class HParams:\n",
        "    # Dataset paths\n",
        "    dataset = \"kss\"\n",
        "    data_path = os.path.join(\"/content/drive/MyDrive/fast_speech2/dataset\",dataset)#kss 데이터셋 위치\n",
        "    meta_name = \"transcript.v.1.4.txt\"  # 음성 데이터 발화내용\n",
        "    textgrid_name = \"TextGrid.zip\" #경로 문제뜨면 이거 대소문자 문제임\n",
        "\n",
        "    # GPU settings\n",
        "    train_visible_devices = \"0,1\"\n",
        "    synth_visible_devices = \"0\"\n",
        "\n",
        "    # Text\n",
        "    text_cleaners = ['korean_cleaners']\n",
        "\n",
        "    # Audio and mel\n",
        "    sampling_rate = 22050\n",
        "    filter_length = 1024\n",
        "    hop_length = 256\n",
        "    win_length = 1024\n",
        "    max_wav_value = 32768.0\n",
        "    n_mel_channels = 80\n",
        "    mel_fmin = 0\n",
        "    mel_fmax = 8000\n",
        "\n",
        "    f0_min = 71.0\n",
        "    f0_max = 792.8\n",
        "    energy_min = 0.0\n",
        "    energy_max = 283.72\n",
        "\n",
        "    # FastSpeech 2\n",
        "    encoder_layer = 4\n",
        "    encoder_head = 2\n",
        "    encoder_hidden = 256\n",
        "    decoder_layer = 4\n",
        "    decoder_head = 2\n",
        "    decoder_hidden = 256\n",
        "    fft_conv1d_filter_size = 1024\n",
        "    fft_conv1d_kernel_size = (9, 1)\n",
        "    encoder_dropout = 0.2\n",
        "    decoder_dropout = 0.2\n",
        "\n",
        "    variance_predictor_filter_size = 256\n",
        "    variance_predictor_kernel_size = 3\n",
        "    variance_predictor_dropout = 0.5\n",
        "\n",
        "    max_seq_len = 1000\n",
        "\n",
        "    # Checkpoints and synthesis path, 원 계정에서 사용할 것\n",
        "    # preprocessed_path = os.path.join(\"./preprocessed/\", dataset)\n",
        "    # checkpoint_path = os.path.join(\"/content/drive/MyDrive/코딩공부/deep_daiv/daiv_fall/fast_speech_2/fast_speech2/checkpoint\")\n",
        "    # eval_path = os.path.join(\"/content/drive/MyDrive/코딩공부/deep_daiv/daiv_fall/fast_speech_2/fast_speech2_korean_dataset/eval\")\n",
        "    # log_path = os.path.join(\"/content/drive/MyDrive/코딩공부/deep_daiv/daiv_fall/fast_speech_2/logs\")\n",
        "    # test_path = \"/content/drive/MyDrive/코딩공부/deep_daiv/daiv_fall/fast_speech_2/result\"\n",
        "\n",
        "    preprocessed_path = os.path.join(\"/content/drive/MyDrive/fast_speech2/dataset/preprocessed\",dataset)\n",
        "    checkpoint_path = os.path.join(\"/content/drive/MyDrive/fast_speech2/checkpoint\",dataset)\n",
        "    eval_path = os.path.join(\"/content/drive/MyDrive/fast_speech2/dataset/eval\", dataset)\n",
        "    log_path = os.path.join(\"/content/drive/MyDrive/fast_speech2/log\", dataset)\n",
        "    test_path = \"/content/drive/MyDrive/fast_speech2/results/test\"\n",
        "\n",
        "    # Optimizer\n",
        "    batch_size = 4\n",
        "    epochs = 1000\n",
        "    n_warm_up_step = 4000\n",
        "    grad_clip_thresh = 1.0\n",
        "    acc_steps = 1\n",
        "    betas = (0.9, 0.98)\n",
        "    eps = 1e-9\n",
        "    weight_decay = 0.0\n",
        "\n",
        "\n",
        "    # Vocoder, 나중에 원하는 모델로 변경 및 몇몇 함수 수정필요\n",
        "    vocoder = 'avocodo'\n",
        "    vocoder_pretrained_model_name = \"\" #사전 학습 모델 생기면 지정\n",
        "    vocoder_pretrained_model_path = os.path.join(\"fast_speech2_pretrained\")# 아예 위치 지정\n",
        "\n",
        "\n",
        "    # Log-scaled duration\n",
        "    log_offset = 1.\n",
        "\n",
        "    # Save, log, and synthesis\n",
        "    save_step = 10000\n",
        "    eval_step = 1000\n",
        "    eval_size = 256\n",
        "    log_step = 1000\n",
        "    clear_Time = 20\n",
        "\n",
        "\n",
        "# Instantiate hparams for usage\n",
        "hp = HParams()\n"
      ],
      "metadata": {
        "id": "OubgEp2TOgO7"
      },
      "execution_count": 8,
      "outputs": []
    },
    {
      "cell_type": "markdown",
      "source": [
        "#text파일"
      ],
      "metadata": {
        "id": "8VPdgWpAN2af"
      }
    },
    {
      "cell_type": "code",
      "source": [
        "\n",
        "PAD = '_'\n",
        "EOS = '~'\n",
        "PUNC = '!\\'(),-.:;?'\n",
        "SPACE = ' '\n",
        "_SILENCES = ['sp', 'spn', 'sil']\n",
        "\n",
        "JAMO_LEADS = \"\".join([chr(_) for _ in range(0x1100, 0x1113)])\n",
        "JAMO_VOWELS = \"\".join([chr(_) for _ in range(0x1161, 0x1176)])\n",
        "JAMO_TAILS = \"\".join([chr(_) for _ in range(0x11A8, 0x11C3)])\n",
        "\n",
        "VALID_CHARS = JAMO_LEADS + JAMO_VOWELS + JAMO_TAILS + PUNC + SPACE\n",
        "ALL_SYMBOLS = list(PAD + EOS + VALID_CHARS) + _SILENCES\n",
        "s_to_i={c: i for i, c in enumerate(ALL_SYMBOLS)}\n",
        "#print('s_to_i: ',s_to_i)\n",
        "KOR_SYMBOLS=ALL_SYMBOLS\n",
        "\n",
        "Kchar_to_id={c: i for i, c in enumerate(KOR_SYMBOLS)}\n",
        "id_to_Kchar={i: c for i, c in enumerate(KOR_SYMBOLS)}\n",
        "\n",
        "'''\n",
        "Cleaners are transformations that run over the input text at both training and eval time.\n",
        "\n",
        "Cleaners can be selected by passing a comma-delimited list of cleaner names as the \"cleaners\"\n",
        "hyperparameter. Some cleaners are English-specific. You'll typically want to use:\n",
        "  1. \"english_cleaners\" for English text\n",
        "  2. \"transliteration_cleaners\" for non-English text that can be transliterated to ASCII using\n",
        "     the Unidecode library (https://pypi.python.org/pypi/Unidecode)\n",
        "  3. \"basic_cleaners\" if you do not want to transliterate (in this case, you should also update\n",
        "     the symbols in symbols.py to match your data).\n",
        "'''\n"
      ],
      "metadata": {
        "id": "ckEO7mET3gML",
        "colab": {
          "base_uri": "https://localhost:8080/",
          "height": 148
        },
        "outputId": "ba2b6b2d-fc59-47c6-8eee-e8b0b7c0f5f3"
      },
      "execution_count": 9,
      "outputs": [
        {
          "output_type": "execute_result",
          "data": {
            "text/plain": [
              "'\\nCleaners are transformations that run over the input text at both training and eval time.\\n\\nCleaners can be selected by passing a comma-delimited list of cleaner names as the \"cleaners\"\\nhyperparameter. Some cleaners are English-specific. You\\'ll typically want to use:\\n  1. \"english_cleaners\" for English text\\n  2. \"transliteration_cleaners\" for non-English text that can be transliterated to ASCII using\\n     the Unidecode library (https://pypi.python.org/pypi/Unidecode)\\n  3. \"basic_cleaners\" if you do not want to transliterate (in this case, you should also update\\n     the symbols in symbols.py to match your data).\\n'"
            ],
            "application/vnd.google.colaboratory.intrinsic+json": {
              "type": "string"
            }
          },
          "metadata": {},
          "execution_count": 9
        }
      ]
    },
    {
      "cell_type": "code",
      "source": [
        "kor_symbols=KOR_SYMBOLS\n",
        "symbols=kor_symbols"
      ],
      "metadata": {
        "id": "pMrWjvRGD5e9"
      },
      "execution_count": 10,
      "outputs": []
    },
    {
      "cell_type": "code",
      "source": [
        "# Mappings from symbol to numeric ID and vice versa:\n",
        "_symbol_to_id = {s: i for i, s in enumerate(symbols)}\n",
        "_id_to_symbol = {i: s for i, s in enumerate(symbols)}\n",
        "\n",
        "# Regular expression matching text enclosed in curly braces:\n",
        "_curly_re = re.compile(r'(.*?)\\{(.+?)\\}(.*)')\n",
        "\n",
        "\n",
        "def text_to_sequence(text, cleaner_names):\n",
        "    '''Converts a string of text to a sequence of IDs corresponding to the symbols in the text.\n",
        "\n",
        "      The text can optionally have ARPAbet sequences enclosed in curly braces embedded\n",
        "      in it. For example, \"Turn left on {HH AW1 S S T AH0 N} Street.\"\n",
        "\n",
        "      Args:\n",
        "        text: string to convert to a sequence\n",
        "        cleaner_names: names of the cleaner functions to run the text through\n",
        "\n",
        "      Returns:\n",
        "        List of integers corresponding to the symbols in the text\n",
        "    '''\n",
        "\n",
        "    sequence = []\n",
        "    while len(text):\n",
        "        m = _curly_re.match(text)\n",
        "        if not m:\n",
        "            print('not m!')\n",
        "            sequence = _symbols_to_sequence(text)\n",
        "            break\n",
        "        sequence = _symbols_to_sequence(m.group(2))\n",
        "        text = m.group(3)\n",
        "    return sequence\n",
        "\n",
        "def sequence_to_text(sequence):\n",
        "    '''Converts a sequence of IDs back to a string'''\n",
        "    result = ''\n",
        "    for symbol_id in sequence:\n",
        "        if symbol_id in _id_to_symbol:\n",
        "            s = _id_to_symbol[symbol_id]\n",
        "            # Enclose ARPAbet back in curly braces:\n",
        "            if len(s) > 1 and s[0] == '@':\n",
        "                s = '{%s}' % s[1:]\n",
        "            result += s\n",
        "    return result.replace('}{', ' ')\n",
        "\n",
        "\n",
        "def _clean_text(text, cleaner_names):\n",
        "    for name in cleaner_names:\n",
        "        cleaner = getattr(cleaners, name)\n",
        "        if not cleaner:\n",
        "            raise Exception('Unknown cleaner: %s' % name)\n",
        "        text = cleaner(text)\n",
        "    return text\n",
        "\n",
        "\n",
        "def _symbols_to_sequence(symbols):\n",
        "    return [_symbol_to_id[s] for s in symbols.split() if _should_keep_symbol(s)]\n",
        "\n",
        "\n",
        "def _arpabet_to_sequence(text):\n",
        "    return _symbols_to_sequence(['@' + s for s in text.split()])\n",
        "\n",
        "\n",
        "def _should_keep_symbol(s):\n",
        "    #return s in _symbol_to_id and s is not '_' and s is not '~'\n",
        "    return s in _symbol_to_id and s != '~' and s != '_'\n",
        "\n",
        "if __name__ == \"__main__\":\n",
        "    print()"
      ],
      "metadata": {
        "id": "YNx0-hSEDrFG",
        "colab": {
          "base_uri": "https://localhost:8080/"
        },
        "outputId": "65141326-a70b-4f6b-aa31-768895314e55"
      },
      "execution_count": 11,
      "outputs": [
        {
          "output_type": "stream",
          "name": "stdout",
          "text": [
            "\n"
          ]
        }
      ]
    },
    {
      "cell_type": "code",
      "source": [
        "_inflect = inflect.engine()\n",
        "_comma_number_re = re.compile(r'([0-9][0-9\\,]+[0-9])')\n",
        "_decimal_number_re = re.compile(r'([0-9]+\\.[0-9]+)')\n",
        "_pounds_re = re.compile(r'£([0-9\\,]*[0-9]+)')\n",
        "_dollars_re = re.compile(r'\\$([0-9\\.\\,]*[0-9]+)')\n",
        "_ordinal_re = re.compile(r'[0-9]+(st|nd|rd|th)')\n",
        "_number_re = re.compile(r'[0-9]+')\n",
        "\n",
        "\n",
        "def _remove_commas(m):\n",
        "  return m.group(1).replace(',', '')\n",
        "\n",
        "\n",
        "def _expand_decimal_point(m):\n",
        "  return m.group(1).replace('.', ' point ')\n",
        "\n",
        "\n",
        "def _expand_dollars(m):\n",
        "  match = m.group(1)\n",
        "  parts = match.split('.')\n",
        "  if len(parts) > 2:\n",
        "    return match + ' dollars'  # Unexpected format\n",
        "  dollars = int(parts[0]) if parts[0] else 0\n",
        "  cents = int(parts[1]) if len(parts) > 1 and parts[1] else 0\n",
        "  if dollars and cents:\n",
        "    dollar_unit = 'dollar' if dollars == 1 else 'dollars'\n",
        "    cent_unit = 'cent' if cents == 1 else 'cents'\n",
        "    return '%s %s, %s %s' % (dollars, dollar_unit, cents, cent_unit)\n",
        "  elif dollars:\n",
        "    dollar_unit = 'dollar' if dollars == 1 else 'dollars'\n",
        "    return '%s %s' % (dollars, dollar_unit)\n",
        "  elif cents:\n",
        "    cent_unit = 'cent' if cents == 1 else 'cents'\n",
        "    return '%s %s' % (cents, cent_unit)\n",
        "  else:\n",
        "    return 'zero dollars'\n",
        "\n",
        "\n",
        "def _expand_ordinal(m):\n",
        "  return _inflect.number_to_words(m.group(0))\n",
        "\n",
        "\n",
        "def _expand_number(m):\n",
        "  num = int(m.group(0))\n",
        "  if num > 1000 and num < 3000:\n",
        "    if num == 2000:\n",
        "      return 'two thousand'\n",
        "    elif num > 2000 and num < 2010:\n",
        "      return 'two thousand ' + _inflect.number_to_words(num % 100)\n",
        "    elif num % 100 == 0:\n",
        "      return _inflect.number_to_words(num // 100) + ' hundred'\n",
        "    else:\n",
        "      return _inflect.number_to_words(num, andword='', zero='oh', group=2).replace(', ', ' ')\n",
        "  else:\n",
        "    return _inflect.number_to_words(num, andword='')\n",
        "\n",
        "\n",
        "def normalize_numbers(text):\n",
        "  text = re.sub(_comma_number_re, _remove_commas, text)\n",
        "  text = re.sub(_pounds_re, r'\\1 pounds', text)\n",
        "  text = re.sub(_dollars_re, _expand_dollars, text)\n",
        "  text = re.sub(_decimal_number_re, _expand_decimal_point, text)\n",
        "  text = re.sub(_ordinal_re, _expand_ordinal, text)\n",
        "  text = re.sub(_number_re, _expand_number, text)\n",
        "  return text\n"
      ],
      "metadata": {
        "id": "AyPZXbTwNlin"
      },
      "execution_count": 12,
      "outputs": []
    },
    {
      "cell_type": "code",
      "source": [
        "\n",
        "\n",
        "_whitespace_re = re.compile(r'\\s+')\n",
        "\n",
        "# List of (regular expression, replacement) pairs for abbreviations:\n",
        "_abbreviations = [(re.compile('\\\\b%s\\\\.' % x[0], re.IGNORECASE), x[1]) for x in [\n",
        "    ('mrs', 'misess'),\n",
        "    ('mr', 'mister'),\n",
        "    ('dr', 'doctor'),\n",
        "    ('st', 'saint'),\n",
        "    ('co', 'company'),\n",
        "    ('jr', 'junior'),\n",
        "    ('maj', 'major'),\n",
        "    ('gen', 'general'),\n",
        "    ('drs', 'doctors'),\n",
        "    ('rev', 'reverend'),\n",
        "    ('lt', 'lieutenant'),\n",
        "    ('hon', 'honorable'),\n",
        "    ('sgt', 'sergeant'),\n",
        "    ('capt', 'captain'),\n",
        "    ('esq', 'esquire'),\n",
        "    ('ltd', 'limited'),\n",
        "    ('col', 'colonel'),\n",
        "    ('ft', 'fort'),\n",
        "]]\n",
        "\n",
        "\n",
        "def expand_abbreviations(text):\n",
        "    for regex, replacement in _abbreviations:\n",
        "        text = re.sub(regex, replacement, text)\n",
        "    return text\n",
        "\n",
        "\n",
        "def expand_numbers(text):\n",
        "    return normalize_numbers(text)\n",
        "\n",
        "\n",
        "def lowercase(text):\n",
        "    return text.lower()\n",
        "\n",
        "\n",
        "def collapse_whitespace(text):\n",
        "    return re.sub(_whitespace_re, ' ', text)\n",
        "\n",
        "\n",
        "def convert_to_ascii(text):\n",
        "    return unidecode(text)\n",
        "\n",
        "\n",
        "def basic_cleaners(text):\n",
        "    '''Basic pipeline that lowercases and collapses whitespace without transliteration.'''\n",
        "    text = lowercase(text)\n",
        "    text = collapse_whitespace(text)\n",
        "    return text\n",
        "\n",
        "\n",
        "def transliteration_cleaners(text):\n",
        "    '''Pipeline for non-English text that transliterates to ASCII.'''\n",
        "    text = convert_to_ascii(text)\n",
        "    text = lowercase(text)\n",
        "    text = collapse_whitespace(text)\n",
        "    return text\n",
        "\n",
        "\n",
        "def english_cleaners(text):\n",
        "    '''Pipeline for English text, including number and abbreviation expansion.'''\n",
        "    text = convert_to_ascii(text)\n",
        "    text = lowercase(text)\n",
        "    text = expand_numbers(text)\n",
        "    text = expand_abbreviations(text)\n",
        "    text = collapse_whitespace(text)\n",
        "    return text\n",
        "\n",
        "def korean_cleaners(text):\n",
        "    text=ko_tokenize(text, as_id=False)\n",
        "    return text\n",
        "\n",
        "\"\"\" from https://github.com/keithito/tacotron \"\"\"\n",
        "\n",
        "'''\n",
        "Defines the set of symbols used in text input to the model.\n",
        "\n",
        "The default is a set of ASCII characters that works well for English or text that has been run through Unidecode. For other data, you can modify _characters. See TRAINING_DATA.md for details.\n",
        "'''\n",
        "kor_symbols=KOR_SYMBOLS\n",
        "symbols=kor_symbols"
      ],
      "metadata": {
        "id": "MfRm8xss3Z_v"
      },
      "execution_count": 13,
      "outputs": []
    },
    {
      "cell_type": "markdown",
      "source": [
        "#트랜스포머 파일(트랜스포머 구현인듯?)"
      ],
      "metadata": {
        "id": "VLthuuzuN8y_"
      }
    },
    {
      "cell_type": "code",
      "source": [
        "PAD = 0\n",
        "UNK = 1\n",
        "BOS = 2\n",
        "EOS = 3\n",
        "\n",
        "PAD_WORD = '<blank>'\n",
        "UNK_WORD = '<unk>'\n",
        "BOS_WORD = '<s>'\n",
        "EOS_WORD = '</s>'"
      ],
      "metadata": {
        "id": "H1ABSOOGN6vX"
      },
      "execution_count": 14,
      "outputs": []
    },
    {
      "cell_type": "code",
      "source": [
        "class FFTBlock(torch.nn.Module):\n",
        "    \"\"\"FFT Block\"\"\"\n",
        "\n",
        "    def __init__(self,\n",
        "                 d_model,\n",
        "                 d_inner,\n",
        "                 n_head,\n",
        "                 d_k,\n",
        "                 d_v,\n",
        "                 dropout=0.1):\n",
        "        super(FFTBlock, self).__init__()\n",
        "        self.slf_attn = MultiHeadAttention(\n",
        "            n_head, d_model, d_k, d_v, dropout=dropout)\n",
        "        self.pos_ffn = PositionwiseFeedForward(\n",
        "            d_model, d_inner, dropout=dropout)\n",
        "    def forward(self, enc_input, mask=None, slf_attn_mask=None):\n",
        "        enc_output, enc_slf_attn = self.slf_attn(\n",
        "            enc_input, enc_input, enc_input, mask=slf_attn_mask)\n",
        "        enc_output = enc_output.masked_fill(mask.unsqueeze(-1), 0)\n",
        "\n",
        "        enc_output = self.pos_ffn(enc_output)\n",
        "        enc_output = enc_output.masked_fill(mask.unsqueeze(-1), 0)\n",
        "\n",
        "        return enc_output, enc_slf_attn\n",
        "\n",
        "\n",
        "class ConvNorm(torch.nn.Module):\n",
        "    def __init__(self,\n",
        "                 in_channels,\n",
        "                 out_channels,\n",
        "                 kernel_size=1,\n",
        "                 stride=1,\n",
        "                 padding=None,\n",
        "                 dilation=1,\n",
        "                 bias=True,\n",
        "                 w_init_gain='linear'):\n",
        "        super(ConvNorm, self).__init__()\n",
        "\n",
        "        if padding is None:\n",
        "            assert(kernel_size % 2 == 1)\n",
        "            padding = int(dilation * (kernel_size - 1) / 2)\n",
        "\n",
        "        self.conv = torch.nn.Conv1d(in_channels,\n",
        "                                    out_channels,\n",
        "                                    kernel_size=kernel_size,\n",
        "                                    stride=stride,\n",
        "                                    padding=padding,\n",
        "                                    dilation=dilation,\n",
        "                                    bias=bias)\n",
        "\n",
        "    def forward(self, signal):\n",
        "        conv_signal = self.conv(signal)\n",
        "\n",
        "        return conv_signal\n",
        "\n",
        "\n",
        "class PostNet(nn.Module):\n",
        "    \"\"\"\n",
        "    PostNet: Five 1-d convolution with 512 channels and kernel size 5\n",
        "    \"\"\"\n",
        "\n",
        "    def __init__(self,\n",
        "                 n_mel_channels=80,\n",
        "                 postnet_embedding_dim=512,\n",
        "                 postnet_kernel_size=5,\n",
        "                 postnet_n_convolutions=5):\n",
        "\n",
        "        super(PostNet, self).__init__()\n",
        "        self.convolutions = nn.ModuleList()\n",
        "\n",
        "        self.convolutions.append(\n",
        "            nn.Sequential(\n",
        "                ConvNorm(n_mel_channels,\n",
        "                         postnet_embedding_dim,\n",
        "                         kernel_size=postnet_kernel_size,\n",
        "                         stride=1,\n",
        "                         padding=int((postnet_kernel_size - 1) / 2),\n",
        "                         dilation=1,\n",
        "                         w_init_gain='tanh'),\n",
        "\n",
        "                nn.BatchNorm1d(postnet_embedding_dim))\n",
        "        )\n",
        "\n",
        "        for i in range(1, postnet_n_convolutions - 1):\n",
        "            self.convolutions.append(\n",
        "                nn.Sequential(\n",
        "                    ConvNorm(postnet_embedding_dim,\n",
        "                             postnet_embedding_dim,\n",
        "                             kernel_size=postnet_kernel_size,\n",
        "                             stride=1,\n",
        "                             padding=int((postnet_kernel_size - 1) / 2),\n",
        "                             dilation=1,\n",
        "                             w_init_gain='tanh'),\n",
        "\n",
        "                    nn.BatchNorm1d(postnet_embedding_dim))\n",
        "            )\n",
        "\n",
        "        self.convolutions.append(\n",
        "            nn.Sequential(\n",
        "                ConvNorm(postnet_embedding_dim,\n",
        "                         n_mel_channels,\n",
        "                         kernel_size=postnet_kernel_size,\n",
        "                         stride=1,\n",
        "                         padding=int((postnet_kernel_size - 1) / 2),\n",
        "                         dilation=1,\n",
        "                         w_init_gain='linear'),\n",
        "\n",
        "                nn.BatchNorm1d(n_mel_channels))\n",
        "        )\n",
        "\n",
        "    def forward(self, x):\n",
        "        x = x.contiguous().transpose(1, 2)\n",
        "\n",
        "        for i in range(len(self.convolutions) - 1):\n",
        "            x = F.dropout(torch.tanh(\n",
        "                self.convolutions[i](x)), 0.5, self.training)\n",
        "        x = F.dropout(self.convolutions[-1](x), 0.5, self.training)\n",
        "\n",
        "        x = x.contiguous().transpose(1, 2)\n",
        "        return x"
      ],
      "metadata": {
        "id": "H0RQ3xYIN8gf"
      },
      "execution_count": 15,
      "outputs": []
    },
    {
      "cell_type": "code",
      "source": [
        "def get_sinusoid_encoding_table(n_position, d_hid, padding_idx=None):\n",
        "    ''' Sinusoid position encoding table '''\n",
        "\n",
        "    def cal_angle(position, hid_idx):\n",
        "        return position / np.power(10000, 2 * (hid_idx // 2) / d_hid)\n",
        "\n",
        "    def get_posi_angle_vec(position):\n",
        "        return [cal_angle(position, hid_j) for hid_j in range(d_hid)]\n",
        "\n",
        "    sinusoid_table = np.array([get_posi_angle_vec(pos_i)\n",
        "                               for pos_i in range(n_position)])\n",
        "\n",
        "    sinusoid_table[:, 0::2] = np.sin(sinusoid_table[:, 0::2])  # dim 2i\n",
        "    sinusoid_table[:, 1::2] = np.cos(sinusoid_table[:, 1::2])  # dim 2i+1\n",
        "\n",
        "    if padding_idx is not None:\n",
        "        # zero vector for padding dimension\n",
        "        sinusoid_table[padding_idx] = 0.\n",
        "\n",
        "    return torch.FloatTensor(sinusoid_table)\n",
        "\n",
        "\n",
        "class Encoder(nn.Module):\n",
        "    ''' Encoder '''\n",
        "\n",
        "    def __init__(self,\n",
        "                 n_src_vocab=len(symbols)+1,\n",
        "                 len_max_seq=hp.max_seq_len,\n",
        "                 d_word_vec=hp.encoder_hidden,\n",
        "                 n_layers=hp.encoder_layer,\n",
        "                 n_head=hp.encoder_head,\n",
        "                 d_k=hp.encoder_hidden // hp.encoder_head,\n",
        "                 d_v=hp.encoder_hidden // hp.encoder_head,\n",
        "                 d_model=hp.encoder_hidden,\n",
        "                 d_inner=hp.fft_conv1d_filter_size,\n",
        "                 dropout=hp.encoder_dropout):\n",
        "\n",
        "        super(Encoder, self).__init__()\n",
        "\n",
        "        n_position = len_max_seq + 1\n",
        "\n",
        "        self.src_word_emb = nn.Embedding(n_src_vocab, d_word_vec, padding_idx=Constants.PAD)\n",
        "        self.position_enc = nn.Parameter(\n",
        "            get_sinusoid_encoding_table(n_position, d_word_vec).unsqueeze(0), requires_grad=False)\n",
        "\n",
        "        self.layer_stack = nn.ModuleList([FFTBlock(\n",
        "            d_model, d_inner, n_head, d_k, d_v, dropout=dropout) for _ in range(n_layers)])\n",
        "\n",
        "    def forward(self, src_seq, mask, return_attns=False):\n",
        "\n",
        "        enc_slf_attn_list = []\n",
        "        batch_size, max_len = src_seq.shape[0], src_seq.shape[1]\n",
        "\n",
        "        # -- Prepare masks\n",
        "        slf_attn_mask = mask.unsqueeze(1).expand(-1, max_len, -1)\n",
        "\n",
        "        # -- Forward\n",
        "        if not self.training and src_seq.shape[1] > hp.max_seq_len:\n",
        "            enc_output = self.src_word_emb(src_seq) + get_sinusoid_encoding_table(src_seq.shape[1], hp.encoder_hidden)[:src_seq.shape[1], :].unsqueeze(0).expand(batch_size, -1, -1).to(src_seq.device)\n",
        "        else:\n",
        "            enc_output = self.src_word_emb(src_seq) + self.position_enc[:, :max_len, :].expand(batch_size, -1, -1)\n",
        "\n",
        "        for enc_layer in self.layer_stack:\n",
        "            enc_output, enc_slf_attn = enc_layer(\n",
        "                enc_output,\n",
        "                mask=mask,\n",
        "                slf_attn_mask=slf_attn_mask)\n",
        "            if return_attns:\n",
        "                enc_slf_attn_list += [enc_slf_attn]\n",
        "\n",
        "        return enc_output\n",
        "\n",
        "\n",
        "class Decoder(nn.Module):\n",
        "    \"\"\" Decoder \"\"\"\n",
        "\n",
        "    def __init__(self,\n",
        "                 len_max_seq=hp.max_seq_len,\n",
        "                 d_word_vec=hp.encoder_hidden,\n",
        "                 n_layers=hp.decoder_layer,\n",
        "                 n_head=hp.decoder_head,\n",
        "                 d_k=hp.decoder_hidden // hp.decoder_head,\n",
        "                 d_v=hp.decoder_hidden // hp.decoder_head,\n",
        "                 d_model=hp.decoder_hidden,\n",
        "                 d_inner=hp.fft_conv1d_filter_size,\n",
        "                 dropout=hp.decoder_dropout):\n",
        "\n",
        "        super(Decoder, self).__init__()\n",
        "\n",
        "        n_position = len_max_seq + 1\n",
        "\n",
        "        self.position_enc = nn.Parameter(\n",
        "            get_sinusoid_encoding_table(n_position, d_word_vec).unsqueeze(0), requires_grad=False)\n",
        "\n",
        "        self.layer_stack = nn.ModuleList([FFTBlock(\n",
        "            d_model, d_inner, n_head, d_k, d_v, dropout=dropout) for _ in range(n_layers)])\n",
        "\n",
        "    def forward(self, enc_seq, mask, return_attns=False):\n",
        "\n",
        "        dec_slf_attn_list = []\n",
        "        batch_size, max_len = enc_seq.shape[0], enc_seq.shape[1]\n",
        "\n",
        "        # -- Prepare masks\n",
        "        slf_attn_mask = mask.unsqueeze(1).expand(-1, max_len, -1)\n",
        "\n",
        "        # -- Forward\n",
        "        if not self.training and enc_seq.shape[1] > hp.max_seq_len:\n",
        "            dec_output = enc_seq + get_sinusoid_encoding_table(enc_seq.shape[1], hp.decoder_hidden)[:enc_seq.shape[1], :].unsqueeze(0).expand(batch_size, -1, -1).to(enc_seq.device)\n",
        "        else:\n",
        "            dec_output = enc_seq + self.position_enc[:, :max_len, :].expand(batch_size, -1, -1)\n",
        "\n",
        "        for dec_layer in self.layer_stack:\n",
        "            dec_output, dec_slf_attn = dec_layer(\n",
        "                dec_output,\n",
        "                mask=mask,\n",
        "                slf_attn_mask=slf_attn_mask)\n",
        "            if return_attns:\n",
        "                dec_slf_attn_list += [dec_slf_attn]\n",
        "\n",
        "        return dec_output"
      ],
      "metadata": {
        "id": "dfzuNE-9OCHC"
      },
      "execution_count": 16,
      "outputs": []
    },
    {
      "cell_type": "code",
      "source": [
        "class ScaledDotProductAttention(nn.Module):\n",
        "    ''' Scaled Dot-Product Attention '''\n",
        "\n",
        "    def __init__(self, temperature):\n",
        "        super().__init__()\n",
        "        self.temperature = temperature\n",
        "        self.softmax = nn.Softmax(dim=2)\n",
        "\n",
        "    def forward(self, q, k, v, mask=None):\n",
        "\n",
        "        attn = torch.bmm(q, k.transpose(1, 2))\n",
        "        attn = attn / self.temperature\n",
        "\n",
        "        if mask is not None:\n",
        "            attn = attn.masked_fill(mask, -np.inf)\n",
        "\n",
        "        attn = self.softmax(attn)\n",
        "        output = torch.bmm(attn, v)\n",
        "\n",
        "        return output, attn"
      ],
      "metadata": {
        "id": "zmEXhCr_OEJd"
      },
      "execution_count": 17,
      "outputs": []
    },
    {
      "cell_type": "code",
      "source": [
        "class MultiHeadAttention(nn.Module):\n",
        "    ''' Multi-Head Attention module '''\n",
        "\n",
        "    def __init__(self, n_head, d_model, d_k, d_v, dropout=0.1):\n",
        "        super().__init__()\n",
        "\n",
        "        self.n_head = n_head\n",
        "        self.d_k = d_k\n",
        "        self.d_v = d_v\n",
        "\n",
        "        self.w_qs = nn.Linear(d_model, n_head * d_k)\n",
        "        self.w_ks = nn.Linear(d_model, n_head * d_k)\n",
        "        self.w_vs = nn.Linear(d_model, n_head * d_v)\n",
        "\n",
        "        self.attention = ScaledDotProductAttention(\n",
        "            temperature=np.power(d_k, 0.5))\n",
        "        self.layer_norm = nn.LayerNorm(d_model)\n",
        "\n",
        "        self.fc = nn.Linear(n_head * d_v, d_model)\n",
        "\n",
        "        self.dropout = nn.Dropout(dropout)\n",
        "\n",
        "    def forward(self, q, k, v, mask=None):\n",
        "\n",
        "        d_k, d_v, n_head = self.d_k, self.d_v, self.n_head\n",
        "\n",
        "        sz_b, len_q, _ = q.size()\n",
        "        sz_b, len_k, _ = k.size()\n",
        "        sz_b, len_v, _ = v.size()\n",
        "\n",
        "        residual = q\n",
        "\n",
        "        q = self.w_qs(q).view(sz_b, len_q, n_head, d_k)\n",
        "        k = self.w_ks(k).view(sz_b, len_k, n_head, d_k)\n",
        "        v = self.w_vs(v).view(sz_b, len_v, n_head, d_v)\n",
        "        q = q.permute(2, 0, 1, 3).contiguous().view(-1,\n",
        "                                                    len_q, d_k)  # (n*b) x lq x dk\n",
        "        k = k.permute(2, 0, 1, 3).contiguous().view(-1,\n",
        "                                                    len_k, d_k)  # (n*b) x lk x dk\n",
        "        v = v.permute(2, 0, 1, 3).contiguous().view(-1,\n",
        "                                                    len_v, d_v)  # (n*b) x lv x dv\n",
        "\n",
        "        mask = mask.repeat(n_head, 1, 1)  # (n*b) x .. x ..\n",
        "        output, attn = self.attention(q, k, v, mask=mask)\n",
        "\n",
        "        output = output.view(n_head, sz_b, len_q, d_v)\n",
        "        output = output.permute(1, 2, 0, 3).contiguous().view(\n",
        "            sz_b, len_q, -1)  # b x lq x (n*dv)\n",
        "\n",
        "        output = self.dropout(self.fc(output))\n",
        "        output = self.layer_norm(output + residual)\n",
        "\n",
        "        return output, attn\n",
        "\n",
        "\n",
        "class PositionwiseFeedForward(nn.Module):\n",
        "    ''' A two-feed-forward-layer module '''\n",
        "\n",
        "    def __init__(self, d_in, d_hid, dropout=0.1):\n",
        "        super().__init__()\n",
        "\n",
        "        # Use Conv1D\n",
        "        # position-wise\n",
        "        self.w_1 = nn.Conv1d(\n",
        "            d_in, d_hid, kernel_size=hp.fft_conv1d_kernel_size[0], padding=(hp.fft_conv1d_kernel_size[0]-1)//2)\n",
        "        # position-wise\n",
        "        self.w_2 = nn.Conv1d(\n",
        "            d_hid, d_in, kernel_size=hp.fft_conv1d_kernel_size[1], padding=(hp.fft_conv1d_kernel_size[1]-1)//2)\n",
        "\n",
        "        self.layer_norm = nn.LayerNorm(d_in)\n",
        "        self.dropout = nn.Dropout(dropout)\n",
        "\n",
        "    def forward(self, x):\n",
        "        residual = x\n",
        "        output = x.transpose(1, 2)\n",
        "        output = self.w_2(F.relu(self.w_1(output)))\n",
        "        output = output.transpose(1, 2)\n",
        "        output = self.dropout(output)\n",
        "        output = self.layer_norm(output + residual)\n",
        "\n",
        "        return output"
      ],
      "metadata": {
        "id": "6dEc0xcWOGm_"
      },
      "execution_count": 18,
      "outputs": []
    },
    {
      "cell_type": "markdown",
      "source": [
        "#utils.py\n"
      ],
      "metadata": {
        "id": "mItFqeC1OV3n"
      }
    },
    {
      "cell_type": "code",
      "source": [
        "matplotlib.use(\"Agg\")\n",
        "\n",
        "device = torch.device('cuda' if torch.cuda.is_available() else 'cpu')\n",
        "\n",
        "def get_alignment(tier): #파일 분석\n",
        "    sil_phones = ['sil', 'sp', 'spn']\n",
        "\n",
        "    phones = []\n",
        "    durations = []\n",
        "    start_time = 0\n",
        "    end_time = 0\n",
        "    end_idx = 0\n",
        "    for t in tier._objects:\n",
        "        s, e, p = t.start_time, t.end_time, t.text\n",
        "\n",
        "        # Trimming leading silences\n",
        "        if phones == []:\n",
        "            if p in sil_phones:\n",
        "                continue\n",
        "            else:\n",
        "                start_time = s\n",
        "        if p not in sil_phones:\n",
        "            phones.append(p)\n",
        "            end_time = e\n",
        "            end_idx = len(phones)\n",
        "        else:\n",
        "            phones.append(p)\n",
        "        durations.append(int(e*hp.sampling_rate/hp.hop_length)-int(s*hp.sampling_rate/hp.hop_length))\n",
        "\n",
        "    # Trimming tailing silences\n",
        "    phones = phones[:end_idx]\n",
        "    durations = durations[:end_idx]\n",
        "\n",
        "    return phones, np.array(durations), start_time, end_time\n",
        "\n",
        "def process_meta(meta_path): #메타데이터(대본) 추출 및 분할\n",
        "    with open(meta_path, \"r\", encoding=\"utf-8\") as f:\n",
        "        text = []\n",
        "        name = []\n",
        "        for line in f.readlines():\n",
        "            n, t = line.strip('\\n').split('|')\n",
        "            name.append(n)\n",
        "            text.append(t)\n",
        "        return name, text\n",
        "\n",
        "def get_param_num(model):\n",
        "    num_param = sum(param.numel() for param in model.parameters())\n",
        "    return num_param\n",
        "\n",
        "def plot_data(data, titles=None, filename=None):\n",
        "    fig, axes = plt.subplots(len(data), 1, squeeze=False)\n",
        "    if titles is None:\n",
        "        titles = [None for i in range(len(data))]\n",
        "\n",
        "    def add_axis(fig, old_ax, offset=0):\n",
        "        ax = fig.add_axes(old_ax.get_position(), anchor='W')\n",
        "        ax.set_facecolor(\"None\")\n",
        "        return ax\n",
        "\n",
        "    for i in range(len(data)):\n",
        "        spectrogram, pitch, energy = data[i]\n",
        "        axes[i][0].imshow(spectrogram, origin='lower')\n",
        "        axes[i][0].set_aspect(2.5, adjustable='box')\n",
        "        axes[i][0].set_ylim(0, hp.n_mel_channels)\n",
        "        axes[i][0].set_title(titles[i], fontsize='medium')\n",
        "        axes[i][0].tick_params(labelsize='x-small', left=False, labelleft=False)\n",
        "        axes[i][0].set_anchor('W')\n",
        "\n",
        "        ax1 = add_axis(fig, axes[i][0])\n",
        "        ax1.plot(pitch, color='tomato')\n",
        "        ax1.set_xlim(0, spectrogram.shape[1])\n",
        "        ax1.set_ylim(0, hp.f0_max)\n",
        "        ax1.set_ylabel('F0', color='tomato')\n",
        "        ax1.tick_params(labelsize='x-small', colors='tomato', bottom=False, labelbottom=False)\n",
        "\n",
        "        ax2 = add_axis(fig, axes[i][0], 1.2)\n",
        "        ax2.plot(energy, color='darkviolet')\n",
        "        ax2.set_xlim(0, spectrogram.shape[1])\n",
        "        ax2.set_ylim(hp.energy_min, hp.energy_max)\n",
        "        ax2.set_ylabel('Energy', color='darkviolet')\n",
        "        ax2.yaxis.set_label_position('right')\n",
        "        ax2.tick_params(labelsize='x-small', colors='darkviolet', bottom=False, labelbottom=False, left=False, labelleft=False, right=True, labelright=True)\n",
        "\n",
        "    plt.savefig(filename, dpi=200)\n",
        "    plt.close()\n",
        "\n",
        "def get_mask_from_lengths(lengths, max_len=None): #마스크 길이 가져옴\n",
        "    batch_size = lengths.shape[0]\n",
        "    if max_len is None:\n",
        "        max_len = torch.max(lengths).item()\n",
        "\n",
        "    ids = torch.arange(0, max_len).unsqueeze(0).expand(batch_size, -1).to(device)\n",
        "    mask = (ids >= lengths.unsqueeze(1).expand(-1, max_len))\n",
        "\n",
        "    return mask\n",
        "\n",
        "\"\"\"\n",
        "원본은 vocgan 사용함, 이 부분을 다른 모델로 바꿔서 들고오면 될듯?\n",
        "\"\"\"\n",
        "def get_vocgan(ckpt_path, n_mel_channels=hp.n_mel_channels, generator_ratio = [4, 4, 2, 2, 2, 2], n_residual_layers=4, mult=256, out_channels=1): #vocgan 사용하는 경우\n",
        "\n",
        "    checkpoint = torch.load(ckpt_path)\n",
        "    model = Generator(n_mel_channels, n_residual_layers,\n",
        "                        ratios=generator_ratio, mult=mult,\n",
        "                        out_band=out_channels)\n",
        "\n",
        "    model.load_state_dict(checkpoint['model_g'])\n",
        "    model.to(device).eval()\n",
        "\n",
        "    return model\n",
        "\n",
        "\n",
        "\n",
        "def vocgan_infer(mel, vocoder, path):\n",
        "    model = vocoder\n",
        "\n",
        "    with torch.no_grad():\n",
        "        if len(mel.shape) == 2:\n",
        "            mel = mel.unsqueeze(0)\n",
        "\n",
        "        audio = model.infer(mel).squeeze()\n",
        "        audio = hp.max_wav_value * audio[:-(hp.hop_length*10)]\n",
        "        audio = audio.clamp(min=-hp.max_wav_value, max=hp.max_wav_value-1)\n",
        "        audio = audio.short().cpu().detach().numpy()\n",
        "\n",
        "        wavfile.write(path, hp.sampling_rate, audio)\n",
        "\"\"\"\n",
        "\"\"\"\n",
        "\n",
        "# 1차원 패딩 함수\n",
        "def pad_1D(inputs, PAD=0):\n",
        "\n",
        "    def pad_data(x, length, PAD):\n",
        "        x_padded = np.pad(x, (0, length - x.shape[0]),\n",
        "                          mode='constant',\n",
        "                          constant_values=PAD)\n",
        "        return x_padded\n",
        "\n",
        "    max_len = max((len(x) for x in inputs))\n",
        "    padded = np.stack([pad_data(x, max_len, PAD) for x in inputs])\n",
        "\n",
        "    return padded\n",
        "\n",
        "#2차원 패딩\n",
        "def pad_2D(inputs, maxlen=None):\n",
        "\n",
        "    def pad(x, max_len):\n",
        "        PAD = 0\n",
        "        if np.shape(x)[0] > max_len:\n",
        "            raise ValueError(\"not max_len\")\n",
        "\n",
        "        s = np.shape(x)[1]\n",
        "        x_padded = np.pad(x, (0, max_len - np.shape(x)[0]),\n",
        "                          mode='constant',\n",
        "                          constant_values=PAD)\n",
        "        return x_padded[:, :s]\n",
        "\n",
        "    if maxlen:\n",
        "        output = np.stack([pad(x, maxlen) for x in inputs])\n",
        "    else:\n",
        "        max_len = max(np.shape(x)[0] for x in inputs)\n",
        "        output = np.stack([pad(x, max_len) for x in inputs])\n",
        "\n",
        "    return output\n",
        "\n",
        "#입력값에 따라서 패딩을 다르게 걸기?\n",
        "def pad(input_ele, mel_max_length=None):\n",
        "    if mel_max_length:\n",
        "        max_len = mel_max_length\n",
        "    else:\n",
        "        max_len = max([input_ele[i].size(0)for i in range(len(input_ele))])\n",
        "\n",
        "    out_list = list()\n",
        "    for i, batch in enumerate(input_ele):\n",
        "        if len(batch.shape) == 1:\n",
        "            one_batch_padded = F.pad(\n",
        "                batch, (0, max_len-batch.size(0)), \"constant\", 0.0)\n",
        "        elif len(batch.shape) == 2:\n",
        "            one_batch_padded = F.pad(\n",
        "                batch, (0, 0, 0, max_len-batch.size(0)), \"constant\", 0.0)\n",
        "        out_list.append(one_batch_padded)\n",
        "    out_padded = torch.stack(out_list)\n",
        "    return out_padded\n",
        "\n",
        "# from dathudeptrai's FastSpeech2 implementation\n",
        "def standard_norm(x, mean, std, is_mel=False):\n",
        "\n",
        "    if not is_mel:\n",
        "        x = remove_outlier(x)\n",
        "\n",
        "    zero_idxs = np.where(x == 0.0)[0]\n",
        "    x = (x - mean) / std\n",
        "    x[zero_idxs] = 0.0\n",
        "    return x\n",
        "\n",
        "def standard_norm_torch(x, mean, std):\n",
        "\n",
        "    zero_idxs = torch.where(x == 0.0)[0]\n",
        "    x = (x - mean) / std\n",
        "    x[zero_idxs] = 0.0\n",
        "    return x\n",
        "\n",
        "\n",
        "\n",
        "def de_norm(x, mean, std):\n",
        "    zero_idxs = torch.where(x == 0.0)[0]\n",
        "    x = mean + std * x\n",
        "    x[zero_idxs] = 0.0\n",
        "    return x\n",
        "\n",
        "\n",
        "def _is_outlier(x, p25, p75):\n",
        "    \"\"\"Check if value is an outlier.\"\"\"\n",
        "    lower = p25 - 1.5 * (p75 - p25)\n",
        "    upper = p75 + 1.5 * (p75 - p25)\n",
        "\n",
        "    return np.logical_or(x <= lower, x >= upper)\n",
        "\n",
        "\n",
        "def remove_outlier(x):\n",
        "    \"\"\"Remove outlier from x.\"\"\"\n",
        "    p25 = np.percentile(x, 25)\n",
        "    p75 = np.percentile(x, 75)\n",
        "\n",
        "    indices_of_outliers = []\n",
        "    for ind, value in enumerate(x):\n",
        "        if _is_outlier(value, p25, p75):\n",
        "            indices_of_outliers.append(ind)\n",
        "\n",
        "    x[indices_of_outliers] = 0.0\n",
        "\n",
        "    # replace by mean f0.\n",
        "    x[indices_of_outliers] = np.max(x)\n",
        "    return x\n",
        "\n",
        "def average_by_duration(x, durs):\n",
        "    mel_len = durs.sum()\n",
        "    durs_cum = np.cumsum(np.pad(durs, (1, 0)))\n",
        "\n",
        "    # calculate charactor f0/energy\n",
        "    x_char = np.zeros((durs.shape[0],), dtype=np.float32)\n",
        "    for idx, start, end in zip(range(mel_len), durs_cum[:-1], durs_cum[1:]):\n",
        "        values = x[start:end][np.where(x[start:end] != 0.0)[0]]\n",
        "        x_char[idx] = np.mean(values) if len(values) > 0 else 0.0  # np.mean([]) = nan.\n",
        "\n",
        "    return x_char.astype(np.float32)"
      ],
      "metadata": {
        "id": "9cENbHatzVBi"
      },
      "execution_count": 19,
      "outputs": []
    },
    {
      "cell_type": "markdown",
      "source": [
        "#audio 파일"
      ],
      "metadata": {
        "id": "hDF00gGQNbxn"
      }
    },
    {
      "cell_type": "code",
      "source": [
        "\n",
        "class STFT(torch.nn.Module):\n",
        "\n",
        "    def __init__(self, filter_length, hop_length, win_length,\n",
        "                 window='hann'):\n",
        "        super(STFT, self).__init__()\n",
        "        self.filter_length = filter_length\n",
        "        self.hop_length = hop_length\n",
        "        self.win_length = win_length\n",
        "        self.window = window\n",
        "        self.forward_transform = None\n",
        "        scale = self.filter_length / self.hop_length\n",
        "        fourier_basis = np.fft.fft(np.eye(self.filter_length))\n",
        "\n",
        "        cutoff = int((self.filter_length / 2 + 1))\n",
        "        fourier_basis = np.vstack([np.real(fourier_basis[:cutoff, :]),\n",
        "                                   np.imag(fourier_basis[:cutoff, :])])\n",
        "\n",
        "        forward_basis = torch.FloatTensor(fourier_basis[:, None, :])\n",
        "        inverse_basis = torch.FloatTensor(\n",
        "            np.linalg.pinv(scale * fourier_basis).T[:, None, :])\n",
        "\n",
        "        if window is not None:\n",
        "            assert(filter_length >= win_length)\n",
        "            # get window and zero center pad it to filter_length\n",
        "            fft_window = get_window(window, win_length, fftbins=True)\n",
        "            fft_window = librosa_util.pad_center(fft_window, size=filter_length)\n",
        "            fft_window = torch.from_numpy(fft_window).float()\n",
        "\n",
        "            # window the bases\n",
        "            forward_basis *= fft_window\n",
        "            inverse_basis *= fft_window\n",
        "\n",
        "        self.register_buffer('forward_basis', forward_basis.float())\n",
        "        self.register_buffer('inverse_basis', inverse_basis.float())\n",
        "\n",
        "    def transform(self, input_data): #데이터 변환\n",
        "        num_batches = input_data.size(0)\n",
        "        num_samples = input_data.size(1)\n",
        "\n",
        "        self.num_samples = num_samples\n",
        "\n",
        "        # similar to librosa, reflect-pad the input\n",
        "        input_data = input_data.view(num_batches, 1, num_samples)\n",
        "        input_data = F.pad(\n",
        "            input_data.unsqueeze(1),\n",
        "            (int(self.filter_length / 2), int(self.filter_length / 2), 0, 0),\n",
        "            mode='reflect')\n",
        "        input_data = input_data.squeeze(1)\n",
        "\n",
        "        forward_transform = F.conv1d(\n",
        "            input_data.cuda(),\n",
        "            Variable(self.forward_basis, requires_grad=False).cuda(),\n",
        "            stride=self.hop_length,\n",
        "            padding=0).cpu()\n",
        "\n",
        "        cutoff = int((self.filter_length / 2) + 1)\n",
        "        real_part = forward_transform[:, :cutoff, :]\n",
        "        imag_part = forward_transform[:, cutoff:, :]\n",
        "\n",
        "        magnitude = torch.sqrt(real_part**2 + imag_part**2)\n",
        "        phase = torch.autograd.Variable(\n",
        "            torch.atan2(imag_part.data, real_part.data))\n",
        "\n",
        "        return magnitude, phase\n",
        "\n",
        "    def inverse(self, magnitude, phase): #데이터 역변환\n",
        "        recombine_magnitude_phase = torch.cat(\n",
        "            [magnitude*torch.cos(phase), magnitude*torch.sin(phase)], dim=1)\n",
        "\n",
        "        inverse_transform = F.conv_transpose1d(\n",
        "            recombine_magnitude_phase,\n",
        "            Variable(self.inverse_basis, requires_grad=False),\n",
        "            stride=self.hop_length,\n",
        "            padding=0)\n",
        "\n",
        "        if self.window is not None:\n",
        "            window_sum = window_sumsquare(\n",
        "                self.window, magnitude.size(-1), hop_length=self.hop_length,\n",
        "                win_length=self.win_length, n_fft=self.filter_length,\n",
        "                dtype=np.float32)\n",
        "            # remove modulation effects\n",
        "            approx_nonzero_indices = torch.from_numpy(\n",
        "                np.where(window_sum > tiny(window_sum))[0])\n",
        "            window_sum = torch.autograd.Variable(\n",
        "                torch.from_numpy(window_sum), requires_grad=False)\n",
        "            window_sum = window_sum.cuda() if magnitude.is_cuda else window_sum\n",
        "            inverse_transform[:, :,\n",
        "                              approx_nonzero_indices] /= window_sum[approx_nonzero_indices]\n",
        "\n",
        "            # scale by hop ratio\n",
        "            inverse_transform *= float(self.filter_length) / self.hop_length\n",
        "\n",
        "        inverse_transform = inverse_transform[:, :, int(self.filter_length/2):]\n",
        "        inverse_transform = inverse_transform[:,\n",
        "                                              :, :-int(self.filter_length/2):]\n",
        "\n",
        "        return inverse_transform\n",
        "\n",
        "    def forward(self, input_data): #재구성인듯?\n",
        "        self.magnitude, self.phase = self.transform(input_data)\n",
        "        reconstruction = self.inverse(self.magnitude, self.phase)\n",
        "        return reconstruction\n"
      ],
      "metadata": {
        "id": "e44NPVHe3w0z"
      },
      "execution_count": 20,
      "outputs": []
    },
    {
      "cell_type": "code",
      "source": [
        "class TacotronSTFT(torch.nn.Module): #stft\n",
        "    def __init__(self, filter_length, hop_length, win_length,\n",
        "                 n_mel_channels, sampling_rate, mel_fmin=0.0,\n",
        "                 mel_fmax=8000.0):\n",
        "        super(TacotronSTFT, self).__init__()\n",
        "        self.n_mel_channels = n_mel_channels\n",
        "        self.sampling_rate = sampling_rate\n",
        "        self.stft_fn = STFT(filter_length, hop_length, win_length)\n",
        "        mel_basis = librosa_mel_fn(\n",
        "            sr=sampling_rate, n_fft=filter_length, n_mels=n_mel_channels, fmin=mel_fmin, fmax=mel_fmax)\n",
        "        mel_basis = torch.from_numpy(mel_basis).float()\n",
        "        self.register_buffer('mel_basis', mel_basis)\n",
        "\n",
        "    def spectral_normalize(self, magnitudes):\n",
        "        output = dynamic_range_compression(magnitudes)\n",
        "        return output\n",
        "\n",
        "    def spectral_de_normalize(self, magnitudes):\n",
        "        output = dynamic_range_decompression(magnitudes)\n",
        "        return output\n",
        "\n",
        "    def mel_spectrogram(self, y):\n",
        "        \"\"\"Computes mel-spectrograms from a batch of waves\n",
        "        PARAMS\n",
        "        ------\n",
        "        y: Variable(torch.FloatTensor) with shape (B, T) in range [-1, 1]\n",
        "\n",
        "        RETURNS\n",
        "        -------\n",
        "        mel_output: torch.FloatTensor of shape (B, n_mel_channels, T)\n",
        "        \"\"\"\n",
        "        assert(torch.min(y.data) >= -1)\n",
        "        assert(torch.max(y.data) <= 1)\n",
        "\n",
        "        magnitudes, phases = self.stft_fn.transform(y)\n",
        "        magnitudes = magnitudes.data\n",
        "        mel_output = torch.matmul(self.mel_basis, magnitudes)\n",
        "        mel_output = self.spectral_normalize(mel_output)\n",
        "        energy = torch.norm(magnitudes, dim=1)\n",
        "\n",
        "        return mel_output, energy\n",
        "\n"
      ],
      "metadata": {
        "id": "7C9s0R8O307c"
      },
      "execution_count": 21,
      "outputs": []
    },
    {
      "cell_type": "code",
      "source": [
        "def window_sumsquare(window, n_frames, hop_length=hp.hop_length, win_length=hp.win_length,\n",
        "                     n_fft=hp.filter_length, dtype=np.float32, norm=None):\n",
        "    \"\"\"\n",
        "    # from librosa 0.6\n",
        "    Compute the sum-square envelope of a window function at a given hop length.\n",
        "\n",
        "    This is used to estimate modulation effects induced by windowing\n",
        "    observations in short-time fourier transforms.\n",
        "\n",
        "    Parameters\n",
        "    ----------\n",
        "    window : string, tuple, number, callable, or list-like\n",
        "        Window specification, as in `get_window`\n",
        "\n",
        "    n_frames : int > 0\n",
        "        The number of analysis frames\n",
        "\n",
        "    hop_length : int > 0\n",
        "        The number of samples to advance between frames\n",
        "\n",
        "    win_length : [optional]\n",
        "        The length of the window function.  By default, this matches `n_fft`.\n",
        "\n",
        "    n_fft : int > 0\n",
        "        The length of each analysis frame.\n",
        "\n",
        "    dtype : np.dtype\n",
        "        The data type of the output\n",
        "\n",
        "    Returns\n",
        "    -------\n",
        "    wss : np.ndarray, shape=`(n_fft + hop_length * (n_frames - 1))`\n",
        "        The sum-squared envelope of the window function\n",
        "    \"\"\"\n",
        "    if win_length is None:\n",
        "        win_length = n_fft\n",
        "\n",
        "    n = n_fft + hop_length * (n_frames - 1)\n",
        "    x = np.zeros(n, dtype=dtype)\n",
        "\n",
        "    # Compute the squared window at the desired length\n",
        "    win_sq = get_window(window, win_length, fftbins=True)\n",
        "    win_sq = librosa_util.normalize(win_sq, norm=norm)**2\n",
        "    win_sq = librosa_util.pad_center(win_sq, n_fft)\n",
        "\n",
        "    # Fill the envelope\n",
        "    for i in range(n_frames):\n",
        "        sample = i * hop_length\n",
        "        x[sample:min(n, sample + n_fft)\n",
        "          ] += win_sq[:max(0, min(n_fft, n - sample))]\n",
        "    return x\n",
        "\n",
        "\n",
        "def griffin_lim(magnitudes, stft_fn, n_iters=30):\n",
        "    \"\"\"\n",
        "    PARAMS\n",
        "    ------\n",
        "    magnitudes: spectrogram magnitudes\n",
        "    stft_fn: STFT class with transform (STFT) and inverse (ISTFT) methods\n",
        "    \"\"\"\n",
        "\n",
        "    angles = np.angle(np.exp(2j * np.pi * np.random.rand(*magnitudes.size())))\n",
        "    angles = angles.astype(np.float32)\n",
        "    angles = torch.autograd.Variable(torch.from_numpy(angles))\n",
        "    signal = stft_fn.inverse(magnitudes, angles).squeeze(1)\n",
        "\n",
        "    for i in range(n_iters):\n",
        "        _, angles = stft_fn.transform(signal)\n",
        "        signal = stft_fn.inverse(magnitudes, angles).squeeze(1)\n",
        "    return signal\n",
        "\n",
        "\n",
        "def dynamic_range_compression(x, C=1, clip_val=1e-5):\n",
        "    \"\"\"\n",
        "    PARAMS\n",
        "    ------\n",
        "    C: compression factor\n",
        "    \"\"\"\n",
        "    return torch.log(torch.clamp(x, min=clip_val) * C)\n",
        "\n",
        "\n",
        "def dynamic_range_decompression(x, C=1):\n",
        "    \"\"\"\n",
        "    PARAMS\n",
        "    ------\n",
        "    C: compression factor used to compress\n",
        "    \"\"\"\n",
        "    return torch.exp(x) / C\n",
        "\n",
        "\n"
      ],
      "metadata": {
        "id": "6jGlaLhcNCtn"
      },
      "execution_count": 22,
      "outputs": []
    },
    {
      "cell_type": "code",
      "source": [
        "_stft = TacotronSTFT( #주어진 데이터에 대해 stft 실행\n",
        "    hp.filter_length, hp.hop_length, hp.win_length,\n",
        "    hp.n_mel_channels, hp.sampling_rate, hp.mel_fmin,\n",
        "    hp.mel_fmax)"
      ],
      "metadata": {
        "id": "OpIi8e1Tz6Er"
      },
      "execution_count": 23,
      "outputs": []
    },
    {
      "cell_type": "code",
      "source": [
        "\n",
        "def load_wav_to_torch(full_path):\n",
        "    sampling_rate, data = read(full_path)\n",
        "    return torch.FloatTensor(data.astype(np.float32)), sampling_rate\n",
        "\n",
        "\n",
        "def get_mel(filename):\n",
        "    audio, sampling_rate = load_wav_to_torch(filename)\n",
        "    if sampling_rate != _stft.sampling_rate:\n",
        "        raise ValueError(\"{} {} SR doesn't match target {} SR\".format(\n",
        "            sampling_rate, _stft.sampling_rate))\n",
        "    audio_norm = audio / hp.max_wav_value\n",
        "    audio_norm = audio_norm.unsqueeze(0)\n",
        "    audio_norm = torch.autograd.Variable(audio_norm, requires_grad=False)\n",
        "    melspec, energy = _stft.mel_spectrogram(audio_norm)\n",
        "    melspec = torch.squeeze(melspec, 0)\n",
        "    energy = torch.squeeze(energy, 0)\n",
        "    # melspec = torch.from_numpy(_normalize(melspec.numpy()))\n",
        "\n",
        "    return melspec, energy\n",
        "\n",
        "\n",
        "def get_mel_from_wav(audio):\n",
        "    sampling_rate = hp.sampling_rate\n",
        "    if sampling_rate != _stft.sampling_rate:\n",
        "        raise ValueError(\"{} {} SR doesn't match target {} SR\".format(\n",
        "            sampling_rate, _stft.sampling_rate))\n",
        "    audio_norm = audio / hp.max_wav_value\n",
        "    audio_norm = audio_norm.unsqueeze(0)\n",
        "    audio_norm = torch.autograd.Variable(audio_norm, requires_grad=False)\n",
        "    melspec, energy = _stft.mel_spectrogram(audio_norm)\n",
        "    melspec = torch.squeeze(melspec, 0)\n",
        "    energy = torch.squeeze(energy, 0)\n",
        "\n",
        "    return melspec, energy\n",
        "\n",
        "\n",
        "def inv_mel_spec(mel, out_filename, griffin_iters=60):\n",
        "    mel = torch.stack([mel])\n",
        "    # mel = torch.stack([torch.from_numpy(_denormalize(mel.numpy()))])\n",
        "    mel_decompress = _stft.spectral_de_normalize(mel)\n",
        "    mel_decompress = mel_decompress.transpose(1, 2).data.cpu()\n",
        "    spec_from_mel_scaling = 1000\n",
        "    spec_from_mel = torch.mm(mel_decompress[0], _stft.mel_basis)\n",
        "    spec_from_mel = spec_from_mel.transpose(0, 1).unsqueeze(0)\n",
        "    spec_from_mel = spec_from_mel * spec_from_mel_scaling\n",
        "\n",
        "    audio = griffin_lim(torch.autograd.Variable(\n",
        "        spec_from_mel[:, :, :-1]), _stft.stft_fn, griffin_iters)\n",
        "\n",
        "    audio = audio.squeeze()\n",
        "    audio = audio.cpu().numpy()\n",
        "    audio_path = out_filename\n",
        "    write(audio_path, hp.sampling_rate, audio)"
      ],
      "metadata": {
        "id": "oKol-VMS37HM"
      },
      "execution_count": 24,
      "outputs": []
    },
    {
      "cell_type": "markdown",
      "source": [
        "#data 파일"
      ],
      "metadata": {
        "id": "onxf_FJPNYyQ"
      }
    },
    {
      "cell_type": "code",
      "source": [
        "def prepare_align(in_dir, meta): #데이터 처리용 라이브러리\n",
        "    with open(os.path.join(in_dir, meta), encoding='utf-8') as f:\n",
        "        for line in f:\n",
        "            parts = line.strip().split('|')\n",
        "            basename, text = parts[0], parts[1]\n",
        "\n",
        "            basename=basename.replace('.wav','.txt')\n",
        "\n",
        "            with open(os.path.join(in_dir,'wavs',basename),'w') as f1:\n",
        "                f1.write(text)\n",
        "\n",
        "def build_from_path(in_dir, out_dir, meta): #데이터 정규화 및 f0, 에너지, 멜 생성\n",
        "    train, val = list(), list()\n",
        "\n",
        "    scalers = [StandardScaler(copy=False) for _ in range(3)]\t# scalers for mel, f0, energy\n",
        "\n",
        "    n_frames = 0\n",
        "\n",
        "    with open(os.path.join(in_dir, meta)) as f:\n",
        "        for index, line in enumerate(f):\n",
        "\n",
        "            parts = line.strip().split('|')\n",
        "            basename, text = parts[0], parts[1]\n",
        "\n",
        "            ret = process_utterance(in_dir, out_dir, basename, scalers)\n",
        "\n",
        "            if ret is None:\n",
        "                continue\n",
        "            else:\n",
        "                info, n = ret\n",
        "\n",
        "            if basename[0] == '1': #1번 파일만 검증, 나머지는 학습으로 사용, 여기서 타겟 지정해서 하면 될듯?\n",
        "                val.append(info)\n",
        "            else:\n",
        "                train.append(info)\n",
        "\n",
        "            if index % 100 == 0:\n",
        "                print(\"Done %d\" % index)\n",
        "\n",
        "            n_frames += n\n",
        "\n",
        "    param_list = [np.array([scaler.mean_, scaler.scale_]) for scaler in scalers]\n",
        "    param_name_list = ['mel_stat.npy', 'f0_stat.npy', 'energy_stat.npy']\n",
        "    [np.save(os.path.join(out_dir, param_name), param_list[idx]) for idx, param_name in enumerate(param_name_list)]\n",
        "\n",
        "    return [r for r in train if r is not None], [r for r in val if r is not None]\n",
        "\n",
        "\n",
        "def process_utterance(in_dir, out_dir, basename, scalers): #wav별 실행\n",
        "    wav_bak_basename=basename.replace('.wav','')\n",
        "    basename = wav_bak_basename[2:]\n",
        "    wav_bak_path = os.path.join(in_dir, \"wavs_bak\", \"{}.wav\".format(wav_bak_basename))\n",
        "    wav_path = os.path.join(in_dir, 'wavs/1', '{}.wav'.format(basename))\n",
        "    textgrid_name=hp.textgrid_name.replace(\".zip\",\"\")\n",
        "\n",
        "    # Convert kss data into PCM encoded wavs\n",
        "    if not os.path.isfile(wav_path):\n",
        "        os.system(\"ffmpeg -i {} -ac 1 -ar 22050 {}\".format(wav_bak_path, wav_path))\n",
        "    tg_path = os.path.join(out_dir, textgrid_name, '{}.TextGrid'.format(basename))\n",
        "\n",
        "    # Get alignments\n",
        "    textgrid = tgt.io.read_textgrid(tg_path)\n",
        "    phone, duration, start, end = get_alignment(textgrid.get_tier_by_name('phones'))\n",
        "    print(\"phone : {}\\nduration: {}\\nstart : {}\\n,end : {}\\n\".format(phone,duration,start,end))\n",
        "\n",
        "    text = '{'+ '}{'.join(phone) + '}' # '{A}{B}{$}{C}', $ represents silent phones\n",
        "    text = text.replace('{$}', ' ')    # '{A}{B} {C}'\n",
        "    text = text.replace('}{', ' ')     # '{A B} {C}'\n",
        "\n",
        "\n",
        "    if start >= end:\n",
        "        return None\n",
        "\n",
        "    # Read and trim wav files\n",
        "    _, wav = read(wav_path)\n",
        "    wav = wav[int(hp.sampling_rate*start):int(hp.sampling_rate*end)].astype(np.float32) #샘플레이트\n",
        "\n",
        "    if wav.ndim == 2:\n",
        "        wav = wav.mean(axis=1)\n",
        "\n",
        "    # Compute fundamental frequency\n",
        "    f0, _ = pw.dio(wav.astype(np.float64), hp.sampling_rate, frame_period=hp.hop_length/hp.sampling_rate*1000) #f0 추측\n",
        "    f0 = f0[:sum(duration)]\n",
        "\n",
        "    # Compute mel-scale spectrogram and energy\n",
        "    mel_spectrogram, energy = get_mel_from_wav(torch.FloatTensor(wav)) #wav에서 멜 추출, 에너지 추출\n",
        "    mel_spectrogram = mel_spectrogram.numpy().astype(np.float32)[:, :sum(duration)]\n",
        "    energy = energy.numpy().astype(np.float32)[:sum(duration)]\n",
        "\n",
        "    f0, energy = remove_outlier(f0), remove_outlier(energy)\n",
        "    f0, energy = average_by_duration(f0, duration), average_by_duration(energy, duration)\n",
        "\n",
        "    if mel_spectrogram.shape[1] >= hp.max_seq_len:\n",
        "        return None\n",
        "\n",
        "    # Save alignment\n",
        "    ali_filename = '{}-ali-{}.npy'.format(hp.dataset, basename)\n",
        "    np.save(os.path.join(out_dir, 'alignment', ali_filename), duration, allow_pickle=False)\n",
        "\n",
        "    # Save fundamental prequency\n",
        "    f0_filename = '{}-f0-{}.npy'.format(hp.dataset, basename)\n",
        "    np.save(os.path.join(out_dir, 'f0', f0_filename), f0, allow_pickle=False)\n",
        "\n",
        "    # Save energy\n",
        "    energy_filename = '{}-energy-{}.npy'.format(hp.dataset, basename)\n",
        "    np.save(os.path.join(out_dir, 'energy', energy_filename), energy, allow_pickle=False)\n",
        "\n",
        "    # Save spectrogram\n",
        "    mel_filename = '{}-mel-{}.npy'.format(hp.dataset, basename)\n",
        "    np.save(os.path.join(out_dir, 'mel', mel_filename), mel_spectrogram.T, allow_pickle=False)\n",
        "\n",
        "    mel_scaler, f0_scaler, energy_scaler = scalers\n",
        "\n",
        "    mel_scaler.partial_fit(mel_spectrogram.T)\n",
        "    f0_scaler.partial_fit(f0[f0!=0].reshape(-1, 1))\n",
        "    energy_scaler.partial_fit(energy[energy != 0].reshape(-1, 1))\n",
        "\n",
        "    return '|'.join([basename, text]), mel_spectrogram.shape[1]"
      ],
      "metadata": {
        "id": "VpKNpP-YNPbY"
      },
      "execution_count": 25,
      "outputs": []
    },
    {
      "cell_type": "markdown",
      "source": [
        "#prepare_align.py"
      ],
      "metadata": {
        "id": "r1kZRQerPrlE"
      }
    },
    {
      "cell_type": "code",
      "source": [
        "def main(): #데이터 전처리, 내 목소리 생기면 그때 돌리기\n",
        "    in_dir = hp.data_path\n",
        "    if hp.dataset == \"korean\":\n",
        "        prepare_align(in_dir, hp.meta_name)\n",
        "if __name__ == \"__main__\":\n",
        "    main()"
      ],
      "metadata": {
        "id": "12XJQeDnPvt9"
      },
      "execution_count": 26,
      "outputs": []
    },
    {
      "cell_type": "markdown",
      "source": [
        "#preprocess.py"
      ],
      "metadata": {
        "id": "NDMcMnM2PE0k"
      }
    },
    {
      "cell_type": "code",
      "source": [
        "#데이터 전처리, 메타데이터 작성\n",
        "def write_metadata(train, val, out_dir): #학습 데이터셋, 검증 데이터셋용 메타데이터 생성\n",
        "    with open(os.path.join(out_dir, 'train.txt'), 'w', encoding='utf-8') as f:\n",
        "        for m in train:\n",
        "            f.write(m + '\\n')\n",
        "    with open(os.path.join(out_dir, 'val.txt'), 'w', encoding='utf-8') as f:\n",
        "        for m in val:\n",
        "            f.write(m + '\\n')\n"
      ],
      "metadata": {
        "id": "tajhE3sw1792"
      },
      "execution_count": 27,
      "outputs": []
    },
    {
      "cell_type": "code",
      "source": [
        "\n",
        "def main():\n",
        "    in_dir = hp.data_path\n",
        "    out_dir = hp.preprocessed_path\n",
        "    meta = hp.meta_name\n",
        "    textgrid_name = hp.textgrid_name\n",
        "\n",
        "    mel_out_dir = os.path.join(out_dir, \"mel\")\n",
        "    if not os.path.exists(mel_out_dir):\n",
        "        os.makedirs(mel_out_dir, exist_ok=True)\n",
        "\n",
        "    ali_out_dir = os.path.join(out_dir, \"alignment\")\n",
        "    if not os.path.exists(ali_out_dir):\n",
        "        os.makedirs(ali_out_dir, exist_ok=True)\n",
        "\n",
        "    f0_out_dir = os.path.join(out_dir, \"f0\")\n",
        "    if not os.path.exists(f0_out_dir):\n",
        "        os.makedirs(f0_out_dir, exist_ok=True)\n",
        "\n",
        "    energy_out_dir = os.path.join(out_dir, \"energy\")\n",
        "    if not os.path.exists(energy_out_dir):\n",
        "        os.makedirs(energy_out_dir, exist_ok=True)\n",
        "\n",
        "    if os.path.isfile(textgrid_name):\n",
        "        os.system('mv ./{} {}'.format(textgrid_name, out_dir))\n",
        "\n",
        "    if not os.path.exists(os.path.join(out_dir, textgrid_name.replace(\".zip\", \"\"))):\n",
        "        os.system('unzip {} -d {}'.format(os.path.join(out_dir, textgrid_name), out_dir))\n",
        "\n",
        "\n",
        "    if \"kss\" in hp.dataset:\n",
        "        # kss version 1.3\n",
        "        if \"v.1.3\" in meta:\n",
        "            if not os.path.exists(os.path.join(in_dir, \"wavs_bak\")):\n",
        "                os.system(\"mv {} {}\".format(os.path.join(in_dir, \"wavs\"), os.path.join(in_dir, \"wavs_bak\")))\n",
        "                os.makedirs(os.path.join(in_dir, \"wavs\"))\n",
        "\n",
        "        # kss version 1.4\n",
        "        if \"v.1.4\" in meta:\n",
        "            if not os.path.exists(os.path.join(in_dir, \"wavs_bak\")):\n",
        "                os.makedirs(os.path.join(in_dir, \"wavs\"))\n",
        "                os.system(\"mv {} {}\".format(os.path.join(in_dir, \"../\", meta), os.path.join(in_dir)))\n",
        "                for i in range(1, 5) : os.system(\"mv {} {}\".format(os.path.join(in_dir, str(i)), os.path.join(in_dir, \"wavs\")))\n",
        "                os.system(\"mv {} {}\".format(os.path.join(in_dir, \"wavs\"), os.path.join(in_dir, \"wavs_bak\")))\n",
        "                os.makedirs(os.path.join(in_dir, \"wavs\"))\n",
        "\n",
        "        train, val = build_from_path(in_dir, out_dir, meta)\n",
        "\n",
        "    write_metadata(train, val, out_dir)\n",
        "\n",
        "if __name__ == \"__main__\": #내 목소리 생기면 그때 돌리기\n",
        "    main()"
      ],
      "metadata": {
        "id": "vfmQX8LkPIDO",
        "colab": {
          "base_uri": "https://localhost:8080/"
        },
        "outputId": "dab0f432-1af0-4faa-80b3-3b4613c1221c"
      },
      "execution_count": null,
      "outputs": [
        {
          "output_type": "stream",
          "name": "stdout",
          "text": [
            "phone : ['ᄀ', 'ᅳ', 'ᄂ', 'ᅳ', 'ᆫ', 'ᄀ', 'ᅫ', 'ᆫ', 'ᄎ', 'ᅡ', 'ᄂ', 'ᅳ', 'ᆫ', 'ᄎ', 'ᅥ', 'ᄏ', 'ᅡ', 'ᄅ', 'ᅧ', 'ᄀ', 'ᅩ', 'sp', 'ᄋ', 'ᅢ', 'ᄊ', 'ᅳ', 'ᄂ', 'ᅳ', 'ᆫ', 'ᄀ', 'ᅥ', 'ᆮ', 'ᄀ', 'ᅡ', 'ᄐ', 'ᅡ', 'ᆮ', 'ᄄ', 'ᅡ']\n",
            "duration: [13  8  5  6  9  8  6  6  7  6  3  4  3  7  7 10  4  7  9  7 17 15 11  7\n",
            " 11  6  4  4  5  5  3  4  6  6 10  5 14 10 17]\n",
            "start : 0.0\n",
            ",end : 3.43\n",
            "\n",
            "Done 0\n",
            "phone : ['ᄀ', 'ᅳ', 'ᄂ', 'ᅧ', 'ᄋ', 'ᅴ', 'ᄉ', 'ᅡ', 'ᄅ', 'ᅡ', 'ᆼ', 'ᄋ', 'ᅳ', 'ᆯ', 'ᄋ', 'ᅥ', 'ᆮ', 'ᄁ', 'ᅵ', 'ᄋ', 'ᅱ', 'ᄒ', 'ᅢ', 'sp', 'ᄋ', 'ᅢ', 'ᄊ', 'ᅥ', 'ᆮ', 'ᄍ', 'ᅵ', 'ᄆ', 'ᅡ', 'ᆫ', 'sp', 'ᄒ', 'ᅥ', 'ᆮ', 'ᄊ', 'ᅮ', 'ᄀ', 'ᅩ', 'ᄋ', 'ᅧ', 'ᆮ', 'ᄄ', 'ᅡ']\n",
            "duration: [ 9  5  5  5  4  6  9  6  5  3  5  3  3  3  5  4 11  5  3 12  7 10  2  8\n",
            "  5  8 11  8  5 11  3  9  8 13  8 18  3  2 11  6  4  6  3  6 13 10 13]\n",
            "start : 0.0\n",
            ",end : 3.75\n",
            "\n"
          ]
        },
        {
          "output_type": "stream",
          "name": "stderr",
          "text": [
            "<ipython-input-25-396638cc7985>:75: WavFileWarning: Chunk (non-data) not understood, skipping it.\n",
            "  _, wav = read(wav_path)\n"
          ]
        },
        {
          "output_type": "stream",
          "name": "stdout",
          "text": [
            "phone : ['ᄋ', 'ᅭ', 'ᆼ', 'ᄃ', 'ᅩ', 'ᄂ', 'ᅳ', 'ᆯ', 'sp', 'ᄋ', 'ᅡ', 'ᄁ', 'ᅧ', 'ᄊ', 'ᅥ', 'ᄅ', 'ᅡ']\n",
            "duration: [ 6  6  9 10  6  6  2 15 11  7  7  9  9 12  9  9 12]\n",
            "start : 0.0\n",
            ",end : 1.69\n",
            "\n"
          ]
        },
        {
          "output_type": "stream",
          "name": "stderr",
          "text": [
            "<ipython-input-25-396638cc7985>:75: WavFileWarning: Chunk (non-data) not understood, skipping it.\n",
            "  _, wav = read(wav_path)\n"
          ]
        },
        {
          "output_type": "stream",
          "name": "stdout",
          "text": [
            "phone : ['ᄀ', 'ᅳ', 'ᄂ', 'ᅳ', 'ᆫ', 'sp', 'ᄋ', 'ᅡ', 'ᄂ', 'ᅢ', 'ᄅ', 'ᅳ', 'ᆯ', 'ᄆ', 'ᅡ', 'ᄂ', 'ᅵ', 'ᄋ', 'ᅡ', 'ᄁ', 'ᅵ', 'ᆫ', 'ᄃ', 'ᅡ']\n",
            "duration: [ 8  4  5  8 18  6 19  8  5  6  5  4  4  8 11  8  5  4  6 12  4  9  7 17]\n",
            "start : 0.0\n",
            ",end : 2.22\n",
            "\n"
          ]
        },
        {
          "output_type": "stream",
          "name": "stderr",
          "text": [
            "<ipython-input-25-396638cc7985>:75: WavFileWarning: Chunk (non-data) not understood, skipping it.\n",
            "  _, wav = read(wav_path)\n"
          ]
        },
        {
          "output_type": "stream",
          "name": "stdout",
          "text": [
            "phone : ['ᄀ', 'ᅳ', 'ᄋ', 'ᅢ', 'ᄌ', 'ᅥ', 'ᆫ', 'ᄒ', 'ᅪ', 'ᄇ', 'ᅥ', 'ᆫ', 'ᄒ', 'ᅩ', 'ᄋ', 'ᅡ', 'ᄅ', 'ᅡ']\n",
            "duration: [11  6  6  5  7  8  4  4  5  8  4  3  3  2  7  4  9 14]\n",
            "start : 0.0\n",
            ",end : 1.28\n",
            "\n"
          ]
        },
        {
          "output_type": "stream",
          "name": "stderr",
          "text": [
            "<ipython-input-25-396638cc7985>:75: WavFileWarning: Chunk (non-data) not understood, skipping it.\n",
            "  _, wav = read(wav_path)\n"
          ]
        },
        {
          "output_type": "stream",
          "name": "stdout",
          "text": [
            "phone : ['ᄎ', 'ᅡ', 'ᄋ', 'ᅦ', 'ᄃ', 'ᅢ', 'ᄒ', 'ᅢ', 'ᄌ', 'ᅡ', 'ᆯ', 'ᄋ', 'ᅡ', 'ᄉ', 'ᅦ', 'ᄋ', 'ᅭ']\n",
            "duration: [11  3 10  5  6  3 12  5 14  6  3  6  8  9 11 12  6]\n",
            "start : 0.0\n",
            ",end : 1.52\n",
            "\n"
          ]
        },
        {
          "output_type": "stream",
          "name": "stderr",
          "text": [
            "<ipython-input-25-396638cc7985>:75: WavFileWarning: Chunk (non-data) not understood, skipping it.\n",
            "  _, wav = read(wav_path)\n"
          ]
        },
        {
          "output_type": "stream",
          "name": "stdout",
          "text": [
            "phone : ['ᄀ', 'ᅥ', 'ᄀ', 'ᅵ', 'ᄃ', 'ᅩ', 'ᄎ', 'ᅡ', 'ᄏ', 'ᅡ', 'ᄆ', 'ᅧ', 'ᆫ', 'sp', 'ᄂ', 'ᅡ', 'ᄒ', 'ᅡ', 'ᆫ', 'ᄐ', 'ᅦ', 'ᄋ', 'ᅡ', 'ᆯ', 'ᄅ', 'ᅧ', 'ᄌ', 'ᅯ']\n",
            "duration: [11  8  6  6  6  6  9  7  9  7  7 17 10  7 13  5  3  4  6  5  3  2  8  7\n",
            "  4  9 13 20]\n",
            "start : 0.15\n",
            ",end : 2.68\n",
            "\n"
          ]
        },
        {
          "output_type": "stream",
          "name": "stderr",
          "text": [
            "<ipython-input-25-396638cc7985>:75: WavFileWarning: Chunk (non-data) not understood, skipping it.\n",
            "  _, wav = read(wav_path)\n"
          ]
        },
        {
          "output_type": "stream",
          "name": "stdout",
          "text": [
            "phone : ['ᄀ', 'ᅳ', 'ᄃ', 'ᅳ', 'ᄅ', 'ᅳ', 'ᆫ', 'ᄂ', 'ᅢ', 'ᄀ', 'ᅡ', 'ᄉ', 'ᅵ', 'ᄒ', 'ᅥ', 'ᄆ', 'ᅦ', 'ᄄ', 'ᅥ', 'ᄅ', 'ᅥ', 'ᄌ', 'ᅥ', 'ᆮ', 'ᄄ', 'ᅡ', 'ᄀ', 'ᅩ', 'sp', 'ᄋ', 'ᅡ', 'ᆯ', 'ᄅ', 'ᅧ', 'ᄋ', 'ᅪ', 'ᆮ', 'ᄄ', 'ᅡ']\n",
            "duration: [12  5  5  4  5  7 10  5  7  7  7 13  4  3  5  6  7  9  7  5  5  5  5  7\n",
            "  5  8  7 16 10 17  5  9  4  7  4  7 16  9 12]\n",
            "start : 0.0\n",
            ",end : 3.39\n",
            "\n"
          ]
        },
        {
          "output_type": "stream",
          "name": "stderr",
          "text": [
            "<ipython-input-25-396638cc7985>:75: WavFileWarning: Chunk (non-data) not understood, skipping it.\n",
            "  _, wav = read(wav_path)\n"
          ]
        },
        {
          "output_type": "stream",
          "name": "stdout",
          "text": [
            "phone : ['ᄂ', 'ᅡ', 'ᄂ', 'ᅳ', 'ᆫ', 'ᄉ', 'ᅡ', 'ᄅ', 'ᅡ', 'ᄋ', 'ᅩ', 'ᄆ', 'ᅧ', 'ᆫ', 'ᄉ', 'ᅥ', 'sp', 'ᄀ', 'ᅡ', 'ᆷ', 'ᄀ', 'ᅵ', 'ᄅ', 'ᅳ', 'ᆯ', 'ᄋ', 'ᅡ', 'ᄅ', 'ᅳ', 'ᆫ', 'ᄌ', 'ᅥ', 'ᄀ', 'ᅵ', 'sp', 'ᄒ', 'ᅡ', 'ᆫ', 'ᄇ', 'ᅥ', 'ᆫ', 'ᄃ', 'ᅩ', 'ᄋ', 'ᅥ', 'ᆸ', 'ᄄ', 'ᅡ']\n",
            "duration: [12  7  3  4  5  8  6  5  3  8  3  6  9  5  9 19 10 14  9  9  4  4  4  3\n",
            "  3  6  9  5  4  8  6  6  8 17 10 11  3  7  4  6  8  3  3  4  5 17  9 11]\n",
            "start : 0.15\n",
            ",end : 4.12\n",
            "\n"
          ]
        },
        {
          "output_type": "stream",
          "name": "stderr",
          "text": [
            "<ipython-input-25-396638cc7985>:75: WavFileWarning: Chunk (non-data) not understood, skipping it.\n",
            "  _, wav = read(wav_path)\n"
          ]
        },
        {
          "output_type": "stream",
          "name": "stdout",
          "text": [
            "phone : ['ᄉ', 'ᅡ', 'ᄒ', 'ᅳ', 'ᆯ', 'ᄃ', 'ᅩ', 'ᆼ', 'ᄋ', 'ᅡ', 'ᆫ', 'sp', 'ᄉ', 'ᅵ', 'ᆷ', 'ᄒ', 'ᅡ', 'ᄀ', 'ᅦ', 'ᄆ', 'ᅩ', 'ᆷ', 'ᄉ', 'ᅡ', 'ᄅ', 'ᅳ', 'ᆯ', 'ᄋ', 'ᅡ', 'ᄅ', 'ᅡ', 'ᄊ', 'ᅥ', 'ᄋ', 'ᅭ']\n",
            "duration: [13  8  4  2  4  7  6  4  8 16 11 12 13  6  4  6  5  4  8  8  6  8  8  4\n",
            "  4  3  4  6  4  4  5 13 15 17  3]\n",
            "start : 0.07\n",
            ",end : 3.01\n",
            "\n"
          ]
        },
        {
          "output_type": "stream",
          "name": "stderr",
          "text": [
            "<ipython-input-25-396638cc7985>:75: WavFileWarning: Chunk (non-data) not understood, skipping it.\n",
            "  _, wav = read(wav_path)\n"
          ]
        },
        {
          "output_type": "stream",
          "name": "stdout",
          "text": [
            "phone : ['ᄋ', 'ᅭ', 'ᄌ', 'ᅳ', 'ᆷ', 'ᄀ', 'ᅩ', 'ᆼ', 'ᄇ', 'ᅮ', 'ᄀ', 'ᅡ', 'ᄋ', 'ᅡ', 'ᆫ', 'ᄃ', 'ᅫ', 'ᄋ', 'ᅭ']\n",
            "duration: [13 11  9 15 14  6  6  8  5  5  6  2  7  5 10  4 14 16  4]\n",
            "start : 0.0\n",
            ",end : 1.86\n",
            "\n"
          ]
        },
        {
          "output_type": "stream",
          "name": "stderr",
          "text": [
            "<ipython-input-25-396638cc7985>:75: WavFileWarning: Chunk (non-data) not understood, skipping it.\n",
            "  _, wav = read(wav_path)\n"
          ]
        },
        {
          "output_type": "stream",
          "name": "stdout",
          "text": [
            "phone : ['ᄌ', 'ᅡ', 'ᆼ', 'ᄉ', 'ᅡ', 'ᄀ', 'ᅡ', 'ᄌ', 'ᅡ', 'ᆯ', 'ᄋ', 'ᅡ', 'ᆫ', 'ᄃ', 'ᅫ', 'ᄉ', 'ᅥ', 'sp', 'ᄋ', 'ᅮ', 'ᄋ', 'ᅮ', 'ᆯ', 'ᄒ', 'ᅢ']\n",
            "duration: [12  8  7  9  6  5  8  9  9  2  6  6  7  5  9 10 16  2 21  4 18  2  4  5\n",
            " 14]\n",
            "start : 0.0\n",
            ",end : 2.38\n",
            "\n"
          ]
        },
        {
          "output_type": "stream",
          "name": "stderr",
          "text": [
            "<ipython-input-25-396638cc7985>:75: WavFileWarning: Chunk (non-data) not understood, skipping it.\n",
            "  _, wav = read(wav_path)\n"
          ]
        },
        {
          "output_type": "stream",
          "name": "stdout",
          "text": [
            "phone : ['ᄋ', 'ᅡ', 'ᄆ', 'ᅮ', 'ᄀ', 'ᅥ', 'ᆮ', 'ᄄ', 'ᅩ', 'ᄆ', 'ᅥ', 'ᆨ', 'ᄍ', 'ᅵ', 'ᄋ', 'ᅡ', 'ᄂ', 'ᅳ', 'ᄆ', 'ᅧ', 'ᆫ', 'sp', 'ᄌ', 'ᅮ', 'ᆨ', 'ᄁ', 'ᅦ', 'ᄃ', 'ᅬ', 'ᄋ', 'ᅥ', 'ᄋ', 'ᅵ', 'ᆮ', 'ᄄ', 'ᅡ']\n",
            "duration: [ 7  8  8  5  5  7  7  3  8  7  6  7  8  4  7  7  5  2  8 11 12 11 17  4\n",
            "  8  5  8  5  9  4  6  4  4 15  7 16]\n",
            "start : 0.0\n",
            ",end : 3.08\n",
            "\n"
          ]
        },
        {
          "output_type": "stream",
          "name": "stderr",
          "text": [
            "<ipython-input-25-396638cc7985>:75: WavFileWarning: Chunk (non-data) not understood, skipping it.\n",
            "  _, wav = read(wav_path)\n"
          ]
        },
        {
          "output_type": "stream",
          "name": "stdout",
          "text": [
            "phone : ['ᄀ', 'ᅳ', 'ᄂ', 'ᅧ', 'ᄂ', 'ᅳ', 'ᆫ', 'sp', 'ᄋ', 'ᅵ', 'ᄋ', 'ᅲ', 'ᄅ', 'ᅳ', 'ᆯ', 'ᄆ', 'ᅮ', 'ᆮ', 'ᄍ', 'ᅵ', 'ᄋ', 'ᅡ', 'ᆫ', 'ᄏ', 'ᅩ', 'sp', 'ᄃ', 'ᅩ', 'ᄂ', 'ᅳ', 'ᆯ', 'ᄇ', 'ᅵ', 'ᆯ', 'ᄅ', 'ᅧ', 'ᄌ', 'ᅮ', 'ᄋ', 'ᅥ', 'ᆮ', 'ᄄ', 'ᅡ']\n",
            "duration: [ 7  6  5 10  6 10  8  3  7 12  2  5  4  5  5  7  5  6 10  6  8  5  7 13\n",
            " 18 24  6  9  4 12  3  6  5  4  5  8  5  4  4  5 14  8 13]\n",
            "start : 0.0\n",
            ",end : 3.71\n",
            "\n"
          ]
        },
        {
          "output_type": "stream",
          "name": "stderr",
          "text": [
            "<ipython-input-25-396638cc7985>:75: WavFileWarning: Chunk (non-data) not understood, skipping it.\n",
            "  _, wav = read(wav_path)\n"
          ]
        },
        {
          "output_type": "stream",
          "name": "stdout",
          "text": [
            "phone : ['ᄂ', 'ᅢ', 'ᄀ', 'ᅡ', 'ᄋ', 'ᅡ', 'ᄀ', 'ᅵ', 'ᄅ', 'ᅳ', 'ᆯ', 'ᄋ', 'ᅡ', 'ᆫ', 'ᄀ', 'ᅩ', 'ᄋ', 'ᅵ', 'ᄊ', 'ᅳ', 'ᆯ', 'ᄀ', 'ᅦ']\n",
            "duration: [13  8  7  2 24  8  5  6  3  3  3  8  4  7  5  5  5  4  9  6  6 13 22]\n",
            "start : 0.09\n",
            ",end : 2.13\n",
            "\n"
          ]
        },
        {
          "output_type": "stream",
          "name": "stderr",
          "text": [
            "<ipython-input-25-396638cc7985>:75: WavFileWarning: Chunk (non-data) not understood, skipping it.\n",
            "  _, wav = read(wav_path)\n"
          ]
        },
        {
          "output_type": "stream",
          "name": "stdout",
          "text": [
            "phone : ['ᄋ', 'ᅥ', 'ᆷ', 'ᄆ', 'ᅡ', 'ᄂ', 'ᅳ', 'ᆫ', 'ᄆ', 'ᅡ', 'ᄅ', 'ᅥ', 'ᆸ', 'ᄊ', 'ᅵ', 'sp', 'ᄂ', 'ᅡ', 'ᄅ', 'ᅳ', 'ᆯ', 'sp', 'ᄁ', 'ᅩ', 'ᆨ', 'sp', 'ᄋ', 'ᅡ', 'ᄂ', 'ᅡ', 'ᄌ', 'ᅮ', 'ᄉ', 'ᅧ', 'ᆮ', 'ᄄ', 'ᅡ']\n",
            "duration: [16  6  6  4  7  4  4 12  6  9  5  5  7 14 22 27  7  8  4  3 18 20  6 15\n",
            "  9  3  8  6  7  7  5  4  7  7 15  9 13]\n",
            "start : 0.0\n",
            ",end : 3.89\n",
            "\n"
          ]
        },
        {
          "output_type": "stream",
          "name": "stderr",
          "text": [
            "<ipython-input-25-396638cc7985>:75: WavFileWarning: Chunk (non-data) not understood, skipping it.\n",
            "  _, wav = read(wav_path)\n"
          ]
        },
        {
          "output_type": "stream",
          "name": "stdout",
          "text": [
            "phone : ['ᄌ', 'ᅡ', 'ᄅ', 'ᅵ', 'ᄋ', 'ᅦ', 'ᄋ', 'ᅡ', 'ᆫ', 'ᄌ', 'ᅳ', 'ᄉ', 'ᅦ', 'ᄋ', 'ᅭ']\n",
            "duration: [11  7  3  5  5  2  5  4  6  5  4  9 11 16  3]\n",
            "start : 0.0\n",
            ",end : 1.12\n",
            "\n"
          ]
        },
        {
          "output_type": "stream",
          "name": "stderr",
          "text": [
            "<ipython-input-25-396638cc7985>:75: WavFileWarning: Chunk (non-data) not understood, skipping it.\n",
            "  _, wav = read(wav_path)\n"
          ]
        },
        {
          "output_type": "stream",
          "name": "stdout",
          "text": [
            "phone : ['ᄒ', 'ᅡ', 'ᆫ', 'ᄋ', 'ᅧ', 'ᄌ', 'ᅡ', 'ᄀ', 'ᅡ', 'ᄂ', 'ᅢ', 'ᄋ', 'ᅧ', 'ᄑ', 'ᅦ', 'ᄋ', 'ᅡ', 'ᆫ', 'ᄌ', 'ᅡ', 'ᆮ', 'ᄄ', 'ᅡ']\n",
            "duration: [10  4  7  7  9  8  7  7 14  9  7  3  7 12  2  5  4  7  7  6 12  8 14]\n",
            "start : 0.0\n",
            ",end : 2.05\n",
            "\n"
          ]
        },
        {
          "output_type": "stream",
          "name": "stderr",
          "text": [
            "<ipython-input-25-396638cc7985>:75: WavFileWarning: Chunk (non-data) not understood, skipping it.\n",
            "  _, wav = read(wav_path)\n"
          ]
        },
        {
          "output_type": "stream",
          "name": "stdout",
          "text": [
            "phone : ['ᄋ', 'ᅵ', 'ᄅ', 'ᅵ', 'ᆯ', 'ᄉ', 'ᅡ', 'ᄋ', 'ᅦ', 'ᄌ', 'ᅥ', 'ᆫ', 'ᄒ', 'ᅪ', 'ᄅ', 'ᅳ', 'ᆯ', 'ᄒ', 'ᅢ', 'ᄉ', 'ᅥ', 'sp', 'ᄇ', 'ᅥ', 'ᆫ', 'ᄒ', 'ᅩ', 'ᄅ', 'ᅳ', 'ᆯ', 'ᄋ', 'ᅡ', 'ᄅ', 'ᅡ', 'ᄇ', 'ᅩ', 'ᄉ', 'ᅵ', 'ᄌ', 'ᅵ', 'ᄀ', 'ᅳ', 'ᄅ', 'ᅥ', 'ᄉ', 'ᅦ', 'ᄋ', 'ᅭ']\n",
            "duration: [19  4  2 12  5  8  4  4  5  8  9  3  4  6  3  7  2  3  7  9 28 13 14  5\n",
            "  4  4  5  3  3  4  5  7  4  6  7  3  7  6  2  6  6  4  3  6  9 12 16  3]\n",
            "start : 0.0\n",
            ",end : 3.71\n",
            "\n"
          ]
        },
        {
          "output_type": "stream",
          "name": "stderr",
          "text": [
            "<ipython-input-25-396638cc7985>:75: WavFileWarning: Chunk (non-data) not understood, skipping it.\n",
            "  _, wav = read(wav_path)\n"
          ]
        },
        {
          "output_type": "stream",
          "name": "stdout",
          "text": [
            "phone : ['ᄂ', 'ᅢ', 'ᄀ', 'ᅡ', 'ᄂ', 'ᅮ', 'ᄀ', 'ᅮ', 'ᆫ', 'ᄌ', 'ᅵ', 'ᄋ', 'ᅡ', 'ᄅ', 'ᅡ', 'ᄇ', 'ᅩ', 'ᄀ', 'ᅦ', 'ᆫ', 'ᄂ', 'ᅵ']\n",
            "duration: [12  6  6  7  6  6  4  6  7  6  7  5  5  4  6  6  4  6  6  4 13 15]\n",
            "start : 0.0\n",
            ",end : 1.71\n",
            "\n"
          ]
        },
        {
          "output_type": "stream",
          "name": "stderr",
          "text": [
            "<ipython-input-25-396638cc7985>:75: WavFileWarning: Chunk (non-data) not understood, skipping it.\n",
            "  _, wav = read(wav_path)\n"
          ]
        },
        {
          "output_type": "stream",
          "name": "stdout",
          "text": [
            "phone : ['ᄀ', 'ᅳ', 'ᄂ', 'ᅳ', 'ᆫ', 'ᄌ', 'ᅥ', 'ᆯ', 'ᄃ', 'ᅢ', 'sp', 'ᄃ', 'ᅡ', 'ᄅ', 'ᅳ', 'ᆫ', 'ᄉ', 'ᅡ', 'ᄅ', 'ᅡ', 'ᄆ', 'ᅴ', 'ᄋ', 'ᅴ', 'ᄀ', 'ᅧ', 'ᄂ', 'ᅳ', 'ᆯ', 'sp', 'ᄇ', 'ᅡ', 'ᄃ', 'ᅡ', 'ᄃ', 'ᅳ', 'ᄅ', 'ᅵ', 'ᄌ', 'ᅵ', 'ᄋ', 'ᅡ', 'ᆫ', 'ᄂ', 'ᅳ', 'ᆫ', 'ᄃ', 'ᅡ']\n",
            "duration: [14  5  6  7 10  6  7  8 12 17  2  6  8  3  4  6  6  5  6  4  7  5  2 10\n",
            "  7 10  5  6 12 16 13  8  5  8  4  5  3  9  5  3  6  4  7  2  7 10 12 14]\n",
            "start : 0.0\n",
            ",end : 4.04\n",
            "\n"
          ]
        },
        {
          "output_type": "stream",
          "name": "stderr",
          "text": [
            "<ipython-input-25-396638cc7985>:75: WavFileWarning: Chunk (non-data) not understood, skipping it.\n",
            "  _, wav = read(wav_path)\n"
          ]
        },
        {
          "output_type": "stream",
          "name": "stdout",
          "text": [
            "phone : ['ᄋ', 'ᅡ', 'ᄋ', 'ᅵ', 'ᄃ', 'ᅳ', 'ᆯ', 'ᄃ', 'ᅩ', 'ᄋ', 'ᅥ', 'ᆫ', 'ᄌ', 'ᅦ', 'ᆫ', 'ᄀ', 'ᅡ', 'ᄂ', 'ᅳ', 'ᆫ', 'sp', 'ᄀ', 'ᅳ', 'ᄂ', 'ᅧ', 'ᄅ', 'ᅳ', 'ᆯ', 'ᄋ', 'ᅥ', 'ᆷ', 'ᄆ', 'ᅡ', 'ᄅ', 'ᅩ', 'ᄇ', 'ᅡ', 'ᄃ', 'ᅡ', 'ᄃ', 'ᅳ', 'ᄅ', 'ᅵ', 'ᆯ', 'ᄀ', 'ᅥ', 'ᄋ', 'ᅣ']\n",
            "duration: [33  6  5  5  3  5  5  5  3  3  7  6  6  7  5  6  8  5 10 13 17 12  6  5\n",
            "  8  4  3  3  8  5  6  6  6  5  3  8  6  6  6  4  5  3  4  4  9  6  8 29]\n",
            "start : 0.0\n",
            ",end : 3.97\n",
            "\n"
          ]
        },
        {
          "output_type": "stream",
          "name": "stderr",
          "text": [
            "<ipython-input-25-396638cc7985>:75: WavFileWarning: Chunk (non-data) not understood, skipping it.\n",
            "  _, wav = read(wav_path)\n"
          ]
        },
        {
          "output_type": "stream",
          "name": "stdout",
          "text": [
            "phone : ['ᄋ', 'ᅥ', 'ᄃ', 'ᅵ', 'ᄋ', 'ᅦ', 'ᄉ', 'ᅥ', 'ᄋ', 'ᅧ', 'ᆼ', 'ᄋ', 'ᅥ', 'ᄅ', 'ᅳ', 'ᆯ', 'ᄇ', 'ᅢ', 'ᄋ', 'ᅮ', 'ᄉ', 'ᅧ', 'ᄊ', 'ᅥ', 'ᄋ', 'ᅭ']\n",
            "duration: [16 10  6  5  5  7  6 11  6  8  2  7  4  3  4  4  5  3  6  4  6  7 13 13\n",
            " 17  3]\n",
            "start : 0.0\n",
            ",end : 2.11\n",
            "\n"
          ]
        },
        {
          "output_type": "stream",
          "name": "stderr",
          "text": [
            "<ipython-input-25-396638cc7985>:75: WavFileWarning: Chunk (non-data) not understood, skipping it.\n",
            "  _, wav = read(wav_path)\n"
          ]
        },
        {
          "output_type": "stream",
          "name": "stdout",
          "text": [
            "phone : ['ᄃ', 'ᅩ', 'ᆼ', 'ᄂ', 'ᅭ', 'ᄋ', 'ᅦ', 'ᄀ', 'ᅦ', 'ᄉ', 'ᅥ', 'ᄉ', 'ᅮ', 'ᄒ', 'ᅪ', 'ᄅ', 'ᅳ', 'ᆯ', 'ᄇ', 'ᅢ', 'ᄋ', 'ᅮ', 'ᄀ', 'ᅩ', 'ᄋ', 'ᅵ', 'ᆮ', 'ᄊ', 'ᅳ', 'ᆷ', 'ᄂ', 'ᅵ', 'ᄃ', 'ᅡ']\n",
            "duration: [12  5  6  4  3  6  5  5  8  9 18 11  3  3  8  5  3  5  7  7  4  3  5  3\n",
            "  4  3  3  8  3  8  3  7  8 19]\n",
            "start : 0.28\n",
            ",end : 2.77\n",
            "\n"
          ]
        },
        {
          "output_type": "stream",
          "name": "stderr",
          "text": [
            "<ipython-input-25-396638cc7985>:75: WavFileWarning: Chunk (non-data) not understood, skipping it.\n",
            "  _, wav = read(wav_path)\n"
          ]
        },
        {
          "output_type": "stream",
          "name": "stdout",
          "text": [
            "phone : ['ᄋ', 'ᅵ', 'ᄀ', 'ᅥ', 'ᄃ', 'ᅡ', 'ᄅ', 'ᅳ', 'ᆫ', 'ᄀ', 'ᅥ', 'ᆯ', 'ᄅ', 'ᅩ', 'ᄇ', 'ᅡ', 'ᄁ', 'ᅮ', 'ᆯ', 'ᄉ', 'ᅮ', 'ᄋ', 'ᅵ', 'ᄊ', 'ᅳ', 'ᆯ', 'ᄁ', 'ᅡ', 'ᄋ', 'ᅭ']\n",
            "duration: [20  9  6  9  7  9  2  3  6  4  5  5  3  5  6  8  5  4  3  8  3  4  3  8\n",
            "  4  8  7 15 15  4]\n",
            "start : 0.0\n",
            ",end : 2.3\n",
            "\n"
          ]
        },
        {
          "output_type": "stream",
          "name": "stderr",
          "text": [
            "<ipython-input-25-396638cc7985>:75: WavFileWarning: Chunk (non-data) not understood, skipping it.\n",
            "  _, wav = read(wav_path)\n"
          ]
        },
        {
          "output_type": "stream",
          "name": "stdout",
          "text": [
            "phone : ['ᄉ', 'ᅢ', 'ᆨ', 'ᄁ', 'ᅡ', 'ᄅ', 'ᅳ', 'ᆯ', 'ᄇ', 'ᅡ', 'ᄁ', 'ᅮ', 'ᄂ', 'ᅳ', 'ᆫ', 'ᄀ', 'ᅦ', 'ᄂ', 'ᅡ', 'ᄋ', 'ᅳ', 'ᆯ', 'ᄀ', 'ᅥ', 'ᄀ', 'ᅡ', 'ᄐ', 'ᅡ']\n",
            "duration: [ 9  5  5  5  6  3  3  3  6 10  7  5  5  2  4  3  7  7  7  4  3  2  6  6\n",
            "  9  7 17 17]\n",
            "start : 0.23\n",
            ",end : 2.24\n",
            "\n"
          ]
        },
        {
          "output_type": "stream",
          "name": "stderr",
          "text": [
            "<ipython-input-25-396638cc7985>:75: WavFileWarning: Chunk (non-data) not understood, skipping it.\n",
            "  _, wav = read(wav_path)\n"
          ]
        },
        {
          "output_type": "stream",
          "name": "stdout",
          "text": [
            "phone : ['ᄉ', 'ᅩ', 'ᄋ', 'ᅧ', 'ᆼ', 'ᄋ', 'ᅵ', 'ᄌ', 'ᅩ', 'ᆷ', 'ᄇ', 'ᅡ', 'ᄁ', 'ᅯ', 'ᄌ', 'ᅮ', 'ᄉ', 'ᅦ', 'ᄋ', 'ᅭ']\n",
            "duration: [ 9  5  5  5  3  4  4  5  4  4  4  8  9  5  5  4  7 16 18  6]\n",
            "start : 0.22\n",
            ",end : 1.72\n",
            "\n"
          ]
        },
        {
          "output_type": "stream",
          "name": "stderr",
          "text": [
            "<ipython-input-25-396638cc7985>:75: WavFileWarning: Chunk (non-data) not understood, skipping it.\n",
            "  _, wav = read(wav_path)\n"
          ]
        },
        {
          "output_type": "stream",
          "name": "stdout",
          "text": [
            "phone : ['ᄂ', 'ᅮ', 'ᄂ', 'ᅵ', 'ᄋ', 'ᅥ', 'ᄅ', 'ᅳ', 'ᄆ', 'ᅳ', 'ᄅ', 'ᅩ', 'ᄇ', 'ᅡ', 'ᄁ', 'ᅱ', 'ᄋ', 'ᅥ', 'ᄊ', 'ᅥ']\n",
            "duration: [12  9  5 11  7  8  4  6  6  3  3  6  7  7 11  4  3  5 16 29]\n",
            "start : 0.08\n",
            ",end : 1.96\n",
            "\n"
          ]
        },
        {
          "output_type": "stream",
          "name": "stderr",
          "text": [
            "<ipython-input-25-396638cc7985>:75: WavFileWarning: Chunk (non-data) not understood, skipping it.\n",
            "  _, wav = read(wav_path)\n"
          ]
        },
        {
          "output_type": "stream",
          "name": "stdout",
          "text": [
            "phone : ['ᄒ', 'ᅢ', 'ᆫ', 'ᄃ', 'ᅳ', 'ᄑ', 'ᅩ', 'ᄂ', 'ᅵ', 'ᄂ', 'ᅦ', 'ᄀ', 'ᅥ', 'ᄅ', 'ᅡ', 'ᆼ', 'ᄇ', 'ᅡ', 'ᄁ', 'ᅱ', 'ᆫ', 'ᄀ', 'ᅥ', 'ᄀ', 'ᅡ', 'ᄐ', 'ᅡ']\n",
            "duration: [18  3  4  4  5  7  9  7  8  5  6 10  8  6  4  6  7  8  9  4  4  5  4  6\n",
            "  6 18 25]\n",
            "start : 0.12\n",
            ",end : 2.51\n",
            "\n"
          ]
        },
        {
          "output_type": "stream",
          "name": "stderr",
          "text": [
            "<ipython-input-25-396638cc7985>:75: WavFileWarning: Chunk (non-data) not understood, skipping it.\n",
            "  _, wav = read(wav_path)\n"
          ]
        },
        {
          "output_type": "stream",
          "name": "stdout",
          "text": [
            "phone : ['ᄀ', 'ᅳ', 'ᄎ', 'ᅡ', 'ᄂ', 'ᅳ', 'ᆫ', 'ᄃ', 'ᅳ', 'ᆯ', 'ᄑ', 'ᅡ', 'ᄂ', 'ᅦ', 'ᄇ', 'ᅥ', 'ᄅ', 'ᅧ', 'ᄌ', 'ᅵ', 'ᆫ', 'sp', 'ᄎ', 'ᅢ', 'sp', 'ᄇ', 'ᅡ', 'ᆯ', 'ᄀ', 'ᅧ', 'ᆫ', 'ᄃ', 'ᅫ', 'ᆮ', 'ᄄ', 'ᅡ']\n",
            "duration: [22 13 12  5  5  8  9  6  6  4  9  6  6  7  6  5  7  6  7  5  7  2 11 12\n",
            "  3  6  9  4  4  7  7  4  7 15  8 14]\n",
            "start : 0.0\n",
            ",end : 3.19\n",
            "\n"
          ]
        },
        {
          "output_type": "stream",
          "name": "stderr",
          "text": [
            "<ipython-input-25-396638cc7985>:75: WavFileWarning: Chunk (non-data) not understood, skipping it.\n",
            "  _, wav = read(wav_path)\n"
          ]
        },
        {
          "output_type": "stream",
          "name": "stdout",
          "text": [
            "phone : ['ᄋ', 'ᅵ', 'ᄇ', 'ᅥ', 'ᆫ', 'ᄃ', 'ᅡ', 'ᆯ', 'ᄎ', 'ᅩ', 'ᄋ', 'ᅦ', 'ᄉ', 'ᅡ', 'ᆼ', 'ᄋ', 'ᅥ', 'ᄄ', 'ᅦ', 'ᄀ', 'ᅡ', 'sp', 'ᄒ', 'ᅢ', 'ᄋ', 'ᅡ', 'ᆫ', 'ᄀ', 'ᅡ', 'ᄋ', 'ᅦ', 'ᄉ', 'ᅥ', 'ᄇ', 'ᅡ', 'ᆯ', 'ᄀ', 'ᅧ', 'ᆫ', 'ᄃ', 'ᅫ', 'ᆮ', 'ᄄ', 'ᅡ']\n",
            "duration: [11  7  5  8  5  5  4  8 10  5 10  4  9  5  3  6  5 11  7  7 16 17 12  4\n",
            "  4  3  8  7  3  6  4  8  6  8  6  4  4  6  6  5  7 13 10 13]\n",
            "start : 0.32\n",
            ",end : 3.98\n",
            "\n"
          ]
        },
        {
          "output_type": "stream",
          "name": "stderr",
          "text": [
            "<ipython-input-25-396638cc7985>:75: WavFileWarning: Chunk (non-data) not understood, skipping it.\n",
            "  _, wav = read(wav_path)\n"
          ]
        },
        {
          "output_type": "stream",
          "name": "stdout",
          "text": [
            "phone : ['ᄋ', 'ᅩ', 'ᄐ', 'ᅡ', 'ᄅ', 'ᅳ', 'ᆯ', 'ᄇ', 'ᅡ', 'ᆯ', 'ᄀ', 'ᅧ', 'ᆫ', 'ᄒ', 'ᅡ', 'ᄉ', 'ᅵ', 'ᄂ', 'ᅳ', 'ᆫ', 'ᄇ', 'ᅮ', 'ᆫ', 'ᄁ', 'ᅦ', 'sp', 'ᄉ', 'ᅡ', 'ᄅ', 'ᅨ', 'ᄒ', 'ᅡ', 'ᄀ', 'ᅦ', 'ᆮ', 'ᄊ', 'ᅳ', 'ᆷ', 'ᄂ', 'ᅵ', 'ᄃ', 'ᅡ']\n",
            "duration: [16 11  8  9  3  6  4  6  7  4  4  6  4  3  5  7  5  5  3  5  4  6  8 11\n",
            " 14  2 12  6  4  3  4  3  5  7  3  8  2  6  5  4  8 16]\n",
            "start : 0.1\n",
            ",end : 3.14\n",
            "\n"
          ]
        },
        {
          "output_type": "stream",
          "name": "stderr",
          "text": [
            "<ipython-input-25-396638cc7985>:75: WavFileWarning: Chunk (non-data) not understood, skipping it.\n",
            "  _, wav = read(wav_path)\n"
          ]
        },
        {
          "output_type": "stream",
          "name": "stdout",
          "text": [
            "phone : ['ᄀ', 'ᅧ', 'ᆯ', 'ᄀ', 'ᅮ', 'ᆨ', 'ᄀ', 'ᅳ', 'ᄋ', 'ᅴ', 'ᄀ', 'ᅢ', 'ᄀ', 'ᅡ', 'sp', 'ᄀ', 'ᅳ', 'ᄋ', 'ᅴ', 'ᄉ', 'ᅵ', 'ᄉ', 'ᅵ', 'ᄂ', 'ᅳ', 'ᆯ', 'ᄇ', 'ᅡ', 'ᆯ', 'ᄀ', 'ᅧ', 'ᆫ', 'ᄒ', 'ᅢ', 'ᆮ', 'ᄄ', 'ᅡ']\n",
            "duration: [12  7  7  5  6  4  8  5 12  3  9  8  7 20 13 16  4  9  4 10  7  8  5  5\n",
            "  7  4  8  6  5  4  7  3  3  5 15  9 16]\n",
            "start : 0.14\n",
            ",end : 3.46\n",
            "\n"
          ]
        },
        {
          "output_type": "stream",
          "name": "stderr",
          "text": [
            "<ipython-input-25-396638cc7985>:75: WavFileWarning: Chunk (non-data) not understood, skipping it.\n",
            "  _, wav = read(wav_path)\n"
          ]
        },
        {
          "output_type": "stream",
          "name": "stdout",
          "text": [
            "phone : ['ᄌ', 'ᅥ', 'ᆼ', 'ᄉ', 'ᅵ', 'ᆫ', 'ᄇ', 'ᅮ', 'ᆫ', 'ᄉ', 'ᅥ', 'ᄏ', 'ᅡ', 'ᄀ', 'ᅳ', 'ᆫ', 'sp', 'ᄋ', 'ᅵ', 'ᄉ', 'ᅵ', 'ᆸ', 'ᄉ', 'ᅦ', 'ᄀ', 'ᅵ', 'ᄋ', 'ᅦ', 'ᄀ', 'ᅳ', 'ᆸ', 'ᄁ', 'ᅧ', 'ᄏ', 'ᅵ', 'ᄇ', 'ᅡ', 'ᆯ', 'ᄌ', 'ᅥ', 'ᆫ', 'ᄒ', 'ᅢ', 'ᆮ', 'ᄄ', 'ᅡ']\n",
            "duration: [14  6  4  6  7  3  6  4  6  6  8 10  8  6 11  9 13 16  6  6  4  5  9  9\n",
            "  8  4  6  7 10  4 11  5  8 13  6  7  7  4  8  4  4  3  4 14 11 12]\n",
            "start : 0.19\n",
            ",end : 4.16\n",
            "\n"
          ]
        },
        {
          "output_type": "stream",
          "name": "stderr",
          "text": [
            "<ipython-input-25-396638cc7985>:75: WavFileWarning: Chunk (non-data) not understood, skipping it.\n",
            "  _, wav = read(wav_path)\n"
          ]
        },
        {
          "output_type": "stream",
          "name": "stdout",
          "text": [
            "phone : ['ᄒ', 'ᅡ', 'ᆫ', 'ᄀ', 'ᅮ', 'ᄀ', 'ᅥ', 'ᄉ', 'ᅵ', 'ᆯ', 'ᄅ', 'ᅧ', 'ᄀ', 'ᅵ', 'ᄂ', 'ᅡ', 'ᄅ', 'ᅵ', 'ᄀ', 'ᅡ', 'ᆯ', 'ᄊ', 'ᅮ', 'ᄅ', 'ᅩ', 'ᆨ', 'ᄇ', 'ᅡ', 'ᆯ', 'ᄌ', 'ᅥ', 'ᆫ', 'ᄒ', 'ᅡ', 'ᄂ', 'ᅳ', 'ᆫ', 'ᄀ', 'ᅥ', 'ᄉ', 'ᅳ', 'ᆯ', 'ᄇ', 'ᅩ', 'ᄂ', 'ᅵ', 'sp', 'ᄀ', 'ᅵ', 'ᄈ', 'ᅳ', 'ᆷ', 'ᄂ', 'ᅵ', 'ᄃ', 'ᅡ']\n",
            "duration: [27  4  7  4  4  5  6  8  6  3  4  7  8 12  7  8  4  5  5  6  4 10  3  5\n",
            "  7  3  7  5  4  6  4  2  4  4  4  4  3  4  5  6  4  4  6  8  8 22 14 18\n",
            " 10  7  6  9  3  7 12 19]\n",
            "start : 0.0\n",
            ",end : 4.54\n",
            "\n"
          ]
        },
        {
          "output_type": "stream",
          "name": "stderr",
          "text": [
            "<ipython-input-25-396638cc7985>:75: WavFileWarning: Chunk (non-data) not understood, skipping it.\n",
            "  _, wav = read(wav_path)\n"
          ]
        },
        {
          "output_type": "stream",
          "name": "stdout",
          "text": [
            "phone : ['ᄌ', 'ᅬ', 'ᄉ', 'ᅩ', 'ᆼ', 'ᄒ', 'ᅡ', 'ᄌ', 'ᅵ', 'ᄆ', 'ᅡ', 'ᆫ', 'sp', 'ᄌ', 'ᅦ', 'ᄋ', 'ᅵ', 'ᄅ', 'ᅳ', 'ᄆ', 'ᅳ', 'ᆯ', 'ᄇ', 'ᅡ', 'ᆯ', 'ᄏ', 'ᅵ', 'ᆯ', 'ᄉ', 'ᅮ', 'ᄂ', 'ᅳ', 'ᆫ', 'ᄋ', 'ᅥ', 'ᆸ', 'ᄊ', 'ᅥ', 'ᄋ', 'ᅭ']\n",
            "duration: [12  7  8  5  4  5  4  9  4  7 12 13 18 15  4  9  5  3  5  6  3  5  6  6\n",
            "  6  6  3  3  7  5  6  2  3  7  3  4 12 18 19  5]\n",
            "start : 0.07\n",
            ",end : 3.37\n",
            "\n"
          ]
        },
        {
          "output_type": "stream",
          "name": "stderr",
          "text": [
            "<ipython-input-25-396638cc7985>:75: WavFileWarning: Chunk (non-data) not understood, skipping it.\n",
            "  _, wav = read(wav_path)\n"
          ]
        },
        {
          "output_type": "stream",
          "name": "stdout",
          "text": [
            "phone : ['ᄌ', 'ᅥ', 'ᆼ', 'ᄌ', 'ᅥ', 'ᄂ', 'ᅵ', 'ᄃ', 'ᅬ', 'ᄋ', 'ᅥ', 'sp', 'ᄎ', 'ᅩ', 'ᆮ', 'ᄈ', 'ᅮ', 'ᄅ', 'ᅳ', 'ᆯ', 'ᄇ', 'ᅡ', 'ᆯ', 'ᄏ', 'ᅧ', 'ᆮ', 'ᄄ', 'ᅡ']\n",
            "duration: [13  7  8  6  7  6  6  4 11  6 17 15 12  6  4  8  6  3  6  4  6  6  5  8\n",
            "  6 13 12 13]\n",
            "start : 0.14\n",
            ",end : 2.74\n",
            "\n"
          ]
        },
        {
          "output_type": "stream",
          "name": "stderr",
          "text": [
            "<ipython-input-25-396638cc7985>:75: WavFileWarning: Chunk (non-data) not understood, skipping it.\n",
            "  _, wav = read(wav_path)\n"
          ]
        },
        {
          "output_type": "stream",
          "name": "stdout",
          "text": [
            "phone : ['ᄆ', 'ᅩ', 'ᄃ', 'ᅮ', 'ᄀ', 'ᅡ', 'ᄉ', 'ᅵ', 'ᄒ', 'ᅥ', 'ᄆ', 'ᅦ', 'ᄐ', 'ᅩ', 'ᆼ', 'ᄀ', 'ᅪ', 'ᄒ', 'ᅢ', 'ᄊ', 'ᅳ', 'ᄆ', 'ᅳ', 'ᆯ', 'sp', 'ᄇ', 'ᅡ', 'ᆯ', 'ᄑ', 'ᅭ', 'ᄒ', 'ᅡ', 'ᄀ', 'ᅦ', 'ᄃ', 'ᅬ', 'ᄋ', 'ᅥ', 'sp', 'ᄀ', 'ᅵ', 'ᄈ', 'ᅳ', 'ᄀ', 'ᅦ', 'ᄉ', 'ᅢ', 'ᆼ', 'ᄀ', 'ᅡ', 'ᄏ', 'ᅡ', 'ᆷ', 'ᄂ', 'ᅵ', 'ᄃ', 'ᅡ']\n",
            "duration: [12  8  5  4  6  8  8  4  4  5  7  9  7  5  5  5  4  4  5 11  6  6  5  8\n",
            "  3  7  6  5  6  3  5  5  6  6  7  8  6 14 15 12  6 10  5  5 10  8  2  6\n",
            "  4  6  8  4  4  8  3 11 14]\n",
            "start : 0.14\n",
            ",end : 4.55\n",
            "\n"
          ]
        },
        {
          "output_type": "stream",
          "name": "stderr",
          "text": [
            "<ipython-input-25-396638cc7985>:75: WavFileWarning: Chunk (non-data) not understood, skipping it.\n",
            "  _, wav = read(wav_path)\n"
          ]
        },
        {
          "output_type": "stream",
          "name": "stdout",
          "text": [
            "phone : ['ᄀ', 'ᅳ', 'ᄇ', 'ᅢ', 'ᆫ', 'ᄃ', 'ᅳ', 'ᄂ', 'ᅳ', 'ᆫ', 'sp', 'ᄎ', 'ᅥ', 'ᆮ', 'ᄋ', 'ᅳ', 'ᆷ', 'ᄇ', 'ᅡ', 'ᄂ', 'ᅳ', 'ᆯ', 'ᄇ', 'ᅡ', 'ᆯ', 'ᄑ', 'ᅭ', 'ᄒ', 'ᅡ', 'ᆫ', 'ᄌ', 'ᅵ', 'ᄏ', 'ᅮ', 'ᄋ', 'ᅦ', 'sp', 'ᄒ', 'ᅢ', 'ᄎ', 'ᅦ', 'ᄒ', 'ᅢ', 'ᆮ', 'ᄄ', 'ᅡ']\n",
            "duration: [23 10  9  8  5  4  6  5 10 15 13 16  8  5  3  4  9  4  8  6  4  4  7  7\n",
            "  5  8  3  4  4  6  6  6 13  4  2 19 10  9  4 15  4  2  6 15  9 13]\n",
            "start : 0.0\n",
            ",end : 4.18\n",
            "\n"
          ]
        },
        {
          "output_type": "stream",
          "name": "stderr",
          "text": [
            "<ipython-input-25-396638cc7985>:75: WavFileWarning: Chunk (non-data) not understood, skipping it.\n",
            "  _, wav = read(wav_path)\n"
          ]
        },
        {
          "output_type": "stream",
          "name": "stdout",
          "text": [
            "phone : ['ᄒ', 'ᅪ', 'ᄌ', 'ᅢ', 'ᄀ', 'ᅡ', 'ᄇ', 'ᅡ', 'ᆯ', 'ᄉ', 'ᅢ', 'ᆼ', 'ᄒ', 'ᅡ', 'ᄌ', 'ᅵ', 'ᄋ', 'ᅡ', 'ᆫ', 'ᄐ', 'ᅩ', 'ᄅ', 'ᅩ', 'ᆨ', 'sp', 'ᄌ', 'ᅩ', 'ᄉ', 'ᅵ', 'ᆷ', 'ᄒ', 'ᅢ', 'ᄅ', 'ᅡ']\n",
            "duration: [14  6  6  6  5  6  6  6  5  8  5  3  5  5  7  3  4  5  6  6  6  5  9  5\n",
            "  5  9  7 10  3  6  4  6  9 16]\n",
            "start : 0.0\n",
            ",end : 2.52\n",
            "\n"
          ]
        },
        {
          "output_type": "stream",
          "name": "stderr",
          "text": [
            "<ipython-input-25-396638cc7985>:75: WavFileWarning: Chunk (non-data) not understood, skipping it.\n",
            "  _, wav = read(wav_path)\n"
          ]
        },
        {
          "output_type": "stream",
          "name": "stdout",
          "text": [
            "phone : ['ᄋ', 'ᅥ', 'ᄌ', 'ᅦ', 'ᄋ', 'ᅵ', 'ᆯ', 'ᄇ', 'ᅩ', 'ᄂ', 'ᅦ', 'ᄉ', 'ᅥ', 'sp', 'ᄐ', 'ᅢ', 'ᄑ', 'ᅮ', 'ᆼ', 'ᄋ', 'ᅵ', 'ᄇ', 'ᅡ', 'ᆯ', 'ᄉ', 'ᅢ', 'ᆼ', 'ᄒ', 'ᅢ', 'ᆮ', 'ᄄ', 'ᅡ']\n",
            "duration: [24 10  9  4  6  6  4  6  7  4  8 11 15 20  9  4 11  4  3  2  8  5  6  5\n",
            "  8  6  3  4  3 14  8 14]\n",
            "start : 0.08\n",
            ",end : 2.99\n",
            "\n"
          ]
        },
        {
          "output_type": "stream",
          "name": "stderr",
          "text": [
            "<ipython-input-25-396638cc7985>:75: WavFileWarning: Chunk (non-data) not understood, skipping it.\n",
            "  _, wav = read(wav_path)\n"
          ]
        },
        {
          "output_type": "stream",
          "name": "stdout",
          "text": [
            "phone : ['ᄃ', 'ᅩ', 'ᆯ', 'ᄀ', 'ᅩ', 'ᄅ', 'ᅢ', 'ᄂ', 'ᅳ', 'ᆫ', 'sp', 'ᄌ', 'ᅵ', 'ᄂ', 'ᅳ', 'ᆼ', 'ᄋ', 'ᅵ', 'ᄇ', 'ᅡ', 'ᆯ', 'ᄃ', 'ᅡ', 'ᆯ', 'ᄒ', 'ᅢ', 'ᆮ', 'ᄄ', 'ᅡ']\n",
            "duration: [12  9  4  3  8  4  8  3  7 17 10 16  7  5  5  3  4  6  6  7  6  8  4  4\n",
            "  3  6 13  7 16]\n",
            "start : 0.06\n",
            ",end : 2.51\n",
            "\n"
          ]
        },
        {
          "output_type": "stream",
          "name": "stderr",
          "text": [
            "<ipython-input-25-396638cc7985>:75: WavFileWarning: Chunk (non-data) not understood, skipping it.\n",
            "  _, wav = read(wav_path)\n"
          ]
        },
        {
          "output_type": "stream",
          "name": "stdout",
          "text": [
            "phone : ['ᄋ', 'ᅵ', 'ᄌ', 'ᅵ', 'ᄋ', 'ᅧ', 'ᄀ', 'ᅦ', 'ᄂ', 'ᅳ', 'ᆫ', 'sp', 'ᄂ', 'ᅩ', 'ᆼ', 'ᄋ', 'ᅥ', 'ᄇ', 'ᅵ', 'ᄇ', 'ᅡ', 'ᆯ', 'ᄃ', 'ᅡ', 'ᆯ', 'ᄒ', 'ᅢ', 'ᄊ', 'ᅥ', 'ᄋ', 'ᅭ']\n",
            "duration: [20 14 11  5  3  9  5  9  4 11 11 16 12  6  2  6  5  6  6  5  7  6  7  3\n",
            "  3  3  4 12 16 15  6]\n",
            "start : 0.0\n",
            ",end : 2.88\n",
            "\n"
          ]
        },
        {
          "output_type": "stream",
          "name": "stderr",
          "text": [
            "<ipython-input-25-396638cc7985>:75: WavFileWarning: Chunk (non-data) not understood, skipping it.\n",
            "  _, wav = read(wav_path)\n"
          ]
        },
        {
          "output_type": "stream",
          "name": "stdout",
          "text": [
            "phone : ['ᄀ', 'ᅳ', 'ᄂ', 'ᅧ', 'ᄂ', 'ᅳ', 'ᆫ', 'sp', 'ᄂ', 'ᅢ', 'ᄌ', 'ᅦ', 'ᄋ', 'ᅡ', 'ᄂ', 'ᅦ', 'ᄇ', 'ᅡ', 'ᆫ', 'ᄃ', 'ᅢ', 'ᄒ', 'ᅢ', 'ᆮ', 'ᄄ', 'ᅡ']\n",
            "duration: [24  4  6 10  5  9 16 19 12 13  9  6  3  6  7  8 10  7  9  4  3  6  4 17\n",
            " 11 13]\n",
            "start : 0.0\n",
            ",end : 2.8\n",
            "\n"
          ]
        },
        {
          "output_type": "stream",
          "name": "stderr",
          "text": [
            "<ipython-input-25-396638cc7985>:75: WavFileWarning: Chunk (non-data) not understood, skipping it.\n",
            "  _, wav = read(wav_path)\n"
          ]
        },
        {
          "output_type": "stream",
          "name": "stdout",
          "text": [
            "phone : ['ᄌ', 'ᅥ', 'ᄂ', 'ᅳ', 'ᆫ', 'ᄆ', 'ᅮ', 'ᄅ', 'ᅧ', 'ᆨ', 'ᄉ', 'ᅡ', 'ᄋ', 'ᅭ', 'ᆼ', 'ᄋ', 'ᅳ', 'ᆯ', 'ᄇ', 'ᅡ', 'ᆫ', 'ᄃ', 'ᅢ', 'ᄒ', 'ᅡ', 'ᆷ', 'ᄂ', 'ᅵ', 'ᄃ', 'ᅡ']\n",
            "duration: [13  7  6  6  8  4  6  4  7  5  7  2 10  2  4  3  9  3  8  8  8  3  3  7\n",
            "  3  7  4  5  9 16]\n",
            "start : 0.29\n",
            ",end : 2.45\n",
            "\n"
          ]
        },
        {
          "output_type": "stream",
          "name": "stderr",
          "text": [
            "<ipython-input-25-396638cc7985>:75: WavFileWarning: Chunk (non-data) not understood, skipping it.\n",
            "  _, wav = read(wav_path)\n"
          ]
        },
        {
          "output_type": "stream",
          "name": "stdout",
          "text": [
            "phone : ['ᄇ', 'ᅡ', 'ᆷ', 'ᄂ', 'ᅳ', 'ᆮ', 'ᄁ', 'ᅦ', 'ᄂ', 'ᅡ', 'ᄆ', 'ᅴ', 'ᄌ', 'ᅵ', 'ᄇ', 'ᅳ', 'ᆯ', 'ᄇ', 'ᅡ', 'ᆼ', 'ᄆ', 'ᅮ', 'ᆫ', 'ᄒ', 'ᅡ', 'ᄂ', 'ᅳ', 'ᆫ', 'ᄀ', 'ᅥ', 'ᄉ', 'ᅳ', 'ᆫ', 'sp', 'ᄉ', 'ᅵ', 'ᆯ', 'ᄅ', 'ᅨ', 'ᄃ', 'ᅡ']\n",
            "duration: [17  8  6  3  6  5  4 10  6  8  6  8  6  6  5  8  4  6  8  7  4  2  3  4\n",
            "  5  4  3  6  6  8 11  7 13  5 14  6  5  3 11 13 15]\n",
            "start : 0.08\n",
            ",end : 3.39\n",
            "\n"
          ]
        },
        {
          "output_type": "stream",
          "name": "stderr",
          "text": [
            "<ipython-input-25-396638cc7985>:75: WavFileWarning: Chunk (non-data) not understood, skipping it.\n",
            "  _, wav = read(wav_path)\n"
          ]
        },
        {
          "output_type": "stream",
          "name": "stdout",
          "text": [
            "phone : ['ᄌ', 'ᅥ', 'ᄒ', 'ᅵ', 'ᄒ', 'ᅬ', 'ᄉ', 'ᅡ', 'ᄋ', 'ᅦ', 'ᄇ', 'ᅡ', 'ᆼ', 'ᄆ', 'ᅮ', 'ᆫ', 'ᄒ', 'ᅢ', 'ᄌ', 'ᅮ', 'ᄉ', 'ᅧ', 'ᄉ', 'ᅥ', 'ᄀ', 'ᅡ', 'ᆷ', 'ᄉ', 'ᅡ', 'ᄃ', 'ᅳ', 'ᄅ', 'ᅵ', 'ᆷ', 'ᄂ', 'ᅵ', 'ᄃ', 'ᅡ']\n",
            "duration: [15  8  5  3  6  8  7  4  8  4  8  7  8  3  3  3  3  5  3  4  7  7 11 10\n",
            "  9  7  5  5  6  4  4  3  5  6  5  6  7 18]\n",
            "start : 0.53\n",
            ",end : 3.32\n",
            "\n"
          ]
        },
        {
          "output_type": "stream",
          "name": "stderr",
          "text": [
            "<ipython-input-25-396638cc7985>:75: WavFileWarning: Chunk (non-data) not understood, skipping it.\n",
            "  _, wav = read(wav_path)\n"
          ]
        },
        {
          "output_type": "stream",
          "name": "stdout",
          "text": [
            "phone : ['ᄂ', 'ᅥ', 'ᄂ', 'ᅳ', 'ᆫ', 'ᄇ', 'ᅳ', 'ᄅ', 'ᅦ', 'ᄋ', 'ᅵ', 'ᄏ', 'ᅳ', 'ᄅ', 'ᅳ', 'ᆯ', 'sp', 'ᄂ', 'ᅥ', 'ᄆ', 'ᅮ', 'ᄉ', 'ᅦ', 'ᄀ', 'ᅦ', 'ᄇ', 'ᅡ', 'ᆯ', 'ᄇ', 'ᅡ']\n",
            "duration: [ 7  7  5  4  9  7  3  4  3  4  5 12  8  4  3 19 11 11  6  8  4 10 10  5\n",
            "  7  6  9  4  7 17]\n",
            "start : 0.34\n",
            ",end : 2.89\n",
            "\n"
          ]
        },
        {
          "output_type": "stream",
          "name": "stderr",
          "text": [
            "<ipython-input-25-396638cc7985>:75: WavFileWarning: Chunk (non-data) not understood, skipping it.\n",
            "  _, wav = read(wav_path)\n"
          ]
        },
        {
          "output_type": "stream",
          "name": "stdout",
          "text": [
            "phone : ['ᄋ', 'ᅥ', 'ᄄ', 'ᅥ', 'ᆫ', 'ᄂ', 'ᅡ', 'ᆷ', 'ᄌ', 'ᅡ', 'ᄀ', 'ᅡ', 'ᄌ', 'ᅵ', 'ᄒ', 'ᅡ', 'ᄎ', 'ᅥ', 'ᄅ', 'ᅦ', 'ᄉ', 'ᅥ', 'sp', 'ᄂ', 'ᅢ', 'ᄇ', 'ᅡ', 'ᄅ', 'ᅳ', 'ᆯ', 'ᄇ', 'ᅡ', 'ᆸ', 'ᄁ', 'ᅩ', 'sp', 'ᄆ', 'ᅩ', 'ᄅ', 'ᅳ', 'ᆫ', 'ᄎ', 'ᅥ', 'ᄏ', 'ᅢ', 'ᆮ', 'ᄄ', 'ᅡ']\n",
            "duration: [30  7 10  7  4  5  7  8  5  7  7 10 13  4  4  4 11  3  5  7  9 16 19 12\n",
            "  9  6 13  3  5  5  6  8 11  5 13  2  4  8  4  3  4  8  5  9  5 13  9 13]\n",
            "start : 0.0\n",
            ",end : 4.47\n",
            "\n"
          ]
        },
        {
          "output_type": "stream",
          "name": "stderr",
          "text": [
            "<ipython-input-25-396638cc7985>:75: WavFileWarning: Chunk (non-data) not understood, skipping it.\n",
            "  _, wav = read(wav_path)\n"
          ]
        },
        {
          "output_type": "stream",
          "name": "stdout",
          "text": [
            "phone : ['ᄀ', 'ᅳ', 'ᄂ', 'ᅧ', 'ᄂ', 'ᅳ', 'ᆫ', 'ᄒ', 'ᅩ', 'ᄀ', 'ᅵ', 'ᄉ', 'ᅵ', 'ᄆ', 'ᅳ', 'ᄅ', 'ᅩ', 'ᄀ', 'ᅡ', 'ᄃ', 'ᅳ', 'ᆨ', 'ᄎ', 'ᅡ', 'ᆫ', 'ᄂ', 'ᅮ', 'ᄂ', 'ᅳ', 'ᄅ', 'ᅩ', 'sp', 'ᄂ', 'ᅡ', 'ᄅ', 'ᅳ', 'ᆯ', 'ᄇ', 'ᅡ', 'ᄅ', 'ᅡ', 'ᄇ', 'ᅩ', 'ᄋ', 'ᅡ', 'ᆮ', 'ᄄ', 'ᅡ']\n",
            "duration: [12  6  5  8  6  4  6  7  5  5  5  7  6  6  6  4  9  9  7  4  5  6  7  7\n",
            "  5  4  8  5  5  5 15 20 12  9  4  9  4  7  6  7  6  5  4  2  8 16  7 15]\n",
            "start : 0.2\n",
            ",end : 4.15\n",
            "\n"
          ]
        },
        {
          "output_type": "stream",
          "name": "stderr",
          "text": [
            "<ipython-input-25-396638cc7985>:75: WavFileWarning: Chunk (non-data) not understood, skipping it.\n",
            "  _, wav = read(wav_path)\n"
          ]
        },
        {
          "output_type": "stream",
          "name": "stdout",
          "text": [
            "phone : ['ᄋ', 'ᅵ', 'ᄆ', 'ᅮ', 'ᆫ', 'ᄌ', 'ᅦ', 'ᄂ', 'ᅳ', 'ᆫ', 'sp', 'ᄌ', 'ᅦ', 'ᄉ', 'ᅡ', 'ᆷ', 'ᄌ', 'ᅡ', 'ᄋ', 'ᅴ', 'ᄉ', 'ᅵ', 'ᄀ', 'ᅡ', 'ᄀ', 'ᅦ', 'ᄉ', 'ᅥ', 'ᄇ', 'ᅡ', 'ᄅ', 'ᅡ', 'ᄇ', 'ᅩ', 'ᆯ', 'ᄑ', 'ᅵ', 'ᄅ', 'ᅭ', 'ᄀ', 'ᅡ', 'ᄋ', 'ᅵ', 'ᄊ', 'ᅥ']\n",
            "duration: [10 10  6  6  7  6  7  4  9 12 17 15  8  9  6  9  6  3  5  5 10  6  6  6\n",
            "  5  7  9  8 10  5  6  6  5  9  4 10  2  3  8  6  5  3  4 17 23]\n",
            "start : 0.16\n",
            ",end : 4.14\n",
            "\n"
          ]
        },
        {
          "output_type": "stream",
          "name": "stderr",
          "text": [
            "<ipython-input-25-396638cc7985>:75: WavFileWarning: Chunk (non-data) not understood, skipping it.\n",
            "  _, wav = read(wav_path)\n"
          ]
        },
        {
          "output_type": "stream",
          "name": "stdout",
          "text": [
            "phone : ['ᄌ', 'ᅥ', 'ᄒ', 'ᅡ', 'ᆫ', 'ᄐ', 'ᅦ', 'ᄂ', 'ᅥ', 'ᄆ', 'ᅮ', 'ᄆ', 'ᅡ', 'ᄂ', 'ᅳ', 'ᆫ', 'ᄀ', 'ᅥ', 'ᆯ', 'ᄇ', 'ᅡ', 'ᄅ', 'ᅡ', 'ᄌ', 'ᅵ', 'ᄆ', 'ᅡ', 'ᄉ', 'ᅦ', 'ᄋ', 'ᅭ']\n",
            "duration: [10  8  5  4  7  7 10  6  6  8  3  8 11  4  5  5  4  6  4  6  7  5  6  6\n",
            "  3  6 11  9 13 16  6]\n",
            "start : 0.17\n",
            ",end : 2.67\n",
            "\n"
          ]
        },
        {
          "output_type": "stream",
          "name": "stderr",
          "text": [
            "<ipython-input-25-396638cc7985>:75: WavFileWarning: Chunk (non-data) not understood, skipping it.\n",
            "  _, wav = read(wav_path)\n"
          ]
        },
        {
          "output_type": "stream",
          "name": "stdout",
          "text": [
            "phone : ['ᄈ', 'ᅡ', 'ᆯ', 'ᄅ', 'ᅵ', 'ᄂ', 'ᅡ', 'ᄋ', 'ᅳ', 'ᄉ', 'ᅵ', 'ᄀ', 'ᅵ', 'ᆯ', 'ᄇ', 'ᅡ', 'ᄅ', 'ᅡ', 'ᆷ', 'ᄂ', 'ᅵ', 'ᄃ', 'ᅡ']\n",
            "duration: [16  9  5  5  5  6  5  8  4  7  6  5  6  2  6  5  6  5  6  5  6 13 16]\n",
            "start : 0.05\n",
            ",end : 1.88\n",
            "\n"
          ]
        },
        {
          "output_type": "stream",
          "name": "stderr",
          "text": [
            "<ipython-input-25-396638cc7985>:75: WavFileWarning: Chunk (non-data) not understood, skipping it.\n",
            "  _, wav = read(wav_path)\n"
          ]
        },
        {
          "output_type": "stream",
          "name": "stdout",
          "text": [
            "phone : ['ᄋ', 'ᅵ', 'ᆸ', 'ᄊ', 'ᅮ', 'ᄅ', 'ᅦ', 'ᄎ', 'ᅵ', 'ᄆ', 'ᅵ', 'ᄂ', 'ᅡ', 'ᄇ', 'ᅡ', 'ᄅ', 'ᅳ', 'ᄀ', 'ᅩ', 'ᄆ', 'ᅡ', 'ᆯ', 'ᄒ', 'ᅢ']\n",
            "duration: [33  6  5  9  6  4  9 14  5  5  5  5  8  5 10  2  5  5  7  6  7  4  3 21]\n",
            "start : 0.0\n",
            ",end : 2.2\n",
            "\n"
          ]
        },
        {
          "output_type": "stream",
          "name": "stderr",
          "text": [
            "<ipython-input-25-396638cc7985>:75: WavFileWarning: Chunk (non-data) not understood, skipping it.\n",
            "  _, wav = read(wav_path)\n"
          ]
        },
        {
          "output_type": "stream",
          "name": "stdout",
          "text": [
            "phone : ['ᄉ', 'ᅥ', 'ᆫ', 'ᄏ', 'ᅳ', 'ᄅ', 'ᅵ', 'ᄆ', 'ᅳ', 'ᆯ', 'ᄇ', 'ᅡ', 'ᆯ', 'ᄅ', 'ᅡ', 'ᄊ', 'ᅥ', 'ᄋ', 'ᅣ', 'ᄌ', 'ᅵ']\n",
            "duration: [ 9  8  4  7  5  4  5  4  6  5  5  5  4  5  7  8  4  7 10 11 32]\n",
            "start : 0.19\n",
            ",end : 1.99\n",
            "\n"
          ]
        },
        {
          "output_type": "stream",
          "name": "stderr",
          "text": [
            "<ipython-input-25-396638cc7985>:75: WavFileWarning: Chunk (non-data) not understood, skipping it.\n",
            "  _, wav = read(wav_path)\n"
          ]
        },
        {
          "output_type": "stream",
          "name": "stdout",
          "text": [
            "phone : ['ᄂ', 'ᅡ', 'ᄂ', 'ᅳ', 'ᆫ', 'ᄉ', 'ᅢ', 'ᆼ', 'ᄋ', 'ᅵ', 'ᆯ', 'ᄉ', 'ᅥ', 'ᆫ', 'ᄆ', 'ᅮ', 'ᆯ', 'ᄅ', 'ᅩ', 'sp', 'ᄎ', 'ᅢ', 'ᄀ', 'ᅳ', 'ᆯ', 'ᄇ', 'ᅡ', 'ᄃ', 'ᅡ', 'ᆮ', 'ᄄ', 'ᅡ']\n",
            "duration: [12  8  5  2  8  7  6  4  3  4  3  6  6  4  6  3  9  5 16 10 14  5  5  6\n",
            "  5  7  6  5  6 18 11 11]\n",
            "start : 0.14\n",
            ",end : 2.77\n",
            "\n"
          ]
        },
        {
          "output_type": "stream",
          "name": "stderr",
          "text": [
            "<ipython-input-25-396638cc7985>:75: WavFileWarning: Chunk (non-data) not understood, skipping it.\n",
            "  _, wav = read(wav_path)\n"
          ]
        },
        {
          "output_type": "stream",
          "name": "stdout",
          "text": [
            "phone : ['ᄉ', 'ᅵ', 'ᄂ', 'ᅭ', 'ᆼ', 'ᄏ', 'ᅡ', 'ᄃ', 'ᅳ', 'ᄅ', 'ᅳ', 'ᆯ', 'ᄇ', 'ᅡ', 'ᆫ', 'ᄂ', 'ᅡ', 'ᄋ', 'ᅭ']\n",
            "duration: [ 9  8  4  5  5  7  7  5  4  3  5  4  5  6  6  5 12 12  4]\n",
            "start : 0.14\n",
            ",end : 1.49\n",
            "\n"
          ]
        },
        {
          "output_type": "stream",
          "name": "stderr",
          "text": [
            "<ipython-input-25-396638cc7985>:75: WavFileWarning: Chunk (non-data) not understood, skipping it.\n",
            "  _, wav = read(wav_path)\n"
          ]
        },
        {
          "output_type": "stream",
          "name": "stdout",
          "text": [
            "phone : ['ᄉ', 'ᅳ', 'ᄐ', 'ᅳ', 'ᄅ', 'ᅦ', 'ᄉ', 'ᅳ', 'ᄇ', 'ᅡ', 'ᆫ', 'ᄂ', 'ᅳ', 'ᆫ', 'ᄋ', 'ᅵ', 'ᆯ', 'ᄋ', 'ᅵ', 'ᄊ', 'ᅥ']\n",
            "duration: [15  9  5  3  4  4  9  6  5  7  7  3  4  5  3  3  2  3  4 14 18]\n",
            "start : 0.0\n",
            ",end : 1.55\n",
            "\n"
          ]
        },
        {
          "output_type": "stream",
          "name": "stderr",
          "text": [
            "<ipython-input-25-396638cc7985>:75: WavFileWarning: Chunk (non-data) not understood, skipping it.\n",
            "  _, wav = read(wav_path)\n"
          ]
        },
        {
          "output_type": "stream",
          "name": "stdout",
          "text": [
            "phone : ['ᄋ', 'ᅥ', 'ᄄ', 'ᅥ', 'ᄏ', 'ᅦ', 'ᄀ', 'ᅳ', 'ᄅ', 'ᅥ', 'ᄏ', 'ᅦ', 'ᄃ', 'ᅩ', 'ᄂ', 'ᅳ', 'ᆯ', 'ᄇ', 'ᅥ', 'ᄉ', 'ᅧ', 'ᄊ', 'ᅥ', 'ᄋ', 'ᅭ']\n",
            "duration: [33  7  9  8 12 16 10  4  6  5  8  7  5  9  3  5  4  5  5  5  6 11 13 14\n",
            "  5]\n",
            "start : 0.0\n",
            ",end : 2.5\n",
            "\n"
          ]
        },
        {
          "output_type": "stream",
          "name": "stderr",
          "text": [
            "<ipython-input-25-396638cc7985>:75: WavFileWarning: Chunk (non-data) not understood, skipping it.\n",
            "  _, wav = read(wav_path)\n"
          ]
        },
        {
          "output_type": "stream",
          "name": "stdout",
          "text": [
            "phone : ['ᄒ', 'ᅡ', 'ᆫ', 'ᄃ', 'ᅡ', 'ᄅ', 'ᅦ', 'ᄉ', 'ᅡ', 'ᆷ', 'ᄇ', 'ᅢ', 'ᆼ', 'ᄆ', 'ᅡ', 'ᆫ', 'ᄋ', 'ᅯ', 'ᄂ', 'ᅳ', 'ᆯ', 'ᄇ', 'ᅥ', 'ᆷ', 'ᄂ', 'ᅵ', 'ᄃ', 'ᅡ']\n",
            "duration: [18  2  8  4  5  4  8  7  6  6  4  5  6  4  6  3  4  4  4  6  4  6  8 10\n",
            "  3  8  9 18]\n",
            "start : 0.0\n",
            ",end : 2.1\n",
            "\n"
          ]
        },
        {
          "output_type": "stream",
          "name": "stderr",
          "text": [
            "<ipython-input-25-396638cc7985>:75: WavFileWarning: Chunk (non-data) not understood, skipping it.\n",
            "  _, wav = read(wav_path)\n"
          ]
        },
        {
          "output_type": "stream",
          "name": "stdout",
          "text": [
            "phone : ['ᄋ', 'ᅵ', 'ᄇ', 'ᅳ', 'ᆯ', 'ᄇ', 'ᅥ', 'ᆯ', 'ᄅ', 'ᅧ', 'ᄇ', 'ᅩ', 'ᄉ', 'ᅦ', 'ᄋ', 'ᅭ']\n",
            "duration: [10  9  5  7  5  5  7  5  3  7  5  6  8 12 17  4]\n",
            "start : 0.0\n",
            ",end : 1.34\n",
            "\n"
          ]
        },
        {
          "output_type": "stream",
          "name": "stderr",
          "text": [
            "<ipython-input-25-396638cc7985>:75: WavFileWarning: Chunk (non-data) not understood, skipping it.\n",
            "  _, wav = read(wav_path)\n"
          ]
        },
        {
          "output_type": "stream",
          "name": "stdout",
          "text": [
            "phone : ['ᄌ', 'ᅵ', 'ᄒ', 'ᅡ', 'ᄎ', 'ᅥ', 'ᄅ', 'ᅦ', 'ᄉ', 'ᅥ', 'sp', 'ᄃ', 'ᅡ', 'ᄅ', 'ᅵ', 'ᄅ', 'ᅳ', 'ᆯ', 'ᄇ', 'ᅥ', 'ᆯ', 'ᄅ', 'ᅵ', 'ᄀ', 'ᅩ', 'ᄋ', 'ᅡ', 'ᆫ', 'ᄌ', 'ᅵ', 'ᄆ', 'ᅡ', 'ᄅ', 'ᅡ']\n",
            "duration: [16  5  6  5  9  6  5  6 10 19 20 13  9  4  4  5  3  6  7  7  5  6  4  4\n",
            "  5  6  2  5  9  4  8  9 13 16]\n",
            "start : 0.26\n",
            ",end : 3.29\n",
            "\n"
          ]
        },
        {
          "output_type": "stream",
          "name": "stderr",
          "text": [
            "<ipython-input-25-396638cc7985>:75: WavFileWarning: Chunk (non-data) not understood, skipping it.\n",
            "  _, wav = read(wav_path)\n"
          ]
        },
        {
          "output_type": "stream",
          "name": "stdout",
          "text": [
            "phone : ['ᄇ', 'ᅧ', 'ᆨ', 'ᄉ', 'ᅡ', 'ᄋ', 'ᅵ', 'ᄋ', 'ᅦ', 'sp', 'ᄇ', 'ᅥ', 'ᄅ', 'ᅥ', 'ᄌ', 'ᅵ', 'ᆫ', 'ᄐ', 'ᅳ', 'ᄆ', 'ᅵ', 'ᄋ', 'ᅵ', 'ᄊ', 'ᅥ']\n",
            "duration: [14  7  5  9  5  4 12  5 13 14 14  5  6  5  6  4  7  7  5  5  4  7  3 14\n",
            " 19]\n",
            "start : 0.07\n",
            ",end : 2.39\n",
            "\n"
          ]
        },
        {
          "output_type": "stream",
          "name": "stderr",
          "text": [
            "<ipython-input-25-396638cc7985>:75: WavFileWarning: Chunk (non-data) not understood, skipping it.\n",
            "  _, wav = read(wav_path)\n"
          ]
        },
        {
          "output_type": "stream",
          "name": "stdout",
          "text": [
            "phone : ['ᄀ', 'ᅳ', 'ᄇ', 'ᅥ', 'ᄇ', 'ᅡ', 'ᄂ', 'ᅳ', 'ᆯ', 'ᄂ', 'ᅩ', 'ᄏ', 'ᅩ', 'sp', 'ᄆ', 'ᅡ', 'ᆯ', 'ᄃ', 'ᅡ', 'ᄐ', 'ᅮ', 'ᄆ', 'ᅵ', 'ᄇ', 'ᅥ', 'ᄅ', 'ᅥ', 'ᄌ', 'ᅥ', 'ᄊ', 'ᅥ']\n",
            "duration: [15 12  7  6  8  7  5  3  9  4  6 16 15  3  5  9  4  5  8  9  3  6  7  6\n",
            "  5  5  5  6  5 19 19]\n",
            "start : 0.0\n",
            ",end : 2.82\n",
            "\n"
          ]
        },
        {
          "output_type": "stream",
          "name": "stderr",
          "text": [
            "<ipython-input-25-396638cc7985>:75: WavFileWarning: Chunk (non-data) not understood, skipping it.\n",
            "  _, wav = read(wav_path)\n"
          ]
        },
        {
          "output_type": "stream",
          "name": "stdout",
          "text": [
            "phone : ['ᄃ', 'ᅡ', 'ᆷ', 'ᄇ', 'ᅢ', 'ᄁ', 'ᅩ', 'ᆼ', 'ᄎ', 'ᅩ', 'ᄅ', 'ᅳ', 'ᆯ', 'ᄋ', 'ᅧ', 'ᄀ', 'ᅵ', 'ᄋ', 'ᅦ', 'ᄇ', 'ᅥ', 'ᄅ', 'ᅵ', 'ᄌ', 'ᅵ', 'ᄆ', 'ᅡ', 'ᄉ', 'ᅦ', 'ᄋ', 'ᅭ']\n",
            "duration: [ 7  8  5  3  9  7  5  9  6  5  2  5  7  4  9  7  4  7  4  9  6  5  3  6\n",
            "  5  6  9  9 13 14  4]\n",
            "start : 0.03\n",
            ",end : 2.38\n",
            "\n"
          ]
        },
        {
          "output_type": "stream",
          "name": "stderr",
          "text": [
            "<ipython-input-25-396638cc7985>:75: WavFileWarning: Chunk (non-data) not understood, skipping it.\n",
            "  _, wav = read(wav_path)\n"
          ]
        },
        {
          "output_type": "stream",
          "name": "stdout",
          "text": [
            "phone : ['ᄃ', 'ᅩ', 'ᄂ', 'ᅳ', 'ᆯ', 'ᄃ', 'ᅡ', 'ᄊ', 'ᅥ', 'ᄇ', 'ᅥ', 'ᄅ', 'ᅧ', 'ᄊ', 'ᅥ', 'ᄋ', 'ᅭ']\n",
            "duration: [11  7  5  7  3  5 10  7  8  5  7  4  7 13 14 19  4]\n",
            "start : 0.0\n",
            ",end : 1.58\n",
            "\n"
          ]
        },
        {
          "output_type": "stream",
          "name": "stderr",
          "text": [
            "<ipython-input-25-396638cc7985>:75: WavFileWarning: Chunk (non-data) not understood, skipping it.\n",
            "  _, wav = read(wav_path)\n"
          ]
        },
        {
          "output_type": "stream",
          "name": "stdout",
          "text": [
            "phone : ['ᄂ', 'ᅢ', 'ᄂ', 'ᅧ', 'ᆫ', 'ᄋ', 'ᅡ', 'ᄇ', 'ᅥ', 'ᄌ', 'ᅵ', 'ᄒ', 'ᅪ', 'ᆫ', 'ᄀ', 'ᅡ', 'ᆸ', 'ᄄ', 'ᅢ', 'sp', 'ᄌ', 'ᅡ', 'ᆫ', 'ᄎ', 'ᅵ', 'ᄅ', 'ᅳ', 'ᆯ', 'ᄇ', 'ᅥ', 'ᄅ', 'ᅵ', 'ᆯ', 'ᄀ', 'ᅥ', 'ᄋ', 'ᅣ']\n",
            "duration: [15  7  5  6  3  6  7  4  8  7  3  6  5  7  6  6 12  7 14 11 16  7  8  6\n",
            "  5  2  5  3  5  8  4  5  4  9  6  8 20]\n",
            "start : 0.19\n",
            ",end : 3.28\n",
            "\n"
          ]
        },
        {
          "output_type": "stream",
          "name": "stderr",
          "text": [
            "<ipython-input-25-396638cc7985>:75: WavFileWarning: Chunk (non-data) not understood, skipping it.\n",
            "  _, wav = read(wav_path)\n"
          ]
        },
        {
          "output_type": "stream",
          "name": "stdout",
          "text": [
            "phone : ['ᄋ', 'ᅩ', 'ᄂ', 'ᅳ', 'ᆯ', 'ᄋ', 'ᅡ', 'ᄎ', 'ᅵ', 'ᆷ', 'ᄋ', 'ᅡ', 'ᄂ', 'ᅢ', 'ᄅ', 'ᅡ', 'ᆼ', 'ᄆ', 'ᅡ', 'ᆯ', 'ᄃ', 'ᅡ', 'ᄐ', 'ᅮ', 'ᄆ', 'ᅳ', 'ᆯ', 'ᄇ', 'ᅥ', 'ᄅ', 'ᅧ', 'ᄊ', 'ᅥ']\n",
            "duration: [33 11  5  3  3  6  4 13  4  3  8  8  6  4  7  5  7  6  6  5  4  7  8  2\n",
            "  5  6  4  6  4  5  7 19 22]\n",
            "start : 0.0\n",
            ",end : 2.86\n",
            "\n"
          ]
        },
        {
          "output_type": "stream",
          "name": "stderr",
          "text": [
            "<ipython-input-25-396638cc7985>:75: WavFileWarning: Chunk (non-data) not understood, skipping it.\n",
            "  _, wav = read(wav_path)\n"
          ]
        },
        {
          "output_type": "stream",
          "name": "stdout",
          "text": [
            "phone : ['ᄀ', 'ᅡ', 'ᄂ', 'ᅡ', 'ᄂ', 'ᅦ', 'ᄉ', 'ᅥ', 'ᄇ', 'ᅥ', 'ᄉ', 'ᅥ', 'ᄂ', 'ᅡ', 'ᄅ', 'ᅧ', 'ᄆ', 'ᅧ', 'ᆫ', 'sp', 'ᄉ', 'ᅳ', 'ᆸ', 'ᄁ', 'ᅪ', 'ᆫ', 'ᄇ', 'ᅮ', 'ᄐ', 'ᅥ', 'ᄇ', 'ᅡ', 'ᄁ', 'ᅯ', 'ᄅ', 'ᅡ']\n",
            "duration: [19  9  7  7  6  6  7  7  6  6  6  6  6  5  7  8  6 12 12  7 15  3  7  5\n",
            "  5  7  4  6 12  5  7  9 12  8  9 16]\n",
            "start : 0.0\n",
            ",end : 3.31\n",
            "\n"
          ]
        },
        {
          "output_type": "stream",
          "name": "stderr",
          "text": [
            "<ipython-input-25-396638cc7985>:75: WavFileWarning: Chunk (non-data) not understood, skipping it.\n",
            "  _, wav = read(wav_path)\n"
          ]
        },
        {
          "output_type": "stream",
          "name": "stdout",
          "text": [
            "phone : ['ᄇ', 'ᅩ', 'ᆨ', 'ᄍ', 'ᅡ', 'ᄑ', 'ᅡ', 'ᆫ', 'ᄃ', 'ᅩ', 'ᄉ', 'ᅵ', 'ᄌ', 'ᅵ', 'ᄋ', 'ᅧ', 'ᄀ', 'ᅳ', 'ᆯ', 'ᄇ', 'ᅥ', 'ᄉ', 'ᅥ', 'ᄂ', 'ᅡ', 'ᄂ', 'ᅵ', 'sp', 'ᄎ', 'ᅡ', 'ᆷ', 'ᄌ', 'ᅩ', 'ᄏ', 'ᅮ', 'ᄂ', 'ᅭ']\n",
            "duration: [19  5  7  6  7  8  9  6  5  8  6  7  6  3  3  5  5  6  3  6  7  7  7  7\n",
            "  9  7 18 15 15  6  8  7  8 13  3 18 19]\n",
            "start : 0.0\n",
            ",end : 3.54\n",
            "\n"
          ]
        },
        {
          "output_type": "stream",
          "name": "stderr",
          "text": [
            "<ipython-input-25-396638cc7985>:75: WavFileWarning: Chunk (non-data) not understood, skipping it.\n",
            "  _, wav = read(wav_path)\n"
          ]
        },
        {
          "output_type": "stream",
          "name": "stdout",
          "text": [
            "phone : ['ᄋ', 'ᅬ', 'ᄐ', 'ᅮ', 'ᄇ', 'ᅥ', 'ᄉ', 'ᅳ', 'ᄉ', 'ᅵ', 'ᆯ', 'ᄅ', 'ᅢ', 'ᄋ', 'ᅭ']\n",
            "duration: [ 8  8 13  8  8  6  6  4  9  4  7  4 10 14  7]\n",
            "start : 0.15\n",
            ",end : 1.49\n",
            "\n"
          ]
        },
        {
          "output_type": "stream",
          "name": "stderr",
          "text": [
            "<ipython-input-25-396638cc7985>:75: WavFileWarning: Chunk (non-data) not understood, skipping it.\n",
            "  _, wav = read(wav_path)\n"
          ]
        },
        {
          "output_type": "stream",
          "name": "stdout",
          "text": [
            "phone : ['ᄉ', 'ᅵ', 'ᆫ', 'ᄇ', 'ᅡ', 'ᄅ', 'ᅵ', 'ᄂ', 'ᅥ', 'ᄆ', 'ᅮ', 'ᄁ', 'ᅪ', 'ᆨ', 'ᄁ', 'ᅧ', 'ᄉ', 'ᅥ', 'sp', 'ᄇ', 'ᅥ', 'ᄉ', 'ᅳ', 'ᆯ', 'ᄉ', 'ᅮ', 'ᄀ', 'ᅡ', 'ᄋ', 'ᅥ', 'ᆸ', 'ᄊ', 'ᅥ', 'ᄋ', 'ᅭ']\n",
            "duration: [10  6  6  4  6  3  6  5  6  6  7  9  7  8  7  9 11 12  2  9  6  4  4  4\n",
            "  8  6  4  3  6  4  7 10 18 20  3]\n",
            "start : 0.1\n",
            ",end : 2.96\n",
            "\n"
          ]
        },
        {
          "output_type": "stream",
          "name": "stderr",
          "text": [
            "<ipython-input-25-396638cc7985>:75: WavFileWarning: Chunk (non-data) not understood, skipping it.\n",
            "  _, wav = read(wav_path)\n"
          ]
        },
        {
          "output_type": "stream",
          "name": "stdout",
          "text": [
            "phone : ['ᄋ', 'ᅡ', 'ᄎ', 'ᅵ', 'ᆷ', 'ᄒ', 'ᅢ', 'ᆮ', 'ᄈ', 'ᅵ', 'ᄎ', 'ᅵ', 'ᄇ', 'ᅵ', 'ᄎ', 'ᅵ', 'ᄂ', 'ᅳ', 'ᆫ', 'ᄀ', 'ᅥ', 'ᆯ', 'ᄇ', 'ᅩ', 'ᄂ', 'ᅵ', 'sp', 'ᄉ', 'ᅡ', 'ᆼ', 'ᄏ', 'ᅫ', 'ᄒ', 'ᅡ', 'ᄀ', 'ᅮ', 'ᆫ']\n",
            "duration: [12  6 11  5  3  3  6  4  4  7 10  9  6  7  9  3  5  3  4  5  6  3  6 11\n",
            "  7 18 11 14  5  7  9  4  7  4  8  8 16]\n",
            "start : 0.3\n",
            ",end : 3.39\n",
            "\n"
          ]
        },
        {
          "output_type": "stream",
          "name": "stderr",
          "text": [
            "<ipython-input-25-396638cc7985>:75: WavFileWarning: Chunk (non-data) not understood, skipping it.\n",
            "  _, wav = read(wav_path)\n"
          ]
        },
        {
          "output_type": "stream",
          "name": "stdout",
          "text": [
            "phone : ['ᄏ', 'ᅥ', 'ᄐ', 'ᅳ', 'ᆫ', 'ᄂ', 'ᅥ', 'ᄆ', 'ᅥ', 'ᄋ', 'ᅦ', 'sp', 'ᄂ', 'ᅮ', 'ᄀ', 'ᅮ', 'ᆫ', 'ᄀ', 'ᅡ', 'ᄋ', 'ᅴ', 'ᄀ', 'ᅳ', 'ᄅ', 'ᅵ', 'ᆷ', 'ᄌ', 'ᅡ', 'ᄀ', 'ᅡ', 'ᄇ', 'ᅵ', 'ᄎ', 'ᅥ', 'ᆮ', 'ᄄ', 'ᅡ']\n",
            "duration: [15  6  9  6  7  4  8  7  8  3 19 15 12  6  3  7  7  7  3  7  4  9  5  3\n",
            "  5  9  6  6  8  3 10  2 12  6 17  8 15]\n",
            "start : 0.16\n",
            ",end : 3.49\n",
            "\n"
          ]
        },
        {
          "output_type": "stream",
          "name": "stderr",
          "text": [
            "<ipython-input-25-396638cc7985>:75: WavFileWarning: Chunk (non-data) not understood, skipping it.\n",
            "  _, wav = read(wav_path)\n"
          ]
        },
        {
          "output_type": "stream",
          "name": "stdout",
          "text": [
            "phone : ['ᄅ', 'ᅢ', 'ᆷ', 'ᄑ', 'ᅳ', 'ᄀ', 'ᅡ', 'ᄀ', 'ᅳ', 'ᄋ', 'ᅴ', 'ᄌ', 'ᅡ', 'ᆨ', 'ᄑ', 'ᅮ', 'ᄆ', 'ᅳ', 'ᆯ', 'sp', 'ᄇ', 'ᅵ', 'ᄎ', 'ᅮ', 'ᄀ', 'ᅦ', 'ᄇ', 'ᅢ', 'ᄎ', 'ᅵ', 'ᄃ', 'ᅬ', 'ᄋ', 'ᅥ', 'ᄋ', 'ᅵ', 'ᄊ', 'ᅥ', 'ᆮ', 'ᄄ', 'ᅡ']\n",
            "duration: [ 9  9  5  8  6  6 13 11  5  8  4  8  6  6  6  4  6  9  7  2  7  7 11  5\n",
            "  5  7  7  7 10  5  4  5  5  4  4  4  9  7 13  9 12]\n",
            "start : 0.07\n",
            ",end : 3.39\n",
            "\n"
          ]
        },
        {
          "output_type": "stream",
          "name": "stderr",
          "text": [
            "<ipython-input-25-396638cc7985>:75: WavFileWarning: Chunk (non-data) not understood, skipping it.\n",
            "  _, wav = read(wav_path)\n"
          ]
        },
        {
          "output_type": "stream",
          "name": "stdout",
          "text": [
            "phone : ['ᄋ', 'ᅡ', 'ᄎ', 'ᅵ', 'ᆷ', 'ᄆ', 'ᅡ', 'ᄃ', 'ᅡ', 'ᄂ', 'ᅢ', 'ᄋ', 'ᅥ', 'ᆯ', 'ᄀ', 'ᅮ', 'ᄅ', 'ᅳ', 'ᆯ', 'sp', 'ᄀ', 'ᅥ', 'ᄋ', 'ᅮ', 'ᄅ', 'ᅦ', 'ᄇ', 'ᅵ', 'ᄎ', 'ᅯ', 'ᄇ', 'ᅪ', 'ᄋ', 'ᅭ']\n",
            "duration: [31  8 11  5  5  4 10 10 12  7 10  3  5  7  4  8  4  5 10 16 14  3  9  3\n",
            "  6  7  8  4 13  5  8 17 15  4]\n",
            "start : 0.0\n",
            ",end : 3.38\n",
            "\n"
          ]
        },
        {
          "output_type": "stream",
          "name": "stderr",
          "text": [
            "<ipython-input-25-396638cc7985>:75: WavFileWarning: Chunk (non-data) not understood, skipping it.\n",
            "  _, wav = read(wav_path)\n"
          ]
        },
        {
          "output_type": "stream",
          "name": "stdout",
          "text": [
            "phone : ['ᄀ', 'ᅳ', 'ᆷ', 'ᄀ', 'ᅩ', 'ᄂ', 'ᅳ', 'ᆫ', 'sp', 'ᄋ', 'ᅵ', 'ᄆ', 'ᅵ', 'ᄇ', 'ᅵ', 'ᄋ', 'ᅥ', 'ᄋ', 'ᅵ', 'ᄊ', 'ᅥ', 'ᆮ', 'ᄄ', 'ᅡ']\n",
            "duration: [16  5 10  5 10  4  9 16  7 20  7  5  9 13  5  6  3  5  4 10  7 15  9 15]\n",
            "start : 0.0\n",
            ",end : 2.5\n",
            "\n"
          ]
        },
        {
          "output_type": "stream",
          "name": "stderr",
          "text": [
            "<ipython-input-25-396638cc7985>:75: WavFileWarning: Chunk (non-data) not understood, skipping it.\n",
            "  _, wav = read(wav_path)\n"
          ]
        },
        {
          "output_type": "stream",
          "name": "stdout",
          "text": [
            "phone : ['ᄋ', 'ᅵ', 'ᄌ', 'ᅡ', 'ᄅ', 'ᅵ', 'ᄂ', 'ᅳ', 'ᆫ', 'ᄇ', 'ᅵ', 'ᄋ', 'ᅥ', 'ᆮ', 'ᄊ', 'ᅳ', 'ᆷ', 'ᄂ', 'ᅵ', 'ᄁ', 'ᅡ']\n",
            "duration: [35  8  8  8  3  6  5  3  7  9  4  4  4  3  9  2  6  5  7 11 17]\n",
            "start : 0.0\n",
            ",end : 1.91\n",
            "\n"
          ]
        },
        {
          "output_type": "stream",
          "name": "stderr",
          "text": [
            "<ipython-input-25-396638cc7985>:75: WavFileWarning: Chunk (non-data) not understood, skipping it.\n",
            "  _, wav = read(wav_path)\n"
          ]
        },
        {
          "output_type": "stream",
          "name": "stdout",
          "text": [
            "phone : ['ᄋ', 'ᅮ', 'ᄅ', 'ᅵ', 'ᄂ', 'ᅳ', 'ᆫ', 'sp', 'ᄉ', 'ᅥ', 'ᄅ', 'ᅩ', 'ᄃ', 'ᅡ', 'ᄇ', 'ᅳ', 'ᆯ', 'ᄇ', 'ᅵ', 'ᄀ', 'ᅭ', 'ᄒ', 'ᅢ', 'ᄇ', 'ᅩ', 'ᄋ', 'ᅡ', 'ᆮ', 'ᄄ', 'ᅡ']\n",
            "duration: [33  5  5 10  4  9 15 15 14  6  3  9  7  7  5  6  5  9  6  7  4  6  6  8\n",
            "  4  3  6 13 10 13]\n",
            "start : 0.0\n",
            ",end : 2.94\n",
            "\n"
          ]
        },
        {
          "output_type": "stream",
          "name": "stderr",
          "text": [
            "<ipython-input-25-396638cc7985>:75: WavFileWarning: Chunk (non-data) not understood, skipping it.\n",
            "  _, wav = read(wav_path)\n"
          ]
        },
        {
          "output_type": "stream",
          "name": "stdout",
          "text": [
            "phone : ['ᄇ', 'ᅮ', 'ᄆ', 'ᅩ', 'ᄀ', 'ᅡ', 'ᄌ', 'ᅥ', 'ᄌ', 'ᅵ', 'ᄅ', 'ᅳ', 'ᄂ', 'ᅳ', 'ᆫ', 'ᄏ', 'ᅳ', 'ᆫ', 'ᄉ', 'ᅵ', 'ᆯ', 'ᄉ', 'ᅮ', 'ᄌ', 'ᅮ', 'ᆼ', 'ᄒ', 'ᅡ', 'ᄂ', 'ᅡ', 'ᄂ', 'ᅳ', 'ᆫ', 'sp', 'ᄌ', 'ᅡ', 'ᄀ', 'ᅵ', 'ᄋ', 'ᅡ', 'ᄋ', 'ᅵ', 'ᄅ', 'ᅳ', 'ᆯ', 'sp', 'ᄃ', 'ᅡ', 'ᄅ', 'ᅳ', 'ᆫ', 'ᄌ', 'ᅵ', 'ᆸ', 'ᄋ', 'ᅡ', 'ᄋ', 'ᅵ', 'ᄋ', 'ᅪ', 'ᄇ', 'ᅵ', 'ᄀ', 'ᅭ', 'ᄒ', 'ᅡ', 'ᄂ', 'ᅳ', 'ᆫ', 'ᄀ', 'ᅥ', 'ᄉ', 'ᅵ', 'ᄃ', 'ᅡ']\n",
            "duration: [13  4  8  8  6  9  7  7  4  6  2  5  6  4 10 12  2  8  9  5  3  9  7  6\n",
            "  8  5  7  4  8  6  4  9 12 32 13 11  6  8  6  6  5  3  4  3 22 12 12  7\n",
            "  4  4  6  4  6  3  7  3  6  2  9  8 14  5  6  5  5  3  4  3  3  7  7  7\n",
            "  7 12 15]\n",
            "start : 0.15\n",
            ",end : 6.39\n",
            "\n"
          ]
        },
        {
          "output_type": "stream",
          "name": "stderr",
          "text": [
            "<ipython-input-25-396638cc7985>:75: WavFileWarning: Chunk (non-data) not understood, skipping it.\n",
            "  _, wav = read(wav_path)\n"
          ]
        },
        {
          "output_type": "stream",
          "name": "stdout",
          "text": [
            "phone : ['ᄋ', 'ᅵ', 'ᄐ', 'ᅳ', 'ᆯ', 'ᄃ', 'ᅩ', 'ᆼ', 'ᄋ', 'ᅡ', 'ᆫ', 'ᄎ', 'ᅡ', 'ᄅ', 'ᅳ', 'ᆯ', 'ᄇ', 'ᅵ', 'ᆯ', 'ᄅ', 'ᅵ', 'ᄀ', 'ᅩ', 'ᄉ', 'ᅵ', 'ᄑ', 'ᅳ', 'ᆫ', 'ᄃ', 'ᅦ', 'ᄋ', 'ᅭ']\n",
            "duration: [31  9  8  6  5  5  7  3  6  6  7 10  5  3  7  5  7  7  3  2  4  4  7  7\n",
            "  4  7  5  7  4 13 15  4]\n",
            "start : 0.0\n",
            ",end : 2.6\n",
            "\n"
          ]
        },
        {
          "output_type": "stream",
          "name": "stderr",
          "text": [
            "<ipython-input-25-396638cc7985>:75: WavFileWarning: Chunk (non-data) not understood, skipping it.\n",
            "  _, wav = read(wav_path)\n"
          ]
        },
        {
          "output_type": "stream",
          "name": "stdout",
          "text": [
            "phone : ['ᄋ', 'ᅡ', 'ᄂ', 'ᅢ', 'ᄋ', 'ᅦ', 'ᄀ', 'ᅦ', 'ᄉ', 'ᅥ', 'ᄃ', 'ᅩ', 'ᄂ', 'ᅳ', 'ᆯ', 'ᄇ', 'ᅵ', 'ᆯ', 'ᄅ', 'ᅵ', 'ᆫ', 'ᄃ', 'ᅡ', 'ᄂ', 'ᅳ', 'ᆫ', 'ᄀ', 'ᅥ', 'ᄉ', 'ᅳ', 'ᆫ', 'sp', 'ᄌ', 'ᅩ', 'ᆷ', 'ᄋ', 'ᅵ', 'ᄉ', 'ᅡ', 'ᆼ', 'ᄒ', 'ᅢ', 'ᄋ', 'ᅭ']\n",
            "duration: [47  8  7  5  2  5  6  8  8 12  6 10  5  8  4  7  6  2  6  4  5  5  5  5\n",
            "  2  5  7  8 10  6 12 15 16  7  4  5  8  8  8  4  6 13 16  4]\n",
            "start : 0.0\n",
            ",end : 4.07\n",
            "\n"
          ]
        },
        {
          "output_type": "stream",
          "name": "stderr",
          "text": [
            "<ipython-input-25-396638cc7985>:75: WavFileWarning: Chunk (non-data) not understood, skipping it.\n",
            "  _, wav = read(wav_path)\n"
          ]
        },
        {
          "output_type": "stream",
          "name": "stdout",
          "text": [
            "phone : ['ᄃ', 'ᅡ', 'ᄋ', 'ᅵ', 'ᄋ', 'ᅡ', 'ᄆ', 'ᅩ', 'ᆫ', 'ᄃ', 'ᅳ', 'ᄀ', 'ᅡ', 'sp', 'ᄂ', 'ᅮ', 'ᆫ', 'ᄇ', 'ᅮ', 'ᄉ', 'ᅵ', 'ᄀ', 'ᅦ', 'ᄇ', 'ᅵ', 'ᆫ', 'ᄂ', 'ᅡ', 'ᄀ', 'ᅩ', 'ᄋ', 'ᅵ', 'ᄊ', 'ᅥ', 'ᆮ', 'ᄄ', 'ᅡ']\n",
            "duration: [ 8  5  4  3  3  4  7  5  7  3  4  7 24 16 12  8  4  4  6  9  3  5 13  7\n",
            "  7  5  5  7  6  3  5  4  8  6 17  9 18]\n",
            "start : 0.19\n",
            ",end : 3.34\n",
            "\n"
          ]
        },
        {
          "output_type": "stream",
          "name": "stderr",
          "text": [
            "<ipython-input-25-396638cc7985>:75: WavFileWarning: Chunk (non-data) not understood, skipping it.\n",
            "  _, wav = read(wav_path)\n"
          ]
        },
        {
          "output_type": "stream",
          "name": "stdout",
          "text": [
            "phone : ['ᄆ', 'ᅩ', 'ᄃ', 'ᅳ', 'ᆫ', 'ᄎ', 'ᅡ', 'ᆼ', 'ᄋ', 'ᅦ', 'ᄉ', 'ᅥ', 'ᄎ', 'ᅩ', 'ᆮ', 'ᄈ', 'ᅮ', 'ᄅ', 'ᅵ', 'ᄇ', 'ᅡ', 'ᆫ', 'ᄍ', 'ᅡ', 'ᆨ', 'ᄈ', 'ᅡ', 'ᆫ', 'ᄍ', 'ᅡ', 'ᆨ', 'sp', 'ᄇ', 'ᅵ', 'ᆫ', 'ᄂ', 'ᅡ', 'ᄀ', 'ᅩ', 'ᄋ', 'ᅵ', 'ᄊ', 'ᅥ', 'ᆮ', 'ᄄ', 'ᅡ']\n",
            "duration: [22 10  5  6  6  8  4  4  5  4  8  8  9  4  6  8  3  6  9  9  4  7  6  6\n",
            "  6  7  6  8 11  9  3  9  8  4  6  4  8  4  4  4  3  8  7 16 11 11]\n",
            "start : 0.0\n",
            ",end : 3.77\n",
            "\n"
          ]
        },
        {
          "output_type": "stream",
          "name": "stderr",
          "text": [
            "<ipython-input-25-396638cc7985>:75: WavFileWarning: Chunk (non-data) not understood, skipping it.\n",
            "  _, wav = read(wav_path)\n"
          ]
        },
        {
          "output_type": "stream",
          "name": "stdout",
          "text": [
            "phone : ['ᄋ', 'ᅧ', 'ᆼ', 'ᄒ', 'ᅪ', 'ᄇ', 'ᅩ', 'ᄅ', 'ᅥ', 'ᄀ', 'ᅡ', 'ᆯ', 'ᄁ', 'ᅡ']\n",
            "duration: [29  8  3  3  7  5  7  6  3  7  6  5 13 14]\n",
            "start : 0.0\n",
            ",end : 1.35\n",
            "\n"
          ]
        },
        {
          "output_type": "stream",
          "name": "stderr",
          "text": [
            "<ipython-input-25-396638cc7985>:75: WavFileWarning: Chunk (non-data) not understood, skipping it.\n",
            "  _, wav = read(wav_path)\n"
          ]
        },
        {
          "output_type": "stream",
          "name": "stdout",
          "text": [
            "phone : ['ᄋ', 'ᅩ', 'ᄂ', 'ᅳ', 'ᆯ', 'ᄋ', 'ᅮ', 'ᄋ', 'ᅧ', 'ᆫ', 'ᄒ', 'ᅵ', 'ᄀ', 'ᅵ', 'ᄅ', 'ᅦ', 'ᄉ', 'ᅥ', 'sp', 'ᄀ', 'ᅳ', 'ᄋ', 'ᅧ', 'ᄌ', 'ᅡ', 'ᄅ', 'ᅳ', 'ᆯ', 'ᄇ', 'ᅪ', 'ᄊ', 'ᅥ', 'ᄋ', 'ᅭ']\n",
            "duration: [42 10  4  6  4  3  6  6  8  4  5  7  8  5  5  8 10 20 10 15  6  5 10  9\n",
            "  6  2  4  3  5  7 14 16 18  4]\n",
            "start : 0.0\n",
            ",end : 3.43\n",
            "\n"
          ]
        },
        {
          "output_type": "stream",
          "name": "stderr",
          "text": [
            "<ipython-input-25-396638cc7985>:75: WavFileWarning: Chunk (non-data) not understood, skipping it.\n",
            "  _, wav = read(wav_path)\n"
          ]
        },
        {
          "output_type": "stream",
          "name": "stdout",
          "text": [
            "phone : ['ᄌ', 'ᅦ', 'ᄀ', 'ᅡ', 'ᄒ', 'ᅢ', 'ᄇ', 'ᅩ', 'ᆯ', 'ᄀ', 'ᅦ', 'ᄋ', 'ᅭ']\n",
            "duration: [13  6  7  8  3  5  5  8  4  9 13 17  5]\n",
            "start : 0.35\n",
            ",end : 1.55\n",
            "\n"
          ]
        },
        {
          "output_type": "stream",
          "name": "stderr",
          "text": [
            "<ipython-input-25-396638cc7985>:75: WavFileWarning: Chunk (non-data) not understood, skipping it.\n",
            "  _, wav = read(wav_path)\n"
          ]
        },
        {
          "output_type": "stream",
          "name": "stdout",
          "text": [
            "phone : ['ᄋ', 'ᅥ', 'ᄃ', 'ᅵ', 'ᄉ', 'ᅥ', 'ᆫ', 'ᄀ', 'ᅡ', 'ᄇ', 'ᅬ', 'ᆫ', 'ᄇ', 'ᅮ', 'ᆫ', 'ᄀ', 'ᅡ', 'ᄐ', 'ᅡ', 'ᄋ', 'ᅭ']\n",
            "duration: [12  9  3  7  6  6  6  6  8  8  8  4  4  6  6  5  7 11 13 24  4]\n",
            "start : 0.0\n",
            ",end : 1.9\n",
            "\n"
          ]
        },
        {
          "output_type": "stream",
          "name": "stderr",
          "text": [
            "<ipython-input-25-396638cc7985>:75: WavFileWarning: Chunk (non-data) not understood, skipping it.\n",
            "  _, wav = read(wav_path)\n"
          ]
        },
        {
          "output_type": "stream",
          "name": "stdout",
          "text": [
            "phone : ['ᄌ', 'ᅵ', 'ᄂ', 'ᅡ', 'ᆫ', 'ᄇ', 'ᅥ', 'ᄂ', 'ᅦ', 'ᄇ', 'ᅬ', 'ᆫ', 'ᄒ', 'ᅮ', 'sp', 'ᄋ', 'ᅩ', 'ᄅ', 'ᅢ', 'ᆫ', 'ᄆ', 'ᅡ', 'ᄂ', 'ᅦ', 'ᄇ', 'ᅬ', 'ᆸ', 'ᄊ', 'ᅳ', 'ᆷ', 'ᄂ', 'ᅵ', 'ᄃ', 'ᅡ']\n",
            "duration: [14  4  6  7  5  5  7  5 10  6 12  4  4 16  5 13  9  5  4  4  6  5  4  4\n",
            "  8  4  5  7  5  6  6  5 10 18]\n",
            "start : 0.19\n",
            ",end : 2.96\n",
            "\n"
          ]
        },
        {
          "output_type": "stream",
          "name": "stderr",
          "text": [
            "<ipython-input-25-396638cc7985>:75: WavFileWarning: Chunk (non-data) not understood, skipping it.\n",
            "  _, wav = read(wav_path)\n"
          ]
        },
        {
          "output_type": "stream",
          "name": "stdout",
          "text": [
            "phone : ['ᄀ', 'ᅳ', 'ᄀ', 'ᅥ', 'ᄆ', 'ᅡ', 'ᄉ', 'ᅵ', 'ᄊ', 'ᅥ', 'ᄇ', 'ᅩ', 'ᄋ', 'ᅵ', 'ᄂ', 'ᅦ']\n",
            "duration: [22  7  3  6  7  7  4  6  7  8  5  4  7  6  6 29]\n",
            "start : 0.0\n",
            ",end : 1.56\n",
            "\n"
          ]
        },
        {
          "output_type": "stream",
          "name": "stderr",
          "text": [
            "<ipython-input-25-396638cc7985>:75: WavFileWarning: Chunk (non-data) not understood, skipping it.\n",
            "  _, wav = read(wav_path)\n"
          ]
        },
        {
          "output_type": "stream",
          "name": "stdout",
          "text": [
            "phone : ['ᄀ', 'ᅳ', 'ᄂ', 'ᅳ', 'ᆫ', 'ᄂ', 'ᅡ', 'ᄋ', 'ᅵ', 'ᄋ', 'ᅦ', 'ᄇ', 'ᅵ', 'ᄒ', 'ᅢ', 'sp', 'ᄌ', 'ᅥ', 'ᆼ', 'ᄆ', 'ᅡ', 'ᆯ', 'ᄌ', 'ᅥ', 'ᆯ', 'ᄆ', 'ᅥ', 'ᄇ', 'ᅩ', 'ᄋ', 'ᅵ', 'ᆫ', 'ᄃ', 'ᅡ']\n",
            "duration: [25  7  5  6  6  5  6  6  8  4  4  8  8  9 11 18 16  6  7  5  5  5  6  7\n",
            "  4  5  5  6  5  4  6  8 12 15]\n",
            "start : 0.0\n",
            ",end : 3.06\n",
            "\n"
          ]
        },
        {
          "output_type": "stream",
          "name": "stderr",
          "text": [
            "<ipython-input-25-396638cc7985>:75: WavFileWarning: Chunk (non-data) not understood, skipping it.\n",
            "  _, wav = read(wav_path)\n"
          ]
        },
        {
          "output_type": "stream",
          "name": "stdout",
          "text": [
            "phone : ['ᄀ', 'ᅳ', 'ᄂ', 'ᅧ', 'ᄀ', 'ᅡ', 'ᄂ', 'ᅡ', 'ᄋ', 'ᅦ', 'ᄀ', 'ᅦ', 'sp', 'ᄉ', 'ᅡ', 'ᄌ', 'ᅵ', 'ᆫ', 'ᄆ', 'ᅧ', 'ᆮ', 'ᄌ', 'ᅡ', 'ᆼ', 'ᄋ', 'ᅳ', 'ᆯ', 'ᄇ', 'ᅩ', 'ᄋ', 'ᅧ', 'ᄌ', 'ᅮ', 'ᄋ', 'ᅥ', 'ᆮ', 'ᄄ', 'ᅡ']\n",
            "duration: [29  4  5  8  6 11  7  7  5  5  8 20 12 16  6  6  6  6  4  9  5  8  5  5\n",
            "  2  7  5  6  6  4  9  6  4  4  4 16  9 14]\n",
            "start : 0.0\n",
            ",end : 3.48\n",
            "\n"
          ]
        },
        {
          "output_type": "stream",
          "name": "stderr",
          "text": [
            "<ipython-input-25-396638cc7985>:75: WavFileWarning: Chunk (non-data) not understood, skipping it.\n",
            "  _, wav = read(wav_path)\n"
          ]
        },
        {
          "output_type": "stream",
          "name": "stdout",
          "text": [
            "phone : ['ᄌ', 'ᅮ', 'ᄆ', 'ᅵ', 'ᆫ', 'ᄃ', 'ᅳ', 'ᆼ', 'ᄂ', 'ᅩ', 'ᆨ', 'ᄍ', 'ᅳ', 'ᆼ', 'ᄋ', 'ᅳ', 'ᆯ', 'ᄇ', 'ᅩ', 'ᄋ', 'ᅧ', 'ᄌ', 'ᅮ', 'ᄉ', 'ᅵ', 'ᄀ', 'ᅦ', 'ᄊ', 'ᅥ', 'ᄋ', 'ᅭ']\n",
            "duration: [12  8  4  4  6  4  3  8  3  6  5  6  6  2  4  9  4  9  6  4  8  4  5  6\n",
            "  4  4  6 13 13 15  5]\n",
            "start : 0.2\n",
            ",end : 2.48\n",
            "\n"
          ]
        },
        {
          "output_type": "stream",
          "name": "stderr",
          "text": [
            "<ipython-input-25-396638cc7985>:75: WavFileWarning: Chunk (non-data) not understood, skipping it.\n",
            "  _, wav = read(wav_path)\n"
          ]
        },
        {
          "output_type": "stream",
          "name": "stdout",
          "text": [
            "phone : ['ᄀ', 'ᅵ', 'ᆷ', 'ᄎ', 'ᅵ', 'ᄀ', 'ᅡ', 'ᄆ', 'ᅡ', 'ᄉ', 'ᅵ', 'ᄋ', 'ᅥ', 'ᆸ', 'ᄊ', 'ᅥ', 'ᄉ', 'ᅥ', 'ᄇ', 'ᅩ', 'ᄁ', 'ᅡ', 'ᄊ', 'ᅥ']\n",
            "duration: [ 6  5  7  8  4  4  7  7  8  9  3  4  4  4  8  9 10  6  9  6 12  7 18 24]\n",
            "start : 0.11\n",
            ",end : 2.31\n",
            "\n"
          ]
        },
        {
          "output_type": "stream",
          "name": "stderr",
          "text": [
            "<ipython-input-25-396638cc7985>:75: WavFileWarning: Chunk (non-data) not understood, skipping it.\n",
            "  _, wav = read(wav_path)\n"
          ]
        },
        {
          "output_type": "stream",
          "name": "stdout",
          "text": [
            "phone : ['ᄀ', 'ᅩ', 'ᄀ', 'ᅵ', 'ᄅ', 'ᅳ', 'ᆯ', 'ᄀ', 'ᅵ', 'ᄅ', 'ᅳ', 'ᄆ', 'ᅦ', 'ᄇ', 'ᅩ', 'ᆨ', 'ᄍ', 'ᅵ', 'ᄆ', 'ᅡ', 'ᄅ', 'ᅡ']\n",
            "duration: [ 7  8  4  8  3  7  5  6  5  4  6  7  8  8  5  6 10  6  7 11 10 19]\n",
            "start : 0.24\n",
            ",end : 2.09\n",
            "\n"
          ]
        },
        {
          "output_type": "stream",
          "name": "stderr",
          "text": [
            "<ipython-input-25-396638cc7985>:75: WavFileWarning: Chunk (non-data) not understood, skipping it.\n",
            "  _, wav = read(wav_path)\n"
          ]
        },
        {
          "output_type": "stream",
          "name": "stdout",
          "text": [
            "phone : ['ᄋ', 'ᅵ', 'ᄉ', 'ᅩ', 'ᄑ', 'ᅩ', 'ᄅ', 'ᅳ', 'ᆯ', 'sp', 'ᄂ', 'ᅲ', 'ᄋ', 'ᅭ', 'ᄀ', 'ᅳ', 'ᄅ', 'ᅩ', 'ᄇ', 'ᅩ', 'ᄂ', 'ᅢ', 'ᄀ', 'ᅩ', 'ᄉ', 'ᅵ', 'ᄑ', 'ᅳ', 'ᆫ', 'ᄃ', 'ᅦ', 'ᄋ', 'ᅭ']\n",
            "duration: [28 11  7  8 11  9  4  8 13 12 11  2 10  5  5  5  4  5  8  6  4  6  4  6\n",
            "  7  4  8  3  7  4 13 15  6]\n",
            "start : 0.0\n",
            ",end : 3.01\n",
            "\n"
          ]
        },
        {
          "output_type": "stream",
          "name": "stderr",
          "text": [
            "<ipython-input-25-396638cc7985>:75: WavFileWarning: Chunk (non-data) not understood, skipping it.\n",
            "  _, wav = read(wav_path)\n"
          ]
        },
        {
          "output_type": "stream",
          "name": "stdout",
          "text": [
            "phone : ['ᄉ', 'ᅥ', 'ᆫ', 'ᄉ', 'ᅢ', 'ᆼ', 'ᄂ', 'ᅵ', 'ᆷ', 'ᄁ', 'ᅦ', 'ᄒ', 'ᅡ', 'ᆫ', 'ᄇ', 'ᅮ', 'ᄇ', 'ᅩ', 'ᄂ', 'ᅢ', 'ᄃ', 'ᅳ', 'ᄅ', 'ᅵ', 'ᄀ', 'ᅦ', 'ᆮ', 'ᄊ', 'ᅳ', 'ᆷ', 'ᄂ', 'ᅵ', 'ᄃ', 'ᅡ']\n",
            "duration: [12  5  4  5  6  3  5  5  8  8  9  6  3  9  3  6  8  6  4  6  4  3  4  4\n",
            "  5  6  4  8  3  5  5  4 10 20]\n",
            "start : 0.53\n",
            ",end : 2.92\n",
            "\n"
          ]
        },
        {
          "output_type": "stream",
          "name": "stderr",
          "text": [
            "<ipython-input-25-396638cc7985>:75: WavFileWarning: Chunk (non-data) not understood, skipping it.\n",
            "  _, wav = read(wav_path)\n"
          ]
        },
        {
          "output_type": "stream",
          "name": "stdout",
          "text": [
            "phone : ['ᄒ', 'ᅲ', 'ᄀ', 'ᅡ', 'ᄌ', 'ᅡ', 'ᆯ', 'ᄇ', 'ᅩ', 'ᄂ', 'ᅢ', 'ᄉ', 'ᅦ', 'ᄋ', 'ᅭ']\n",
            "duration: [ 7  6  6 13  7 12  6  3  7  4  8  9 13 18  4]\n",
            "start : 0.42\n",
            ",end : 1.85\n",
            "\n"
          ]
        },
        {
          "output_type": "stream",
          "name": "stderr",
          "text": [
            "<ipython-input-25-396638cc7985>:75: WavFileWarning: Chunk (non-data) not understood, skipping it.\n",
            "  _, wav = read(wav_path)\n"
          ]
        },
        {
          "output_type": "stream",
          "name": "stdout",
          "text": [
            "phone : ['ᄀ', 'ᅳ', 'ᄂ', 'ᅧ', 'ᄂ', 'ᅳ', 'ᆫ', 'sp', 'ᄌ', 'ᅵ', 'ᆷ', 'ᄒ', 'ᅡ', 'ᄂ', 'ᅡ', 'ᄒ', 'ᅡ', 'ᄂ', 'ᅡ', 'ᄋ', 'ᅦ', 'sp', 'ᄋ', 'ᅵ', 'ᄅ', 'ᅳ', 'ᆷ', 'ᄑ', 'ᅭ', 'ᄅ', 'ᅳ', 'ᆯ', 'ᄇ', 'ᅮ', 'ᄎ', 'ᅧ', 'ᆮ', 'ᄄ', 'ᅡ']\n",
            "duration: [12  6  6 10  5 10 13 15 16  8  7 11  4  7  3  8  4  8  7  7 25  7  6  5\n",
            "  4  7  6  9  6  3  3  4  6  3 12  6 16 12 11]\n",
            "start : 0.37\n",
            ",end : 4.06\n",
            "\n"
          ]
        },
        {
          "output_type": "stream",
          "name": "stderr",
          "text": [
            "<ipython-input-25-396638cc7985>:75: WavFileWarning: Chunk (non-data) not understood, skipping it.\n",
            "  _, wav = read(wav_path)\n"
          ]
        },
        {
          "output_type": "stream",
          "name": "stdout",
          "text": [
            "phone : ['ᄎ', 'ᅵ', 'ᄆ', 'ᅳ', 'ᄅ', 'ᅩ', 'ᄑ', 'ᅧ', 'ᆫ', 'ᄌ', 'ᅵ', 'ᄇ', 'ᅩ', 'ᆼ', 'ᄐ', 'ᅮ', 'ᄋ', 'ᅦ', 'sp', 'ᄋ', 'ᅮ', 'ᄑ', 'ᅭ', 'ᄅ', 'ᅳ', 'ᆯ', 'ᄇ', 'ᅮ', 'ᄎ', 'ᅵ', 'ᄌ', 'ᅵ', 'ᄆ', 'ᅡ', 'ᄉ', 'ᅦ', 'ᄋ', 'ᅭ']\n",
            "duration: [18  5  8  4  3 11  7  9  6  6  8  5  7  8  8  5  4 12  3  5 10 11  9  3\n",
            "  8  4  7  5  9  8  6  6  6  9 10 14 18  3]\n",
            "start : 0.0\n",
            ",end : 3.35\n",
            "\n"
          ]
        },
        {
          "output_type": "stream",
          "name": "stderr",
          "text": [
            "<ipython-input-25-396638cc7985>:75: WavFileWarning: Chunk (non-data) not understood, skipping it.\n",
            "  _, wav = read(wav_path)\n"
          ]
        },
        {
          "output_type": "stream",
          "name": "stdout",
          "text": [
            "phone : ['ᄋ', 'ᅮ', 'ᄅ', 'ᅵ', 'ᄂ', 'ᅳ', 'ᆫ', 'sp', 'ᄑ', 'ᅡ', 'ᄐ', 'ᅵ', 'ᄌ', 'ᅮ', 'ᆫ', 'ᄇ', 'ᅵ', 'ᄅ', 'ᅳ', 'ᆯ', 'ᄋ', 'ᅱ', 'ᄒ', 'ᅢ', 'sp', 'ᄑ', 'ᅮ', 'ᆼ', 'ᄉ', 'ᅥ', 'ᄂ', 'ᅳ', 'ᆯ', 'ᄇ', 'ᅮ', 'ᄅ', 'ᅥ', 'ᆮ', 'ᄄ', 'ᅡ']\n",
            "duration: [17  7  5  7  4  9 15 15 13  7  7 11  5  5  8  3  5  4  6  2  4 16  5 11\n",
            " 12 15  3  7  7  7  6  9  4  6  4  5  6 17  8 16]\n",
            "start : 0.0\n",
            ",end : 3.76\n",
            "\n"
          ]
        },
        {
          "output_type": "stream",
          "name": "stderr",
          "text": [
            "<ipython-input-25-396638cc7985>:75: WavFileWarning: Chunk (non-data) not understood, skipping it.\n",
            "  _, wav = read(wav_path)\n"
          ]
        },
        {
          "output_type": "stream",
          "name": "stdout",
          "text": [
            "Done 100\n",
            "phone : ['ᄇ', 'ᅡ', 'ᄅ', 'ᅡ', 'ᄆ', 'ᅵ', 'ᄆ', 'ᅡ', 'ᄂ', 'ᅵ', 'ᄇ', 'ᅮ', 'ᄅ', 'ᅥ']\n",
            "duration: [17  6  6  6  6  8  6 13  7  6  4  7  7 22]\n",
            "start : 0.17\n",
            ",end : 1.57\n",
            "\n"
          ]
        },
        {
          "output_type": "stream",
          "name": "stderr",
          "text": [
            "<ipython-input-25-396638cc7985>:75: WavFileWarning: Chunk (non-data) not understood, skipping it.\n",
            "  _, wav = read(wav_path)\n"
          ]
        },
        {
          "output_type": "stream",
          "name": "stdout",
          "text": [
            "phone : ['ᄀ', 'ᅧ', 'ᆼ', 'ᄎ', 'ᅡ', 'ᆯ', 'ᄌ', 'ᅩ', 'ᆷ', 'ᄇ', 'ᅮ', 'ᆯ', 'ᄅ', 'ᅥ', 'ᄌ', 'ᅮ', 'ᄉ', 'ᅦ', 'ᄋ', 'ᅭ']\n",
            "duration: [13  7  7  6  5  5  4  7  6  3  4  5  5  6  4  5  8 12 19  4]\n",
            "start : 0.21\n",
            ",end : 1.78\n",
            "\n"
          ]
        },
        {
          "output_type": "stream",
          "name": "stderr",
          "text": [
            "<ipython-input-25-396638cc7985>:75: WavFileWarning: Chunk (non-data) not understood, skipping it.\n",
            "  _, wav = read(wav_path)\n"
          ]
        },
        {
          "output_type": "stream",
          "name": "stdout",
          "text": [
            "phone : ['ᄉ', 'ᅡ', 'ᄅ', 'ᅡ', 'ᆷ', 'ᄃ', 'ᅳ', 'ᄅ', 'ᅳ', 'ᆫ', 'ᄀ', 'ᅳ', 'ᄅ', 'ᅳ', 'ᆯ', 'ᄀ', 'ᅦ', 'ᄋ', 'ᅳ', 'ᄅ', 'ᅳ', 'ᆫ', 'ᄎ', 'ᅥ', 'ᆫ', 'ᄌ', 'ᅢ', 'ᄅ', 'ᅡ', 'ᄀ', 'ᅩ', 'ᄇ', 'ᅮ', 'ᄅ', 'ᅳ', 'ᆫ', 'ᄃ', 'ᅡ']\n",
            "duration: [10  6  6  5  7  4  5  4  8 13 10  6  3  8  4  7 10  5  2  5  5  7  8  4\n",
            "  6  4  6  5  6  5  5  6  5  4  5 10  9 16]\n",
            "start : 0.25\n",
            ",end : 3.08\n",
            "\n"
          ]
        },
        {
          "output_type": "stream",
          "name": "stderr",
          "text": [
            "<ipython-input-25-396638cc7985>:75: WavFileWarning: Chunk (non-data) not understood, skipping it.\n",
            "  _, wav = read(wav_path)\n"
          ]
        },
        {
          "output_type": "stream",
          "name": "stdout",
          "text": [
            "phone : ['ᄂ', 'ᅩ', 'ᄅ', 'ᅢ', 'ᄒ', 'ᅡ', 'ᆫ', 'ᄀ', 'ᅩ', 'ᆨ', 'ᄇ', 'ᅮ', 'ᄅ', 'ᅳ', 'ᄉ', 'ᅦ', 'ᄋ', 'ᅭ']\n",
            "duration: [ 6  6  3  5  7  4  5  4  6  4  4  6  5  4  8 13 16  4]\n",
            "start : 0.33\n",
            ",end : 1.61\n",
            "\n"
          ]
        },
        {
          "output_type": "stream",
          "name": "stderr",
          "text": [
            "<ipython-input-25-396638cc7985>:75: WavFileWarning: Chunk (non-data) not understood, skipping it.\n",
            "  _, wav = read(wav_path)\n"
          ]
        },
        {
          "output_type": "stream",
          "name": "stdout",
          "text": [
            "phone : ['ᄋ', 'ᅧ', 'ᄒ', 'ᅢ', 'ᆼ', 'ᄉ', 'ᅡ', 'ᄋ', 'ᅦ', 'sp', 'ᄋ', 'ᅨ', 'ᄋ', 'ᅣ', 'ᄀ', 'ᅳ', 'ᆯ', 'ᄇ', 'ᅮ', 'ᄐ', 'ᅡ', 'ᄏ', 'ᅡ', 'ᄂ', 'ᅳ', 'ᆫ', 'ᄀ', 'ᅦ', 'ᄋ', 'ᅥ', 'ᄄ', 'ᅢ']\n",
            "duration: [27  8  5  5  6  8  3  5 19  6 24  6  4  9  6  5  3  7  5  9  5  9  5  4\n",
            "  4  4  4  4  5  6 19 20]\n",
            "start : 0.0\n",
            ",end : 3.01\n",
            "\n"
          ]
        },
        {
          "output_type": "stream",
          "name": "stderr",
          "text": [
            "<ipython-input-25-396638cc7985>:75: WavFileWarning: Chunk (non-data) not understood, skipping it.\n",
            "  _, wav = read(wav_path)\n"
          ]
        },
        {
          "output_type": "stream",
          "name": "stdout",
          "text": [
            "phone : ['ᄋ', 'ᅥ', 'ᆷ', 'ᄆ', 'ᅡ', 'ᄒ', 'ᅡ', 'ᆫ', 'ᄐ', 'ᅦ', 'ᄃ', 'ᅩ', 'ᄋ', 'ᅪ', 'ᄃ', 'ᅡ', 'ᆯ', 'ᄅ', 'ᅡ', 'ᄀ', 'ᅩ', 'sp', 'ᄇ', 'ᅮ', 'ᄐ', 'ᅡ', 'ᄏ', 'ᅢ', 'ᄇ', 'ᅪ']\n",
            "duration: [32  7  6  6  3  2  4  4  5  7  6  9  3  5  6  4  7  4  5  7 14  3  4  7\n",
            " 10  6 12  6  9 22]\n",
            "start : 0.0\n",
            ",end : 2.62\n",
            "\n"
          ]
        },
        {
          "output_type": "stream",
          "name": "stderr",
          "text": [
            "<ipython-input-25-396638cc7985>:75: WavFileWarning: Chunk (non-data) not understood, skipping it.\n",
            "  _, wav = read(wav_path)\n"
          ]
        },
        {
          "output_type": "stream",
          "name": "stdout",
          "text": [
            "phone : ['ᄂ', 'ᅢ', 'ᆷ', 'ᄇ', 'ᅵ', 'ᄋ', 'ᅦ', 'ᄆ', 'ᅮ', 'ᄅ', 'ᅳ', 'ᆯ', 'ᄇ', 'ᅮ', 'ᄋ', 'ᅥ', 'ᄅ', 'ᅡ']\n",
            "duration: [16  8  8  5  2 10  6  7  8  4  6  6  4  4 11  4 11 16]\n",
            "start : 0.0\n",
            ",end : 1.59\n",
            "\n"
          ]
        },
        {
          "output_type": "stream",
          "name": "stderr",
          "text": [
            "<ipython-input-25-396638cc7985>:75: WavFileWarning: Chunk (non-data) not understood, skipping it.\n",
            "  _, wav = read(wav_path)\n"
          ]
        },
        {
          "output_type": "stream",
          "name": "stdout",
          "text": [
            "phone : ['ᄋ', 'ᅮ', 'ᄋ', 'ᅲ', 'ᄅ', 'ᅳ', 'ᆯ', 'ᄌ', 'ᅩ', 'ᆷ', 'ᄇ', 'ᅮ', 'ᄋ', 'ᅥ', 'ᄇ', 'ᅪ']\n",
            "duration: [21 10  6  3  3  6  5  6 10  7  9  3 11  4  9 23]\n",
            "start : 0.0\n",
            ",end : 1.58\n",
            "\n"
          ]
        },
        {
          "output_type": "stream",
          "name": "stderr",
          "text": [
            "<ipython-input-25-396638cc7985>:75: WavFileWarning: Chunk (non-data) not understood, skipping it.\n",
            "  _, wav = read(wav_path)\n"
          ]
        },
        {
          "output_type": "stream",
          "name": "stdout",
          "text": [
            "phone : ['ᄉ', 'ᅵ', 'ᆫ', 'ᄇ', 'ᅡ', 'ᆯ', 'ᄆ', 'ᅵ', 'ᆮ', 'ᄎ', 'ᅡ', 'ᆼ', 'ᄋ', 'ᅦ', 'ᄁ', 'ᅥ', 'ᄆ', 'ᅵ', 'ᄇ', 'ᅮ', 'ᄐ', 'ᅥ', 'ᆮ', 'ᄄ', 'ᅡ']\n",
            "duration: [ 9  6  6  5  7  4  5  6  6 10  6  3  5  6 11  9  5  8  4  6 12  5 18  7\n",
            " 17]\n",
            "start : 0.19\n",
            ",end : 2.35\n",
            "\n"
          ]
        },
        {
          "output_type": "stream",
          "name": "stderr",
          "text": [
            "<ipython-input-25-396638cc7985>:75: WavFileWarning: Chunk (non-data) not understood, skipping it.\n",
            "  _, wav = read(wav_path)\n"
          ]
        },
        {
          "output_type": "stream",
          "name": "stdout",
          "text": [
            "phone : ['ᄌ', 'ᅥ', 'ᄂ', 'ᅳ', 'ᆫ', 'ᄋ', 'ᅮ', 'ᆫ', 'ᄌ', 'ᅥ', 'ᆫ', 'ᄆ', 'ᅧ', 'ᆫ', 'ᄒ', 'ᅥ', 'ᄉ', 'ᅵ', 'ᄒ', 'ᅥ', 'ᄆ', 'ᅦ', 'sp', 'ᄉ', 'ᅦ', 'ᄇ', 'ᅥ', 'ᆫ', 'ᄆ', 'ᅡ', 'ᄂ', 'ᅦ', 'ᄇ', 'ᅮ', 'ᄐ', 'ᅥ', 'ᄊ', 'ᅥ', 'ᄋ', 'ᅭ']\n",
            "duration: [12  6  5  4  5  4  5  6  5  6  5  4  5  4  3  4 12  3  4  6  6 19 14 12\n",
            "  7  5  5  5  8  5  5  9  9  3 10  8 11 14 18  4]\n",
            "start : 0.33\n",
            ",end : 3.64\n",
            "\n"
          ]
        },
        {
          "output_type": "stream",
          "name": "stderr",
          "text": [
            "<ipython-input-25-396638cc7985>:75: WavFileWarning: Chunk (non-data) not understood, skipping it.\n",
            "  _, wav = read(wav_path)\n"
          ]
        },
        {
          "output_type": "stream",
          "name": "stdout",
          "text": [
            "phone : ['ᄇ', 'ᅡ', 'ᄆ', 'ᅵ', 'ᄃ', 'ᅬ', 'ᄆ', 'ᅧ', 'ᆫ', 'ᄀ', 'ᅳ', 'ᄂ', 'ᅧ', 'ᄂ', 'ᅳ', 'ᆫ', 'sp', 'ᄀ', 'ᅬ', 'ᄆ', 'ᅮ', 'ᆯ', 'ᄅ', 'ᅩ', 'ᄇ', 'ᅧ', 'ᆫ', 'ᄒ', 'ᅡ', 'ᆫ', 'ᄃ', 'ᅡ']\n",
            "duration: [13 10  5  8  4  9  5 13 12  7  3  7  8  5  7 17 16 14  8  6  5 10  4 10\n",
            "  9  5  5  5  4 11 12 14]\n",
            "start : 0.26\n",
            ",end : 3.41\n",
            "\n"
          ]
        },
        {
          "output_type": "stream",
          "name": "stderr",
          "text": [
            "<ipython-input-25-396638cc7985>:75: WavFileWarning: Chunk (non-data) not understood, skipping it.\n",
            "  _, wav = read(wav_path)\n"
          ]
        },
        {
          "output_type": "stream",
          "name": "stdout",
          "text": [
            "phone : ['ᄌ', 'ᅥ', 'ᆫ', 'ᄒ', 'ᅧ', 'ᄋ', 'ᅡ', 'ᆫ', 'ᄇ', 'ᅧ', 'ᆫ', 'ᄒ', 'ᅡ', 'ᄉ', 'ᅧ', 'ᆫ', 'ᄂ', 'ᅦ', 'ᄋ', 'ᅭ']\n",
            "duration: [13  7  4  3  8 10  5  5  4  7  4  4  4  6  6  7  4 11 14  5]\n",
            "start : 0.2\n",
            ",end : 1.72\n",
            "\n"
          ]
        },
        {
          "output_type": "stream",
          "name": "stderr",
          "text": [
            "<ipython-input-25-396638cc7985>:75: WavFileWarning: Chunk (non-data) not understood, skipping it.\n",
            "  _, wav = read(wav_path)\n"
          ]
        },
        {
          "output_type": "stream",
          "name": "stdout",
          "text": [
            "phone : ['ᄀ', 'ᅳ', 'ᄂ', 'ᅳ', 'ᆫ', 'ᄌ', 'ᅥ', 'ᆷ', 'ᄎ', 'ᅡ', 'sp', 'ᄂ', 'ᅢ', 'ᆼ', 'ᄒ', 'ᅩ', 'ᄏ', 'ᅡ', 'ᆫ', 'ᄌ', 'ᅵ', 'ᄃ', 'ᅩ', 'ᄌ', 'ᅡ', 'ᄅ', 'ᅩ', 'sp', 'ᄇ', 'ᅧ', 'ᆫ', 'ᄒ', 'ᅪ', 'ᄒ', 'ᅢ', 'ᆮ', 'ᄄ', 'ᅡ']\n",
            "duration: [12  7  6  6  9  7  6 12 11 15  5  7  6  3  5  4 11  8  7  5  5  3  7  7\n",
            "  7  6 15 12 14 11  4  4  5  5  6 14 11 11]\n",
            "start : 0.18\n",
            ",end : 3.65\n",
            "\n"
          ]
        },
        {
          "output_type": "stream",
          "name": "stderr",
          "text": [
            "<ipython-input-25-396638cc7985>:75: WavFileWarning: Chunk (non-data) not understood, skipping it.\n",
            "  _, wav = read(wav_path)\n"
          ]
        },
        {
          "output_type": "stream",
          "name": "stdout",
          "text": [
            "phone : ['ᄌ', 'ᅵ', 'ᄀ', 'ᅮ', 'ᄀ', 'ᅡ', 'ᄈ', 'ᅡ', 'ᄅ', 'ᅳ', 'ᄀ', 'ᅦ', 'ᄇ', 'ᅧ', 'ᆫ', 'ᄒ', 'ᅪ', 'ᄒ', 'ᅡ', 'ᄀ', 'ᅩ', 'ᄋ', 'ᅵ', 'ᆮ', 'ᄄ', 'ᅡ']\n",
            "duration: [15  3  4  6  7 11  9  9  3  7  5 11  9 10  5  4  3  7  3  8  4  4  5 13\n",
            " 12  8]\n",
            "start : 0.32\n",
            ",end : 2.47\n",
            "\n"
          ]
        },
        {
          "output_type": "stream",
          "name": "stderr",
          "text": [
            "<ipython-input-25-396638cc7985>:75: WavFileWarning: Chunk (non-data) not understood, skipping it.\n",
            "  _, wav = read(wav_path)\n"
          ]
        },
        {
          "output_type": "stream",
          "name": "stdout",
          "text": [
            "phone : ['ᄀ', 'ᅳ', 'ᄂ', 'ᅳ', 'ᆫ', 'ᄀ', 'ᅩ', 'ᆼ', 'ᄋ', 'ᅳ', 'ᆯ', 'ᄎ', 'ᅡ', 'ᄂ', 'ᅳ', 'ᆫ', 'ᄎ', 'ᅥ', 'ᄏ', 'ᅡ', 'ᄆ', 'ᅧ', 'ᆫ', 'ᄉ', 'ᅥ', 'sp', 'ᄉ', 'ᅡ', 'ᆼ', 'ᄃ', 'ᅢ', 'ᄉ', 'ᅥ', 'ᆫ', 'ᄉ', 'ᅮ', 'ᄅ', 'ᅳ', 'ᆯ', 'ᄎ', 'ᅡ', 'ᆮ', 'ᄄ', 'ᅡ']\n",
            "duration: [11  6  6  6 11  7  6  4  3  5  5  8  5  4  4  7  6  5  9  6  7  9  7  8\n",
            " 15 14 13  6  6  4  6  5  6  5  6  6  3  3  7  9  4 18 10 13]\n",
            "start : 0.24\n",
            ",end : 3.88\n",
            "\n"
          ]
        },
        {
          "output_type": "stream",
          "name": "stderr",
          "text": [
            "<ipython-input-25-396638cc7985>:75: WavFileWarning: Chunk (non-data) not understood, skipping it.\n",
            "  _, wav = read(wav_path)\n"
          ]
        },
        {
          "output_type": "stream",
          "name": "stdout",
          "text": [
            "phone : ['ᄀ', 'ᅳ', 'ᄂ', 'ᅧ', 'ᄂ', 'ᅳ', 'ᆫ', 'sp', 'ᄎ', 'ᅵ', 'ᆯ', 'ᄂ', 'ᅧ', 'ᆫ', 'ᄀ', 'ᅡ', 'ᆫ', 'ᄉ', 'ᅡ', 'ᄀ', 'ᅱ', 'ᆫ', 'ᄂ', 'ᅡ', 'ᆷ', 'ᄌ', 'ᅡ', 'ᄎ', 'ᅵ', 'ᆫ', 'ᄀ', 'ᅮ', 'ᄅ', 'ᅳ', 'ᆯ', 'ᄎ', 'ᅡ', 'ᄇ', 'ᅥ', 'ᄅ', 'ᅵ', 'ᄀ', 'ᅩ', 'sp', 'ᄄ', 'ᅡ', 'ᆫ', 'ᄂ', 'ᅡ', 'ᆷ', 'ᄌ', 'ᅡ', 'ᄅ', 'ᅡ', 'ᆼ', 'ᄀ', 'ᅧ', 'ᆯ', 'ᄒ', 'ᅩ', 'ᆫ', 'ᄒ', 'ᅢ', 'ᆮ', 'ᄄ', 'ᅡ']\n",
            "duration: [14  5  6 11  6  7 18 12 13  6  4  3  6  5  6  5  7  6  6  6  5  5  5  6\n",
            "  7  6 10 12  2  7  5  6  5  6  5 10  5  6  7  6  5  7 16 21 13  9  8  5\n",
            "  6  6  7  4  6  5  6  6  7  3  4  4  3  4  5 13  9 13]\n",
            "start : 0.6\n",
            ",end : 6.09\n",
            "\n"
          ]
        },
        {
          "output_type": "stream",
          "name": "stderr",
          "text": [
            "<ipython-input-25-396638cc7985>:75: WavFileWarning: Chunk (non-data) not understood, skipping it.\n",
            "  _, wav = read(wav_path)\n"
          ]
        },
        {
          "output_type": "stream",
          "name": "stdout",
          "text": [
            "phone : ['ᄉ', 'ᅩ', 'ᄌ', 'ᅵ', 'ᄑ', 'ᅮ', 'ᄆ', 'ᅳ', 'ᆯ', 'ᄌ', 'ᅡ', 'ᆯ', 'ᄎ', 'ᅢ', 'ᆼ', 'ᄀ', 'ᅵ', 'ᄉ', 'ᅦ', 'ᄋ', 'ᅭ']\n",
            "duration: [13  5  5  8  8  5  6  7  5  9 12  4  9  4  5  4  7  9 13 16  4]\n",
            "start : 0.19\n",
            ",end : 2.03\n",
            "\n"
          ]
        },
        {
          "output_type": "stream",
          "name": "stderr",
          "text": [
            "<ipython-input-25-396638cc7985>:75: WavFileWarning: Chunk (non-data) not understood, skipping it.\n",
            "  _, wav = read(wav_path)\n"
          ]
        },
        {
          "output_type": "stream",
          "name": "stdout",
          "text": [
            "phone : ['ᄋ', 'ᅥ', 'ᆷ', 'ᄆ', 'ᅡ', 'ᄂ', 'ᅳ', 'ᆫ', 'sp', 'ᄋ', 'ᅡ', 'ᄈ', 'ᅡ', 'ᄅ', 'ᅳ', 'ᆯ', 'ᄋ', 'ᅥ', 'ᆷ', 'ᄎ', 'ᅥ', 'ᆼ', 'ᄎ', 'ᅢ', 'ᆼ', 'ᄀ', 'ᅵ', 'ᄉ', 'ᅵ', 'ᆫ', 'ᄃ', 'ᅡ']\n",
            "duration: [34  7  7  4  9  5 10 16  2  7  9 13  7  3  3  5  8  4  8  8  3  7  7  4\n",
            "  5  3  7  8  4 12 10 19]\n",
            "start : 0.0\n",
            ",end : 3.0\n",
            "\n"
          ]
        },
        {
          "output_type": "stream",
          "name": "stderr",
          "text": [
            "<ipython-input-25-396638cc7985>:75: WavFileWarning: Chunk (non-data) not understood, skipping it.\n",
            "  _, wav = read(wav_path)\n"
          ]
        },
        {
          "output_type": "stream",
          "name": "stdout",
          "text": [
            "phone : ['ᄇ', 'ᅵ', 'ᆫ', 'ᄏ', 'ᅡ', 'ᄂ', 'ᅳ', 'ᆯ', 'ᄎ', 'ᅢ', 'ᄋ', 'ᅮ', 'ᄉ', 'ᅵ', 'ᄋ', 'ᅩ']\n",
            "duration: [ 6  9  6  8  7  4  8  4 10  4  5  7 13  8 10 12]\n",
            "start : 0.38\n",
            ",end : 1.78\n",
            "\n"
          ]
        },
        {
          "output_type": "stream",
          "name": "stderr",
          "text": [
            "<ipython-input-25-396638cc7985>:75: WavFileWarning: Chunk (non-data) not understood, skipping it.\n",
            "  _, wav = read(wav_path)\n"
          ]
        },
        {
          "output_type": "stream",
          "name": "stdout",
          "text": [
            "phone : ['ᄀ', 'ᅵ', 'ᄅ', 'ᅳ', 'ᄆ', 'ᅳ', 'ᆯ', 'ᄀ', 'ᅡ', 'ᄃ', 'ᅳ', 'ᆨ', 'ᄎ', 'ᅢ', 'ᄋ', 'ᅯ', 'ᄌ', 'ᅮ', 'ᄉ', 'ᅦ', 'ᄋ', 'ᅭ']\n",
            "duration: [11  5  4  9  6 10  4 10  9  4  4  7  6  5  5  5  5  4 10 13 16  5]\n",
            "start : 0.28\n",
            ",end : 2.11\n",
            "\n"
          ]
        },
        {
          "output_type": "stream",
          "name": "stderr",
          "text": [
            "<ipython-input-25-396638cc7985>:75: WavFileWarning: Chunk (non-data) not understood, skipping it.\n",
            "  _, wav = read(wav_path)\n"
          ]
        },
        {
          "output_type": "stream",
          "name": "stdout",
          "text": [
            "phone : ['ᄌ', 'ᅦ', 'ᄌ', 'ᅡ', 'ᄂ', 'ᅦ', 'ᄂ', 'ᅳ', 'ᆫ', 'sp', 'ᄆ', 'ᅮ', 'ᄅ', 'ᅳ', 'ᆯ', 'ᄇ', 'ᅡ', 'ᆫ', 'ᄆ', 'ᅡ', 'ᆫ', 'ᄎ', 'ᅢ', 'ᄋ', 'ᅯ', 'ᄌ', 'ᅮ', 'ᄉ', 'ᅦ', 'ᄋ', 'ᅭ']\n",
            "duration: [17 11  9  7  5  9  4 11 11 12 15  6  5  8  5  7  8  5  6  6  7  9  3  4\n",
            "  8  4  4  8 16 14  6]\n",
            "start : 0.3\n",
            ",end : 3.2\n",
            "\n"
          ]
        },
        {
          "output_type": "stream",
          "name": "stderr",
          "text": [
            "<ipython-input-25-396638cc7985>:75: WavFileWarning: Chunk (non-data) not understood, skipping it.\n",
            "  _, wav = read(wav_path)\n"
          ]
        },
        {
          "output_type": "stream",
          "name": "stdout",
          "text": [
            "phone : ['ᄋ', 'ᅵ', 'ᆫ', 'ᄐ', 'ᅥ', 'ᄂ', 'ᅦ', 'ᆮ', 'ᄎ', 'ᅡ', 'ᄌ', 'ᅡ', 'ᄇ', 'ᅪ', 'ᄊ', 'ᅥ']\n",
            "duration: [24  6  5  4  7  5  7  4  8  5  5  6  7  5 17 18]\n",
            "start : 0.0\n",
            ",end : 1.55\n",
            "\n"
          ]
        },
        {
          "output_type": "stream",
          "name": "stderr",
          "text": [
            "<ipython-input-25-396638cc7985>:75: WavFileWarning: Chunk (non-data) not understood, skipping it.\n",
            "  _, wav = read(wav_path)\n"
          ]
        },
        {
          "output_type": "stream",
          "name": "stdout",
          "text": [
            "phone : ['ᄃ', 'ᅡ', 'ᄎ', 'ᅡ', 'ᄌ', 'ᅡ', 'ᄇ', 'ᅪ', 'ᆮ', 'ᄍ', 'ᅵ', 'ᄆ', 'ᅡ', 'ᆫ', 'ᄎ', 'ᅡ', 'ᄌ', 'ᅳ', 'ᆯ', 'ᄉ', 'ᅮ', 'ᄀ', 'ᅡ', 'ᄋ', 'ᅥ', 'ᆸ', 'ᄊ', 'ᅥ', 'ᄋ', 'ᅭ']\n",
            "duration: [14 10  8  5  6  7  6  3  5  9  5  8 14  7  9  3  5  3  4 10  4  4  3  6\n",
            "  4  6 11 17 20  3]\n",
            "start : 0.22\n",
            ",end : 2.76\n",
            "\n"
          ]
        },
        {
          "output_type": "stream",
          "name": "stderr",
          "text": [
            "<ipython-input-25-396638cc7985>:75: WavFileWarning: Chunk (non-data) not understood, skipping it.\n",
            "  _, wav = read(wav_path)\n"
          ]
        },
        {
          "output_type": "stream",
          "name": "stdout",
          "text": [
            "phone : ['ᄂ', 'ᅢ', 'ᄋ', 'ᅵ', 'ᆯ', 'ᄃ', 'ᅢ', 'ᄀ', 'ᅳ', 'ᄅ', 'ᅩ', 'ᄎ', 'ᅡ', 'ᄌ', 'ᅡ', 'ᄀ', 'ᅡ', 'ᄀ', 'ᅦ', 'ᆮ', 'ᄊ', 'ᅳ', 'ᆷ', 'ᄂ', 'ᅵ', 'ᄃ', 'ᅡ']\n",
            "duration: [13  3  4  8  4  4  8  7  5  3  7  8  4  5  5  6  5  4  4  3  8  2  6  5\n",
            "  3 10 20]\n",
            "start : 0.13\n",
            ",end : 2.04\n",
            "\n"
          ]
        },
        {
          "output_type": "stream",
          "name": "stderr",
          "text": [
            "<ipython-input-25-396638cc7985>:75: WavFileWarning: Chunk (non-data) not understood, skipping it.\n",
            "  _, wav = read(wav_path)\n"
          ]
        },
        {
          "output_type": "stream",
          "name": "stdout",
          "text": [
            "phone : ['ᄂ', 'ᅢ', 'ᄋ', 'ᅵ', 'ᆯ', 'ᄁ', 'ᅡ', 'ᄌ', 'ᅵ', 'ᄌ', 'ᅵ', 'ᄆ', 'ᅳ', 'ᆯ', 'ᄎ', 'ᅡ', 'ᄌ', 'ᅡ', 'ᄀ', 'ᅡ', 'ᄉ', 'ᅧ', 'ᄋ', 'ᅣ', 'ᄒ', 'ᅢ', 'ᄋ', 'ᅭ']\n",
            "duration: [14  6  2  5  5  6  8  6  9  8  4  5  7  4  6  4  5  5  6  5  6  5  3  3\n",
            "  2 24 17  4]\n",
            "start : 0.19\n",
            ",end : 2.33\n",
            "\n"
          ]
        },
        {
          "output_type": "stream",
          "name": "stderr",
          "text": [
            "<ipython-input-25-396638cc7985>:75: WavFileWarning: Chunk (non-data) not understood, skipping it.\n",
            "  _, wav = read(wav_path)\n"
          ]
        },
        {
          "output_type": "stream",
          "name": "stdout",
          "text": [
            "phone : ['ᄃ', 'ᅩ', 'ᄋ', 'ᅮ', 'ᄆ', 'ᅵ', 'ᄑ', 'ᅵ', 'ᄅ', 'ᅭ', 'ᄒ', 'ᅡ', 'ᄆ', 'ᅧ', 'ᆫ', 'sp', 'ᄂ', 'ᅡ', 'ᄅ', 'ᅳ', 'ᆯ', 'ᄎ', 'ᅡ', 'ᄌ', 'ᅡ', 'ᄋ', 'ᅪ']\n",
            "duration: [12  7  3  3  5  7  6  6  3  3 10  3  8 11 13 15 13  8  3  4  5  8  6  6\n",
            "  5  8 23]\n",
            "start : 0.16\n",
            ",end : 2.53\n",
            "\n"
          ]
        },
        {
          "output_type": "stream",
          "name": "stderr",
          "text": [
            "<ipython-input-25-396638cc7985>:75: WavFileWarning: Chunk (non-data) not understood, skipping it.\n",
            "  _, wav = read(wav_path)\n"
          ]
        },
        {
          "output_type": "stream",
          "name": "stdout",
          "text": [
            "phone : ['ᄋ', 'ᅳ', 'ᆫ', 'ᄒ', 'ᅢ', 'ᆼ', 'ᄋ', 'ᅦ', 'ᄉ', 'ᅥ', 'ᄃ', 'ᅩ', 'ᆫ', 'ᄎ', 'ᅡ', 'ᄌ', 'ᅡ', 'ᄋ', 'ᅪ', 'ᄋ', 'ᅣ', 'ᄒ', 'ᅢ']\n",
            "duration: [12  4  3  5  5  2  5  6  7 10  8  7  8  8  6  6  4  7  5  5  6  7 29]\n",
            "start : 0.23\n",
            ",end : 2.14\n",
            "\n"
          ]
        },
        {
          "output_type": "stream",
          "name": "stderr",
          "text": [
            "<ipython-input-25-396638cc7985>:75: WavFileWarning: Chunk (non-data) not understood, skipping it.\n",
            "  _, wav = read(wav_path)\n"
          ]
        },
        {
          "output_type": "stream",
          "name": "stdout",
          "text": [
            "phone : ['ᄆ', 'ᅡ', 'ᄂ', 'ᅳ', 'ᆫ', 'ᄇ', 'ᅢ', 'ᄋ', 'ᅮ', 'ᄃ', 'ᅳ', 'ᄅ', 'ᅵ', 'sp', 'ᄀ', 'ᅳ', 'ᄉ', 'ᅵ', 'ᄉ', 'ᅡ', 'ᆼ', 'ᄉ', 'ᅵ', 'ᄀ', 'ᅦ', 'ᄎ', 'ᅡ', 'ᆷ', 'ᄉ', 'ᅥ', 'ᄏ', 'ᅡ', 'ᄌ', 'ᅵ', 'sp', 'ᄋ', 'ᅡ', 'ᄂ', 'ᅡ', 'ᆮ', 'ᄄ', 'ᅡ']\n",
            "duration: [14  7  5  6  7  3  8  7  4  6  5  5 17 13 14  9  7  5  6  5  6 10  3  5\n",
            "  9  9  3  6  6  6 10  9 10  8  3  7  4  5  6 15  7 14]\n",
            "start : 0.13\n",
            ",end : 3.78\n",
            "\n"
          ]
        },
        {
          "output_type": "stream",
          "name": "stderr",
          "text": [
            "<ipython-input-25-396638cc7985>:75: WavFileWarning: Chunk (non-data) not understood, skipping it.\n",
            "  _, wav = read(wav_path)\n"
          ]
        },
        {
          "output_type": "stream",
          "name": "stdout",
          "text": [
            "phone : ['ᄀ', 'ᅡ', 'ᆸ', 'ᄍ', 'ᅡ', 'ᄀ', 'ᅵ', 'ᄉ', 'ᅵ', 'ᄇ', 'ᅮ', 'ᄆ', 'ᅩ', 'ᄂ', 'ᅵ', 'ᄆ', 'ᅵ', 'ᄋ', 'ᅩ', 'ᄉ', 'ᅧ', 'ᄉ', 'ᅥ', 'sp', 'ᄆ', 'ᅩ', 'ᄋ', 'ᅵ', 'ᄆ', 'ᅦ', 'ᄎ', 'ᅡ', 'ᆷ', 'ᄉ', 'ᅥ', 'ᄏ', 'ᅡ', 'ᄌ', 'ᅵ', 'ᄆ', 'ᅩ', 'ᄐ', 'ᅢ', 'ᄊ', 'ᅥ', 'ᄋ', 'ᅭ']\n",
            "duration: [15  6  5  8  5  6  7  9  6  4  5  7  6  6  5  5  3  6  4  6  9 11 23 14\n",
            " 11  7  3  3  5  7  8  4  3  6  6  7  5  4  5  6  6  9  5 13 18 17  4]\n",
            "start : 0.59\n",
            ",end : 4.57\n",
            "\n"
          ]
        },
        {
          "output_type": "stream",
          "name": "stderr",
          "text": [
            "<ipython-input-25-396638cc7985>:75: WavFileWarning: Chunk (non-data) not understood, skipping it.\n",
            "  _, wav = read(wav_path)\n"
          ]
        },
        {
          "output_type": "stream",
          "name": "stdout",
          "text": [
            "phone : ['ᄋ', 'ᅮ', 'ᄉ', 'ᅳ', 'ᄆ', 'ᅳ', 'ᆯ', 'ᄎ', 'ᅡ', 'ᄆ', 'ᅳ', 'ᆯ', 'ᄉ', 'ᅮ', 'ᄀ', 'ᅡ', 'ᄋ', 'ᅥ', 'ᆸ', 'ᄊ', 'ᅥ', 'ᄊ', 'ᅥ', 'ᄋ', 'ᅭ']\n",
            "duration: [18  7  8  4  6  3  4  9  4  4  5  2 10  4  5  5  4  3  6  7  8 12 17 14\n",
            "  9]\n",
            "start : 0.0\n",
            ",end : 2.07\n",
            "\n"
          ]
        },
        {
          "output_type": "stream",
          "name": "stderr",
          "text": [
            "<ipython-input-25-396638cc7985>:75: WavFileWarning: Chunk (non-data) not understood, skipping it.\n",
            "  _, wav = read(wav_path)\n"
          ]
        },
        {
          "output_type": "stream",
          "name": "stdout",
          "text": [
            "phone : ['ᄃ', 'ᅥ', 'ᄋ', 'ᅵ', 'ᄉ', 'ᅡ', 'ᆼ', 'ᄋ', 'ᅳ', 'ᆫ', 'ᄆ', 'ᅩ', 'ᆮ', 'ᄎ', 'ᅡ', 'ᄆ', 'ᅡ']\n",
            "duration: [13  6  7  5  7  7  5  4  4  9  7  5  6  9  5  8 20]\n",
            "start : 0.15\n",
            ",end : 1.62\n",
            "\n"
          ]
        },
        {
          "output_type": "stream",
          "name": "stderr",
          "text": [
            "<ipython-input-25-396638cc7985>:75: WavFileWarning: Chunk (non-data) not understood, skipping it.\n",
            "  _, wav = read(wav_path)\n"
          ]
        },
        {
          "output_type": "stream",
          "name": "stdout",
          "text": [
            "phone : ['ᄋ', 'ᅥ', 'ᆷ', 'ᄆ', 'ᅡ', 'ᄅ', 'ᅡ', 'ᆼ', 'ᄋ', 'ᅡ', 'ᄈ', 'ᅡ', 'ᄂ', 'ᅳ', 'ᆫ', 'sp', 'ᄒ', 'ᅡ', 'ᆼ', 'ᄉ', 'ᅡ', 'ᆼ', 'ᄀ', 'ᅡ', 'ᄎ', 'ᅵ', 'ᄉ', 'ᅡ', 'ᆼ', 'ᄋ', 'ᅳ', 'ᆯ', 'ᄎ', 'ᅡ', 'ᄅ', 'ᅵ', 'ᄉ', 'ᅦ', 'ᄋ', 'ᅭ']\n",
            "duration: [18  6  7  5  7  5  8  3  7  7 10  9  5  7 19  5 18  3  6  7  7  6  5  9\n",
            " 11 10  7  5  3  3  3  5  6  6  4  5  9 15 14  5]\n",
            "start : 0.0\n",
            ",end : 3.49\n",
            "\n"
          ]
        },
        {
          "output_type": "stream",
          "name": "stderr",
          "text": [
            "<ipython-input-25-396638cc7985>:75: WavFileWarning: Chunk (non-data) not understood, skipping it.\n",
            "  _, wav = read(wav_path)\n"
          ]
        },
        {
          "output_type": "stream",
          "name": "stdout",
          "text": [
            "phone : ['ᄋ', 'ᅥ', 'ᆯ', 'ᄅ', 'ᅳ', 'ᆫ', 'ᄀ', 'ᅵ', 'ᄋ', 'ᅮ', 'ᆫ', 'ᄎ', 'ᅡ', 'ᄅ', 'ᅵ', 'ᄉ', 'ᅧ', 'ᄋ', 'ᅣ', 'ᄌ', 'ᅭ']\n",
            "duration: [32  7  6  3  6  8  9  3  6  4  5  7  5  4  4  6  4  6  8 13 29]\n",
            "start : 0.0\n",
            ",end : 2.04\n",
            "\n"
          ]
        },
        {
          "output_type": "stream",
          "name": "stderr",
          "text": [
            "<ipython-input-25-396638cc7985>:75: WavFileWarning: Chunk (non-data) not understood, skipping it.\n",
            "  _, wav = read(wav_path)\n"
          ]
        },
        {
          "output_type": "stream",
          "name": "stdout",
          "text": [
            "phone : ['ᄀ', 'ᅭ', 'ᄎ', 'ᅡ', 'ᄅ', 'ᅩ', 'ᄋ', 'ᅦ', 'ᄉ', 'ᅥ', 'ᄌ', 'ᅥ', 'ᄅ', 'ᅳ', 'ᆯ', 'ᄎ', 'ᅡ', 'ᄌ', 'ᅳ', 'ᆯ', 'ᄉ', 'ᅮ', 'ᄋ', 'ᅵ', 'ᄊ', 'ᅳ', 'ᆯ', 'ᄀ', 'ᅥ', 'ᄋ', 'ᅨ', 'ᄋ', 'ᅭ']\n",
            "duration: [13  9  9  7  3  3  8  4 10 15  9  7  5  5  5  6  5  4  4  5  7  4  5  4\n",
            "  7  6  5  8  7  9  8 18  6]\n",
            "start : 0.29\n",
            ",end : 2.95\n",
            "\n"
          ]
        },
        {
          "output_type": "stream",
          "name": "stderr",
          "text": [
            "<ipython-input-25-396638cc7985>:75: WavFileWarning: Chunk (non-data) not understood, skipping it.\n",
            "  _, wav = read(wav_path)\n"
          ]
        },
        {
          "output_type": "stream",
          "name": "stdout",
          "text": [
            "phone : ['ᄋ', 'ᅵ', 'ᄎ', 'ᅢ', 'ᄀ', 'ᅳ', 'ᆯ', 'ᄎ', 'ᅡ', 'ᆮ', 'ᄁ', 'ᅩ', 'ᄋ', 'ᅵ', 'ᄊ', 'ᅥ', 'ᄋ', 'ᅭ']\n",
            "duration: [31 12 11  5  4  5  4  7  5  4  5  4  5  3 11 18 17  4]\n",
            "start : 0.0\n",
            ",end : 1.8\n",
            "\n"
          ]
        },
        {
          "output_type": "stream",
          "name": "stderr",
          "text": [
            "<ipython-input-25-396638cc7985>:75: WavFileWarning: Chunk (non-data) not understood, skipping it.\n",
            "  _, wav = read(wav_path)\n"
          ]
        },
        {
          "output_type": "stream",
          "name": "stdout",
          "text": [
            "phone : ['ᄋ', 'ᅡ', 'ᄀ', 'ᅵ', 'ᄂ', 'ᅳ', 'ᆫ', 'ᄉ', 'ᅩ', 'ᄅ', 'ᅵ', 'ᄀ', 'ᅡ', 'ᄂ', 'ᅡ', 'ᄂ', 'ᅳ', 'ᆫ', 'ᄍ', 'ᅩ', 'ᄀ', 'ᅳ', 'ᆯ', 'sp', 'ᄎ', 'ᅥ', 'ᄃ', 'ᅡ', 'ᄇ', 'ᅩ', 'ᆫ', 'ᄃ', 'ᅡ']\n",
            "duration: [37  8  5  8  4  3  9  6  6  5  6  6  8  7  6  4  5  8  9  6  7  3 16  9\n",
            " 12  5  6  9  6  6 11 11 15]\n",
            "start : 0.0\n",
            ",end : 3.16\n",
            "\n"
          ]
        },
        {
          "output_type": "stream",
          "name": "stderr",
          "text": [
            "<ipython-input-25-396638cc7985>:75: WavFileWarning: Chunk (non-data) not understood, skipping it.\n",
            "  _, wav = read(wav_path)\n"
          ]
        },
        {
          "output_type": "stream",
          "name": "stdout",
          "text": [
            "phone : ['ᄀ', 'ᅳ', 'ᄅ', 'ᅥ', 'ᆫ', 'ᄉ', 'ᅵ', 'ᄀ', 'ᅳ', 'ᄅ', 'ᅩ', 'sp', 'ᄉ', 'ᅡ', 'ᄅ', 'ᅡ', 'ᄆ', 'ᅳ', 'ᆯ', 'ᄈ', 'ᅡ', 'ᆫ', 'ᄒ', 'ᅵ', 'ᄎ', 'ᅥ', 'ᄃ', 'ᅡ', 'ᄇ', 'ᅩ', 'ᄌ', 'ᅵ', 'ᄆ', 'ᅡ']\n",
            "duration: [10  4  5  5  5  8  5  4  8  5 31 14 12  6  6  4  6  4  6  7 11  3  4  6\n",
            "  7  6  4  6  5  6  8  7  8 28]\n",
            "start : 0.36\n",
            ",end : 3.43\n",
            "\n"
          ]
        },
        {
          "output_type": "stream",
          "name": "stderr",
          "text": [
            "<ipython-input-25-396638cc7985>:75: WavFileWarning: Chunk (non-data) not understood, skipping it.\n",
            "  _, wav = read(wav_path)\n"
          ]
        },
        {
          "output_type": "stream",
          "name": "stdout",
          "text": [
            "phone : ['ᄂ', 'ᅡ', 'ᄂ', 'ᅳ', 'ᆫ', 'ᄋ', 'ᅵ', 'ᆯ', 'ᄂ', 'ᅧ', 'ᄂ', 'ᅦ', 'ᄒ', 'ᅡ', 'ᆫ', 'ᄇ', 'ᅥ', 'ᆫ', 'sp', 'ᄋ', 'ᅮ', 'ᄅ', 'ᅵ', 'ᄌ', 'ᅵ', 'ᆸ', 'ᄒ', 'ᅪ', 'ᄌ', 'ᅡ', 'ᆼ', 'ᄉ', 'ᅵ', 'ᄅ', 'ᅳ', 'ᆯ', 'ᄎ', 'ᅥ', 'ᆼ', 'ᄉ', 'ᅩ', 'ᄒ', 'ᅡ', 'ᆫ', 'ᄃ', 'ᅡ']\n",
            "duration: [13  7  5  5  2  6  7  5  4  8  7  5  7  3 10  6 11 10  8 14  7  5  5  4\n",
            "  6  3  4  5  6  5  6  8  4  3  5  5  9  4  6  9  3  3  6 10 12 12]\n",
            "start : 0.29\n",
            ",end : 3.74\n",
            "\n"
          ]
        },
        {
          "output_type": "stream",
          "name": "stderr",
          "text": [
            "<ipython-input-25-396638cc7985>:75: WavFileWarning: Chunk (non-data) not understood, skipping it.\n",
            "  _, wav = read(wav_path)\n"
          ]
        },
        {
          "output_type": "stream",
          "name": "stdout",
          "text": [
            "phone : ['ᄎ', 'ᅡ', 'ᆼ', 'ᄆ', 'ᅮ', 'ᄂ', 'ᅳ', 'ᆫ', 'ᄆ', 'ᅯ', 'ᆯ', 'ᄅ', 'ᅩ', 'ᄎ', 'ᅥ', 'ᆼ', 'ᄉ', 'ᅩ', 'ᄒ', 'ᅡ', 'ᄂ', 'ᅡ', 'ᄋ', 'ᅭ']\n",
            "duration: [12  5  7  4  5  5  4  6  5  9  6  4  7  8  4  6  7  2  3  9  5 13 16  4]\n",
            "start : 0.37\n",
            ",end : 2.18\n",
            "\n"
          ]
        },
        {
          "output_type": "stream",
          "name": "stderr",
          "text": [
            "<ipython-input-25-396638cc7985>:75: WavFileWarning: Chunk (non-data) not understood, skipping it.\n",
            "  _, wav = read(wav_path)\n"
          ]
        },
        {
          "output_type": "stream",
          "name": "stdout",
          "text": [
            "phone : ['ᄀ', 'ᅳ', 'ᄂ', 'ᅳ', 'ᆫ', 'ᄂ', 'ᅢ', 'ᄋ', 'ᅥ', 'ᆯ', 'ᄀ', 'ᅮ', 'ᄅ', 'ᅳ', 'ᆯ', 'ᄎ', 'ᅥ', 'ᄉ', 'ᅥ', 'sp', 'ᄌ', 'ᅡ', 'ᄀ', 'ᅵ', 'ᄉ', 'ᅩ', 'ᆫ', 'ᄆ', 'ᅩ', 'ᄀ', 'ᅳ', 'ᆯ', 'ᄈ', 'ᅵ', 'ᄋ', 'ᅥ', 'ᆮ', 'ᄄ', 'ᅡ']\n",
            "duration: [13  5  6  6  7  4  7  5  6  6  4  6  4  5  5  9  7 10 17 17 15  5  7  4\n",
            "  7  5  7  3  8  6  4  5  7  4  6  5 16  7 15]\n",
            "start : 0.18\n",
            ",end : 3.49\n",
            "\n"
          ]
        },
        {
          "output_type": "stream",
          "name": "stderr",
          "text": [
            "<ipython-input-25-396638cc7985>:75: WavFileWarning: Chunk (non-data) not understood, skipping it.\n",
            "  _, wav = read(wav_path)\n"
          ]
        },
        {
          "output_type": "stream",
          "name": "stdout",
          "text": [
            "phone : ['ᄐ', 'ᅦ', 'ᄂ', 'ᅵ', 'ᄉ', 'ᅳ', 'ᄅ', 'ᅳ', 'ᆯ', 'ᄎ', 'ᅵ', 'ᄃ', 'ᅡ', 'ᄀ', 'ᅡ', 'sp', 'ᄇ', 'ᅡ', 'ᆯ', 'ᄆ', 'ᅩ', 'ᄀ', 'ᅳ', 'ᆯ', 'ᄈ', 'ᅵ', 'ᄋ', 'ᅥ', 'ᄊ', 'ᅥ', 'ᄋ', 'ᅭ']\n",
            "duration: [15  5  5  6  7  4  3  5  3  7  5  5  9  8 18 15 13  7  6  4  6  3  5  5\n",
            "  6  3  5  7 11 18 13  7]\n",
            "start : 0.34\n",
            ",end : 3.12\n",
            "\n"
          ]
        },
        {
          "output_type": "stream",
          "name": "stderr",
          "text": [
            "<ipython-input-25-396638cc7985>:75: WavFileWarning: Chunk (non-data) not understood, skipping it.\n",
            "  _, wav = read(wav_path)\n"
          ]
        },
        {
          "output_type": "stream",
          "name": "stdout",
          "text": [
            "phone : ['ᄋ', 'ᅩ', 'ᄂ', 'ᅳ', 'ᆯ', 'ᄉ', 'ᅵ', 'ᄒ', 'ᅥ', 'ᆷ', 'ᄌ', 'ᅡ', 'ᆯ', 'ᄎ', 'ᅥ', 'ᄊ', 'ᅥ', 'ᄋ', 'ᅭ']\n",
            "duration: [44  8  4  8  4 10  4  4  4  8  7  6  5  8  5 12 13 15  8]\n",
            "start : 0.0\n",
            ",end : 2.06\n",
            "\n"
          ]
        },
        {
          "output_type": "stream",
          "name": "stderr",
          "text": [
            "<ipython-input-25-396638cc7985>:75: WavFileWarning: Chunk (non-data) not understood, skipping it.\n",
            "  _, wav = read(wav_path)\n"
          ]
        },
        {
          "output_type": "stream",
          "name": "stdout",
          "text": [
            "phone : ['ᄋ', 'ᅵ', 'ᄇ', 'ᅥ', 'ᆫ', 'ᄌ', 'ᅮ', 'ᄆ', 'ᅡ', 'ᆯ', 'ᄂ', 'ᅢ', 'ᄉ', 'ᅢ', 'ᆼ', 'ᄋ', 'ᅵ', 'ᄅ', 'ᅦ', 'sp', 'ᄂ', 'ᅥ', 'ᄅ', 'ᅳ', 'ᆯ', 'ᄎ', 'ᅩ', 'ᄃ', 'ᅢ', 'ᄒ', 'ᅡ', 'ᄀ', 'ᅩ', 'ᄉ', 'ᅵ', 'ᄑ', 'ᅳ', 'ᆫ', 'ᄃ', 'ᅦ']\n",
            "duration: [49  7  5  7  7  5  6  7  5  8  4  9 10  7  4  4  5  6 20 17 12  8  5  3\n",
            "  4  7  8  4  5  2  5  5  5  7  4  9  4 11  6 24]\n",
            "start : 0.0\n",
            ",end : 3.84\n",
            "\n"
          ]
        },
        {
          "output_type": "stream",
          "name": "stderr",
          "text": [
            "<ipython-input-25-396638cc7985>:75: WavFileWarning: Chunk (non-data) not understood, skipping it.\n",
            "  _, wav = read(wav_path)\n"
          ]
        },
        {
          "output_type": "stream",
          "name": "stdout",
          "text": [
            "phone : ['ᄀ', 'ᅳ', 'ᄂ', 'ᅧ', 'ᄂ', 'ᅳ', 'ᆫ', 'ᄂ', 'ᅡ', 'ᄅ', 'ᅳ', 'ᆯ', 'ᄌ', 'ᅡ', 'ᄀ', 'ᅵ', 'ᄌ', 'ᅵ', 'ᄇ', 'ᅳ', 'ᄅ', 'ᅩ', 'sp', 'ᄎ', 'ᅩ', 'ᄃ', 'ᅢ', 'ᄒ', 'ᅢ', 'ᆮ', 'ᄄ', 'ᅡ']\n",
            "duration: [12  4  6  8  5  5  6  5  8  4  5  4  8  7  5  6  6  7  5  5  5 13  4 10\n",
            "  7  6  3  6  4 15 10 12]\n",
            "start : 0.41\n",
            ",end : 2.92\n",
            "\n"
          ]
        },
        {
          "output_type": "stream",
          "name": "stderr",
          "text": [
            "<ipython-input-25-396638cc7985>:75: WavFileWarning: Chunk (non-data) not understood, skipping it.\n",
            "  _, wav = read(wav_path)\n"
          ]
        },
        {
          "output_type": "stream",
          "name": "stdout",
          "text": [
            "phone : ['ᄂ', 'ᅡ', 'ᆮ', 'ᄊ', 'ᅥ', 'ᆫ', 'ᄉ', 'ᅡ', 'ᄅ', 'ᅡ', 'ᆷ', 'ᄃ', 'ᅳ', 'ᆯ', 'ᄋ', 'ᅡ', 'ᄑ', 'ᅦ', 'ᄉ', 'ᅥ', 'ᄎ', 'ᅮ', 'ᄆ', 'ᅳ', 'ᆯ', 'ᄎ', 'ᅮ', 'ᄂ', 'ᅳ', 'ᆫ', 'ᄀ', 'ᅥ', 'ᆫ', 'sp', 'ᄂ', 'ᅡ', 'ᄒ', 'ᅡ', 'ᆫ', 'ᄐ', 'ᅦ', 'ᄂ', 'ᅳ', 'ᆫ', 'ᄌ', 'ᅥ', 'ᆼ', 'ᄆ', 'ᅡ', 'ᆯ', 'ᄋ', 'ᅥ', 'ᄅ', 'ᅧ', 'ᄋ', 'ᅮ', 'ᆫ', 'ᄋ', 'ᅵ', 'ᄅ', 'ᅵ', 'ᄋ', 'ᅣ']\n",
            "duration: [14  5  5  5  7  5  6  5  5  4  6  3  3  2  6  5 12  6  8 11 14  3  3  5\n",
            "  6  7  6  4  4  7  7  9 11 24 12  9  3  3  6  5  7  6  4  7  6  5  6  5\n",
            "  3  3  5  8  6  5  2  4  5  5  3  6  6  6 27]\n",
            "start : 0.23\n",
            ",end : 5.0\n",
            "\n"
          ]
        },
        {
          "output_type": "stream",
          "name": "stderr",
          "text": [
            "<ipython-input-25-396638cc7985>:75: WavFileWarning: Chunk (non-data) not understood, skipping it.\n",
            "  _, wav = read(wav_path)\n"
          ]
        },
        {
          "output_type": "stream",
          "name": "stdout",
          "text": [
            "phone : ['ᄀ', 'ᅳ', 'ᄂ', 'ᅧ', 'ᄋ', 'ᅪ', 'ᄂ', 'ᅡ', 'ᄂ', 'ᅳ', 'ᆫ', 'sp', 'ᄋ', 'ᅳ', 'ᄆ', 'ᅡ', 'ᄀ', 'ᅦ', 'ᄆ', 'ᅡ', 'ᆮ', 'ᄎ', 'ᅮ', 'ᄋ', 'ᅥ', 'sp', 'ᄐ', 'ᅢ', 'ᆼ', 'ᄀ', 'ᅩ', 'ᄅ', 'ᅳ', 'ᆯ', 'ᄎ', 'ᅯ', 'ᆮ', 'ᄄ', 'ᅡ']\n",
            "duration: [11  6  5  6  8 11  8  7  5  8 10  2  3  6  9  7  5  7  6  6  5 11  3  4\n",
            " 16 18 10  4  5  5  7  4  4  5  9  5 16 11 13]\n",
            "start : 0.36\n",
            ",end : 3.74\n",
            "\n"
          ]
        },
        {
          "output_type": "stream",
          "name": "stderr",
          "text": [
            "<ipython-input-25-396638cc7985>:75: WavFileWarning: Chunk (non-data) not understood, skipping it.\n",
            "  _, wav = read(wav_path)\n"
          ]
        },
        {
          "output_type": "stream",
          "name": "stdout",
          "text": [
            "phone : ['ᄀ', 'ᅧ', 'ᆯ', 'ᄒ', 'ᅩ', 'ᆫ', 'ᄎ', 'ᅮ', 'ᄏ', 'ᅡ', 'ᄒ', 'ᅢ']\n",
            "duration: [12  7  3  4  5  3  7  5  9  9 23 14]\n",
            "start : 0.14\n",
            ",end : 1.32\n",
            "\n"
          ]
        },
        {
          "output_type": "stream",
          "name": "stderr",
          "text": [
            "<ipython-input-25-396638cc7985>:75: WavFileWarning: Chunk (non-data) not understood, skipping it.\n",
            "  _, wav = read(wav_path)\n"
          ]
        },
        {
          "output_type": "stream",
          "name": "stdout",
          "text": [
            "phone : ['ᄒ', 'ᅡ', 'ᄅ', 'ᅡ', 'ᄇ', 'ᅥ', 'ᄌ', 'ᅵ', 'ᄋ', 'ᅴ', 'ᄒ', 'ᅬ', 'ᄀ', 'ᅡ', 'ᄇ', 'ᅳ', 'ᆯ', 'ᄎ', 'ᅮ', 'ᄏ', 'ᅡ', 'ᄒ', 'ᅡ', 'ᄂ', 'ᅳ', 'ᆫ', 'ᄌ', 'ᅡ', 'ᆫ', 'ᄎ', 'ᅵ', 'ᄅ', 'ᅳ', 'ᆯ', 'ᄋ', 'ᅧ', 'ᄅ', 'ᅥ', 'ᆮ', 'ᄄ', 'ᅡ']\n",
            "duration: [38  4  6  7  5  9  8  3  7  4  7  8  7  7  5  6  6  7  6 12  8  3  4  5\n",
            "  6  9 11  7  8  8  3  3  6  3  4  6  6  4 14 13 11]\n",
            "start : 0.13\n",
            ",end : 3.66\n",
            "\n"
          ]
        },
        {
          "output_type": "stream",
          "name": "stderr",
          "text": [
            "<ipython-input-25-396638cc7985>:75: WavFileWarning: Chunk (non-data) not understood, skipping it.\n",
            "  _, wav = read(wav_path)\n"
          ]
        },
        {
          "output_type": "stream",
          "name": "stdout",
          "text": [
            "phone : ['ᄀ', 'ᅳ', 'ᄉ', 'ᅡ', 'ᄅ', 'ᅡ', 'ᄆ', 'ᅳ', 'ᆫ', 'ᄒ', 'ᅡ', 'ᆫ', 'ᄉ', 'ᅵ', 'ᄀ', 'ᅡ', 'ᆫ', 'ᄌ', 'ᅥ', 'ᄂ', 'ᅦ', 'sp', 'ᄋ', 'ᅧ', 'ᄀ', 'ᅳ', 'ᄅ', 'ᅩ', 'ᄎ', 'ᅮ', 'ᆯ', 'ᄇ', 'ᅡ', 'ᆯ', 'ᄒ', 'ᅢ', 'ᄊ', 'ᅥ', 'ᄋ', 'ᅭ']\n",
            "duration: [12  6  7  6  6  5  7  4  4  9  2  4  8  4  3  8  5  6  7  5 16  3  3  9\n",
            "  6  3  4  7  9  3  3  5  4  4  3  5 12 14 16  4]\n",
            "start : 0.14\n",
            ",end : 3.06\n",
            "\n"
          ]
        },
        {
          "output_type": "stream",
          "name": "stderr",
          "text": [
            "<ipython-input-25-396638cc7985>:75: WavFileWarning: Chunk (non-data) not understood, skipping it.\n",
            "  _, wav = read(wav_path)\n"
          ]
        },
        {
          "output_type": "stream",
          "name": "stdout",
          "text": [
            "phone : ['ᄋ', 'ᅵ', 'ᄋ', 'ᅧ', 'ᄀ', 'ᅦ', 'ᄉ', 'ᅥ', 'ᄎ', 'ᅮ', 'ᆯ', 'ᄇ', 'ᅡ', 'ᆯ', 'ᄒ', 'ᅡ', 'ᄂ', 'ᅳ', 'ᆫ', 'ᄉ', 'ᅡ', 'ᄅ', 'ᅡ', 'ᆷ', 'ᄌ', 'ᅮ', 'ᆼ', 'ᄋ', 'ᅦ', 'ᄂ', 'ᅳ', 'ᆫ', 'sp', 'ᄀ', 'ᅮ', 'ᄂ', 'ᅵ', 'ᄂ', 'ᅵ', 'ᄆ', 'ᅡ', 'ᄂ', 'ᅡ']\n",
            "duration: [11  9  3  9  5  7  7  7  8  4  3  7  5  2  4  3  5  4  5  8  4  4  5  8\n",
            "  5  5  3  4  6  3  7 11  3  7  7  5  6  7  6  6 13  7 20]\n",
            "start : 0.24\n",
            ",end : 3.35\n",
            "\n"
          ]
        },
        {
          "output_type": "stream",
          "name": "stderr",
          "text": [
            "<ipython-input-25-396638cc7985>:75: WavFileWarning: Chunk (non-data) not understood, skipping it.\n",
            "  _, wav = read(wav_path)\n"
          ]
        },
        {
          "output_type": "stream",
          "name": "stdout",
          "text": [
            "phone : ['ᄋ', 'ᅵ', 'ᄀ', 'ᅵ', 'ᄎ', 'ᅡ', 'ᄂ', 'ᅳ', 'ᆫ', 'sp', 'ᄇ', 'ᅮ', 'ᄉ', 'ᅡ', 'ᄂ', 'ᅳ', 'ᆯ', 'ᄉ', 'ᅦ', 'ᄉ', 'ᅵ', 'ᄋ', 'ᅦ', 'ᄎ', 'ᅮ', 'ᆯ', 'ᄇ', 'ᅡ', 'ᆯ', 'ᄒ', 'ᅡ', 'ᆷ', 'ᄂ', 'ᅵ', 'ᄃ', 'ᅡ']\n",
            "duration: [37  9  7  6 11  9  6 10 15 14 12  6  8  8  5  9  4  7  9 10  3  4  4  9\n",
            "  2  4  5  6  3  4  3  7  4  6 11 17]\n",
            "start : 0.0\n",
            ",end : 3.42\n",
            "\n"
          ]
        },
        {
          "output_type": "stream",
          "name": "stderr",
          "text": [
            "<ipython-input-25-396638cc7985>:75: WavFileWarning: Chunk (non-data) not understood, skipping it.\n",
            "  _, wav = read(wav_path)\n"
          ]
        },
        {
          "output_type": "stream",
          "name": "stdout",
          "text": [
            "phone : ['ᄌ', 'ᅵ', 'ᄀ', 'ᅳ', 'ᆷ', 'ᄎ', 'ᅮ', 'ᆷ', 'ᄎ', 'ᅮ', 'ᆯ', 'ᄀ', 'ᅵ', 'ᄇ', 'ᅮ', 'ᄂ', 'ᅵ', 'ᄋ', 'ᅡ', 'ᄂ', 'ᅣ']\n",
            "duration: [14  6  4  4  9  7  4  5  7  6  3  5  7  5  5  6  4  5 11 11 25]\n",
            "start : 0.17\n",
            ",end : 1.95\n",
            "\n"
          ]
        },
        {
          "output_type": "stream",
          "name": "stderr",
          "text": [
            "<ipython-input-25-396638cc7985>:75: WavFileWarning: Chunk (non-data) not understood, skipping it.\n",
            "  _, wav = read(wav_path)\n"
          ]
        },
        {
          "output_type": "stream",
          "name": "stdout",
          "text": [
            "phone : ['ᄋ', 'ᅩ', 'ᄂ', 'ᅳ', 'ᆯ', 'ᄇ', 'ᅡ', 'ᄆ', 'ᅦ', 'ᄎ', 'ᅮ', 'ᆷ', 'ᄎ', 'ᅮ', 'ᄅ', 'ᅥ', 'ᄀ', 'ᅡ', 'ᆯ', 'ᄁ', 'ᅡ', 'ᄋ', 'ᅭ']\n",
            "duration: [20 10  3  6  4  8  4  7  6  8  3  7  6  3  5  5  6  6  6  7 12 13  6]\n",
            "start : 0.0\n",
            ",end : 1.87\n",
            "\n"
          ]
        },
        {
          "output_type": "stream",
          "name": "stderr",
          "text": [
            "<ipython-input-25-396638cc7985>:75: WavFileWarning: Chunk (non-data) not understood, skipping it.\n",
            "  _, wav = read(wav_path)\n"
          ]
        },
        {
          "output_type": "stream",
          "name": "stdout",
          "text": [
            "phone : ['ᄉ', 'ᅩ', 'ᄌ', 'ᅮ', 'ᄃ', 'ᅡ', 'ᄉ', 'ᅥ', 'ᆮ', 'ᄇ', 'ᅧ', 'ᆼ', 'ᄋ', 'ᅦ', 'sp', 'ᄀ', 'ᅧ', 'ᆯ', 'ᄀ', 'ᅮ', 'ᆨ', 'ᄎ', 'ᅱ', 'ᄒ', 'ᅡ', 'ᄀ', 'ᅩ', 'ᄆ', 'ᅡ', 'ᄅ', 'ᅡ', 'ᆮ', 'ᄄ', 'ᅡ']\n",
            "duration: [17  7  5  6  6  6  6  6  4  5  9  6  4 23 10 14  6  6  4  5  6 12  3  4\n",
            "  5  5  5  8  5  5  4 15  9 14]\n",
            "start : 0.16\n",
            ",end : 3.12\n",
            "\n"
          ]
        },
        {
          "output_type": "stream",
          "name": "stderr",
          "text": [
            "<ipython-input-25-396638cc7985>:75: WavFileWarning: Chunk (non-data) not understood, skipping it.\n",
            "  _, wav = read(wav_path)\n"
          ]
        },
        {
          "output_type": "stream",
          "name": "stdout",
          "text": [
            "phone : ['ᄂ', 'ᅡ', 'ᄋ', 'ᅡ', 'ᆫ', 'ᄎ', 'ᅱ', 'ᄒ', 'ᅢ', 'ᄊ', 'ᅥ']\n",
            "duration: [14  2 10  5  6 11  5  3  4 16 29]\n",
            "start : 0.2\n",
            ",end : 1.42\n",
            "\n"
          ]
        },
        {
          "output_type": "stream",
          "name": "stderr",
          "text": [
            "<ipython-input-25-396638cc7985>:75: WavFileWarning: Chunk (non-data) not understood, skipping it.\n",
            "  _, wav = read(wav_path)\n"
          ]
        },
        {
          "output_type": "stream",
          "name": "stdout",
          "text": [
            "phone : ['ᄂ', 'ᅢ', 'ᄀ', 'ᅡ', 'ᄒ', 'ᅡ', 'ᆫ', 'ᄆ', 'ᅡ', 'ᆯ', 'ᄎ', 'ᅱ', 'ᄉ', 'ᅩ', 'ᄒ', 'ᅡ', 'ᄀ', 'ᅦ', 'ᄊ', 'ᅥ', 'ᄋ', 'ᅭ']\n",
            "duration: [13  7  6  4  6  3  7  5  6  6  8  6  7  4  4  3  5  7 11 16 13  3]\n",
            "start : 0.09\n",
            ",end : 1.83\n",
            "\n"
          ]
        },
        {
          "output_type": "stream",
          "name": "stderr",
          "text": [
            "<ipython-input-25-396638cc7985>:75: WavFileWarning: Chunk (non-data) not understood, skipping it.\n",
            "  _, wav = read(wav_path)\n"
          ]
        },
        {
          "output_type": "stream",
          "name": "stdout",
          "text": [
            "phone : ['ᄌ', 'ᅬ', 'ᄉ', 'ᅩ', 'ᆼ', 'ᄒ', 'ᅡ', 'ᄌ', 'ᅵ', 'ᄆ', 'ᅡ', 'ᆫ', 'ᄋ', 'ᅨ', 'ᄋ', 'ᅣ', 'ᄀ', 'ᅳ', 'ᆯ', 'ᄎ', 'ᅱ', 'ᄉ', 'ᅩ', 'ᄒ', 'ᅡ', 'ᄀ', 'ᅩ', 'ᄉ', 'ᅵ', 'ᄑ', 'ᅥ', 'ᄋ', 'ᅭ']\n",
            "duration: [11  6  6  6  2  6  5  7  4  8  7  5  7  4  7  8  5  4  6  6  5  8  4  2\n",
            "  4  5  5  8  4  9 11 19  4]\n",
            "start : 0.15\n",
            ",end : 2.56\n",
            "\n"
          ]
        },
        {
          "output_type": "stream",
          "name": "stderr",
          "text": [
            "<ipython-input-25-396638cc7985>:75: WavFileWarning: Chunk (non-data) not understood, skipping it.\n",
            "  _, wav = read(wav_path)\n"
          ]
        },
        {
          "output_type": "stream",
          "name": "stdout",
          "text": [
            "phone : ['ᄋ', 'ᅥ', 'ᄌ', 'ᅦ', 'ᄂ', 'ᅩ', 'ᆼ', 'ᄀ', 'ᅮ', 'ᄅ', 'ᅳ', 'ᆯ', 'ᄒ', 'ᅡ', 'ᄃ', 'ᅡ', 'ᄏ', 'ᅩ', 'ᄅ', 'ᅳ', 'ᆯ', 'ᄃ', 'ᅡ', 'ᄎ', 'ᅥ', 'ᄊ', 'ᅥ', 'ᄋ', 'ᅭ']\n",
            "duration: [18  7  6  8  5  8  7  4  7  4  3  5  5  5  7 12  9  5  4  4  4  5  7 11\n",
            "  5 11 14 14  4]\n",
            "start : 0.0\n",
            ",end : 2.42\n",
            "\n"
          ]
        },
        {
          "output_type": "stream",
          "name": "stderr",
          "text": [
            "<ipython-input-25-396638cc7985>:75: WavFileWarning: Chunk (non-data) not understood, skipping it.\n",
            "  _, wav = read(wav_path)\n"
          ]
        },
        {
          "output_type": "stream",
          "name": "stdout",
          "text": [
            "phone : ['ᄋ', 'ᅥ', 'ᄍ', 'ᅥ', 'ᄃ', 'ᅡ', 'ᄃ', 'ᅡ', 'ᄎ', 'ᅵ', 'ᆫ', 'ᄀ', 'ᅥ', 'ᄋ', 'ᅣ']\n",
            "duration: [ 7  8  9  6  5  4  7  6 10  4  7  5  8  7 19]\n",
            "start : 0.22\n",
            ",end : 1.51\n",
            "\n"
          ]
        },
        {
          "output_type": "stream",
          "name": "stderr",
          "text": [
            "<ipython-input-25-396638cc7985>:75: WavFileWarning: Chunk (non-data) not understood, skipping it.\n",
            "  _, wav = read(wav_path)\n"
          ]
        },
        {
          "output_type": "stream",
          "name": "stdout",
          "text": [
            "phone : ['ᄋ', 'ᅵ', 'ᄆ', 'ᅮ', 'ᄂ', 'ᅳ', 'ᆫ', 'ᄌ', 'ᅡ', 'ᆯ', 'ᄋ', 'ᅡ', 'ᆫ', 'ᄃ', 'ᅡ', 'ᄐ', 'ᅧ', 'ᄋ', 'ᅭ']\n",
            "duration: [24  9  5  9  5  6  5  7  5  3  6  4  8  5  7 12  6 32  9]\n",
            "start : 0.0\n",
            ",end : 1.94\n",
            "\n"
          ]
        },
        {
          "output_type": "stream",
          "name": "stderr",
          "text": [
            "<ipython-input-25-396638cc7985>:75: WavFileWarning: Chunk (non-data) not understood, skipping it.\n",
            "  _, wav = read(wav_path)\n"
          ]
        },
        {
          "output_type": "stream",
          "name": "stdout",
          "text": [
            "phone : ['ᄏ', 'ᅥ', 'ᆷ', 'ᄑ', 'ᅲ', 'ᄐ', 'ᅥ', 'ᄀ', 'ᅡ', 'ᄆ', 'ᅥ', 'ᆷ', 'ᄎ', 'ᅯ', 'ᄉ', 'ᅥ', 'ᄎ', 'ᅡ', 'ᆼ', 'ᄋ', 'ᅵ', 'ᄃ', 'ᅡ', 'ᄎ', 'ᅵ', 'ᄌ', 'ᅵ', 'ᄋ', 'ᅡ', 'ᄂ', 'ᅡ']\n",
            "duration: [16  4  3  5  6  8  5  6  6  7  7  9  8  6 10  9 11  5  4  4  5  6  8 13\n",
            "  6  6  2  5 11  7 22]\n",
            "start : 0.18\n",
            ",end : 2.85\n",
            "\n"
          ]
        },
        {
          "output_type": "stream",
          "name": "stderr",
          "text": [
            "<ipython-input-25-396638cc7985>:75: WavFileWarning: Chunk (non-data) not understood, skipping it.\n",
            "  _, wav = read(wav_path)\n"
          ]
        },
        {
          "output_type": "stream",
          "name": "stdout",
          "text": [
            "phone : ['ᄏ', 'ᅡ', 'ᄃ', 'ᅳ', 'ᄅ', 'ᅳ', 'ᆯ', 'ᄃ', 'ᅡ', 'ᆫ', 'ᄆ', 'ᅡ', 'ᆯ', 'ᄀ', 'ᅵ', 'ᄋ', 'ᅱ', 'ᄋ', 'ᅦ', 'ᄃ', 'ᅢ', 'ᄉ', 'ᅦ', 'ᄋ', 'ᅭ']\n",
            "duration: [15  9  4  7  3 13  5  7  7  5  5  8  6  5  2 11  5  7  5  6 10  9 14 18\n",
            "  3]\n",
            "start : 0.08\n",
            ",end : 2.27\n",
            "\n"
          ]
        },
        {
          "output_type": "stream",
          "name": "stderr",
          "text": [
            "<ipython-input-25-396638cc7985>:75: WavFileWarning: Chunk (non-data) not understood, skipping it.\n",
            "  _, wav = read(wav_path)\n"
          ]
        },
        {
          "output_type": "stream",
          "name": "stdout",
          "text": [
            "phone : ['ᄀ', 'ᅳ', 'ᄅ', 'ᅥ', 'ᄏ', 'ᅦ', 'ᄆ', 'ᅥ', 'ᄀ', 'ᅥ', 'ᄃ', 'ᅢ', 'ᄂ', 'ᅵ', 'ᄁ', 'ᅡ', 'ᄉ', 'ᅡ', 'ᄅ', 'ᅵ', 'ᄋ', 'ᅡ', 'ᆫ', 'ᄈ', 'ᅡ', 'ᄌ', 'ᅵ', 'ᄌ', 'ᅵ']\n",
            "duration: [13  3  4  7  9  4  8  7  8  4  5  7  7  6 12 22  9  7  3  4  6  6  7  7\n",
            "  8  8  9 10 38]\n",
            "start : 0.2\n",
            ",end : 3.08\n",
            "\n"
          ]
        },
        {
          "output_type": "stream",
          "name": "stderr",
          "text": [
            "<ipython-input-25-396638cc7985>:75: WavFileWarning: Chunk (non-data) not understood, skipping it.\n",
            "  _, wav = read(wav_path)\n"
          ]
        },
        {
          "output_type": "stream",
          "name": "stdout",
          "text": [
            "phone : ['ᄌ', 'ᅵ', 'ᆯ', 'ᄆ', 'ᅮ', 'ᄂ', 'ᅦ', 'ᄃ', 'ᅢ', 'ᄃ', 'ᅡ', 'ᄑ', 'ᅡ', 'ᄉ', 'ᅦ', 'ᄋ', 'ᅭ']\n",
            "duration: [ 9  6  4  6  5  5  8  5  5  5  8  9  7 11 10 15  5]\n",
            "start : 0.42\n",
            ",end : 1.85\n",
            "\n"
          ]
        },
        {
          "output_type": "stream",
          "name": "stderr",
          "text": [
            "<ipython-input-25-396638cc7985>:75: WavFileWarning: Chunk (non-data) not understood, skipping it.\n",
            "  _, wav = read(wav_path)\n"
          ]
        },
        {
          "output_type": "stream",
          "name": "stdout",
          "text": [
            "phone : ['ᄋ', 'ᅥ', 'ᄅ', 'ᅳ', 'ᆫ', 'ᄃ', 'ᅳ', 'ᄅ', 'ᅦ', 'ᄀ', 'ᅦ', 'ᄂ', 'ᅳ', 'ᆫ', 'sp', 'ᄋ', 'ᅨ', 'ᄂ', 'ᅡ', 'sp', 'ᄋ', 'ᅡ', 'ᄂ', 'ᅵ', 'ᄋ', 'ᅭ', 'ᄅ', 'ᅡ', 'ᄀ', 'ᅩ', 'ᄃ', 'ᅢ', 'ᄃ', 'ᅡ', 'ᄑ', 'ᅢ', 'ᄋ', 'ᅣ', 'ᄒ', 'ᅡ', 'ᆷ', 'ᄂ', 'ᅵ', 'ᄃ', 'ᅡ']\n",
            "duration: [18  9  4  6  6  3  3  5  7  5  9  5 11 12  6 21 17  8 15  3  7  7  7  4\n",
            "  3  8  5  7  7  9  6  7  4  8  9  4  5  5  2  4  7  6  5  9 20]\n",
            "start : 0.0\n",
            ",end : 3.93\n",
            "\n"
          ]
        },
        {
          "output_type": "stream",
          "name": "stderr",
          "text": [
            "<ipython-input-25-396638cc7985>:75: WavFileWarning: Chunk (non-data) not understood, skipping it.\n",
            "  _, wav = read(wav_path)\n"
          ]
        },
        {
          "output_type": "stream",
          "name": "stdout",
          "text": [
            "phone : ['ᄀ', 'ᅳ', 'ᄂ', 'ᅧ', 'ᄂ', 'ᅳ', 'ᆫ', 'ᄂ', 'ᅡ', 'ᄅ', 'ᅳ', 'ᆯ', 'sp', 'ᄄ', 'ᅡ', 'ᆯ', 'ᄎ', 'ᅥ', 'ᄅ', 'ᅥ', 'ᆷ', 'ᄃ', 'ᅢ', 'ᄒ', 'ᅡ', 'ᆫ', 'ᄃ', 'ᅡ']\n",
            "duration: [20  5  6  7  5  6  8  5  9  3  4 20 13 11  8  4  8  7  4  4  7  6  7  7\n",
            "  3 11 14 12]\n",
            "start : 0.0\n",
            ",end : 2.61\n",
            "\n"
          ]
        },
        {
          "output_type": "stream",
          "name": "stderr",
          "text": [
            "<ipython-input-25-396638cc7985>:75: WavFileWarning: Chunk (non-data) not understood, skipping it.\n",
            "  _, wav = read(wav_path)\n"
          ]
        },
        {
          "output_type": "stream",
          "name": "stdout",
          "text": [
            "phone : ['ᄋ', 'ᅵ', 'ᄆ', 'ᅮ', 'ᆫ', 'ᄌ', 'ᅦ', 'ᄋ', 'ᅦ', 'ᄃ', 'ᅢ', 'ᄒ', 'ᅢ', 'ᄆ', 'ᅡ', 'ᆯ', 'ᄒ', 'ᅢ', 'ᄇ', 'ᅩ', 'ᆯ', 'ᄉ', 'ᅡ', 'ᄅ', 'ᅡ', 'ᆷ']\n",
            "duration: [35 10  5  8  9  6  3  8  4  5  4 12  4  7  6  4  4  4  4  6  4  9 10  5\n",
            " 12  8]\n",
            "start : 0.0\n",
            ",end : 2.28\n",
            "\n"
          ]
        },
        {
          "output_type": "stream",
          "name": "stderr",
          "text": [
            "<ipython-input-25-396638cc7985>:75: WavFileWarning: Chunk (non-data) not understood, skipping it.\n",
            "  _, wav = read(wav_path)\n"
          ]
        },
        {
          "output_type": "stream",
          "name": "stdout",
          "text": [
            "phone : ['ᄀ', 'ᅳ', 'ᄀ', 'ᅢ', 'ᄂ', 'ᅳ', 'ᆫ', 'sp', 'ᄂ', 'ᅡ', 'ᆮ', 'ᄊ', 'ᅥ', 'ᆫ', 'ᄉ', 'ᅡ', 'ᄅ', 'ᅡ', 'ᄆ', 'ᅵ', 'ᄃ', 'ᅡ', 'ᄀ', 'ᅡ', 'ᄀ', 'ᅡ', 'ᄆ', 'ᅧ', 'ᆫ', 'sp', 'ᄌ', 'ᅵ', 'ᆫ', 'ᄂ', 'ᅳ', 'ᆫ', 'ᄃ', 'ᅡ']\n",
            "duration: [25 13  6 11  5 10 11 16 13  5  4  5  6  5  5  6  6  5  6  8  6  9  6  6\n",
            "  7  9  7 10 13  3  9  4  7  4  7  7 15 13]\n",
            "start : 0.0\n",
            ",end : 3.64\n",
            "\n"
          ]
        },
        {
          "output_type": "stream",
          "name": "stderr",
          "text": [
            "<ipython-input-25-396638cc7985>:75: WavFileWarning: Chunk (non-data) not understood, skipping it.\n",
            "  _, wav = read(wav_path)\n"
          ]
        },
        {
          "output_type": "stream",
          "name": "stdout",
          "text": [
            "phone : ['ᄂ', 'ᅢ', 'ᄀ', 'ᅡ', 'ᄀ', 'ᅳ', 'ᄂ', 'ᅧ', 'ᄋ', 'ᅦ', 'ᄀ', 'ᅦ', 'ᄃ', 'ᅡ', 'ᄀ', 'ᅡ', 'ᄀ', 'ᅡ', 'ᄌ', 'ᅡ', 'sp', 'ᄀ', 'ᅳ', 'ᄂ', 'ᅧ', 'ᄋ', 'ᅴ', 'ᄋ', 'ᅥ', 'ᆯ', 'ᄀ', 'ᅮ', 'ᄅ', 'ᅵ', 'sp', 'ᄎ', 'ᅡ', 'ᆼ', 'ᄇ', 'ᅢ', 'ᄏ', 'ᅢ', 'ᄌ', 'ᅥ', 'ᆮ', 'ᄄ', 'ᅡ']\n",
            "duration: [13  6  6  9  7  5  6  7  6  5  7 13  8  6  7  6  7  8 12 21 24 13  6  6\n",
            "  3  8  3  3  4  7  5  7  5 15 18 14  4  6  4  6  9  5  5  6 15 11 15]\n",
            "start : 0.37\n",
            ",end : 4.92\n",
            "\n"
          ]
        },
        {
          "output_type": "stream",
          "name": "stderr",
          "text": [
            "<ipython-input-25-396638cc7985>:75: WavFileWarning: Chunk (non-data) not understood, skipping it.\n",
            "  _, wav = read(wav_path)\n"
          ]
        },
        {
          "output_type": "stream",
          "name": "stdout",
          "text": [
            "phone : ['ᄑ', 'ᅩ', 'ᆨ', 'ᄑ', 'ᅮ', 'ᆼ', 'ᄋ', 'ᅵ', 'ᄃ', 'ᅡ', 'ᄀ', 'ᅡ', 'ᄋ', 'ᅩ', 'ᄌ', 'ᅡ', 'sp', 'ᄒ', 'ᅡ', 'ᄂ', 'ᅳ', 'ᄅ', 'ᅵ', 'ᄋ', 'ᅥ', 'ᄃ', 'ᅮ', 'ᄋ', 'ᅯ', 'ᄌ', 'ᅥ', 'ᆮ', 'ᄄ', 'ᅡ']\n",
            "duration: [10  6  7  7  5  2  4  8  6  8  6  3  7  6 12 19 18 12  5  4  6  4  9 10\n",
            "  8  6  3  2  9  7  6 16  8 12]\n",
            "start : 0.1\n",
            ",end : 3.13\n",
            "\n"
          ]
        },
        {
          "output_type": "stream",
          "name": "stderr",
          "text": [
            "<ipython-input-25-396638cc7985>:75: WavFileWarning: Chunk (non-data) not understood, skipping it.\n",
            "  _, wav = read(wav_path)\n"
          ]
        },
        {
          "output_type": "stream",
          "name": "stdout",
          "text": [
            "phone : ['ᄀ', 'ᅳ', 'ᄂ', 'ᅧ', 'ᄀ', 'ᅡ', 'sp', 'ᄂ', 'ᅢ', 'ᄀ', 'ᅦ', 'ᄃ', 'ᅡ', 'ᄀ', 'ᅡ', 'ᄋ', 'ᅪ', 'ᆮ', 'ᄄ', 'ᅡ']\n",
            "duration: [12  4  5  9  9 17 30  9  6  6  9  8  5  6  3  8  4 18  8 14]\n",
            "start : 0.32\n",
            ",end : 2.52\n",
            "\n"
          ]
        },
        {
          "output_type": "stream",
          "name": "stderr",
          "text": [
            "<ipython-input-25-396638cc7985>:75: WavFileWarning: Chunk (non-data) not understood, skipping it.\n",
            "  _, wav = read(wav_path)\n"
          ]
        },
        {
          "output_type": "stream",
          "name": "stdout",
          "text": [
            "phone : ['ᄀ', 'ᅳ', 'ᄂ', 'ᅳ', 'ᆫ', 'ᄒ', 'ᅵ', 'ᄆ', 'ᅵ', 'ᄃ', 'ᅡ', 'ᄒ', 'ᅡ', 'ᆯ', 'ᄄ', 'ᅢ', 'ᄁ', 'ᅡ', 'ᄌ', 'ᅵ', 'sp', 'ᄀ', 'ᅨ', 'ᄉ', 'ᅩ', 'ᆨ', 'ᄉ', 'ᅩ', 'ᄅ', 'ᅵ', 'ᄎ', 'ᅥ', 'ᆮ', 'ᄄ', 'ᅡ']\n",
            "duration: [14  6  6  5  2  7  5  5  8  7  9  2  3  5  6  7 10  9  9 18 17 12  8  7\n",
            "  6  5  7  4  4  8  9  5 15  9 16]\n",
            "start : 0.2\n",
            ",end : 3.4\n",
            "\n"
          ]
        },
        {
          "output_type": "stream",
          "name": "stderr",
          "text": [
            "<ipython-input-25-396638cc7985>:75: WavFileWarning: Chunk (non-data) not understood, skipping it.\n",
            "  _, wav = read(wav_path)\n"
          ]
        },
        {
          "output_type": "stream",
          "name": "stdout",
          "text": [
            "phone : ['ᄇ', 'ᅮ', 'ᄆ', 'ᅩ', 'ᄂ', 'ᅵ', 'ᄆ', 'ᅳ', 'ᆯ', 'ᄉ', 'ᅵ', 'ᆯ', 'ᄆ', 'ᅡ', 'ᆼ', 'ᄉ', 'ᅵ', 'ᄏ', 'ᅵ', 'ᄌ', 'ᅵ', 'ᄋ', 'ᅡ', 'ᆫ', 'ᄏ', 'ᅵ', 'ᄋ', 'ᅱ', 'ᄒ', 'ᅢ', 'sp', 'ᄎ', 'ᅬ', 'ᄉ', 'ᅥ', 'ᄂ', 'ᅳ', 'ᆯ', 'ᄃ', 'ᅡ', 'ᄒ', 'ᅡ', 'ᄀ', 'ᅦ', 'ᆮ', 'ᄄ', 'ᅡ']\n",
            "duration: [11  4  8  6  5  3  6  6  5  7  7  3  6  4  5  7  3 10  5  6  3  5  6  7\n",
            " 10  2 11 17  3  8 19 11  4  7  6  5  8  5  6  7  6  4  7  6 14  8 16]\n",
            "start : 0.3\n",
            ",end : 4.1\n",
            "\n"
          ]
        },
        {
          "output_type": "stream",
          "name": "stderr",
          "text": [
            "<ipython-input-25-396638cc7985>:75: WavFileWarning: Chunk (non-data) not understood, skipping it.\n",
            "  _, wav = read(wav_path)\n"
          ]
        },
        {
          "output_type": "stream",
          "name": "stdout",
          "text": [
            "phone : ['ᄌ', 'ᅡ', 'ᄀ', 'ᅵ', 'ᄌ', 'ᅥ', 'ᄂ', 'ᅦ', 'sp', 'ᄋ', 'ᅵ', 'ᄃ', 'ᅡ', 'ᆼ', 'ᄂ', 'ᅳ', 'ᆫ', 'ᄀ', 'ᅥ', 'ᄋ', 'ᅵ', 'ᆮ', 'ᄍ', 'ᅵ', 'ᄆ', 'ᅡ', 'ᄅ', 'ᅡ']\n",
            "duration: [14  8  4  6  7  9  4 23  5 18  7  7  4  8  3  4  5  7  7  6  4  4 11  6\n",
            "  6 11 10 18]\n",
            "start : 0.13\n",
            ",end : 2.76\n",
            "\n"
          ]
        },
        {
          "output_type": "stream",
          "name": "stderr",
          "text": [
            "<ipython-input-25-396638cc7985>:75: WavFileWarning: Chunk (non-data) not understood, skipping it.\n",
            "  _, wav = read(wav_path)\n"
          ]
        },
        {
          "output_type": "stream",
          "name": "stdout",
          "text": [
            "phone : ['ᄇ', 'ᅡ', 'ᄃ', 'ᅡ', 'ᄀ', 'ᅳ', 'ᆯ', 'ᄃ', 'ᅡ', 'ᄁ', 'ᅡ', 'ᄅ', 'ᅡ']\n",
            "duration: [ 7  7  6  8  6  9  4  7  8 10 10  9 16]\n",
            "start : 0.35\n",
            ",end : 1.6\n",
            "\n"
          ]
        },
        {
          "output_type": "stream",
          "name": "stderr",
          "text": [
            "<ipython-input-25-396638cc7985>:75: WavFileWarning: Chunk (non-data) not understood, skipping it.\n",
            "  _, wav = read(wav_path)\n"
          ]
        },
        {
          "output_type": "stream",
          "name": "stdout",
          "text": [
            "phone : ['ᄇ', 'ᅳ', 'ᆯ', 'ᄅ', 'ᅡ', 'ᄋ', 'ᅮ', 'ᄉ', 'ᅳ', 'ᄋ', 'ᅦ', 'sp', 'ᄇ', 'ᅳ', 'ᄅ', 'ᅩ', 'ᄎ', 'ᅵ', 'ᄅ', 'ᅳ', 'ᆯ', 'ᄃ', 'ᅡ', 'ᄅ', 'ᅡ', 'ᆮ', 'ᄄ', 'ᅡ']\n",
            "duration: [11  3  4  4  6  5  4 13  4  2 18  2  7  4  5  8 11  3  4  4  4  7  4  5\n",
            "  6 14  8 17]\n",
            "start : 0.28\n",
            ",end : 2.46\n",
            "\n"
          ]
        },
        {
          "output_type": "stream",
          "name": "stderr",
          "text": [
            "<ipython-input-25-396638cc7985>:75: WavFileWarning: Chunk (non-data) not understood, skipping it.\n",
            "  _, wav = read(wav_path)\n"
          ]
        },
        {
          "output_type": "stream",
          "name": "stdout",
          "text": [
            "phone : ['ᄐ', 'ᅢ', 'ᄀ', 'ᅳ', 'ᆨ', 'ᄁ', 'ᅵ', 'ᄅ', 'ᅳ', 'ᆯ', 'ᄃ', 'ᅡ', 'ᄉ', 'ᅦ', 'ᄋ', 'ᅭ']\n",
            "duration: [ 9  5  5  6  6  4  6  3  4  4  5  9  7 14 17  4]\n",
            "start : 0.28\n",
            ",end : 1.54\n",
            "\n"
          ]
        },
        {
          "output_type": "stream",
          "name": "stderr",
          "text": [
            "<ipython-input-25-396638cc7985>:75: WavFileWarning: Chunk (non-data) not understood, skipping it.\n",
            "  _, wav = read(wav_path)\n"
          ]
        },
        {
          "output_type": "stream",
          "name": "stdout",
          "text": [
            "phone : ['ᄋ', 'ᅥ', 'ᆷ', 'ᄆ', 'ᅡ', 'ᄀ', 'ᅡ', 'ᄃ', 'ᅩ', 'ᄅ', 'ᅡ', 'ᄀ', 'ᅡ', 'ᄉ', 'ᅵ', 'ᆫ', 'ᄒ', 'ᅮ', 'sp', 'ᄆ', 'ᅩ', 'ᄃ', 'ᅳ', 'ᆫ', 'ᄀ', 'ᅥ', 'ᄉ', 'ᅵ', 'ᄃ', 'ᅡ', 'ᆯ', 'ᄅ', 'ᅡ', 'ᄌ', 'ᅥ', 'ᄊ', 'ᅥ', 'ᄋ', 'ᅭ']\n",
            "duration: [29  6  7  4  7  5  9  6  6  5  6  5  5  9  6  3  4 21 13 14 10  5  5  8\n",
            "  6  8  8  7  7  5  3  6  4  5  5 14 15 17  4]\n",
            "start : 0.0\n",
            ",end : 3.63\n",
            "\n"
          ]
        },
        {
          "output_type": "stream",
          "name": "stderr",
          "text": [
            "<ipython-input-25-396638cc7985>:75: WavFileWarning: Chunk (non-data) not understood, skipping it.\n",
            "  _, wav = read(wav_path)\n"
          ]
        },
        {
          "output_type": "stream",
          "name": "stdout",
          "text": [
            "phone : ['ᄌ', 'ᅥ', 'ᄂ', 'ᅳ', 'ᆫ', 'ᄋ', 'ᅡ', 'ᄂ', 'ᅢ', 'ᄃ', 'ᅥ', 'ᆨ', 'ᄈ', 'ᅮ', 'ᄂ', 'ᅦ', 'sp', 'ᄆ', 'ᅡ', 'ᄂ', 'ᅵ', 'ᄃ', 'ᅡ', 'ᆯ', 'ᄅ', 'ᅡ', 'ᄌ', 'ᅥ', 'ᆮ', 'ᄊ', 'ᅳ', 'ᆷ', 'ᄂ', 'ᅵ', 'ᄃ', 'ᅡ']\n",
            "duration: [13  7  5  6  3  8  4  4  7  6  6  5  7  7  6 18 23  7 10  6  5  6  6  5\n",
            "  5  4  5  5  4  7  4  8  4  5  9 21]\n",
            "start : 0.35\n",
            ",end : 3.39\n",
            "\n"
          ]
        },
        {
          "output_type": "stream",
          "name": "stderr",
          "text": [
            "<ipython-input-25-396638cc7985>:75: WavFileWarning: Chunk (non-data) not understood, skipping it.\n",
            "  _, wav = read(wav_path)\n"
          ]
        },
        {
          "output_type": "stream",
          "name": "stdout",
          "text": [
            "phone : ['ᄀ', 'ᅳ', 'ᄂ', 'ᅳ', 'ᆫ', 'ᄀ', 'ᅧ', 'ᆯ', 'ᄉ', 'ᅳ', 'ᆼ', 'ᄌ', 'ᅥ', 'ᄆ', 'ᅳ', 'ᆯ', 'ᄒ', 'ᅣ', 'ᆼ', 'ᄒ', 'ᅢ', 'sp', 'ᄌ', 'ᅥ', 'ᆫ', 'ᄉ', 'ᅩ', 'ᆼ', 'ᄂ', 'ᅧ', 'ᄀ', 'ᅳ', 'ᄅ', 'ᅩ', 'ᄃ', 'ᅡ', 'ᆯ', 'ᄅ', 'ᅧ', 'ᆮ', 'ᄄ', 'ᅡ']\n",
            "duration: [11  7  4  5  8  6  5  5  6  5  7  6  5  5  3  3  6  9  5  8 11 18 13  5\n",
            "  6  6  6  5  4  8  4  5  3  5  6  5  6  5  5 14 11 12]\n",
            "start : 0.23\n",
            ",end : 3.5\n",
            "\n"
          ]
        },
        {
          "output_type": "stream",
          "name": "stderr",
          "text": [
            "<ipython-input-25-396638cc7985>:75: WavFileWarning: Chunk (non-data) not understood, skipping it.\n",
            "  _, wav = read(wav_path)\n"
          ]
        },
        {
          "output_type": "stream",
          "name": "stdout",
          "text": [
            "phone : ['ᄀ', 'ᅳ', 'ᄋ', 'ᅩ', 'ᄐ', 'ᅩ', 'ᄇ', 'ᅡ', 'ᄋ', 'ᅵ', 'ᄂ', 'ᅳ', 'ᆫ', 'sp', 'ᄉ', 'ᅵ', 'ᄉ', 'ᅩ', 'ᆨ', 'ᄋ', 'ᅲ', 'ᆨ', 'ᄊ', 'ᅵ', 'ᆸ', 'ᄏ', 'ᅵ', 'ᆯ', 'ᄅ', 'ᅩ', 'ᄅ', 'ᅩ', 'ᄃ', 'ᅡ', 'ᆯ', 'ᄅ', 'ᅧ', 'ᄊ', 'ᅥ', 'ᄋ', 'ᅭ']\n",
            "duration: [17  5  5  7  8  6  6  3  9  4  4 16  9 14 10  7  4  6  7  3  2  4  6  3\n",
            "  3  3  4  5  3  7  4  6  5  5  7  4  6 14 14 19  4]\n",
            "start : 0.25\n",
            ",end : 3.48\n",
            "\n"
          ]
        },
        {
          "output_type": "stream",
          "name": "stderr",
          "text": [
            "<ipython-input-25-396638cc7985>:75: WavFileWarning: Chunk (non-data) not understood, skipping it.\n",
            "  _, wav = read(wav_path)\n"
          ]
        },
        {
          "output_type": "stream",
          "name": "stdout",
          "text": [
            "phone : ['ᄑ', 'ᅩ', 'ᄃ', 'ᅩ', 'ᄀ', 'ᅡ', 'sp', 'ᄂ', 'ᅡ', 'ᄆ', 'ᅮ', 'ᄋ', 'ᅦ', 'ᄃ', 'ᅡ', 'ᆯ', 'ᄅ', 'ᅧ', 'ᄋ', 'ᅵ', 'ᄊ', 'ᅥ', 'ᆮ', 'ᄄ', 'ᅡ']\n",
            "duration: [18  6  6  9  7 15  3  7  9  6  3  3  9  8  6  6  3  5  4  3 10  7 14 11\n",
            " 12]\n",
            "start : 0.16\n",
            ",end : 2.36\n",
            "\n"
          ]
        },
        {
          "output_type": "stream",
          "name": "stderr",
          "text": [
            "<ipython-input-25-396638cc7985>:75: WavFileWarning: Chunk (non-data) not understood, skipping it.\n",
            "  _, wav = read(wav_path)\n"
          ]
        },
        {
          "output_type": "stream",
          "name": "stdout",
          "text": [
            "phone : ['ᄂ', 'ᅥ', 'ᄒ', 'ᅡ', 'ᆫ', 'ᄐ', 'ᅦ', 'ᄃ', 'ᅡ', 'ᆯ', 'ᄅ', 'ᅧ', 'ᄊ', 'ᅥ']\n",
            "duration: [ 9  7  5  3  5  5  5  7  4  6  4  7 17 26]\n",
            "start : 0.36\n",
            ",end : 1.64\n",
            "\n"
          ]
        },
        {
          "output_type": "stream",
          "name": "stderr",
          "text": [
            "<ipython-input-25-396638cc7985>:75: WavFileWarning: Chunk (non-data) not understood, skipping it.\n",
            "  _, wav = read(wav_path)\n"
          ]
        },
        {
          "output_type": "stream",
          "name": "stdout",
          "text": [
            "phone : ['ᄋ', 'ᅡ', 'ᄂ', 'ᅢ', 'ᄅ', 'ᅳ', 'ᆯ', 'ᄋ', 'ᅥ', 'ᆸ', 'ᄁ', 'ᅩ', 'sp', 'ᄇ', 'ᅧ', 'ᆼ', 'ᄋ', 'ᅯ', 'ᄂ', 'ᅳ', 'ᄅ', 'ᅩ', 'ᄃ', 'ᅡ', 'ᆯ', 'ᄅ', 'ᅧ', 'ᄀ', 'ᅡ', 'ᆮ', 'ᄄ', 'ᅡ']\n",
            "duration: [ 9  6  7  7  4  6  4  7  3 12  5 22  9  8  6  4  5  6  5  3  4  6  7  5\n",
            "  7  3  5  6  5 17  7 14]\n",
            "start : 0.42\n",
            ",end : 3.03\n",
            "\n"
          ]
        },
        {
          "output_type": "stream",
          "name": "stderr",
          "text": [
            "<ipython-input-25-396638cc7985>:75: WavFileWarning: Chunk (non-data) not understood, skipping it.\n",
            "  _, wav = read(wav_path)\n"
          ]
        },
        {
          "output_type": "stream",
          "name": "stdout",
          "text": [
            "phone : ['ᄄ', 'ᅡ', 'ᄅ', 'ᅡ', 'ᄋ', 'ᅵ', 'ᄂ', 'ᅳ', 'ᆫ', 'sp', 'ᄌ', 'ᅥ', 'ᄒ', 'ᅡ', 'ᆫ', 'ᄐ', 'ᅦ', 'ᄒ', 'ᅩ', 'ᆫ', 'ᄂ', 'ᅡ', 'ᄀ', 'ᅩ', 'ᄂ', 'ᅡ', 'ᄆ', 'ᅧ', 'ᆫ', 'sp', 'ᄋ', 'ᅥ', 'ᆷ', 'ᄆ', 'ᅡ', 'ᄒ', 'ᅡ', 'ᆫ', 'ᄐ', 'ᅦ', 'ᄃ', 'ᅡ', 'ᆯ', 'ᄅ', 'ᅧ', 'ᄀ', 'ᅡ', 'ᄋ', 'ᅭ']\n",
            "duration: [12 10  5  7 10  5  4  7 19 15 13  7  4  3  5  6  4  3  7  3  6  7  4  6\n",
            "  6  8  8 13 12  5 16  7  6  5  3  3  3  6  5  4  7  5  6  4  7  6 15 20\n",
            "  5]\n",
            "start : 0.29\n",
            ",end : 4.43\n",
            "\n"
          ]
        },
        {
          "output_type": "stream",
          "name": "stderr",
          "text": [
            "<ipython-input-25-396638cc7985>:75: WavFileWarning: Chunk (non-data) not understood, skipping it.\n",
            "  _, wav = read(wav_path)\n"
          ]
        },
        {
          "output_type": "stream",
          "name": "stdout",
          "text": [
            "phone : ['ᄀ', 'ᅳ', 'ᄅ', 'ᅳ', 'ᄉ', 'ᅦ', 'ᄆ', 'ᅮ', 'ᄅ', 'ᅵ', 'ᄃ', 'ᅡ', 'ᆷ', 'ᄀ', 'ᅧ', 'ᄋ', 'ᅵ', 'ᄊ', 'ᅥ']\n",
            "duration: [14  4  4  8  7 10  6  7  2  5  7  7  8  5  8  4  5 15 30]\n",
            "start : 0.43\n",
            ",end : 2.25\n",
            "\n"
          ]
        },
        {
          "output_type": "stream",
          "name": "stderr",
          "text": [
            "<ipython-input-25-396638cc7985>:75: WavFileWarning: Chunk (non-data) not understood, skipping it.\n",
            "  _, wav = read(wav_path)\n"
          ]
        },
        {
          "output_type": "stream",
          "name": "stdout",
          "text": [
            "phone : ['ᄇ', 'ᅮ', 'ᄆ', 'ᅩ', 'ᄂ', 'ᅵ', 'ᄆ', 'ᅴ', 'ᄁ', 'ᅮ', 'ᄌ', 'ᅮ', 'ᆼ', 'ᄋ', 'ᅦ', 'ᄂ', 'ᅳ', 'ᆫ', 'sp', 'ᄉ', 'ᅡ', 'ᄅ', 'ᅡ', 'ᆼ', 'ᄋ', 'ᅵ', 'ᄃ', 'ᅡ', 'ᆷ', 'ᄀ', 'ᅧ', 'ᄋ', 'ᅵ', 'ᆮ', 'ᄄ', 'ᅡ']\n",
            "duration: [12  4  7  8  5  5  5  9  9  5  6  5  4  5  7  4  9 11 19 12  7  6  4  5\n",
            "  3  8  6  7  9  4  7  6  3 15 11 14]\n",
            "start : 0.23\n",
            ",end : 3.32\n",
            "\n"
          ]
        },
        {
          "output_type": "stream",
          "name": "stderr",
          "text": [
            "<ipython-input-25-396638cc7985>:75: WavFileWarning: Chunk (non-data) not understood, skipping it.\n",
            "  _, wav = read(wav_path)\n"
          ]
        },
        {
          "output_type": "stream",
          "name": "stdout",
          "text": [
            "phone : ['ᄂ', 'ᅥ', 'ᄂ', 'ᅳ', 'ᆫ', 'sp', 'ᄂ', 'ᅢ', 'ᄀ', 'ᅡ', 'ᄋ', 'ᅡ', 'ᄂ', 'ᅳ', 'ᆫ', 'ᄋ', 'ᅥ', 'ᄄ', 'ᅥ', 'ᆫ', 'ᄉ', 'ᅡ', 'ᄅ', 'ᅡ', 'ᄆ', 'ᅵ', 'ᄅ', 'ᅡ', 'ᆼ', 'ᄆ', 'ᅡ', 'ᄂ', 'ᅵ', 'ᄃ', 'ᅡ', 'ᆯ', 'ᄆ', 'ᅡ', 'ᄊ', 'ᅥ']\n",
            "duration: [12  9  5 16 11 17  9  8  6  2  6  4  5  4  3  5  5  8  5  3  6  6  4  6\n",
            "  6  3  6  6 12  6  8  6  4  7  8  5  6  6 18 22]\n",
            "start : 0.21\n",
            ",end : 3.63\n",
            "\n"
          ]
        },
        {
          "output_type": "stream",
          "name": "stderr",
          "text": [
            "<ipython-input-25-396638cc7985>:75: WavFileWarning: Chunk (non-data) not understood, skipping it.\n",
            "  _, wav = read(wav_path)\n"
          ]
        },
        {
          "output_type": "stream",
          "name": "stdout",
          "text": [
            "phone : ['ᄀ', 'ᅳ', 'ᄃ', 'ᅳ', 'ᄅ', 'ᅳ', 'ᆫ', 'ᄋ', 'ᅡ', 'ᄌ', 'ᅮ', 'ᄎ', 'ᅵ', 'ᆫ', 'ᄒ', 'ᅡ', 'ᆫ', 'ᄉ', 'ᅡ', 'ᄋ', 'ᅵ', 'ᄋ', 'ᅧ', 'ᄉ', 'ᅥ', 'sp', 'ᄉ', 'ᅥ', 'ᄅ', 'ᅩ', 'ᄅ', 'ᅳ', 'ᆯ', 'ᄃ', 'ᅡ', 'ᆯ', 'ᄆ', 'ᅡ', 'ᄀ', 'ᅡ', 'ᄀ', 'ᅩ', 'ᄋ', 'ᅵ', 'ᆮ', 'ᄄ', 'ᅡ']\n",
            "duration: [13  6  6  5  4  6  4  7  6  6  6  9  3  2  4  4  3  8  3  6  7  2  9  9\n",
            " 19 14 15  6  2  5  5  6  4  7  8  4  7  5  7  5  6  4  4  3 15  9 14]\n",
            "start : 0.43\n",
            ",end : 4.06\n",
            "\n"
          ]
        },
        {
          "output_type": "stream",
          "name": "stderr",
          "text": [
            "<ipython-input-25-396638cc7985>:75: WavFileWarning: Chunk (non-data) not understood, skipping it.\n",
            "  _, wav = read(wav_path)\n"
          ]
        },
        {
          "output_type": "stream",
          "name": "stdout",
          "text": [
            "phone : ['ᄇ', 'ᅡ', 'ᆼ', 'ᄀ', 'ᅳ', 'ᆷ', 'ᄉ', 'ᅡ', 'ᆼ', 'ᄌ', 'ᅡ', 'ᄋ', 'ᅦ', 'ᄃ', 'ᅡ', 'ᄆ', 'ᅡ', 'ᄃ', 'ᅮ', 'ᆫ', 'ᄎ', 'ᅢ', 'ᄀ', 'ᅵ', 'ᄋ', 'ᅥ', 'ᆸ', 'ᄊ', 'ᅥ', 'ᄌ', 'ᅥ', 'ᄊ', 'ᅥ']\n",
            "duration: [29  6  5  5  4  5  6  6  8  6  5  3  4  7  9  6  6  5  4  6 10  5  6  4\n",
            "  6  6  6  6  7  5  7 20 23]\n",
            "start : 0.26\n",
            ",end : 3.12\n",
            "\n"
          ]
        },
        {
          "output_type": "stream",
          "name": "stderr",
          "text": [
            "<ipython-input-25-396638cc7985>:75: WavFileWarning: Chunk (non-data) not understood, skipping it.\n",
            "  _, wav = read(wav_path)\n"
          ]
        },
        {
          "output_type": "stream",
          "name": "stdout",
          "text": [
            "phone : ['ᄀ', 'ᅩ', 'ᄀ', 'ᅢ', 'ᄀ', 'ᅵ', 'sp', 'ᄀ', 'ᅡ', 'ᆷ', 'ᄉ', 'ᅡ', 'ᄋ', 'ᅴ', 'ᄆ', 'ᅡ', 'ᄋ', 'ᅳ', 'ᄆ', 'ᅳ', 'ᆯ', 'ᄃ', 'ᅡ', 'ᄆ', 'ᅳ', 'ᆫ', 'ᄑ', 'ᅧ', 'ᆫ', 'ᄌ', 'ᅵ', 'ᄅ', 'ᅳ', 'ᆯ', 'ᄇ', 'ᅩ', 'ᄂ', 'ᅢ', 'ᄋ', 'ᅪ', 'ᄊ', 'ᅥ']\n",
            "duration: [11  8  6  9  8 22 17 13  8  5  6  5  5  3  8  8  2  4  4  9  4  6  7  6\n",
            "  4  5  6  6  7  5  5  2  4  5  5  7  5  8  3  9 18 23]\n",
            "start : 0.5\n",
            ",end : 4.12\n",
            "\n"
          ]
        },
        {
          "output_type": "stream",
          "name": "stderr",
          "text": [
            "<ipython-input-25-396638cc7985>:75: WavFileWarning: Chunk (non-data) not understood, skipping it.\n",
            "  _, wav = read(wav_path)\n"
          ]
        },
        {
          "output_type": "stream",
          "name": "stdout",
          "text": [
            "phone : ['ᄇ', 'ᅡ', 'ᆮ', 'ᄍ', 'ᅮ', 'ᄅ', 'ᅳ', 'ᆯ', 'ᄂ', 'ᅥ', 'ᄆ', 'ᅮ', 'ᄉ', 'ᅦ', 'ᄀ', 'ᅦ', 'ᄃ', 'ᅡ', 'ᆼ', 'ᄀ', 'ᅧ', 'ᄉ', 'ᅥ', 'sp', 'ᄁ', 'ᅳ', 'ᄂ', 'ᅥ', 'ᄌ', 'ᅥ', 'ᄊ', 'ᅥ']\n",
            "duration: [17  6  5  7  5  4  2  6  6  6  8  5  9  8  4  8  6  6  6  6  8 11 12  3\n",
            "  6  5  5  6  7  6 21 19]\n",
            "start : 0.04\n",
            ",end : 2.82\n",
            "\n"
          ]
        },
        {
          "output_type": "stream",
          "name": "stderr",
          "text": [
            "<ipython-input-25-396638cc7985>:75: WavFileWarning: Chunk (non-data) not understood, skipping it.\n",
            "  _, wav = read(wav_path)\n"
          ]
        },
        {
          "output_type": "stream",
          "name": "stdout",
          "text": [
            "phone : ['ᄆ', 'ᅮ', 'ᄂ', 'ᅳ', 'ᆯ', 'ᄃ', 'ᅡ', 'ᆼ', 'ᄀ', 'ᅧ', 'ᄉ', 'ᅥ', 'ᄋ', 'ᅧ', 'ᄉ', 'ᅦ', 'ᄋ', 'ᅭ']\n",
            "duration: [20  6  4 10  3  6  8  7  4  8  6  5  5 11  8 16 16  5]\n",
            "start : 0.16\n",
            ",end : 1.87\n",
            "\n"
          ]
        },
        {
          "output_type": "stream",
          "name": "stderr",
          "text": [
            "<ipython-input-25-396638cc7985>:75: WavFileWarning: Chunk (non-data) not understood, skipping it.\n",
            "  _, wav = read(wav_path)\n"
          ]
        },
        {
          "output_type": "stream",
          "name": "stdout",
          "text": [
            "phone : ['ᄂ', 'ᅢ', 'ᄃ', 'ᅩ', 'ᆼ', 'ᄉ', 'ᅢ', 'ᆼ', 'ᄋ', 'ᅵ', 'sp', 'ᄋ', 'ᅥ', 'ᄌ', 'ᅦ', 'ᄀ', 'ᅭ', 'ᄐ', 'ᅩ', 'ᆼ', 'ᄉ', 'ᅡ', 'ᄀ', 'ᅩ', 'ᄅ', 'ᅳ', 'ᆯ', 'ᄃ', 'ᅡ', 'ᆼ', 'ᄒ', 'ᅢ', 'ᄊ', 'ᅥ']\n",
            "duration: [18  8  6  4  7  6  8  4  6 22  6 20  9  6  5  7  7  7  4  7  7  6  5  7\n",
            "  3  3  4  6  6  3  6  4 20 25]\n",
            "start : 0.07\n",
            ",end : 3.23\n",
            "\n"
          ]
        },
        {
          "output_type": "stream",
          "name": "stderr",
          "text": [
            "<ipython-input-25-396638cc7985>:75: WavFileWarning: Chunk (non-data) not understood, skipping it.\n",
            "  _, wav = read(wav_path)\n"
          ]
        },
        {
          "output_type": "stream",
          "name": "stdout",
          "text": [
            "phone : ['ᄀ', 'ᅳ', 'ᄂ', 'ᅳ', 'ᆫ', 'ᄌ', 'ᅡ', 'ᄀ', 'ᅵ', 'ᄇ', 'ᅮ', 'ᄒ', 'ᅡ', 'ᄃ', 'ᅳ', 'ᆯ', 'ᄋ', 'ᅡ', 'ᄑ', 'ᅦ', 'ᄉ', 'ᅥ', 'sp', 'ᄎ', 'ᅡ', 'ᆼ', 'ᄑ', 'ᅵ', 'ᄅ', 'ᅳ', 'ᆯ', 'ᄃ', 'ᅡ', 'ᆼ', 'ᄒ', 'ᅢ', 'ᆮ', 'ᄄ', 'ᅡ']\n",
            "duration: [11  6  6  5  5  7  8  6  8  6  6  6  5  3  3  3  6  5 12  7 10 16 21 11\n",
            "  6  7  7  4  3  6  4  6  6  3  3  6 13 11 12]\n",
            "start : 0.36\n",
            ",end : 3.6\n",
            "\n"
          ]
        },
        {
          "output_type": "stream",
          "name": "stderr",
          "text": [
            "<ipython-input-25-396638cc7985>:75: WavFileWarning: Chunk (non-data) not understood, skipping it.\n",
            "  _, wav = read(wav_path)\n"
          ]
        },
        {
          "output_type": "stream",
          "name": "stdout",
          "text": [
            "phone : ['ᄋ', 'ᅥ', 'ᄂ', 'ᅳ', 'ᄒ', 'ᅡ', 'ᆨ', 'ᄁ', 'ᅭ', 'ᄋ', 'ᅦ', 'ᄃ', 'ᅡ', 'ᄂ', 'ᅧ', 'ᄊ', 'ᅥ', 'ᄋ', 'ᅭ']\n",
            "duration: [33 10  4  4  6  4  4  5  5  4  5  6  7  5  7 11 16 15  8]\n",
            "start : 0.0\n",
            ",end : 1.85\n",
            "\n"
          ]
        },
        {
          "output_type": "stream",
          "name": "stderr",
          "text": [
            "<ipython-input-25-396638cc7985>:75: WavFileWarning: Chunk (non-data) not understood, skipping it.\n",
            "  _, wav = read(wav_path)\n"
          ]
        },
        {
          "output_type": "stream",
          "name": "stdout",
          "text": [
            "phone : ['ᄒ', 'ᅡ', 'ᆨ', 'ᄊ', 'ᅢ', 'ᆼ', 'ᄋ', 'ᅵ', 'ᄉ', 'ᅦ', 'ᄋ', 'ᅭ', 'sp', 'ᄋ', 'ᅡ', 'ᄂ', 'ᅵ', 'ᄆ', 'ᅧ', 'ᆫ', 'ᄌ', 'ᅵ', 'ᆨ', 'ᄍ', 'ᅡ', 'ᆼ', 'ᄋ', 'ᅳ', 'ᆯ', 'ᄃ', 'ᅡ', 'ᄂ', 'ᅵ', 'ᄉ', 'ᅦ', 'ᄋ', 'ᅭ']\n",
            "duration: [ 9  3  3  7  8  3  3  5  7 15 13  4  6 24  7  6  4  7 10 11  8  4  7  5\n",
            "  6  3  3  3  4  5  7  5  4  8 11 16  6]\n",
            "start : 0.23\n",
            ",end : 3.24\n",
            "\n"
          ]
        },
        {
          "output_type": "stream",
          "name": "stderr",
          "text": [
            "<ipython-input-25-396638cc7985>:75: WavFileWarning: Chunk (non-data) not understood, skipping it.\n",
            "  _, wav = read(wav_path)\n"
          ]
        },
        {
          "output_type": "stream",
          "name": "stdout",
          "text": [
            "phone : ['ᄋ', 'ᅡ', 'ᄇ', 'ᅥ', 'ᄌ', 'ᅵ', 'ᄂ', 'ᅳ', 'ᆫ', 'ᄋ', 'ᅵ', 'ᄅ', 'ᅭ', 'ᄋ', 'ᅵ', 'ᄅ', 'ᅵ', 'ᄆ', 'ᅧ', 'ᆫ', 'sp', 'ᄉ', 'ᅡ', 'ᄂ', 'ᅣ', 'ᆼ', 'ᄋ', 'ᅳ', 'ᆯ', 'ᄃ', 'ᅡ', 'ᄂ', 'ᅵ', 'ᄉ', 'ᅦ', 'ᄋ', 'ᅭ']\n",
            "duration: [32  9  6  7  6  6  4  7  3  6  7  5  2 10  3  5  7  6 10 12 14 15  6  6\n",
            "  5  4  2  5  4  6  8  6  5  9 15 18  5]\n",
            "start : 0.0\n",
            ",end : 3.33\n",
            "\n"
          ]
        },
        {
          "output_type": "stream",
          "name": "stderr",
          "text": [
            "<ipython-input-25-396638cc7985>:75: WavFileWarning: Chunk (non-data) not understood, skipping it.\n",
            "  _, wav = read(wav_path)\n"
          ]
        },
        {
          "output_type": "stream",
          "name": "stdout",
          "text": [
            "phone : ['ᄒ', 'ᅡ', 'ᆨ', 'ᄁ', 'ᅭ', 'ᄃ', 'ᅡ', 'ᄂ', 'ᅧ', 'ᄋ', 'ᅪ', 'ᄊ', 'ᅥ', 'ᄋ', 'ᅭ']\n",
            "duration: [ 9  4  4  4  8  6  5  5  6  3  6 10 17 25  8]\n",
            "start : 0.21\n",
            ",end : 1.61\n",
            "\n"
          ]
        },
        {
          "output_type": "stream",
          "name": "stderr",
          "text": [
            "<ipython-input-25-396638cc7985>:75: WavFileWarning: Chunk (non-data) not understood, skipping it.\n",
            "  _, wav = read(wav_path)\n"
          ]
        },
        {
          "output_type": "stream",
          "name": "stdout",
          "text": [
            "phone : ['ᄎ', 'ᅮ', 'ᄉ', 'ᅥ', 'ᄀ', 'ᅦ', 'ᄂ', 'ᅳ', 'ᆫ', 'ᄆ', 'ᅡ', 'ᄂ', 'ᅳ', 'ᆫ', 'ᄉ', 'ᅡ', 'ᄅ', 'ᅡ', 'ᆷ', 'ᄃ', 'ᅳ', 'ᄅ', 'ᅵ', 'sp', 'ᄀ', 'ᅩ', 'ᄒ', 'ᅣ', 'ᆼ', 'ᄋ', 'ᅳ', 'ᆯ', 'ᄃ', 'ᅡ', 'ᄂ', 'ᅧ', 'ᄋ', 'ᅩ', 'ᆫ', 'ᄃ', 'ᅡ']\n",
            "duration: [ 7  4  5 10  5  8  6  6  9  6 10  6  3  5  7  6  5  4  6  6  4  5 17 20\n",
            "  6  6  3  9  3  3  4  5  6  8  5  7  3  4  9 13 14]\n",
            "start : 0.19\n",
            ",end : 3.42\n",
            "\n"
          ]
        },
        {
          "output_type": "stream",
          "name": "stderr",
          "text": [
            "<ipython-input-25-396638cc7985>:75: WavFileWarning: Chunk (non-data) not understood, skipping it.\n",
            "  _, wav = read(wav_path)\n"
          ]
        },
        {
          "output_type": "stream",
          "name": "stdout",
          "text": [
            "Done 200\n",
            "phone : ['ᄋ', 'ᅭ', 'ᆼ', 'ᄋ', 'ᅴ', 'ᄌ', 'ᅡ', 'ᄂ', 'ᅳ', 'ᆫ', 'sp', 'ᄇ', 'ᅮ', 'ᄉ', 'ᅡ', 'ᄂ', 'ᅳ', 'ᄅ', 'ᅩ', 'ᄃ', 'ᅡ', 'ᄅ', 'ᅡ', 'ᄂ', 'ᅡ', 'ᆮ', 'ᄄ', 'ᅡ']\n",
            "duration: [18  6  4  3  7  8  8  4 10 16 10 11  6  7 11  5  4  4  9  7  6  6  7  5\n",
            "  6 16 10 10]\n",
            "start : 0.0\n",
            ",end : 2.61\n",
            "\n"
          ]
        },
        {
          "output_type": "stream",
          "name": "stderr",
          "text": [
            "<ipython-input-25-396638cc7985>:75: WavFileWarning: Chunk (non-data) not understood, skipping it.\n",
            "  _, wav = read(wav_path)\n"
          ]
        },
        {
          "output_type": "stream",
          "name": "stdout",
          "text": [
            "phone : ['ᄃ', 'ᅩ', 'ᄃ', 'ᅮ', 'ᄀ', 'ᅳ', 'ᆫ', 'ᄀ', 'ᅢ', 'ᄅ', 'ᅳ', 'ᆯ', 'ᄇ', 'ᅩ', 'ᄀ', 'ᅩ', 'ᄂ', 'ᅳ', 'ᆫ', 'sp', 'ᄃ', 'ᅡ', 'ᄅ', 'ᅡ', 'ᄂ', 'ᅡ', 'ᆮ', 'ᄊ', 'ᅳ', 'ᆷ', 'ᄂ', 'ᅵ', 'ᄃ', 'ᅡ']\n",
            "duration: [13  8  4  9  5  7  9  7  9  5  5  5  5  5  6  8  4  5 12  2  5  8  6  4\n",
            "  6  6  4  7  4  4  5  5  9 18]\n",
            "start : 0.29\n",
            ",end : 2.88\n",
            "\n"
          ]
        },
        {
          "output_type": "stream",
          "name": "stderr",
          "text": [
            "<ipython-input-25-396638cc7985>:75: WavFileWarning: Chunk (non-data) not understood, skipping it.\n",
            "  _, wav = read(wav_path)\n"
          ]
        },
        {
          "output_type": "stream",
          "name": "stdout",
          "text": [
            "phone : ['ᄉ', 'ᅵ', 'ᆫ', 'ᄆ', 'ᅮ', 'ᆫ', 'ᄌ', 'ᅩ', 'ᆷ', 'ᄂ', 'ᅢ', 'ᄅ', 'ᅧ', 'ᄌ', 'ᅮ', 'ᄉ', 'ᅵ', 'ᆯ', 'ᄅ', 'ᅢ', 'ᄋ', 'ᅭ', 'sp', 'ᄉ', 'ᅥ', 'ᆫ', 'ᄇ', 'ᅡ', 'ᄂ', 'ᅦ', 'ᄉ', 'ᅩ', 'ᄂ', 'ᅵ', 'ᄋ', 'ᅡ', 'ᆫ', 'ᄃ', 'ᅡ', 'ᄋ', 'ᅡ', 'ᄉ', 'ᅥ', 'ᄋ', 'ᅭ']\n",
            "duration: [ 9  6  3  5  7  5  4  7  6  5  4  5  7  3  5  7  4  6  4 12 14  5 24 11\n",
            "  6  6  4  5  4  5  6  7  5  4  6  7  7  5  4  2  7  8 15 24  4]\n",
            "start : 0.19\n",
            ",end : 3.78\n",
            "\n"
          ]
        },
        {
          "output_type": "stream",
          "name": "stderr",
          "text": [
            "<ipython-input-25-396638cc7985>:75: WavFileWarning: Chunk (non-data) not understood, skipping it.\n",
            "  _, wav = read(wav_path)\n"
          ]
        },
        {
          "output_type": "stream",
          "name": "stdout",
          "text": [
            "phone : ['ᄌ', 'ᅥ', 'ᄒ', 'ᅵ', 'ᄌ', 'ᅵ', 'ᄇ', 'ᅳ', 'ᆫ', 'ᄋ', 'ᅧ', 'ᄀ', 'ᅵ', 'ᄋ', 'ᅦ', 'ᄉ', 'ᅥ', 'ᄋ', 'ᅥ', 'ᄑ', 'ᅥ', 'ᄌ', 'ᅵ', 'ᄆ', 'ᅧ', 'ᆫ', 'ᄏ', 'ᅩ', 'ᄃ', 'ᅡ', 'ᄋ', 'ᅳ', 'ᆯ', 'ᄃ', 'ᅦ', 'ᄋ', 'ᅵ', 'ᄊ', 'ᅥ', 'ᄋ', 'ᅭ']\n",
            "duration: [14  8  5  4  6  5  6  6  3  6  9  8  3  7  4  9  2  3 13  7  7  8  4  6\n",
            "  7 11 13  6  7  3  3  4  5  9  5  4  3 13 21 18  5]\n",
            "start : 0.82\n",
            ",end : 4.18\n",
            "\n"
          ]
        },
        {
          "output_type": "stream",
          "name": "stderr",
          "text": [
            "<ipython-input-25-396638cc7985>:75: WavFileWarning: Chunk (non-data) not understood, skipping it.\n",
            "  _, wav = read(wav_path)\n"
          ]
        },
        {
          "output_type": "stream",
          "name": "stdout",
          "text": [
            "phone : ['ᄎ', 'ᅡ', 'ᆼ', 'ᄆ', 'ᅮ', 'ᄂ', 'ᅳ', 'ᆯ', 'ᄌ', 'ᅩ', 'ᆷ', 'ᄃ', 'ᅡ', 'ᄃ', 'ᅡ', 'ᄃ', 'ᅩ', 'ᄃ', 'ᅬ', 'ᆯ', 'ᄁ', 'ᅡ', 'ᄋ', 'ᅭ']\n",
            "duration: [12  5  6  4  8  3  5  5  5  8 11  6  7  6  6  4  7  4  4 10  9 13 18  4]\n",
            "start : 0.24\n",
            ",end : 2.21\n",
            "\n"
          ]
        },
        {
          "output_type": "stream",
          "name": "stderr",
          "text": [
            "<ipython-input-25-396638cc7985>:75: WavFileWarning: Chunk (non-data) not understood, skipping it.\n",
            "  _, wav = read(wav_path)\n"
          ]
        },
        {
          "output_type": "stream",
          "name": "stdout",
          "text": [
            "phone : ['ᄌ', 'ᅥ', 'ᄒ', 'ᅵ', 'ᄀ', 'ᅡ', 'ᄀ', 'ᅦ', 'ᄂ', 'ᅳ', 'ᆫ', 'sp', 'ᄇ', 'ᅡ', 'ᆷ', 'ᄋ', 'ᅧ', 'ᆯ', 'ᄉ', 'ᅵ', 'ᄋ', 'ᅦ', 'ᄆ', 'ᅮ', 'ᄂ', 'ᅳ', 'ᆯ', 'ᄃ', 'ᅡ', 'ᆮ', 'ᄊ', 'ᅳ', 'ᆷ', 'ᄂ', 'ᅵ', 'ᄃ', 'ᅡ']\n",
            "duration: [14  7  8  3  7 11  5  9  5  9 18 13 14  8  7  6  9  3 13  3  4  5  6  7\n",
            "  5  7  4  5  5  5  7  5  6  5  6  9 20]\n",
            "start : 0.2\n",
            ",end : 3.49\n",
            "\n"
          ]
        },
        {
          "output_type": "stream",
          "name": "stderr",
          "text": [
            "<ipython-input-25-396638cc7985>:75: WavFileWarning: Chunk (non-data) not understood, skipping it.\n",
            "  _, wav = read(wav_path)\n"
          ]
        },
        {
          "output_type": "stream",
          "name": "stdout",
          "text": [
            "phone : ['ᄆ', 'ᅡ', 'ᄋ', 'ᅳ', 'ᆷ', 'ᄉ', 'ᅩ', 'ᄀ', 'ᅳ', 'ᄅ', 'ᅩ', 'ᄉ', 'ᅢ', 'ᆼ', 'ᄀ', 'ᅡ', 'ᄏ', 'ᅡ', 'ᆫ', 'ᄉ', 'ᅮ', 'ᄋ', 'ᅦ', 'sp', 'ᄋ', 'ᅵ', 'ᄅ', 'ᅳ', 'ᆯ', 'ᄃ', 'ᅥ', 'ᄒ', 'ᅡ', 'ᄉ', 'ᅦ', 'ᄋ', 'ᅭ']\n",
            "duration: [23  5  4  4  5  8  8  4  5  3  6  7  4  5  5  8 10  8  9 10  5  3 24  8\n",
            " 18 13  4 10  3  5  6  9  4 10 12 15  6]\n",
            "start : 0.17\n",
            ",end : 3.6\n",
            "\n"
          ]
        },
        {
          "output_type": "stream",
          "name": "stderr",
          "text": [
            "<ipython-input-25-396638cc7985>:75: WavFileWarning: Chunk (non-data) not understood, skipping it.\n",
            "  _, wav = read(wav_path)\n"
          ]
        },
        {
          "output_type": "stream",
          "name": "stdout",
          "text": [
            "phone : ['ᄉ', 'ᅡ', 'ᆷ', 'ᄃ', 'ᅥ', 'ᄒ', 'ᅡ', 'ᄀ', 'ᅵ', 'ᄉ', 'ᅡ', 'ᄂ', 'ᅳ', 'ᆫ', 'sp', 'ᄎ', 'ᅵ', 'ᆯ']\n",
            "duration: [16  8 10  6  7  7  5  7 14 12 13  5  7 13 17 14  7 17]\n",
            "start : 0.31\n",
            ",end : 2.46\n",
            "\n"
          ]
        },
        {
          "output_type": "stream",
          "name": "stderr",
          "text": [
            "<ipython-input-25-396638cc7985>:75: WavFileWarning: Chunk (non-data) not understood, skipping it.\n",
            "  _, wav = read(wav_path)\n"
          ]
        },
        {
          "output_type": "stream",
          "name": "stdout",
          "text": [
            "phone : ['ᄋ', 'ᅧ', 'ᆫ', 'ᄆ', 'ᅩ', 'ᄉ', 'ᅦ', 'ᄃ', 'ᅩ', 'ᄅ', 'ᅳ', 'ᆯ', 'ᄃ', 'ᅥ', 'ᆫ', 'ᄌ', 'ᅵ', 'ᄌ', 'ᅵ', 'ᄆ', 'ᅡ', 'ᄉ', 'ᅦ', 'ᄋ', 'ᅭ']\n",
            "duration: [12  7  5  6  7  6 10  7 10  4  7  5  5  8  6  5  6  3  6  6 11  9 15 15\n",
            "  5]\n",
            "start : 0.3\n",
            ",end : 2.45\n",
            "\n"
          ]
        },
        {
          "output_type": "stream",
          "name": "stderr",
          "text": [
            "<ipython-input-25-396638cc7985>:75: WavFileWarning: Chunk (non-data) not understood, skipping it.\n",
            "  _, wav = read(wav_path)\n"
          ]
        },
        {
          "output_type": "stream",
          "name": "stdout",
          "text": [
            "phone : ['ᄐ', 'ᅮ', 'ᄉ', 'ᅮ', 'ᄂ', 'ᅳ', 'ᆫ', 'ᄐ', 'ᅡ', 'ᄌ', 'ᅡ', 'ᄀ', 'ᅡ', 'ᄋ', 'ᅡ', 'ᄂ', 'ᅵ', 'ᆫ', 'sp', 'ᄑ', 'ᅩ', 'ᄉ', 'ᅮ', 'ᄋ', 'ᅦ', 'ᄀ', 'ᅦ', 'ᄀ', 'ᅩ', 'ᆼ', 'ᄋ', 'ᅳ', 'ᆯ', 'ᄃ', 'ᅥ', 'ᆫ', 'ᄌ', 'ᅥ', 'ᄋ', 'ᅣ', 'ᄒ', 'ᅡ', 'ᆫ', 'ᄃ', 'ᅡ']\n",
            "duration: [ 7  4  6  8  5  6  9  8  7  9  4  6  3  9  5  7 10  9 14 13  8  7  3  5\n",
            "  5  5  6  7  5  3  4  5  3  6  7  6  5  5  3  6  5  3 11 11 13]\n",
            "start : 0.39\n",
            ",end : 3.83\n",
            "\n"
          ]
        },
        {
          "output_type": "stream",
          "name": "stderr",
          "text": [
            "<ipython-input-25-396638cc7985>:75: WavFileWarning: Chunk (non-data) not understood, skipping it.\n",
            "  _, wav = read(wav_path)\n"
          ]
        },
        {
          "output_type": "stream",
          "name": "stdout",
          "text": [
            "phone : ['ᄎ', 'ᅢ', 'ᄀ', 'ᅳ', 'ᆯ', 'ᄃ', 'ᅥ', 'ᄑ', 'ᅳ', 'ᄉ', 'ᅦ', 'ᄋ', 'ᅭ']\n",
            "duration: [13  5  5  6  5  5  6  8  4  9 10 17  4]\n",
            "start : 0.17\n",
            ",end : 1.3\n",
            "\n"
          ]
        },
        {
          "output_type": "stream",
          "name": "stderr",
          "text": [
            "<ipython-input-25-396638cc7985>:75: WavFileWarning: Chunk (non-data) not understood, skipping it.\n",
            "  _, wav = read(wav_path)\n"
          ]
        },
        {
          "output_type": "stream",
          "name": "stdout",
          "text": [
            "phone : ['ᄏ', 'ᅥ', 'ᄇ', 'ᅳ', 'ᆯ', 'ᄌ', 'ᅩ', 'ᆼ', 'ᄋ', 'ᅵ', 'ᄅ', 'ᅩ', 'ᄃ', 'ᅥ', 'ᄑ', 'ᅥ', 'ᄃ', 'ᅮ', 'ᄋ', 'ᅥ', 'ᄅ', 'ᅡ']\n",
            "duration: [13  6  7  9  4  7  6  5  3  4  5  8  9  6 11  8  6  4 10  6  8 17]\n",
            "start : 0.19\n",
            ",end : 2.07\n",
            "\n"
          ]
        },
        {
          "output_type": "stream",
          "name": "stderr",
          "text": [
            "<ipython-input-25-396638cc7985>:75: WavFileWarning: Chunk (non-data) not understood, skipping it.\n",
            "  _, wav = read(wav_path)\n"
          ]
        },
        {
          "output_type": "stream",
          "name": "stdout",
          "text": [
            "phone : ['ᄋ', 'ᅵ', 'ᆯ', 'ᄀ', 'ᅩ', 'ᆸ', 'ᄉ', 'ᅵ', 'ᄍ', 'ᅳ', 'ᄆ', 'ᅦ', 'sp', 'ᄂ', 'ᅥ', 'ᄅ', 'ᅳ', 'ᆯ', 'ᄃ', 'ᅦ', 'ᄅ', 'ᅵ', 'ᄅ', 'ᅥ', 'ᄀ', 'ᅡ', 'ᆯ', 'ᄀ', 'ᅦ']\n",
            "duration: [33  6  4  4  4  6  4  6  9  5  8 16 15 11  7  5  4  4  7  6  4  5  6  4\n",
            "  7  6  6 15 27]\n",
            "start : 0.0\n",
            ",end : 2.84\n",
            "\n"
          ]
        },
        {
          "output_type": "stream",
          "name": "stderr",
          "text": [
            "<ipython-input-25-396638cc7985>:75: WavFileWarning: Chunk (non-data) not understood, skipping it.\n",
            "  _, wav = read(wav_path)\n"
          ]
        },
        {
          "output_type": "stream",
          "name": "stdout",
          "text": [
            "phone : ['ᄀ', 'ᅳ', 'ᄂ', 'ᅳ', 'ᆫ', 'ᄄ', 'ᅡ', 'ᄅ', 'ᅳ', 'ᆯ', 'ᄃ', 'ᅦ', 'ᄅ', 'ᅵ', 'ᄀ', 'ᅩ', 'sp', 'ᄒ', 'ᅬ', 'ᄉ', 'ᅡ', 'ᄋ', 'ᅦ', 'ᄋ', 'ᅪ', 'ᆮ', 'ᄄ', 'ᅡ']\n",
            "duration: [11  7  5  4  6  6  8  3  6  6  3  7  4  7  6 19  8  9  5  8  5  6  4  5\n",
            "  6 16  9 13]\n",
            "start : 0.14\n",
            ",end : 2.49\n",
            "\n"
          ]
        },
        {
          "output_type": "stream",
          "name": "stderr",
          "text": [
            "<ipython-input-25-396638cc7985>:75: WavFileWarning: Chunk (non-data) not understood, skipping it.\n",
            "  _, wav = read(wav_path)\n"
          ]
        },
        {
          "output_type": "stream",
          "name": "stdout",
          "text": [
            "phone : ['ᄋ', 'ᅵ', 'ᄂ', 'ᅡ', 'ᆷ', 'ᄌ', 'ᅡ', 'sp', 'ᄇ', 'ᅧ', 'ᆼ', 'ᄋ', 'ᅯ', 'ᄂ', 'ᅦ', 'ᄃ', 'ᅦ', 'ᄅ', 'ᅧ', 'ᄀ', 'ᅡ', 'ᄋ', 'ᅣ', 'ᄒ', 'ᅢ']\n",
            "duration: [47  5  6  7  6  9 21  3  4  7  3  6  4  4  5  8  6  4  5  7  4  6  5  4\n",
            " 31]\n",
            "start : 0.0\n",
            ",end : 2.52\n",
            "\n"
          ]
        },
        {
          "output_type": "stream",
          "name": "stderr",
          "text": [
            "<ipython-input-25-396638cc7985>:75: WavFileWarning: Chunk (non-data) not understood, skipping it.\n",
            "  _, wav = read(wav_path)\n"
          ]
        },
        {
          "output_type": "stream",
          "name": "stdout",
          "text": [
            "phone : ['ᄋ', 'ᅩ', 'ᄂ', 'ᅳ', 'ᆯ', 'ᄋ', 'ᅧ', 'ᄌ', 'ᅡ', 'ᄎ', 'ᅵ', 'ᆫ', 'ᄀ', 'ᅮ', 'ᄅ', 'ᅳ', 'ᆯ', 'ᄇ', 'ᅮ', 'ᄆ', 'ᅩ', 'ᄂ', 'ᅵ', 'ᆷ', 'ᄁ', 'ᅦ', 'ᄃ', 'ᅦ', 'ᄅ', 'ᅧ', 'ᄀ', 'ᅡ', 'ᆯ', 'ᄀ', 'ᅥ', 'ᄋ', 'ᅣ']\n",
            "duration: [44  8  3  6  6  3  9  7  7  7  4  6  4  9  4 15  6  6  5  8  6  5  4  6\n",
            "  9  7  7  5  5  4  6  6  3  9  5  8 23]\n",
            "start : 0.0\n",
            ",end : 3.31\n",
            "\n"
          ]
        },
        {
          "output_type": "stream",
          "name": "stderr",
          "text": [
            "<ipython-input-25-396638cc7985>:75: WavFileWarning: Chunk (non-data) not understood, skipping it.\n",
            "  _, wav = read(wav_path)\n"
          ]
        },
        {
          "output_type": "stream",
          "name": "stdout",
          "text": [
            "phone : ['ᄌ', 'ᅵ', 'ᆸ', 'ᄄ', 'ᅳ', 'ᄅ', 'ᅵ', 'ᄄ', 'ᅢ', 'ᄒ', 'ᅬ', 'ᄉ', 'ᅡ', 'ᄉ', 'ᅡ', 'ᄅ', 'ᅡ', 'ᆷ', 'ᄃ', 'ᅳ', 'ᆯ', 'ᄌ', 'ᅵ', 'ᄇ', 'ᅦ', 'ᄃ', 'ᅦ', 'ᄅ', 'ᅧ', 'ᄋ', 'ᅪ', 'ᄃ', 'ᅩ', 'ᄃ', 'ᅫ']\n",
            "duration: [12  5  5  5  4  4  9 11  6  6  5  7  4  9  8  5  3  7  4 10  5  8  3  5\n",
            "  9  8  5  4  4  6  8  6  6  7 23]\n",
            "start : 0.57\n",
            ",end : 3.32\n",
            "\n"
          ]
        },
        {
          "output_type": "stream",
          "name": "stderr",
          "text": [
            "<ipython-input-25-396638cc7985>:75: WavFileWarning: Chunk (non-data) not understood, skipping it.\n",
            "  _, wav = read(wav_path)\n"
          ]
        },
        {
          "output_type": "stream",
          "name": "stdout",
          "text": [
            "phone : ['ᄀ', 'ᅳ', 'ᄄ', 'ᅢ', 'ᄀ', 'ᅳ', 'ᄂ', 'ᅧ', 'ᄀ', 'ᅡ', 'sp', 'ᄋ', 'ᅴ', 'ᄉ', 'ᅡ', 'ᄅ', 'ᅳ', 'ᆯ', 'ᄃ', 'ᅦ', 'ᄅ', 'ᅧ', 'ᄋ', 'ᅩ', 'ᄌ', 'ᅵ', 'ᄋ', 'ᅡ', 'ᄂ', 'ᅡ', 'ᄊ', 'ᅳ', 'ᄆ', 'ᅧ', 'ᆫ', 'sp', 'ᄂ', 'ᅡ', 'ᄂ', 'ᅳ', 'ᆫ', 'ᄌ', 'ᅮ', 'ᄀ', 'ᅥ', 'ᄊ', 'ᅳ', 'ᆯ', 'ᄀ', 'ᅥ', 'ᄋ', 'ᅣ']\n",
            "duration: [50  9 11  9  7  4  6 13  8 19 13 12  7  8  5  3  4  4  5  7  3  6  4  4\n",
            "  6  2  5  3  5  7 10  5  7 13 13 19 13  6  4  2  7  9  4  6  5  8  5  4\n",
            "  8  6 16 15]\n",
            "start : 0.0\n",
            ",end : 5.05\n",
            "\n"
          ]
        },
        {
          "output_type": "stream",
          "name": "stderr",
          "text": [
            "<ipython-input-25-396638cc7985>:75: WavFileWarning: Chunk (non-data) not understood, skipping it.\n",
            "  _, wav = read(wav_path)\n"
          ]
        },
        {
          "output_type": "stream",
          "name": "stdout",
          "text": [
            "phone : ['ᄀ', 'ᅳ', 'ᄂ', 'ᅧ', 'ᄅ', 'ᅳ', 'ᆯ', 'ᄋ', 'ᅵ', 'ᆫ', 'ᄂ', 'ᅳ', 'ᆫ', 'ᄃ', 'ᅦ', 'ᄋ', 'ᅦ', 'ᄋ', 'ᅵ', 'ᄂ', 'ᅧ', 'ᄂ', 'ᅵ', 'ᄃ', 'ᅳ', 'ᄅ', 'ᅥ', 'ᄊ', 'ᅥ']\n",
            "duration: [40  5  7  6  4  5  5  4  4  6  2  8  7  4  3  2  3 13  4  4  7  6  6  4\n",
            "  2  6  4 20 32]\n",
            "start : 0.0\n",
            ",end : 2.59\n",
            "\n"
          ]
        },
        {
          "output_type": "stream",
          "name": "stderr",
          "text": [
            "<ipython-input-25-396638cc7985>:75: WavFileWarning: Chunk (non-data) not understood, skipping it.\n",
            "  _, wav = read(wav_path)\n"
          ]
        },
        {
          "output_type": "stream",
          "name": "stdout",
          "text": [
            "phone : ['ᄇ', 'ᅵ', 'ᄐ', 'ᅡ', 'ᄆ', 'ᅵ', 'ᆫ', 'ᄊ', 'ᅵ', 'ᄀ', 'ᅡ', 'ᄆ', 'ᅡ', 'ᄂ', 'ᅵ', 'ᄃ', 'ᅳ', 'ᄅ', 'ᅥ', 'ᄋ', 'ᅵ', 'ᆫ', 'ᄂ', 'ᅳ', 'ᆫ', 'ᄀ', 'ᅪ', 'ᄋ', 'ᅵ', 'ᄅ', 'ᅳ', 'ᆯ', 'ᄃ', 'ᅳ', 'ᄉ', 'ᅦ', 'ᄋ', 'ᅭ']\n",
            "duration: [13  7  9  5  6  4  4  7  6  7  8  8  9  6  7  6  3  5  6  4  2  4  3  5\n",
            " 10  6  8  6  4  3  3  6  3  5  8 13 17  6]\n",
            "start : 0.14\n",
            ",end : 2.95\n",
            "\n"
          ]
        },
        {
          "output_type": "stream",
          "name": "stderr",
          "text": [
            "<ipython-input-25-396638cc7985>:75: WavFileWarning: Chunk (non-data) not understood, skipping it.\n",
            "  _, wav = read(wav_path)\n"
          ]
        },
        {
          "output_type": "stream",
          "name": "stdout",
          "text": [
            "phone : ['ᄀ', 'ᅡ', 'ᆷ', 'ᄀ', 'ᅵ', 'ᄃ', 'ᅳ', 'ᆫ', 'ᄀ', 'ᅥ', 'ᄂ', 'ᅵ']\n",
            "duration: [ 9  7  7  6  6  3  4  7  6  8  6 18]\n",
            "start : 0.31\n",
            ",end : 1.32\n",
            "\n"
          ]
        },
        {
          "output_type": "stream",
          "name": "stderr",
          "text": [
            "<ipython-input-25-396638cc7985>:75: WavFileWarning: Chunk (non-data) not understood, skipping it.\n",
            "  _, wav = read(wav_path)\n"
          ]
        },
        {
          "output_type": "stream",
          "name": "stdout",
          "text": [
            "phone : ['ᄆ', 'ᅮ', 'ᄀ', 'ᅥ', 'ᄋ', 'ᅮ', 'ᆫ', 'ᄀ', 'ᅥ', 'ᄉ', 'ᅳ', 'ᆯ', 'ᄃ', 'ᅳ', 'ᆯ', 'ᄃ', 'ᅡ', 'sp', 'ᄒ', 'ᅥ', 'ᄅ', 'ᅵ', 'ᄅ', 'ᅳ', 'ᆯ', 'ᄈ', 'ᅵ', 'ᄁ', 'ᅳ', 'ᄐ', 'ᅢ', 'ᆮ', 'ᄄ', 'ᅡ']\n",
            "duration: [28  6  7  4  4  2  6  4  6  6  7  6  4 10  5 10 14 17 15  6  5  6  3  5\n",
            "  6  5  7  7  6 11  5 17  9 14]\n",
            "start : 0.0\n",
            ",end : 3.18\n",
            "\n"
          ]
        },
        {
          "output_type": "stream",
          "name": "stderr",
          "text": [
            "<ipython-input-25-396638cc7985>:75: WavFileWarning: Chunk (non-data) not understood, skipping it.\n",
            "  _, wav = read(wav_path)\n"
          ]
        },
        {
          "output_type": "stream",
          "name": "stdout",
          "text": [
            "phone : ['ᄋ', 'ᅬ', 'ᆫ', 'ᄉ', 'ᅩ', 'ᄂ', 'ᅦ', 'ᄋ', 'ᅮ', 'ᄉ', 'ᅡ', 'ᄂ', 'ᅳ', 'ᆯ', 'ᄃ', 'ᅳ', 'ᆫ', 'ᄋ', 'ᅧ', 'ᄌ', 'ᅡ', 'ᄀ', 'ᅡ', 'sp', 'ᄂ', 'ᅢ', 'ᄋ', 'ᅡ', 'ᄂ', 'ᅢ', 'ᄋ', 'ᅣ']\n",
            "duration: [ 7 10  5  4  9  5  6  9  6  9  6  4  7  6  4  6  6  8  7 11  6  8 16 15\n",
            " 14  8  6 10  6 13  5 23]\n",
            "start : 0.3\n",
            ",end : 3.37\n",
            "\n"
          ]
        },
        {
          "output_type": "stream",
          "name": "stderr",
          "text": [
            "<ipython-input-25-396638cc7985>:75: WavFileWarning: Chunk (non-data) not understood, skipping it.\n",
            "  _, wav = read(wav_path)\n"
          ]
        },
        {
          "output_type": "stream",
          "name": "stdout",
          "text": [
            "phone : ['ᄉ', 'ᅡ', 'ᄆ', 'ᅮ', 'ᄉ', 'ᅵ', 'ᄅ', 'ᅦ', 'ᄌ', 'ᅡ', 'ᆷ', 'ᄁ', 'ᅡ', 'ᆫ', 'ᄃ', 'ᅳ', 'ᆯ', 'ᄅ', 'ᅥ', 'ᄌ', 'ᅮ', 'ᄉ', 'ᅵ', 'ᆯ', 'ᄉ', 'ᅮ', 'ᄋ', 'ᅵ', 'ᄊ', 'ᅳ', 'ᄉ', 'ᅦ', 'ᄋ', 'ᅭ']\n",
            "duration: [16  4  7  6  8  4  4  9  8  7  5  7  8  5  5  3  7  5  6  4  6  6  3  3\n",
            "  8  4  4  3  7  5 11 12 12  5]\n",
            "start : 0.25\n",
            ",end : 2.77\n",
            "\n"
          ]
        },
        {
          "output_type": "stream",
          "name": "stderr",
          "text": [
            "<ipython-input-25-396638cc7985>:75: WavFileWarning: Chunk (non-data) not understood, skipping it.\n",
            "  _, wav = read(wav_path)\n"
          ]
        },
        {
          "output_type": "stream",
          "name": "stdout",
          "text": [
            "phone : ['ᄋ', 'ᅥ', 'ᄌ', 'ᅦ', 'ᄌ', 'ᅮ', 'ᄋ', 'ᅲ', 'ᄉ', 'ᅩ', 'ᄅ', 'ᅳ', 'ᆯ', 'ᄃ', 'ᅳ', 'ᆯ', 'ᄅ', 'ᅥ', 'ᄉ', 'ᅥ', 'sp', 'ᄀ', 'ᅵ', 'ᄅ', 'ᅳ', 'ᄆ', 'ᅳ', 'ᆯ', 'ᄀ', 'ᅡ', 'ᄃ', 'ᅳ', 'ᆨ', 'ᄎ', 'ᅢ', 'ᄋ', 'ᅯ', 'ᆮ', 'ᄊ', 'ᅳ', 'ᆷ', 'ᄂ', 'ᅵ', 'ᄃ', 'ᅡ']\n",
            "duration: [26  9  6  7  8  5  5  4  7  5  3  4  6  3  3  6  5  7 12 16 16 12  6  4\n",
            "  4  5  6  4  7  8  6  3  6  8  2  5  7  4  8  3  7  4  5 12 15]\n",
            "start : 0.27\n",
            ",end : 3.92\n",
            "\n"
          ]
        },
        {
          "output_type": "stream",
          "name": "stderr",
          "text": [
            "<ipython-input-25-396638cc7985>:75: WavFileWarning: Chunk (non-data) not understood, skipping it.\n",
            "  _, wav = read(wav_path)\n"
          ]
        },
        {
          "output_type": "stream",
          "name": "stdout",
          "text": [
            "phone : ['ᄌ', 'ᅦ', 'ᄆ', 'ᅡ', 'ᄅ', 'ᅵ', 'ᄃ', 'ᅳ', 'ᆯ', 'ᄅ', 'ᅵ', 'ᄉ', 'ᅦ', 'ᄋ', 'ᅭ']\n",
            "duration: [10  7  6  7  5  7  5  3  7  3  8  8 11 13  6]\n",
            "start : 0.31\n",
            ",end : 1.54\n",
            "\n"
          ]
        },
        {
          "output_type": "stream",
          "name": "stderr",
          "text": [
            "<ipython-input-25-396638cc7985>:75: WavFileWarning: Chunk (non-data) not understood, skipping it.\n",
            "  _, wav = read(wav_path)\n"
          ]
        },
        {
          "output_type": "stream",
          "name": "stdout",
          "text": [
            "phone : ['ᄃ', 'ᅡ', 'ᆼ', 'ᄉ', 'ᅵ', 'ᆫ', 'ᄌ', 'ᅦ', 'ᄋ', 'ᅡ', 'ᄂ', 'ᅳ', 'ᆫ', 'sp', 'ᄒ', 'ᅳ', 'ᆼ', 'ᄆ', 'ᅵ', 'ᄅ', 'ᅩ', 'ᆸ', 'ᄁ', 'ᅦ', 'ᄃ', 'ᅳ', 'ᆯ', 'ᄅ', 'ᅵ', 'ᄂ', 'ᅦ', 'ᄋ', 'ᅭ']\n",
            "duration: [13  6  5  8  7  6  6  8  5  5  5  6 10  2  8  3  3  7  5  5  6  4  4  5\n",
            "  4  3  7  4  5  6 11 16  6]\n",
            "start : 0.23\n",
            ",end : 2.59\n",
            "\n"
          ]
        },
        {
          "output_type": "stream",
          "name": "stderr",
          "text": [
            "<ipython-input-25-396638cc7985>:75: WavFileWarning: Chunk (non-data) not understood, skipping it.\n",
            "  _, wav = read(wav_path)\n"
          ]
        },
        {
          "output_type": "stream",
          "name": "stdout",
          "text": [
            "phone : ['ᄂ', 'ᅮ', 'ᄂ', 'ᅦ', 'ᄆ', 'ᅯ', 'ᆫ', 'ᄀ', 'ᅡ', 'ᄀ', 'ᅡ', 'ᄃ', 'ᅳ', 'ᄅ', 'ᅥ', 'ᄀ', 'ᅡ', 'ᄊ', 'ᅥ', 'ᄋ', 'ᅭ']\n",
            "duration: [ 8  8  6  7  7 10  5  5  4  6  7  8  3  6  5  6  7 12 13 26  6]\n",
            "start : 0.32\n",
            ",end : 2.24\n",
            "\n"
          ]
        },
        {
          "output_type": "stream",
          "name": "stderr",
          "text": [
            "<ipython-input-25-396638cc7985>:75: WavFileWarning: Chunk (non-data) not understood, skipping it.\n",
            "  _, wav = read(wav_path)\n"
          ]
        },
        {
          "output_type": "stream",
          "name": "stdout",
          "text": [
            "phone : ['ᄋ', 'ᅧ', 'ᆯ', 'ᄉ', 'ᅬ', 'ᄅ', 'ᅳ', 'ᆯ', 'ᄋ', 'ᅵ', 'ᄅ', 'ᅥ', 'ᄇ', 'ᅥ', 'ᄅ', 'ᅧ', 'ᄉ', 'ᅥ', 'sp', 'ᄎ', 'ᅡ', 'ᆼ', 'ᄆ', 'ᅮ', 'ᄂ', 'ᅳ', 'ᄅ', 'ᅩ', 'ᄌ', 'ᅵ', 'ᄇ', 'ᅦ', 'ᄃ', 'ᅳ', 'ᄅ', 'ᅥ', 'ᄀ', 'ᅡ', 'ᆮ', 'ᄄ', 'ᅡ']\n",
            "duration: [ 9  9  5 10  5  3  5  5  3  4  7  5  6  4  3 10 11 18 15 13  5  5  4  6\n",
            "  4  5  4  6  9  3  6  6  7  2  4  5  7  6 16 10 12]\n",
            "start : 0.33\n",
            ",end : 3.61\n",
            "\n"
          ]
        },
        {
          "output_type": "stream",
          "name": "stderr",
          "text": [
            "<ipython-input-25-396638cc7985>:75: WavFileWarning: Chunk (non-data) not understood, skipping it.\n",
            "  _, wav = read(wav_path)\n"
          ]
        },
        {
          "output_type": "stream",
          "name": "stdout",
          "text": [
            "phone : ['ᄀ', 'ᅳ', 'ᄃ', 'ᅳ', 'ᄅ', 'ᅴ', 'ᄋ', 'ᅳ', 'ᆷ', 'ᄆ', 'ᅩ', 'ᄀ', 'ᅡ', 'sp', 'ᄃ', 'ᅳ', 'ᄅ', 'ᅥ', 'ᄂ', 'ᅡ', 'ᄀ', 'ᅩ', 'ᄋ', 'ᅵ', 'ᆮ', 'ᄄ', 'ᅡ']\n",
            "duration: [13  7  4  4  4  8  3  5  2 11  5  9 12 10  6  3  5  7  6  6  5  4  6  4\n",
            " 16  9 12]\n",
            "start : 0.0\n",
            ",end : 2.16\n",
            "\n"
          ]
        },
        {
          "output_type": "stream",
          "name": "stderr",
          "text": [
            "<ipython-input-25-396638cc7985>:75: WavFileWarning: Chunk (non-data) not understood, skipping it.\n",
            "  _, wav = read(wav_path)\n"
          ]
        },
        {
          "output_type": "stream",
          "name": "stdout",
          "text": [
            "phone : ['ᄀ', 'ᅳ', 'ᄀ', 'ᅥ', 'ᄉ', 'ᅵ', 'ᄉ', 'ᅡ', 'ᄉ', 'ᅵ', 'ᄅ', 'ᅵ', 'ᄆ', 'ᅵ', 'ᄃ', 'ᅳ', 'ᄅ', 'ᅥ', 'ᄂ', 'ᅡ', 'ᆮ', 'ᄄ', 'ᅡ']\n",
            "duration: [12  5  7  4  9  7  7  8 11  3  3 10  8 10  9  3  5  6  6  7 15  9 13]\n",
            "start : 0.11\n",
            ",end : 2.16\n",
            "\n"
          ]
        },
        {
          "output_type": "stream",
          "name": "stderr",
          "text": [
            "<ipython-input-25-396638cc7985>:75: WavFileWarning: Chunk (non-data) not understood, skipping it.\n",
            "  _, wav = read(wav_path)\n"
          ]
        },
        {
          "output_type": "stream",
          "name": "stdout",
          "text": [
            "phone : ['ᄀ', 'ᅳ', 'ᄂ', 'ᅧ', 'ᄀ', 'ᅡ', 'ᄉ', 'ᅢ', 'ᄒ', 'ᅡ', 'ᄋ', 'ᅣ', 'ᆫ', 'ᄋ', 'ᅵ', 'ᄅ', 'ᅳ', 'ᆯ', 'ᄃ', 'ᅳ', 'ᄅ', 'ᅥ', 'ᄂ', 'ᅢ', 'ᄆ', 'ᅧ', 'ᆫ', 'ᄉ', 'ᅥ', 'sp', 'ᄋ', 'ᅮ', 'ᄉ', 'ᅥ', 'ᆮ', 'ᄄ', 'ᅡ']\n",
            "duration: [13  7  4  8  6  9  9  3  7  3  9  7  4  6  4  4  7  4  6  4  4  7  6  6\n",
            "  5 11  5  9 16  2  5  7  7  6 17  7 15]\n",
            "start : 0.34\n",
            ",end : 3.35\n",
            "\n"
          ]
        },
        {
          "output_type": "stream",
          "name": "stderr",
          "text": [
            "<ipython-input-25-396638cc7985>:75: WavFileWarning: Chunk (non-data) not understood, skipping it.\n",
            "  _, wav = read(wav_path)\n"
          ]
        },
        {
          "output_type": "stream",
          "name": "stdout",
          "text": [
            "phone : ['ᄇ', 'ᅡ', 'ᆼ', 'ᄀ', 'ᅳ', 'ᆷ', 'ᄂ', 'ᅦ', 'ᄀ', 'ᅡ', 'ᄒ', 'ᅡ', 'ᆫ', 'ᄆ', 'ᅡ', 'ᄅ', 'ᅳ', 'ᆫ', 'sp', 'ᄂ', 'ᅥ', 'ᄋ', 'ᅴ', 'ᄆ', 'ᅮ', 'ᄌ', 'ᅵ', 'ᄅ', 'ᅳ', 'ᆯ', 'ᄃ', 'ᅳ', 'ᄅ', 'ᅥ', 'ᄂ', 'ᅢ', 'ᄂ', 'ᅳ', 'ᆫ', 'ᄀ', 'ᅥ', 'ᄋ', 'ᅣ']\n",
            "duration: [14  7  5  5  8  8  4  8  7  5  2  3  8  5  8  5 10 16  6 24  7  7  5  7\n",
            "  6  8  4  4  4  5  6  3  3  6  5  7  3  3  6  6  7  9 25]\n",
            "start : 0.32\n",
            ",end : 3.85\n",
            "\n"
          ]
        },
        {
          "output_type": "stream",
          "name": "stderr",
          "text": [
            "<ipython-input-25-396638cc7985>:75: WavFileWarning: Chunk (non-data) not understood, skipping it.\n",
            "  _, wav = read(wav_path)\n"
          ]
        },
        {
          "output_type": "stream",
          "name": "stdout",
          "text": [
            "phone : ['ᄋ', 'ᅵ', 'ᄀ', 'ᅩ', 'ᄉ', 'ᅦ', 'ᄃ', 'ᅳ', 'ᄅ', 'ᅥ', 'ᄋ', 'ᅩ', 'ᄉ', 'ᅵ', 'ᄆ', 'ᅧ', 'ᆫ', 'ᄋ', 'ᅡ', 'ᆫ', 'ᄃ', 'ᅬ', 'ᆷ', 'ᄂ', 'ᅵ', 'ᄃ', 'ᅡ']\n",
            "duration: [24  6  4  7  6  6  5  4  6  2  4  4  9  4  4  7  3  6  6  5  4  7  8  5\n",
            "  5 10 18]\n",
            "start : 0.0\n",
            ",end : 2.08\n",
            "\n"
          ]
        },
        {
          "output_type": "stream",
          "name": "stderr",
          "text": [
            "<ipython-input-25-396638cc7985>:75: WavFileWarning: Chunk (non-data) not understood, skipping it.\n",
            "  _, wav = read(wav_path)\n"
          ]
        },
        {
          "output_type": "stream",
          "name": "stdout",
          "text": [
            "phone : ['ᄋ', 'ᅩ', 'ᄂ', 'ᅳ', 'ᄅ', 'ᅳ', 'ᆫ', 'ᄌ', 'ᅵ', 'ᄇ', 'ᅳ', 'ᄅ', 'ᅩ', 'ᄋ', 'ᅵ', 'ᆯ', 'ᄍ', 'ᅵ', 'ᆨ', 'ᄃ', 'ᅳ', 'ᄅ', 'ᅥ', 'ᄋ', 'ᅪ', 'ᄅ', 'ᅡ']\n",
            "duration: [40  9  3  7  3  8  8  8  7  5  4  3  6  3  7  5  9  5  4  5  3  6  3  6\n",
            "  6 11 22]\n",
            "start : 0.0\n",
            ",end : 2.4\n",
            "\n"
          ]
        },
        {
          "output_type": "stream",
          "name": "stderr",
          "text": [
            "<ipython-input-25-396638cc7985>:75: WavFileWarning: Chunk (non-data) not understood, skipping it.\n",
            "  _, wav = read(wav_path)\n"
          ]
        },
        {
          "output_type": "stream",
          "name": "stdout",
          "text": [
            "phone : ['ᄀ', 'ᅵ', 'ᄅ', 'ᅳ', 'ᆯ', 'ᄌ', 'ᅡ', 'ᆯ', 'ᄆ', 'ᅩ', 'ᆮ', 'ᄃ', 'ᅳ', 'ᄅ', 'ᅥ', 'ᄉ', 'ᅥ', 'ᆫ', 'ᄀ', 'ᅥ', 'ᆮ', 'ᄀ', 'ᅡ', 'ᄐ', 'ᅡ', 'ᄋ', 'ᅭ']\n",
            "duration: [12  7  4  6  6  6  6  4  5  5  5  2  4  3  4  7  5  4  3  4  3  4  7 10\n",
            " 14 23  5]\n",
            "start : 0.39\n",
            ",end : 2.34\n",
            "\n"
          ]
        },
        {
          "output_type": "stream",
          "name": "stderr",
          "text": [
            "<ipython-input-25-396638cc7985>:75: WavFileWarning: Chunk (non-data) not understood, skipping it.\n",
            "  _, wav = read(wav_path)\n"
          ]
        },
        {
          "output_type": "stream",
          "name": "stdout",
          "text": [
            "phone : ['ᄋ', 'ᅵ', 'ᄌ', 'ᅵ', 'ᄋ', 'ᅧ', 'ᄀ', 'ᅦ', 'ᄉ', 'ᅢ', 'ᄋ', 'ᅡ', 'ᄑ', 'ᅡ', 'ᄐ', 'ᅳ', 'ᄀ', 'ᅡ', 'sp', 'ᄋ', 'ᅧ', 'ᄀ', 'ᅵ', 'ᄌ', 'ᅥ', 'ᄀ', 'ᅵ', 'ᄃ', 'ᅳ', 'ᄅ', 'ᅥ', 'ᄉ', 'ᅥ', 'ᄀ', 'ᅩ', 'ᄋ', 'ᅵ', 'ᆮ', 'ᄄ', 'ᅡ']\n",
            "duration: [50 11  6  4  3  6  6 10  9  6  6  5  9  6 11  4  9 18 14 14  8  7  5  4\n",
            "  7  6  6  4  4  4  6  7  5  6  5  6  3 15  9 15]\n",
            "start : 0.0\n",
            ",end : 3.94\n",
            "\n"
          ]
        },
        {
          "output_type": "stream",
          "name": "stderr",
          "text": [
            "<ipython-input-25-396638cc7985>:75: WavFileWarning: Chunk (non-data) not understood, skipping it.\n",
            "  _, wav = read(wav_path)\n"
          ]
        },
        {
          "output_type": "stream",
          "name": "stdout",
          "text": [
            "phone : ['ᄌ', 'ᅦ', 'ᄀ', 'ᅡ', 'ᄌ', 'ᅥ', 'ᄂ', 'ᅦ', 'ᄆ', 'ᅧ', 'ᆼ', 'ᄒ', 'ᅡ', 'ᄆ', 'ᅳ', 'ᆯ', 'ᄃ', 'ᅳ', 'ᄅ', 'ᅧ', 'ᆫ', 'ᄂ', 'ᅡ', 'ᄋ', 'ᅭ']\n",
            "duration: [14  8  6  8  6  7  6  9  6  8  3  5  4  4  4  5  6  2  5  7  6  5 14 13\n",
            "  7]\n",
            "start : 0.09\n",
            ",end : 2.04\n",
            "\n"
          ]
        },
        {
          "output_type": "stream",
          "name": "stderr",
          "text": [
            "<ipython-input-25-396638cc7985>:75: WavFileWarning: Chunk (non-data) not understood, skipping it.\n",
            "  _, wav = read(wav_path)\n"
          ]
        },
        {
          "output_type": "stream",
          "name": "stdout",
          "text": [
            "phone : ['ᄋ', 'ᅵ', 'ᆯ', 'ᄀ', 'ᅥ', 'ᄃ', 'ᅳ', 'ᄅ', 'ᅵ', 'ᄀ', 'ᅦ', 'ᆮ', 'ᄊ', 'ᅳ', 'ᆷ', 'ᄂ', 'ᅵ', 'ᄃ', 'ᅡ']\n",
            "duration: [21  6  4  6  6  5  3  4  4  4  6  4  7  4  6  3  6 12 14]\n",
            "start : 0.0\n",
            ",end : 1.46\n",
            "\n"
          ]
        },
        {
          "output_type": "stream",
          "name": "stderr",
          "text": [
            "<ipython-input-25-396638cc7985>:75: WavFileWarning: Chunk (non-data) not understood, skipping it.\n",
            "  _, wav = read(wav_path)\n"
          ]
        },
        {
          "output_type": "stream",
          "name": "stdout",
          "text": [
            "phone : ['ᄂ', 'ᅡ', 'ᄂ', 'ᅳ', 'ᆫ', 'ᄆ', 'ᅮ', 'ᄂ', 'ᅳ', 'ᆯ', 'ᄋ', 'ᅧ', 'ᆯ', 'ᄀ', 'ᅩ', 'sp', 'ᄀ', 'ᅭ', 'ᄒ', 'ᅬ', 'ᄋ', 'ᅡ', 'ᄂ', 'ᅳ', 'ᆯ', 'ᄃ', 'ᅳ', 'ᄅ', 'ᅧ', 'ᄃ', 'ᅡ', 'ᄇ', 'ᅪ', 'ᆮ', 'ᄄ', 'ᅡ']\n",
            "duration: [10  7  4  2  9  4  6  6  9  3  4  4 10  7 22 15 14 11  4  9  5  4  6  8\n",
            "  5  6  4  5  6  5  8  5  5 16  9 13]\n",
            "start : 0.24\n",
            ",end : 3.37\n",
            "\n"
          ]
        },
        {
          "output_type": "stream",
          "name": "stderr",
          "text": [
            "<ipython-input-25-396638cc7985>:75: WavFileWarning: Chunk (non-data) not understood, skipping it.\n",
            "  _, wav = read(wav_path)\n"
          ]
        },
        {
          "output_type": "stream",
          "name": "stdout",
          "text": [
            "phone : ['ᄀ', 'ᅳ', 'ᄉ', 'ᅡ', 'ᄅ', 'ᅡ', 'ᄆ', 'ᅳ', 'ᆫ', 'sp', 'ᄒ', 'ᅡ', 'ᄅ', 'ᅮ', 'ᄌ', 'ᅩ', 'ᆼ', 'ᄋ', 'ᅵ', 'ᆯ', 'ᄒ', 'ᅧ', 'ᆫ', 'ᄆ', 'ᅵ', 'ᄀ', 'ᅧ', 'ᆼ', 'ᄋ', 'ᅳ', 'ᆯ', 'ᄃ', 'ᅳ', 'ᄅ', 'ᅧ', 'ᄃ', 'ᅡ', 'ᄇ', 'ᅪ']\n",
            "duration: [32  6  6  9  5  8  6 19 13  6 21  4  3  8  4  6  4  5  4  3  4  6  5  4\n",
            "  6  5  6  4  3  3  4  5  3  5  8  6  9  8 29]\n",
            "start : 0.17\n",
            ",end : 3.59\n",
            "\n"
          ]
        },
        {
          "output_type": "stream",
          "name": "stderr",
          "text": [
            "<ipython-input-25-396638cc7985>:75: WavFileWarning: Chunk (non-data) not understood, skipping it.\n",
            "  _, wav = read(wav_path)\n"
          ]
        },
        {
          "output_type": "stream",
          "name": "stdout",
          "text": [
            "phone : ['ᄂ', 'ᅡ', 'ᄂ', 'ᅳ', 'ᆫ', 'ᄋ', 'ᅳ', 'ᄆ', 'ᅡ', 'ᄀ', 'ᅳ', 'ᆯ', 'ᄃ', 'ᅳ', 'ᆮ', 'ᄄ', 'ᅡ', 'sp', 'ᄌ', 'ᅡ', 'ᄆ', 'ᅵ', 'ᄃ', 'ᅳ', 'ᄅ', 'ᅥ', 'ᆮ', 'ᄄ', 'ᅡ']\n",
            "duration: [12  7  4  5  4  3  7  8  7  6  4  5  4  7 12  8 13  3 14  6  6  7  5  2\n",
            "  5  6 17 10 10]\n",
            "start : 0.19\n",
            ",end : 2.6\n",
            "\n"
          ]
        },
        {
          "output_type": "stream",
          "name": "stderr",
          "text": [
            "<ipython-input-25-396638cc7985>:75: WavFileWarning: Chunk (non-data) not understood, skipping it.\n",
            "  _, wav = read(wav_path)\n"
          ]
        },
        {
          "output_type": "stream",
          "name": "stdout",
          "text": [
            "phone : ['ᄌ', 'ᅦ', 'ᄆ', 'ᅡ', 'ᆯ', 'ᄃ', 'ᅳ', 'ᆮ', 'ᄁ', 'ᅩ', 'ᄀ', 'ᅨ', 'ᄉ', 'ᅦ', 'ᄋ', 'ᅭ']\n",
            "duration: [11  7  7  6  6  6  5  3  5  7  5  7  9 11 11  7]\n",
            "start : 0.23\n",
            ",end : 1.54\n",
            "\n"
          ]
        },
        {
          "output_type": "stream",
          "name": "stderr",
          "text": [
            "<ipython-input-25-396638cc7985>:75: WavFileWarning: Chunk (non-data) not understood, skipping it.\n",
            "  _, wav = read(wav_path)\n"
          ]
        },
        {
          "output_type": "stream",
          "name": "stdout",
          "text": [
            "phone : ['ᄆ', 'ᅧ', 'ᆮ', 'ᄉ', 'ᅵ', 'ᄋ', 'ᅦ', 'ᄋ', 'ᅵ', 'ᆫ', 'ᄎ', 'ᅥ', 'ᄂ', 'ᅦ', 'ᄃ', 'ᅩ', 'ᄎ', 'ᅡ', 'ᄏ', 'ᅡ', 'ᄉ', 'ᅧ', 'ᄊ', 'ᅥ', 'ᄋ', 'ᅭ']\n",
            "duration: [ 6  8  5 11  3  4  3  6  3  5  7  2  5  6  7  4 10  5  8  3  7  4 13 14\n",
            " 16  4]\n",
            "start : 0.22\n",
            ",end : 2.18\n",
            "\n"
          ]
        },
        {
          "output_type": "stream",
          "name": "stderr",
          "text": [
            "<ipython-input-25-396638cc7985>:75: WavFileWarning: Chunk (non-data) not understood, skipping it.\n",
            "  _, wav = read(wav_path)\n"
          ]
        },
        {
          "output_type": "stream",
          "name": "stdout",
          "text": [
            "phone : ['ᄃ', 'ᅩ', 'ᄎ', 'ᅡ', 'ᄏ', 'ᅡ', 'ᄆ', 'ᅧ', 'ᆫ', 'ᄋ', 'ᅡ', 'ᆯ', 'ᄅ', 'ᅧ', 'ᄌ', 'ᅯ']\n",
            "duration: [13  6  9  6  9  5  5  6  4  6  6  5  4  7 11 24]\n",
            "start : 0.4\n",
            ",end : 1.86\n",
            "\n"
          ]
        },
        {
          "output_type": "stream",
          "name": "stderr",
          "text": [
            "<ipython-input-25-396638cc7985>:75: WavFileWarning: Chunk (non-data) not understood, skipping it.\n",
            "  _, wav = read(wav_path)\n"
          ]
        },
        {
          "output_type": "stream",
          "name": "stdout",
          "text": [
            "phone : ['ᄂ', 'ᅡ', 'ᄂ', 'ᅳ', 'ᆫ', 'ᄉ', 'ᅵ', 'ᆸ', 'ᄂ', 'ᅧ', 'ᆫ', 'ᄃ', 'ᅱ', 'ᄋ', 'ᅦ', 'ᄂ', 'ᅳ', 'ᆫ', 'sp', 'ᄇ', 'ᅮ', 'ᄌ', 'ᅡ', 'ᄀ', 'ᅡ', 'ᄃ', 'ᅬ', 'ᆯ', 'ᄀ', 'ᅥ', 'ᄋ', 'ᅣ']\n",
            "duration: [16  7  3  6  4  8  4  9  3  8  6  4  4  6  7  6  9  9 10 15  8  7  5  7\n",
            "  6  5  7  4  9  8  7 20]\n",
            "start : 0.27\n",
            ",end : 3.03\n",
            "\n"
          ]
        },
        {
          "output_type": "stream",
          "name": "stderr",
          "text": [
            "<ipython-input-25-396638cc7985>:75: WavFileWarning: Chunk (non-data) not understood, skipping it.\n",
            "  _, wav = read(wav_path)\n"
          ]
        },
        {
          "output_type": "stream",
          "name": "stdout",
          "text": [
            "phone : ['ᄌ', 'ᅥ', 'ᄂ', 'ᅳ', 'ᆫ', 'ᄎ', 'ᅵ', 'ᆫ', 'ᄀ', 'ᅮ', 'ᄅ', 'ᅳ', 'ᆯ', 'ᄉ', 'ᅡ', 'ᄅ', 'ᅡ', 'ᆼ', 'ᄒ', 'ᅡ', 'ᄀ', 'ᅦ', 'ᄃ', 'ᅬ', 'ᄋ', 'ᅥ', 'ᄊ', 'ᅥ', 'ᄋ', 'ᅭ']\n",
            "duration: [13  6  6  5  7  7  6  5  4  5  4  4  3  7  6  5  5  3  5  4  4  8  7  6\n",
            "  4  4 13 18 17  4]\n",
            "start : 0.57\n",
            ",end : 2.84\n",
            "\n"
          ]
        },
        {
          "output_type": "stream",
          "name": "stderr",
          "text": [
            "<ipython-input-25-396638cc7985>:75: WavFileWarning: Chunk (non-data) not understood, skipping it.\n",
            "  _, wav = read(wav_path)\n"
          ]
        },
        {
          "output_type": "stream",
          "name": "stdout",
          "text": [
            "phone : ['ᄌ', 'ᅥ', 'ᄂ', 'ᅳ', 'ᆫ', 'ᄋ', 'ᅢ', 'ᄋ', 'ᅪ', 'ᆫ', 'ᄀ', 'ᅧ', 'ᆫ', 'ᄃ', 'ᅩ', 'ᆯ', 'ᄇ', 'ᅩ', 'ᄂ', 'ᅳ', 'ᆫ', 'ᄀ', 'ᅥ', 'ᆯ', 'ᄌ', 'ᅩ', 'ᄋ', 'ᅡ', 'ᄒ', 'ᅢ', 'ᄋ', 'ᅭ']\n",
            "duration: [ 7  3  3  2  3  2  3  2  5  5  5  7  6  3  7  6  5  7  4  4  4  4  6  5\n",
            "  8  7  7  7  4 15 22  4]\n",
            "start : 0.21\n",
            ",end : 2.33\n",
            "\n"
          ]
        },
        {
          "output_type": "stream",
          "name": "stderr",
          "text": [
            "<ipython-input-25-396638cc7985>:75: WavFileWarning: Chunk (non-data) not understood, skipping it.\n",
            "  _, wav = read(wav_path)\n"
          ]
        },
        {
          "output_type": "stream",
          "name": "stdout",
          "text": [
            "phone : ['ᄋ', 'ᅮ', 'ᄅ', 'ᅵ', 'ᄋ', 'ᅥ', 'ᆷ', 'ᄆ', 'ᅡ', 'ᄂ', 'ᅳ', 'ᆫ', 'sp', 'ᄋ', 'ᅮ', 'ᄅ', 'ᅵ', 'ᄅ', 'ᅳ', 'ᆯ', 'ᄃ', 'ᅩ', 'ᆯ', 'ᄇ', 'ᅩ', 'ᄂ', 'ᅳ', 'ᆫ', 'ᄀ', 'ᅥ', 'ᆮ', 'ᄄ', 'ᅢ', 'ᄆ', 'ᅮ', 'ᄂ', 'ᅦ', 'sp', 'ᄋ', 'ᅡ', 'ᄎ', 'ᅵ', 'ᆷ', 'ᄇ', 'ᅮ', 'ᄐ', 'ᅥ', 'ᄇ', 'ᅡ', 'ᆷ', 'ᄁ', 'ᅡ', 'ᄌ', 'ᅵ', 'ᄇ', 'ᅡ', 'ᄈ', 'ᅡ', 'ᄋ', 'ᅭ']\n",
            "duration: [31  8  4  5  7  4  5  4  8  5 10 10 10 17  9  5  4  3  5  5  4  8  4  5\n",
            "  6  4  2  5  4  5  5  6  6  7  5  7 17  6 30  8  8  5  5  3  5  7  6  6\n",
            "  9  4  9  8  6  3  7 10 13 20 17  8]\n",
            "start : 0.0\n",
            ",end : 5.37\n",
            "\n"
          ]
        },
        {
          "output_type": "stream",
          "name": "stderr",
          "text": [
            "<ipython-input-25-396638cc7985>:75: WavFileWarning: Chunk (non-data) not understood, skipping it.\n",
            "  _, wav = read(wav_path)\n"
          ]
        },
        {
          "output_type": "stream",
          "name": "stdout",
          "text": [
            "phone : ['ᄀ', 'ᅩ', 'ᆮ', 'ᄍ', 'ᅡ', 'ᆼ', 'ᄀ', 'ᅡ', 'ᄃ', 'ᅡ', 'ᄀ', 'ᅡ', 'sp', 'ᄋ', 'ᅬ', 'ᆫ', 'ᄍ', 'ᅩ', 'ᄀ', 'ᅳ', 'ᄅ', 'ᅩ', 'ᄃ', 'ᅩ', 'ᄉ', 'ᅦ', 'ᄋ', 'ᅭ']\n",
            "duration: [10  7  6  7  7  6  5  7  7  7  7 22 14  6  7  7  6  7  5  5  2  6  6  7\n",
            "  8 16 17  5]\n",
            "start : 0.14\n",
            ",end : 2.72\n",
            "\n"
          ]
        },
        {
          "output_type": "stream",
          "name": "stderr",
          "text": [
            "<ipython-input-25-396638cc7985>:75: WavFileWarning: Chunk (non-data) not understood, skipping it.\n",
            "  _, wav = read(wav_path)\n"
          ]
        },
        {
          "output_type": "stream",
          "name": "stdout",
          "text": [
            "phone : ['ᄌ', 'ᅵ', 'ᄀ', 'ᅮ', 'ᄂ', 'ᅳ', 'ᆫ', 'sp', 'ᄐ', 'ᅢ', 'ᄋ', 'ᅣ', 'ᆼ', 'ᄋ', 'ᅳ', 'ᆯ', 'ᄃ', 'ᅩ', 'ᆫ', 'ᄃ', 'ᅡ']\n",
            "duration: [ 9  6  4  7  5  9 13 15  9  7  3  7  3  4  8  4  6  7 13 12 14]\n",
            "start : 0.18\n",
            ",end : 2.1\n",
            "\n"
          ]
        },
        {
          "output_type": "stream",
          "name": "stderr",
          "text": [
            "<ipython-input-25-396638cc7985>:75: WavFileWarning: Chunk (non-data) not understood, skipping it.\n",
            "  _, wav = read(wav_path)\n"
          ]
        },
        {
          "output_type": "stream",
          "name": "stdout",
          "text": [
            "phone : ['ᄎ', 'ᅢ', 'ᄂ', 'ᅥ', 'ᆯ', 'ᄌ', 'ᅩ', 'ᆷ', 'ᄀ', 'ᅳ', 'ᄆ', 'ᅡ', 'ᆫ', 'ᄃ', 'ᅩ', 'ᆯ', 'ᄅ', 'ᅧ', 'ᄅ', 'ᅡ']\n",
            "duration: [16  4  5  6  5  5  6 10  7  3  7  7  6  5  6  5  3  8 10 19]\n",
            "start : 0.31\n",
            ",end : 1.97\n",
            "\n"
          ]
        },
        {
          "output_type": "stream",
          "name": "stderr",
          "text": [
            "<ipython-input-25-396638cc7985>:75: WavFileWarning: Chunk (non-data) not understood, skipping it.\n",
            "  _, wav = read(wav_path)\n"
          ]
        },
        {
          "output_type": "stream",
          "name": "stdout",
          "text": [
            "phone : ['ᄀ', 'ᅳ', 'ᄂ', 'ᅧ', 'ᄂ', 'ᅳ', 'ᆫ', 'sp', 'ᄂ', 'ᅡ', 'ᄅ', 'ᅳ', 'ᆯ', 'ᄇ', 'ᅩ', 'ᄌ', 'ᅡ', 'ᄆ', 'ᅡ', 'ᄌ', 'ᅡ', 'sp', 'ᄎ', 'ᅡ', 'ᄋ', 'ᅴ', 'ᄇ', 'ᅡ', 'ᆼ', 'ᄒ', 'ᅣ', 'ᆼ', 'ᄋ', 'ᅳ', 'ᆯ', 'ᄃ', 'ᅩ', 'ᆯ', 'ᄅ', 'ᅧ', 'ᆮ', 'ᄄ', 'ᅡ']\n",
            "duration: [10  5  5  9  6  7 17 17 12  8  4  5  5  6  7  6  8  6 11  9 18 16 16  3\n",
            " 10  4  7  7  4  5  4  3  3  4  4  6  5  5  5  6 17  7 13]\n",
            "start : 0.31\n",
            ",end : 4.2\n",
            "\n"
          ]
        },
        {
          "output_type": "stream",
          "name": "stderr",
          "text": [
            "<ipython-input-25-396638cc7985>:75: WavFileWarning: Chunk (non-data) not understood, skipping it.\n",
            "  _, wav = read(wav_path)\n"
          ]
        },
        {
          "output_type": "stream",
          "name": "stdout",
          "text": [
            "phone : ['ᄋ', 'ᅧ', 'ᄀ', 'ᅵ', 'ᄋ', 'ᅦ', 'ᄉ', 'ᅥ', 'ᄃ', 'ᅩ', 'ᄆ', 'ᅡ', 'ᆼ', 'ᄀ', 'ᅡ', 'ᄌ', 'ᅡ']\n",
            "duration: [11 10  6  3  3  5  6  6  6  7  6  4  5  5  9 11 15]\n",
            "start : 0.35\n",
            ",end : 1.72\n",
            "\n"
          ]
        },
        {
          "output_type": "stream",
          "name": "stderr",
          "text": [
            "<ipython-input-25-396638cc7985>:75: WavFileWarning: Chunk (non-data) not understood, skipping it.\n",
            "  _, wav = read(wav_path)\n"
          ]
        },
        {
          "output_type": "stream",
          "name": "stdout",
          "text": [
            "phone : ['ᄀ', 'ᅳ', 'ᄂ', 'ᅳ', 'ᆫ', 'ᄌ', 'ᅡ', 'ᄀ', 'ᅵ', 'ᄋ', 'ᅡ', 'ᄂ', 'ᅢ', 'ᄅ', 'ᅳ', 'ᆯ', 'ᄌ', 'ᅮ', 'ᄀ', 'ᅵ', 'ᄀ', 'ᅩ', 'sp', 'ᄒ', 'ᅢ', 'ᄋ', 'ᅬ', 'ᄅ', 'ᅩ', 'ᄃ', 'ᅩ', 'ᄆ', 'ᅡ', 'ᆼ', 'ᄀ', 'ᅡ', 'ᆮ', 'ᄄ', 'ᅡ']\n",
            "duration: [10  5  5  5  9  8  7  6  5  6  7  6  6  3  4  5  6  6  7  3 10 21 14 14\n",
            "  2  9  4  5  7  6  5  6  6  4  6  5 16  8 14]\n",
            "start : 0.21\n",
            ",end : 3.48\n",
            "\n"
          ]
        },
        {
          "output_type": "stream",
          "name": "stderr",
          "text": [
            "<ipython-input-25-396638cc7985>:75: WavFileWarning: Chunk (non-data) not understood, skipping it.\n",
            "  _, wav = read(wav_path)\n"
          ]
        },
        {
          "output_type": "stream",
          "name": "stdout",
          "text": [
            "phone : ['ᄆ', 'ᅯ', 'ᆯ', 'ᄃ', 'ᅩ', 'ᄋ', 'ᅪ', 'ᄃ', 'ᅳ', 'ᄅ', 'ᅵ', 'ᆯ', 'ᄁ', 'ᅡ', 'ᄋ', 'ᅭ']\n",
            "duration: [14 12  9  5  5  3  7  5  5  4  4  5  8 14 15  4]\n",
            "start : 0.23\n",
            ",end : 1.61\n",
            "\n"
          ]
        },
        {
          "output_type": "stream",
          "name": "stderr",
          "text": [
            "<ipython-input-25-396638cc7985>:75: WavFileWarning: Chunk (non-data) not understood, skipping it.\n",
            "  _, wav = read(wav_path)\n"
          ]
        },
        {
          "output_type": "stream",
          "name": "stdout",
          "text": [
            "phone : ['ᄒ', 'ᅡ', 'ᄂ', 'ᅳ', 'ᄅ', 'ᅳ', 'ᆫ', 'ᄉ', 'ᅳ', 'ᄉ', 'ᅳ', 'ᄅ', 'ᅩ', 'ᄃ', 'ᅩ', 'ᆷ', 'ᄂ', 'ᅳ', 'ᆫ', 'ᄌ', 'ᅡ', 'ᄅ', 'ᅳ', 'ᆯ', 'sp', 'ᄃ', 'ᅩ', 'ᆷ', 'ᄂ', 'ᅳ', 'ᆫ', 'ᄃ', 'ᅡ']\n",
            "duration: [31  6  3  6  3  6  4  7  5  6  6  4  8  6  8  5  4  6  7  7  8  4  4 15\n",
            "  3  5  7  7  3  6 10  9 14]\n",
            "start : 0.0\n",
            ",end : 2.71\n",
            "\n"
          ]
        },
        {
          "output_type": "stream",
          "name": "stderr",
          "text": [
            "<ipython-input-25-396638cc7985>:75: WavFileWarning: Chunk (non-data) not understood, skipping it.\n",
            "  _, wav = read(wav_path)\n"
          ]
        },
        {
          "output_type": "stream",
          "name": "stdout",
          "text": [
            "phone : ['ᄀ', 'ᅳ', 'ᄉ', 'ᅡ', 'ᄅ', 'ᅡ', 'ᄆ', 'ᅳ', 'ᆫ', 'sp', 'ᄃ', 'ᅱ', 'ᄅ', 'ᅳ', 'ᆯ', 'ᄃ', 'ᅩ', 'ᄅ', 'ᅡ', 'ᄇ', 'ᅩ', 'ᄌ', 'ᅵ', 'ᄋ', 'ᅡ', 'ᆫ', 'ᄏ', 'ᅩ', 'sp', 'ᄎ', 'ᅡ', 'ᄋ', 'ᅦ', 'ᄋ', 'ᅩ', 'ᆯ', 'ᄅ', 'ᅡ', 'ᆮ', 'ᄄ', 'ᅡ']\n",
            "duration: [10  6  6  7  6  8  5 11 13 18 10  7  5  5  4  7  4  6  6  7  6  8  4  7\n",
            "  4  6 13 14  2 12  3  6  3  5  3  6  5  5 15 11 10]\n",
            "start : 0.18\n",
            ",end : 3.65\n",
            "\n"
          ]
        },
        {
          "output_type": "stream",
          "name": "stderr",
          "text": [
            "<ipython-input-25-396638cc7985>:75: WavFileWarning: Chunk (non-data) not understood, skipping it.\n",
            "  _, wav = read(wav_path)\n"
          ]
        },
        {
          "output_type": "stream",
          "name": "stdout",
          "text": [
            "phone : ['ᄋ', 'ᅧ', 'ᆫ', 'ᄆ', 'ᅡ', 'ᄅ', 'ᅦ', 'ᄂ', 'ᅳ', 'ᆫ', 'sp', 'ᄒ', 'ᅡ', 'ᆫ', 'ᄒ', 'ᅢ', 'ᄅ', 'ᅳ', 'ᆯ', 'ᄃ', 'ᅩ', 'ᄅ', 'ᅡ', 'ᄇ', 'ᅩ', 'ᆯ', 'ᄑ', 'ᅵ', 'ᄅ', 'ᅭ', 'ᄀ', 'ᅡ', 'ᄋ', 'ᅵ', 'ᆮ', 'ᄄ', 'ᅡ']\n",
            "duration: [13  8  6  5  8  5  8  4  9 12  6 29  4  4  4  4  5  9  5  5  6  6  7  4\n",
            "  6  5  6  3  3  8  7  3  4  3 16  9 15]\n",
            "start : 0.54\n",
            ",end : 3.61\n",
            "\n"
          ]
        },
        {
          "output_type": "stream",
          "name": "stderr",
          "text": [
            "<ipython-input-25-396638cc7985>:75: WavFileWarning: Chunk (non-data) not understood, skipping it.\n",
            "  _, wav = read(wav_path)\n"
          ]
        },
        {
          "output_type": "stream",
          "name": "stdout",
          "text": [
            "phone : ['ᄌ', 'ᅦ', 'ᄁ', 'ᅮ', 'ᄆ', 'ᅳ', 'ᆫ', 'sp', 'ᄒ', 'ᅡ', 'ᆫ', 'ᄀ', 'ᅮ', 'ᄀ', 'ᅳ', 'ᄅ', 'ᅩ', 'ᄃ', 'ᅩ', 'ᄅ', 'ᅡ', 'ᄀ', 'ᅡ', 'ᄂ', 'ᅳ', 'ᆫ', 'ᄀ', 'ᅥ', 'ᄋ', 'ᅨ', 'ᄋ', 'ᅭ']\n",
            "duration: [16 12 11  8 11  7 17  6 20  3  6  3  6  6  4  3  6  6  5  7  5  4  7  2\n",
            "  5  6  5  7  4 13 17  9]\n",
            "start : 0.2\n",
            ",end : 3.07\n",
            "\n"
          ]
        },
        {
          "output_type": "stream",
          "name": "stderr",
          "text": [
            "<ipython-input-25-396638cc7985>:75: WavFileWarning: Chunk (non-data) not understood, skipping it.\n",
            "  _, wav = read(wav_path)\n"
          ]
        },
        {
          "output_type": "stream",
          "name": "stdout",
          "text": [
            "phone : ['ᄌ', 'ᅩ', 'ᆷ', 'ᄌ', 'ᅥ', 'ᄂ', 'ᅦ', 'ᄒ', 'ᅡ', 'ᆯ', 'ᄆ', 'ᅥ', 'ᄂ', 'ᅵ', 'ᄀ', 'ᅡ', 'ᄃ', 'ᅩ', 'ᄅ', 'ᅡ', 'ᄀ', 'ᅡ', 'ᄉ', 'ᅧ', 'ᆮ', 'ᄄ', 'ᅡ', 'ᄂ', 'ᅳ', 'ᆫ', 'ᄌ', 'ᅥ', 'ᆫ', 'ᄒ', 'ᅪ', 'ᄅ', 'ᅳ', 'ᆯ', 'ᄇ', 'ᅡ', 'ᄃ', 'ᅡ', 'ᄊ', 'ᅥ']\n",
            "duration: [13  7  6  5  7  7  5  6  4  3  6  6  6  4  6  9  6  6  5  3  6  5  5  5\n",
            "  5  4  6  6  3  8  7  9  4  4  3  5  3  4  6  5  5  6 19 27]\n",
            "start : 0.35\n",
            ",end : 3.61\n",
            "\n"
          ]
        },
        {
          "output_type": "stream",
          "name": "stderr",
          "text": [
            "<ipython-input-25-396638cc7985>:75: WavFileWarning: Chunk (non-data) not understood, skipping it.\n",
            "  _, wav = read(wav_path)\n"
          ]
        },
        {
          "output_type": "stream",
          "name": "stdout",
          "text": [
            "phone : ['ᄀ', 'ᅳ', 'ᄂ', 'ᅳ', 'ᆫ', 'sp', 'ᄋ', 'ᅧ', 'ᄅ', 'ᅡ', 'ᄒ', 'ᅩ', 'ᆸ', 'ᄉ', 'ᅡ', 'ᄅ', 'ᅦ', 'ᄒ', 'ᅡ', 'ᆫ', 'ᄀ', 'ᅮ', 'ᄀ', 'ᅳ', 'ᄅ', 'ᅩ', 'ᄃ', 'ᅩ', 'ᄅ', 'ᅡ', 'ᄋ', 'ᅪ', 'ᆮ', 'ᄄ', 'ᅡ']\n",
            "duration: [16  6  4  8 17 13 16  8  6  4  3  3  6  8  6  6  3  9  2  8  3  6  6  4\n",
            "  2  6  7  6  3  4  5  7 14 10 11]\n",
            "start : 0.3\n",
            ",end : 3.15\n",
            "\n"
          ]
        },
        {
          "output_type": "stream",
          "name": "stderr",
          "text": [
            "<ipython-input-25-396638cc7985>:75: WavFileWarning: Chunk (non-data) not understood, skipping it.\n",
            "  _, wav = read(wav_path)\n"
          ]
        },
        {
          "output_type": "stream",
          "name": "stdout",
          "text": [
            "phone : ['ᄒ', 'ᅪ', 'ᆫ', 'ᄌ', 'ᅡ', 'ᄋ', 'ᅴ', 'ᄋ', 'ᅴ', 'ᄉ', 'ᅵ', 'ᄀ', 'ᅵ', 'ᄃ', 'ᅩ', 'ᄅ', 'ᅡ', 'ᄋ', 'ᅪ', 'ᄊ', 'ᅥ', 'ᄋ', 'ᅭ']\n",
            "duration: [14  6  6  6  5  6  3  2  9 10  5  5  9  5  6  4  3  5  8 12 14 17 10]\n",
            "start : 0.38\n",
            ",end : 2.35\n",
            "\n"
          ]
        },
        {
          "output_type": "stream",
          "name": "stderr",
          "text": [
            "<ipython-input-25-396638cc7985>:75: WavFileWarning: Chunk (non-data) not understood, skipping it.\n",
            "  _, wav = read(wav_path)\n"
          ]
        },
        {
          "output_type": "stream",
          "name": "stdout",
          "text": [
            "phone : ['ᄌ', 'ᅦ', 'ᄉ', 'ᅮ', 'ᆨ', 'ᄍ', 'ᅦ', 'ᄌ', 'ᅩ', 'ᆷ', 'ᄃ', 'ᅩ', 'ᄋ', 'ᅪ', 'ᄌ', 'ᅮ', 'ᄉ', 'ᅦ', 'ᄋ', 'ᅭ']\n",
            "duration: [13  8  6  5  5  6  7  6  4  7  5  8  5  5  5  7  6 14 17  4]\n",
            "start : 0.19\n",
            ",end : 1.85\n",
            "\n"
          ]
        },
        {
          "output_type": "stream",
          "name": "stderr",
          "text": [
            "<ipython-input-25-396638cc7985>:75: WavFileWarning: Chunk (non-data) not understood, skipping it.\n",
            "  _, wav = read(wav_path)\n"
          ]
        },
        {
          "output_type": "stream",
          "name": "stdout",
          "text": [
            "phone : ['ᄃ', 'ᅩ', 'ᄋ', 'ᅪ', 'ᄌ', 'ᅮ', 'ᄉ', 'ᅧ', 'ᄉ', 'ᅥ', 'ᄀ', 'ᅩ', 'ᄆ', 'ᅡ', 'ᆸ', 'ᄊ', 'ᅳ', 'ᆷ', 'ᄂ', 'ᅵ', 'ᄃ', 'ᅡ']\n",
            "duration: [16  6  3  8  4  5  5  7  8  8  8  4  7  6  3  7  3  5  3  6  9 22]\n",
            "start : 0.17\n",
            ",end : 1.94\n",
            "\n"
          ]
        },
        {
          "output_type": "stream",
          "name": "stderr",
          "text": [
            "<ipython-input-25-396638cc7985>:75: WavFileWarning: Chunk (non-data) not understood, skipping it.\n",
            "  _, wav = read(wav_path)\n"
          ]
        },
        {
          "output_type": "stream",
          "name": "stdout",
          "text": [
            "phone : ['ᄋ', 'ᅵ', 'ᄋ', 'ᅣ', 'ᄀ', 'ᅳ', 'ᆫ', 'sp', 'ᄋ', 'ᅡ', 'ᄋ', 'ᅵ', 'ᄃ', 'ᅳ', 'ᆯ', 'ᄉ', 'ᅩ', 'ᄂ', 'ᅵ', 'ᄃ', 'ᅡ', 'ᄎ', 'ᅵ', 'ᄋ', 'ᅡ', 'ᆫ', 'ᄂ', 'ᅳ', 'ᆫ', 'ᄀ', 'ᅩ', 'ᄉ', 'ᅦ', 'ᄃ', 'ᅮ', 'ᄉ', 'ᅦ', 'ᄋ', 'ᅭ']\n",
            "duration: [17 11  3 15  6 10 13  6 22  7  5  5  3  4  5  6  5  7  4  6 10 12  3  6\n",
            "  5  6  3  3  9  4  6  8  8  4  5 11 14 16  3]\n",
            "start : 0.18\n",
            ",end : 3.62\n",
            "\n"
          ]
        },
        {
          "output_type": "stream",
          "name": "stderr",
          "text": [
            "<ipython-input-25-396638cc7985>:75: WavFileWarning: Chunk (non-data) not understood, skipping it.\n",
            "  _, wav = read(wav_path)\n"
          ]
        },
        {
          "output_type": "stream",
          "name": "stdout",
          "text": [
            "phone : ['ᄉ', 'ᅮ', 'ᄋ', 'ᅥ', 'ᆸ', 'ᄌ', 'ᅮ', 'ᆼ', 'ᄋ', 'ᅦ', 'ᄒ', 'ᅲ', 'ᄃ', 'ᅢ', 'ᄑ', 'ᅩ', 'ᄂ', 'ᅳ', 'ᆯ', 'ᄏ', 'ᅧ', 'ᄃ', 'ᅮ', 'ᄌ', 'ᅵ', 'ᄆ', 'ᅡ', 'ᄉ', 'ᅦ', 'ᄋ', 'ᅭ']\n",
            "duration: [18  4  2  8  4  6  4  3  5  3  7  5  5  7 10  7  3 10  5  8  6  6  7  6\n",
            "  5  7  8 10 13 17  2]\n",
            "start : 0.23\n",
            ",end : 2.68\n",
            "\n"
          ]
        },
        {
          "output_type": "stream",
          "name": "stderr",
          "text": [
            "<ipython-input-25-396638cc7985>:75: WavFileWarning: Chunk (non-data) not understood, skipping it.\n",
            "  _, wav = read(wav_path)\n"
          ]
        },
        {
          "output_type": "stream",
          "name": "stdout",
          "text": [
            "phone : ['ᄋ', 'ᅵ', 'ᄌ', 'ᅵ', 'ᄋ', 'ᅧ', 'ᆨ', 'ᄌ', 'ᅮ', 'ᄇ', 'ᅧ', 'ᄂ', 'ᅳ', 'ᆯ', 'ᄃ', 'ᅮ', 'ᆯ', 'ᄅ', 'ᅥ', 'ᄇ', 'ᅩ', 'ᄀ', 'ᅩ', 'ᄉ', 'ᅵ', 'ᄑ', 'ᅥ', 'ᄋ', 'ᅭ']\n",
            "duration: [42 12  8  5  2  7  6  6  4  5  8  6  7  6  6  3  3  5  6  5  6  4  5  7\n",
            "  6  9 13 15  5]\n",
            "start : 0.0\n",
            ",end : 2.58\n",
            "\n"
          ]
        },
        {
          "output_type": "stream",
          "name": "stderr",
          "text": [
            "<ipython-input-25-396638cc7985>:75: WavFileWarning: Chunk (non-data) not understood, skipping it.\n",
            "  _, wav = read(wav_path)\n"
          ]
        },
        {
          "output_type": "stream",
          "name": "stdout",
          "text": [
            "phone : ['ᄀ', 'ᅳ', 'ᄂ', 'ᅣ', 'ᆼ', 'ᄃ', 'ᅮ', 'ᆯ', 'ᄅ', 'ᅥ', 'ᄇ', 'ᅩ', 'ᄂ', 'ᅳ', 'ᆫ', 'ᄀ', 'ᅥ', 'ᄋ', 'ᅨ', 'ᄋ', 'ᅭ']\n",
            "duration: [16  5  6  6  6  4  5  4  4  6  5  7  3  3  5  5  7  8  8 24 10]\n",
            "start : 0.43\n",
            ",end : 2.14\n",
            "\n"
          ]
        },
        {
          "output_type": "stream",
          "name": "stderr",
          "text": [
            "<ipython-input-25-396638cc7985>:75: WavFileWarning: Chunk (non-data) not understood, skipping it.\n",
            "  _, wav = read(wav_path)\n"
          ]
        },
        {
          "output_type": "stream",
          "name": "stdout",
          "text": [
            "phone : ['ᄌ', 'ᅥ', 'ᆨ', 'ᄁ', 'ᅮ', 'ᄂ', 'ᅵ', 'ᄀ', 'ᅳ', 'ᄅ', 'ᅳ', 'ᆯ', 'ᄃ', 'ᅮ', 'ᆯ', 'ᄅ', 'ᅥ', 'ᄊ', 'ᅡ', 'ᆮ', 'ᄄ', 'ᅡ']\n",
            "duration: [16  5  7  5  6  5 15  9  4  4  9  5  5  4  6  4  5 10  6 13 10 12]\n",
            "start : 0.22\n",
            ",end : 2.13\n",
            "\n"
          ]
        },
        {
          "output_type": "stream",
          "name": "stderr",
          "text": [
            "<ipython-input-25-396638cc7985>:75: WavFileWarning: Chunk (non-data) not understood, skipping it.\n",
            "  _, wav = read(wav_path)\n"
          ]
        },
        {
          "output_type": "stream",
          "name": "stdout",
          "text": [
            "phone : ['ᄋ', 'ᅵ', 'ᄆ', 'ᅮ', 'ᆫ', 'ᄌ', 'ᅦ', 'ᄅ', 'ᅳ', 'ᆯ', 'ᄃ', 'ᅮ', 'ᆯ', 'ᄅ', 'ᅥ', 'ᄊ', 'ᅡ', 'ᄀ', 'ᅩ', 'sp', 'ᄆ', 'ᅡ', 'ᄂ', 'ᅳ', 'ᆫ', 'ᄂ', 'ᅩ', 'ᄂ', 'ᅴ', 'ᄀ', 'ᅡ', 'ᄋ', 'ᅵ', 'ᄊ', 'ᅥ', 'ᆮ', 'ᄄ', 'ᅡ']\n",
            "duration: [24 10  4  6  7  5  6  3  5  5  5  5  2  6  6 12 10  5 16 14 14  9  5  5\n",
            "  5  5  8  4  6  6  3  5  4  8  7 14  8 13]\n",
            "start : 0.0\n",
            ",end : 3.31\n",
            "\n"
          ]
        },
        {
          "output_type": "stream",
          "name": "stderr",
          "text": [
            "<ipython-input-25-396638cc7985>:75: WavFileWarning: Chunk (non-data) not understood, skipping it.\n",
            "  _, wav = read(wav_path)\n"
          ]
        },
        {
          "output_type": "stream",
          "name": "stdout",
          "text": [
            "phone : ['ᄋ', 'ᅵ', 'ᄋ', 'ᅥ', 'ᆯ', 'ᄅ', 'ᅮ', 'ᄀ', 'ᅳ', 'ᆯ', 'ᄋ', 'ᅥ', 'ᆸ', 'ᄊ', 'ᅢ', 'ᆯ', 'ᄉ', 'ᅮ', 'ᄋ', 'ᅵ', 'ᄊ', 'ᅳ', 'ᆯ', 'ᄁ', 'ᅡ', 'ᄋ', 'ᅭ']\n",
            "duration: [17  8  5  5  4  5  5  6  3  3  5  3  5  7  3  5  7  4  5  3  9  3  7  7\n",
            " 12 14  3]\n",
            "start : 0.0\n",
            ",end : 1.9\n",
            "\n"
          ]
        },
        {
          "output_type": "stream",
          "name": "stderr",
          "text": [
            "<ipython-input-25-396638cc7985>:75: WavFileWarning: Chunk (non-data) not understood, skipping it.\n",
            "  _, wav = read(wav_path)\n"
          ]
        },
        {
          "output_type": "stream",
          "name": "stdout",
          "text": [
            "phone : ['ᄀ', 'ᅳ', 'ᄅ', 'ᅥ', 'ᄐ', 'ᅡ', 'ᄆ', 'ᅧ', 'ᆫ', 'sp', 'ᄀ', 'ᅳ', 'ᄌ', 'ᅡ', 'ᄅ', 'ᅳ', 'ᆯ', 'ᄋ', 'ᅥ', 'ᆸ', 'ᄊ', 'ᅢ']\n",
            "duration: [30  3  5  5 10  7  5 12  9 38  6  6  6  7  5  3  4  6  4  4 17 17]\n",
            "start : 0.0\n",
            ",end : 2.43\n",
            "\n"
          ]
        },
        {
          "output_type": "stream",
          "name": "stderr",
          "text": [
            "<ipython-input-25-396638cc7985>:75: WavFileWarning: Chunk (non-data) not understood, skipping it.\n",
            "  _, wav = read(wav_path)\n"
          ]
        },
        {
          "output_type": "stream",
          "name": "stdout",
          "text": [
            "phone : ['ᄋ', 'ᅵ', 'ᄋ', 'ᅮ', 'ᆮ', 'ᄍ', 'ᅵ', 'ᄇ', 'ᅦ', 'ᄉ', 'ᅥ', 'sp', 'ᄆ', 'ᅡ', 'ᆼ', 'ᄎ', 'ᅵ', 'ᄅ', 'ᅳ', 'ᆯ', 'ᄒ', 'ᅡ', 'ᄂ', 'ᅡ', 'ᄋ', 'ᅥ', 'ᄃ', 'ᅥ', 'ᄋ', 'ᅪ', 'ᄅ', 'ᅡ']\n",
            "duration: [40  7  2  4  5  5  4  5  8 10 18 14 14  6  8  6  4  2  5  3  7  3  7  5\n",
            "  4  9  7  3  2 11  9 23]\n",
            "start : 0.0\n",
            ",end : 3.02\n",
            "\n"
          ]
        },
        {
          "output_type": "stream",
          "name": "stderr",
          "text": [
            "<ipython-input-25-396638cc7985>:75: WavFileWarning: Chunk (non-data) not understood, skipping it.\n",
            "  _, wav = read(wav_path)\n"
          ]
        },
        {
          "output_type": "stream",
          "name": "stdout",
          "text": [
            "phone : ['ᄉ', 'ᅥ', 'ᄌ', 'ᅥ', 'ᄆ', 'ᅦ', 'ᄉ', 'ᅥ', 'ᄋ', 'ᅡ', 'ᄋ', 'ᅵ', 'ᄃ', 'ᅵ', 'ᄋ', 'ᅥ', 'ᄂ', 'ᅳ', 'ᆫ', 'ᄌ', 'ᅩ', 'ᆷ', 'ᄋ', 'ᅥ', 'ᄃ', 'ᅥ', 'ᄊ', 'ᅥ']\n",
            "duration: [16  5  5  7  4  7  8  4  6  6  4  4  5  3  5  5  5  5  8  6  4  4  4  7\n",
            "  6  6 17 19]\n",
            "start : 0.14\n",
            ",end : 2.29\n",
            "\n"
          ]
        },
        {
          "output_type": "stream",
          "name": "stderr",
          "text": [
            "<ipython-input-25-396638cc7985>:75: WavFileWarning: Chunk (non-data) not understood, skipping it.\n",
            "  _, wav = read(wav_path)\n"
          ]
        },
        {
          "output_type": "stream",
          "name": "stdout",
          "text": [
            "phone : ['ᄂ', 'ᅡ', 'ᄈ', 'ᅳ', 'ᆫ', 'ᄎ', 'ᅵ', 'ᆫ', 'ᄀ', 'ᅮ', 'ᄋ', 'ᅪ', 'sp', 'ᄋ', 'ᅥ', 'ᄋ', 'ᅮ', 'ᆯ', 'ᄅ', 'ᅧ', 'ᄃ', 'ᅡ', 'ᄂ', 'ᅵ', 'ᄌ', 'ᅵ', 'ᄆ', 'ᅡ', 'ᄅ', 'ᅡ']\n",
            "duration: [14  8  8  6  6  6  4  4  5  5  8 14  3  5  3  9  3  5  5  6  5  6  4  7\n",
            "  7  5  8 12 11 16]\n",
            "start : 0.3\n",
            ",end : 2.71\n",
            "\n"
          ]
        },
        {
          "output_type": "stream",
          "name": "stderr",
          "text": [
            "<ipython-input-25-396638cc7985>:75: WavFileWarning: Chunk (non-data) not understood, skipping it.\n",
            "  _, wav = read(wav_path)\n"
          ]
        },
        {
          "output_type": "stream",
          "name": "stdout",
          "text": [
            "phone : ['ᄋ', 'ᅵ', 'ᄂ', 'ᅦ', 'ᆨ', 'ᄐ', 'ᅡ', 'ᄋ', 'ᅵ', 'ᄂ', 'ᅳ', 'ᆫ', 'sp', 'ᄃ', 'ᅡ', 'ᆼ', 'ᄉ', 'ᅵ', 'ᄂ', 'ᅦ', 'ᄀ', 'ᅦ', 'ᄋ', 'ᅥ', 'ᄋ', 'ᅮ', 'ᆯ', 'ᄅ', 'ᅵ', 'ᄌ', 'ᅵ', 'ᄋ', 'ᅡ', 'ᄂ', 'ᅡ', 'ᄋ', 'ᅭ']\n",
            "duration: [72  9  5  6  6  7  6  9  5  5  9 16 19 14  5  6  9  3  6  6  6 10  7  2\n",
            "  6  5  3  6  6  7  4  4  7  8 15 13  4]\n",
            "start : 0.0\n",
            ",end : 3.91\n",
            "\n"
          ]
        },
        {
          "output_type": "stream",
          "name": "stderr",
          "text": [
            "<ipython-input-25-396638cc7985>:75: WavFileWarning: Chunk (non-data) not understood, skipping it.\n",
            "  _, wav = read(wav_path)\n"
          ]
        },
        {
          "output_type": "stream",
          "name": "stdout",
          "text": [
            "phone : ['ᄌ', 'ᅥ', 'ᄂ', 'ᅳ', 'ᆫ', 'ᄋ', 'ᅵ', 'ᄅ', 'ᅭ', 'ᄋ', 'ᅵ', 'ᆯ', 'ᄆ', 'ᅡ', 'ᄃ', 'ᅡ', 'sp', 'ᄀ', 'ᅭ', 'ᄒ', 'ᅬ', 'ᄋ', 'ᅦ', 'ᄀ', 'ᅡ', 'ᆷ', 'ᄂ', 'ᅵ', 'ᄃ', 'ᅡ']\n",
            "duration: [10  8  5  4  4  6  6  5  4  3  2  6  6  9 11 11 13 14 10  3  5  5  4  7\n",
            "  7  6  4  7 11 18]\n",
            "start : 0.29\n",
            ",end : 2.77\n",
            "\n"
          ]
        },
        {
          "output_type": "stream",
          "name": "stderr",
          "text": [
            "<ipython-input-25-396638cc7985>:75: WavFileWarning: Chunk (non-data) not understood, skipping it.\n",
            "  _, wav = read(wav_path)\n"
          ]
        },
        {
          "output_type": "stream",
          "name": "stdout",
          "text": [
            "phone : ['ᄂ', 'ᅡ', 'ᄅ', 'ᅵ', 'ᄀ', 'ᅥ', 'ᆫ', 'ᄌ', 'ᅩ', 'ᄒ', 'ᅢ', 'ᄉ', 'ᅥ', 'sp', 'ᄂ', 'ᅩ', 'ᆼ', 'ᄌ', 'ᅡ', 'ᆼ', 'ᄆ', 'ᅮ', 'ᄅ', 'ᅵ', 'ᄌ', 'ᅮ', 'ᄀ', 'ᅥ', 'ᄀ', 'ᅡ', 'ᄋ', 'ᅭ']\n",
            "duration: [17  8  5  5  5  9  6  5  4  6  4 11 26 13 12  4  9  5  5  8  3  3  4  6\n",
            "  8  4  5  8  7 14 22  6]\n",
            "start : 0.73\n",
            ",end : 3.71\n",
            "\n"
          ]
        },
        {
          "output_type": "stream",
          "name": "stderr",
          "text": [
            "<ipython-input-25-396638cc7985>:75: WavFileWarning: Chunk (non-data) not understood, skipping it.\n",
            "  _, wav = read(wav_path)\n"
          ]
        },
        {
          "output_type": "stream",
          "name": "stdout",
          "text": [
            "phone : ['ᄉ', 'ᅡ', 'ᆼ', 'ᄉ', 'ᅡ', 'ᆼ', 'ᄂ', 'ᅧ', 'ᄀ', 'ᅳ', 'ᆯ', 'ᄀ', 'ᅢ', 'ᄇ', 'ᅡ', 'ᆯ', 'ᄒ', 'ᅡ', 'ᄀ', 'ᅩ', 'ᄉ', 'ᅵ', 'ᄑ', 'ᅳ', 'ᄆ', 'ᅧ', 'ᆫ', 'sp', 'ᄉ', 'ᅵ', 'ᄅ', 'ᅳ', 'ᆯ', 'ᄋ', 'ᅵ', 'ᆯ', 'ᄀ', 'ᅳ', 'ᄉ', 'ᅦ', 'ᄋ', 'ᅭ']\n",
            "duration: [12  5  5  6  5  6  4  7  5 10  3  6  6  6  5  3  5  3  5  6  8  5 10  3\n",
            "  8 14 16 15 13  8  5  6  8  4  4  4  4  8 10 13 15  4]\n",
            "start : 0.37\n",
            ",end : 3.83\n",
            "\n"
          ]
        },
        {
          "output_type": "stream",
          "name": "stderr",
          "text": [
            "<ipython-input-25-396638cc7985>:75: WavFileWarning: Chunk (non-data) not understood, skipping it.\n",
            "  _, wav = read(wav_path)\n"
          ]
        },
        {
          "output_type": "stream",
          "name": "stdout",
          "text": [
            "phone : ['ᄌ', 'ᅥ', 'ᆼ', 'ᄇ', 'ᅮ', 'ᄂ', 'ᅳ', 'ᆫ', 'ᄋ', 'ᅵ', 'ᄌ', 'ᅵ', 'ᄋ', 'ᅧ', 'ᄀ', 'ᅳ', 'ᆯ', 'sp', 'ᄀ', 'ᅪ', 'ᆫ', 'ᄀ', 'ᅪ', 'ᆼ', 'ᄌ', 'ᅵ', 'ᄅ', 'ᅩ', 'ᄀ', 'ᅢ', 'ᄇ', 'ᅡ', 'ᆯ', 'ᄒ', 'ᅡ', 'ᆯ', 'ᄀ', 'ᅨ', 'ᄒ', 'ᅬ', 'ᄀ', 'ᅵ', 'ᄅ', 'ᅡ', 'ᄀ', 'ᅩ', 'sp', 'ᄇ', 'ᅡ', 'ᆯ', 'ᄑ', 'ᅭ', 'ᄒ', 'ᅢ', 'ᆮ', 'ᄄ', 'ᅡ']\n",
            "duration: [12  6  6  6  4  6  4  3  4  9  9  4  5  8  7  4 20 16 12  9  4  5  6  8\n",
            "  5  4  5  7  6  7  5  7  2  7  4  5  7  3  9  4  8  3  6  8  6 21  3  8\n",
            "  8  4  8  4  6  4 14  9 15]\n",
            "start : 0.3\n",
            ",end : 4.93\n",
            "\n"
          ]
        },
        {
          "output_type": "stream",
          "name": "stderr",
          "text": [
            "<ipython-input-25-396638cc7985>:75: WavFileWarning: Chunk (non-data) not understood, skipping it.\n",
            "  _, wav = read(wav_path)\n"
          ]
        },
        {
          "output_type": "stream",
          "name": "stdout",
          "text": [
            "phone : ['ᄀ', 'ᅳ', 'ᄋ', 'ᅩ', 'ᄉ', 'ᅳ', 'ᆫ', 'ᄉ', 'ᅦ', 'ᄐ', 'ᅡ', 'ᆨ', 'ᄊ', 'ᅩ', 'ᄅ', 'ᅩ', 'ᄀ', 'ᅡ', 'ᄌ', 'ᅥ', 'ᄀ', 'ᅡ', 'ᄉ', 'ᅦ', 'ᄋ', 'ᅭ']\n",
            "duration: [13  8  8  7  9  6  7  8  4 11  3  5  6  8  4  5  7  7  6  4  6  6  9 15\n",
            " 14  5]\n",
            "start : 0.12\n",
            ",end : 2.34\n",
            "\n"
          ]
        },
        {
          "output_type": "stream",
          "name": "stderr",
          "text": [
            "<ipython-input-25-396638cc7985>:75: WavFileWarning: Chunk (non-data) not understood, skipping it.\n",
            "  _, wav = read(wav_path)\n"
          ]
        },
        {
          "output_type": "stream",
          "name": "stdout",
          "text": [
            "phone : ['ᄀ', 'ᅢ', 'ᄋ', 'ᅵ', 'ᆫ', 'ᄆ', 'ᅮ', 'ᆯ', 'ᄀ', 'ᅥ', 'ᆫ', 'ᄃ', 'ᅳ', 'ᄅ', 'ᅳ', 'ᆯ', 'sp', 'ᄁ', 'ᅩ', 'ᆨ', 'sp', 'ᄀ', 'ᅡ', 'ᄌ', 'ᅥ', 'ᄀ', 'ᅡ', 'ᄉ', 'ᅵ', 'ᆸ', 'ᄊ', 'ᅵ', 'ᄋ', 'ᅩ']\n",
            "duration: [13  3  8  4  8  2  6  5  6  6  7  2  7  3  5 16 27  7 13  4  3  9  6  6\n",
            "  4  6  5  5  4  6 12 10 12 12]\n",
            "start : 0.37\n",
            ",end : 3.29\n",
            "\n"
          ]
        },
        {
          "output_type": "stream",
          "name": "stderr",
          "text": [
            "<ipython-input-25-396638cc7985>:75: WavFileWarning: Chunk (non-data) not understood, skipping it.\n",
            "  _, wav = read(wav_path)\n"
          ]
        },
        {
          "output_type": "stream",
          "name": "stdout",
          "text": [
            "phone : ['ᄑ', 'ᅦ', 'ᆫ', 'ᄌ', 'ᅩ', 'ᆷ', 'ᄋ', 'ᅵ', 'ᄅ', 'ᅵ', 'ᄅ', 'ᅩ', 'ᄀ', 'ᅡ', 'ᄌ', 'ᅥ', 'ᄋ', 'ᅪ', 'ᄅ', 'ᅡ']\n",
            "duration: [13  8  5  3  8  4  6  3  3  7  6  6  6  8  6  5  7  8 10 21]\n",
            "start : 0.39\n",
            ",end : 2.05\n",
            "\n"
          ]
        },
        {
          "output_type": "stream",
          "name": "stderr",
          "text": [
            "<ipython-input-25-396638cc7985>:75: WavFileWarning: Chunk (non-data) not understood, skipping it.\n",
            "  _, wav = read(wav_path)\n"
          ]
        },
        {
          "output_type": "stream",
          "name": "stdout",
          "text": [
            "phone : ['ᄏ', 'ᅥ', 'ᆷ', 'ᄑ', 'ᅲ', 'ᄐ', 'ᅥ', 'ᄂ', 'ᅳ', 'ᆫ', 'sp', 'ᄋ', 'ᅮ', 'ᄅ', 'ᅵ', 'ᄉ', 'ᅢ', 'ᆼ', 'ᄒ', 'ᅪ', 'ᄅ', 'ᅦ', 'ᄋ', 'ᅥ', 'ᆷ', 'ᄎ', 'ᅥ', 'ᆼ', 'ᄂ', 'ᅡ', 'ᆫ', 'ᄇ', 'ᅧ', 'ᆫ', 'ᄒ', 'ᅪ', 'ᄅ', 'ᅳ', 'ᆯ', 'ᄀ', 'ᅡ', 'ᄌ', 'ᅥ', 'ᄋ', 'ᅪ', 'ᆮ', 'ᄄ', 'ᅡ']\n",
            "duration: [ 8  5  5  4  8  8  8  6  9 12  6 20  6  5  7  7  5  4  4  5  6  2  6  8\n",
            "  8  6  3  8  4  7  6  6 11  4  3  4  5  4  5  8  6  7  3  3  8 15  9 15]\n",
            "start : 0.3\n",
            ",end : 4.03\n",
            "\n"
          ]
        },
        {
          "output_type": "stream",
          "name": "stderr",
          "text": [
            "<ipython-input-25-396638cc7985>:75: WavFileWarning: Chunk (non-data) not understood, skipping it.\n",
            "  _, wav = read(wav_path)\n"
          ]
        },
        {
          "output_type": "stream",
          "name": "stdout",
          "text": [
            "phone : ['ᄁ', 'ᅡ', 'ᆷ', 'ᄈ', 'ᅡ', 'ᆨ', 'ᄋ', 'ᅵ', 'ᆮ', 'ᄁ', 'ᅩ', 'sp', 'ᄑ', 'ᅦ', 'ᄂ', 'ᅳ', 'ᆯ', 'ᄋ', 'ᅡ', 'ᆫ', 'ᄀ', 'ᅡ', 'ᄌ', 'ᅵ', 'ᄀ', 'ᅩ', 'ᄋ', 'ᅪ', 'ᄊ', 'ᅥ', 'ᄋ', 'ᅭ']\n",
            "duration: [ 4  8  7  6  7  3  6  4 11  5 15 11 14  6  5  3  4  5  6  5  4  7  7  2\n",
            "  6  4  3  6 14 15 15  7]\n",
            "start : 0.14\n",
            ",end : 2.76\n",
            "\n"
          ]
        },
        {
          "output_type": "stream",
          "name": "stderr",
          "text": [
            "<ipython-input-25-396638cc7985>:75: WavFileWarning: Chunk (non-data) not understood, skipping it.\n",
            "  _, wav = read(wav_path)\n"
          ]
        },
        {
          "output_type": "stream",
          "name": "stdout",
          "text": [
            "phone : ['ᄋ', 'ᅮ', 'ᄅ', 'ᅵ', 'ᄇ', 'ᅮ', 'ᄇ', 'ᅮ', 'ᄂ', 'ᅳ', 'ᆫ', 'sp', 'ᄋ', 'ᅡ', 'ᄋ', 'ᅵ', 'ᄅ', 'ᅳ', 'ᆯ', 'ᄀ', 'ᅡ', 'ᆮ', 'ᄍ', 'ᅵ', 'ᄋ', 'ᅡ', 'ᆫ', 'ᄏ', 'ᅵ', 'ᄅ', 'ᅩ', 'ᄀ', 'ᅧ', 'ᆯ', 'ᄌ', 'ᅥ', 'ᆼ', 'ᄒ', 'ᅢ', 'ᄊ', 'ᅥ']\n",
            "duration: [32  9  4  9  5  8  6  7  6 10 14  7 24  8  3  3  4  2  6  5  7  4  8  4\n",
            "  6  4  8  8  2  6  5  4  6  6  8  4  4  4  4 17 28]\n",
            "start : 0.0\n",
            ",end : 3.71\n",
            "\n"
          ]
        },
        {
          "output_type": "stream",
          "name": "stderr",
          "text": [
            "<ipython-input-25-396638cc7985>:75: WavFileWarning: Chunk (non-data) not understood, skipping it.\n",
            "  _, wav = read(wav_path)\n"
          ]
        },
        {
          "output_type": "stream",
          "name": "stdout",
          "text": [
            "phone : ['ᄀ', 'ᅳ', 'ᄎ', 'ᅢ', 'ᆨ', 'ᄋ', 'ᅥ', 'ᄃ', 'ᅵ', 'ᄋ', 'ᅦ', 'ᄀ', 'ᅡ', 'ᆷ', 'ᄎ', 'ᅮ', 'ᆫ', 'ᄀ', 'ᅥ', 'ᄋ', 'ᅣ']\n",
            "duration: [13  6 10  6  3  4 11  5  2  6  3  7  6  6  7  3  6  5 11  6 17]\n",
            "start : 0.17\n",
            ",end : 1.83\n",
            "\n"
          ]
        },
        {
          "output_type": "stream",
          "name": "stderr",
          "text": [
            "<ipython-input-25-396638cc7985>:75: WavFileWarning: Chunk (non-data) not understood, skipping it.\n",
            "  _, wav = read(wav_path)\n"
          ]
        },
        {
          "output_type": "stream",
          "name": "stdout",
          "text": [
            "phone : ['ᄋ', 'ᅫ', 'ᄂ', 'ᅡ', 'ᆷ', 'ᄌ', 'ᅡ', 'ᄅ', 'ᅡ', 'ᄂ', 'ᅳ', 'ᆫ', 'ᄉ', 'ᅡ', 'ᄉ', 'ᅵ', 'ᄅ', 'ᅳ', 'ᆯ', 'ᄀ', 'ᅡ', 'ᆷ', 'ᄎ', 'ᅮ', 'ᄅ', 'ᅧ', 'ᄀ', 'ᅩ', 'ᄒ', 'ᅡ', 'ᆫ', 'ᄀ', 'ᅥ', 'ᆷ', 'ᄂ', 'ᅵ', 'ᄁ', 'ᅡ']\n",
            "duration: [ 8 10  6  8  5  4  6  5  4  4  3  4  6  8  8  4  3  4  5  6  7  6  6  4\n",
            "  4  5  7  3  2  4  5  4  6  8  2  7 13 23]\n",
            "start : 0.53\n",
            ",end : 3.16\n",
            "\n"
          ]
        },
        {
          "output_type": "stream",
          "name": "stderr",
          "text": [
            "<ipython-input-25-396638cc7985>:75: WavFileWarning: Chunk (non-data) not understood, skipping it.\n",
            "  _, wav = read(wav_path)\n"
          ]
        },
        {
          "output_type": "stream",
          "name": "stdout",
          "text": [
            "phone : ['ᄋ', 'ᅵ', 'ᄌ', 'ᅡ', 'ᄅ', 'ᅵ', 'ᄋ', 'ᅦ', 'ᄋ', 'ᅪ', 'ᄌ', 'ᅮ', 'ᄉ', 'ᅵ', 'ᆫ', 'ᄋ', 'ᅧ', 'ᄅ', 'ᅥ', 'ᄇ', 'ᅮ', 'ᆫ', 'ᄁ', 'ᅦ', 'sp', 'ᄀ', 'ᅡ', 'ᆷ', 'ᄉ', 'ᅡ', 'ᄃ', 'ᅳ', 'ᄅ', 'ᅵ', 'ᆷ', 'ᄂ', 'ᅵ', 'ᄃ', 'ᅡ']\n",
            "duration: [30  6  7  7  5  3  3  6  5  9  5  6  7  6  4  4  7  5  5  6  5  8 12 22\n",
            "  3  9  5  6  7  6  5  3  3  6  6  6  6 16 15]\n",
            "start : 0.0\n",
            ",end : 3.32\n",
            "\n"
          ]
        },
        {
          "output_type": "stream",
          "name": "stderr",
          "text": [
            "<ipython-input-25-396638cc7985>:75: WavFileWarning: Chunk (non-data) not understood, skipping it.\n",
            "  _, wav = read(wav_path)\n"
          ]
        },
        {
          "output_type": "stream",
          "name": "stdout",
          "text": [
            "phone : ['ᄉ', 'ᅥ', 'ᆼ', 'ᄋ', 'ᅯ', 'ᄂ', 'ᅦ', 'ᄀ', 'ᅵ', 'ᄑ', 'ᅵ', 'ᄀ', 'ᅡ', 'ᆷ', 'ᄉ', 'ᅡ', 'ᄒ', 'ᅡ', 'ᄀ', 'ᅩ', 'ᄋ', 'ᅵ', 'ᆮ', 'ᄊ', 'ᅳ', 'ᆷ', 'ᄂ', 'ᅵ', 'ᄃ', 'ᅡ']\n",
            "duration: [14  5  3  5  5  6  7 11 10 12 10  8  8  5  8  2  3  3  5  4  3  3  3  8\n",
            "  3  6  4  5 12 21]\n",
            "start : 0.51\n",
            ",end : 2.85\n",
            "\n"
          ]
        },
        {
          "output_type": "stream",
          "name": "stderr",
          "text": [
            "<ipython-input-25-396638cc7985>:75: WavFileWarning: Chunk (non-data) not understood, skipping it.\n",
            "  _, wav = read(wav_path)\n"
          ]
        },
        {
          "output_type": "stream",
          "name": "stdout",
          "text": [
            "phone : ['ᄌ', 'ᅡ', 'ᆷ', 'ᄉ', 'ᅵ', 'ᄆ', 'ᅡ', 'ᆫ', 'ᄂ', 'ᅮ', 'ᆫ', 'ᄌ', 'ᅩ', 'ᆷ', 'ᄀ', 'ᅡ', 'ᄆ', 'ᅡ', 'ᄇ', 'ᅪ']\n",
            "duration: [10  6  6  7  5  5  6  6  4  5  7  4  8  3  6  7  6  9  9 19]\n",
            "start : 0.2\n",
            ",end : 1.8\n",
            "\n"
          ]
        },
        {
          "output_type": "stream",
          "name": "stderr",
          "text": [
            "<ipython-input-25-396638cc7985>:75: WavFileWarning: Chunk (non-data) not understood, skipping it.\n",
            "  _, wav = read(wav_path)\n"
          ]
        },
        {
          "output_type": "stream",
          "name": "stdout",
          "text": [
            "phone : ['ᄌ', 'ᅥ', 'ᄂ', 'ᅳ', 'ᆫ', 'ᄉ', 'ᅡ', 'ᄌ', 'ᅵ', 'ᄂ', 'ᅳ', 'ᆯ', 'ᄍ', 'ᅵ', 'ᄀ', 'ᅳ', 'ᆯ', 'ᄄ', 'ᅢ', 'sp', 'ᄒ', 'ᅡ', 'ᆫ', 'ᄍ', 'ᅩ', 'ᆨ', 'ᄂ', 'ᅮ', 'ᄂ', 'ᅳ', 'ᆯ', 'ᄀ', 'ᅡ', 'ᆷ', 'ᄂ', 'ᅳ', 'ᆫ', 'ᄇ', 'ᅥ', 'ᄅ', 'ᅳ', 'ᄉ', 'ᅵ', 'ᄋ', 'ᅵ', 'ᄊ', 'ᅥ', 'ᄋ', 'ᅭ']\n",
            "duration: [11  7  4  3  6  6  9  5  4  3  5  5  5  7  4  3  7 12 16  6 24  4  5  6\n",
            "  4  7  3  3  5  6  3  6  9  4  3  4  7  6  8  4  5  6  4  2  4 12 19 21\n",
            "  6]\n",
            "start : 0.4\n",
            ",end : 4.21\n",
            "\n"
          ]
        },
        {
          "output_type": "stream",
          "name": "stderr",
          "text": [
            "<ipython-input-25-396638cc7985>:75: WavFileWarning: Chunk (non-data) not understood, skipping it.\n",
            "  _, wav = read(wav_path)\n"
          ]
        },
        {
          "output_type": "stream",
          "name": "stdout",
          "text": [
            "phone : ['ᄇ', 'ᅡ', 'ᆨ', 'ᄊ', 'ᅳ', 'ᄅ', 'ᅳ', 'ᆯ', 'ᄁ', 'ᅳ', 'ᄂ', 'ᅳ', 'ᄅ', 'ᅩ', 'ᄀ', 'ᅡ', 'ᄆ', 'ᅡ', 'ᄅ', 'ᅡ']\n",
            "duration: [24  6  5  7  7  3  5  6  7  7  3  6  5  7  6  7  6  8 10 16]\n",
            "start : 0.0\n",
            ",end : 1.76\n",
            "\n"
          ]
        },
        {
          "output_type": "stream",
          "name": "stderr",
          "text": [
            "<ipython-input-25-396638cc7985>:75: WavFileWarning: Chunk (non-data) not understood, skipping it.\n",
            "  _, wav = read(wav_path)\n"
          ]
        },
        {
          "output_type": "stream",
          "name": "stdout",
          "text": [
            "phone : ['ᄉ', 'ᅵ', 'ᆯ', 'ᄉ', 'ᅮ', 'ᄅ', 'ᅩ', 'sp', 'ᄐ', 'ᅦ', 'ᄋ', 'ᅵ', 'ᄑ', 'ᅳ', 'ᄅ', 'ᅳ', 'ᆯ', 'ᄂ', 'ᅥ', 'ᄆ', 'ᅮ', 'ᄆ', 'ᅡ', 'ᄂ', 'ᅵ', 'ᄀ', 'ᅡ', 'ᄆ', 'ᅡ', 'ᄇ', 'ᅥ', 'ᄅ', 'ᅧ', 'ᆮ', 'ᄄ', 'ᅡ']\n",
            "duration: [16  6  6 11  6  4 19 18 13  5  5  5 10  5  2  3  8  4  7  9  4  7  9  6\n",
            "  3  9  5  7  5  6  5  4  4 16 11  9]\n",
            "start : 0.09\n",
            ",end : 3.24\n",
            "\n"
          ]
        },
        {
          "output_type": "stream",
          "name": "stderr",
          "text": [
            "<ipython-input-25-396638cc7985>:75: WavFileWarning: Chunk (non-data) not understood, skipping it.\n",
            "  _, wav = read(wav_path)\n"
          ]
        },
        {
          "output_type": "stream",
          "name": "stdout",
          "text": [
            "phone : ['ᄉ', 'ᅥ', 'ᆫ', 'ᄉ', 'ᅢ', 'ᆼ', 'ᄂ', 'ᅵ', 'ᄆ', 'ᅳ', 'ᆫ', 'sp', 'ᄋ', 'ᅮ', 'ᄅ', 'ᅵ', 'ᄃ', 'ᅳ', 'ᄅ', 'ᅦ', 'ᄀ', 'ᅦ', 'ᄃ', 'ᅩ', 'ᆨ', 'ᄊ', 'ᅥ', 'ᄋ', 'ᅴ', 'ᄌ', 'ᅮ', 'ᆼ', 'ᄋ', 'ᅭ', 'ᄉ', 'ᅥ', 'ᆼ', 'ᄋ', 'ᅳ', 'ᆯ', 'sp', 'ᄂ', 'ᅳ', 'ᆯ', 'ᄀ', 'ᅡ', 'ᆼ', 'ᄌ', 'ᅩ', 'ᄒ', 'ᅡ', 'ᄉ', 'ᅧ', 'ᄊ', 'ᅥ', 'ᄋ', 'ᅭ']\n",
            "duration: [10  6  3  5  6  4  5  4  6 11 14  8 18  9  5  5  5  3  4 10  6 19 11  6\n",
            "  7  7  4  5  5 10  3  5  6  7 11  4  5  4  4 14 19 13 14  4  8  7  8  6\n",
            "  3  3  3  6  6 13 17 17  7]\n",
            "start : 0.3\n",
            ",end : 5.38\n",
            "\n"
          ]
        },
        {
          "output_type": "stream",
          "name": "stderr",
          "text": [
            "<ipython-input-25-396638cc7985>:75: WavFileWarning: Chunk (non-data) not understood, skipping it.\n",
            "  _, wav = read(wav_path)\n"
          ]
        },
        {
          "output_type": "stream",
          "name": "stdout",
          "text": [
            "phone : ['ᄐ', 'ᅢ', 'ᄀ', 'ᅯ', 'ᆫ', 'ᄃ', 'ᅩ', 'ᄂ', 'ᅳ', 'ᆫ', 'sp', 'ᄉ', 'ᅵ', 'ᆫ', 'ᄎ', 'ᅦ', 'ᄈ', 'ᅮ', 'ᆫ', 'ᄆ', 'ᅡ', 'ᆫ', 'ᄋ', 'ᅡ', 'ᄂ', 'ᅵ', 'ᄅ', 'ᅡ', 'sp', 'ᄆ', 'ᅡ', 'ᄋ', 'ᅳ', 'ᄆ', 'ᅴ', 'ᄉ', 'ᅮ', 'ᄅ', 'ᅧ', 'ᄂ', 'ᅳ', 'ᆯ', 'ᄀ', 'ᅡ', 'ᆼ', 'ᄌ', 'ᅩ', 'ᄒ', 'ᅡ', 'ᆫ', 'ᄃ', 'ᅡ']\n",
            "duration: [14  7  9  7  6  3  9  6 11 16 14 12  7  2  6  7  6  4  4  6  6  3  7  4\n",
            "  6  4 10 17  8 20  9  3  3  5 10  7  2  5  9  5 11  4 14  6  8  7  3  5\n",
            "  4 10 10 15]\n",
            "start : 0.23\n",
            ",end : 4.82\n",
            "\n"
          ]
        },
        {
          "output_type": "stream",
          "name": "stderr",
          "text": [
            "<ipython-input-25-396638cc7985>:75: WavFileWarning: Chunk (non-data) not understood, skipping it.\n",
            "  _, wav = read(wav_path)\n"
          ]
        },
        {
          "output_type": "stream",
          "name": "stdout",
          "text": [
            "phone : ['ᄋ', 'ᅩ', 'ᄉ', 'ᅳ', 'ᆯ', 'ᄌ', 'ᅩ', 'ᆷ', 'ᄀ', 'ᅡ', 'ᄅ', 'ᅡ', 'ᄋ', 'ᅵ', 'ᆸ', 'ᄁ', 'ᅩ', 'ᄋ', 'ᅩ', 'ᆯ', 'ᄀ', 'ᅦ', 'ᄋ', 'ᅭ']\n",
            "duration: [24  8  5  6  5  5  5 10  9  5  5  4  3  4  4  4  3  2  5  4 10 13 17  4]\n",
            "start : 0.0\n",
            ",end : 1.91\n",
            "\n"
          ]
        },
        {
          "output_type": "stream",
          "name": "stderr",
          "text": [
            "<ipython-input-25-396638cc7985>:75: WavFileWarning: Chunk (non-data) not understood, skipping it.\n",
            "  _, wav = read(wav_path)\n"
          ]
        },
        {
          "output_type": "stream",
          "name": "stdout",
          "text": [
            "phone : ['ᄀ', 'ᅳ', 'ᄂ', 'ᅧ', 'ᄂ', 'ᅳ', 'ᆫ', 'ᄉ', 'ᅮ', 'ᄋ', 'ᅧ', 'ᆼ', 'ᄇ', 'ᅩ', 'ᄀ', 'ᅳ', 'ᄅ', 'ᅩ', 'ᄀ', 'ᅡ', 'ᄅ', 'ᅡ', 'ᄋ', 'ᅵ', 'ᄇ', 'ᅳ', 'ᆫ', 'ᄃ', 'ᅡ', 'ᄋ', 'ᅳ', 'ᆷ', 'sp', 'ᄇ', 'ᅡ', 'ᄁ', 'ᅳ', 'ᄅ', 'ᅩ', 'ᄂ', 'ᅡ', 'ᄀ', 'ᅡ', 'ᆮ', 'ᄄ', 'ᅡ']\n",
            "duration: [12  6  5  7  4  3  6  8  5  4  4  8  5  6  6  4  4  7  8  6  5  3  6  5\n",
            "  5  5  6  6  2 12  6  9 13 19  5 10  6  3  7  6  5  6  6 17  7 15]\n",
            "start : 0.15\n",
            ",end : 3.78\n",
            "\n"
          ]
        },
        {
          "output_type": "stream",
          "name": "stderr",
          "text": [
            "<ipython-input-25-396638cc7985>:75: WavFileWarning: Chunk (non-data) not understood, skipping it.\n",
            "  _, wav = read(wav_path)\n"
          ]
        },
        {
          "output_type": "stream",
          "name": "stdout",
          "text": [
            "phone : ['ᄌ', 'ᅦ', 'ᄉ', 'ᅢ', 'ᆼ', 'ᄀ', 'ᅡ', 'ᄀ', 'ᅦ', 'ᄂ', 'ᅳ', 'ᆫ', 'sp', 'ᄇ', 'ᅥ', 'ᄉ', 'ᅳ', 'ᄅ', 'ᅳ', 'ᆯ', 'ᄀ', 'ᅡ', 'ᄅ', 'ᅡ', 'ᄐ', 'ᅡ', 'ᄂ', 'ᅳ', 'ᆫ', 'ᄀ', 'ᅦ', 'ᄂ', 'ᅡ', 'ᄋ', 'ᅳ', 'ᆯ', 'ᄀ', 'ᅥ', 'ᆮ', 'ᄀ', 'ᅡ', 'ᄐ', 'ᅡ', 'ᄋ', 'ᅭ']\n",
            "duration: [11  9  8  6  5  4  7  5  9  4 11 13 13 17  7  9  4  3  3  4  6  6  4  6\n",
            "  8  5  4  4  5  5 10  6  7  4  3  2  7  3  4  5  7 12 10 18  5]\n",
            "start : 0.16\n",
            ",end : 3.73\n",
            "\n"
          ]
        },
        {
          "output_type": "stream",
          "name": "stderr",
          "text": [
            "<ipython-input-25-396638cc7985>:75: WavFileWarning: Chunk (non-data) not understood, skipping it.\n",
            "  _, wav = read(wav_path)\n"
          ]
        },
        {
          "output_type": "stream",
          "name": "stdout",
          "text": [
            "Done 300\n",
            "phone : ['ᄉ', 'ᅡ', 'ᄃ', 'ᅡ', 'ᆼ', 'ᄋ', 'ᅧ', 'ᄀ', 'ᅦ', 'ᄉ', 'ᅥ', 'ᄉ', 'ᅡ', 'ᄒ', 'ᅩ', 'ᄉ', 'ᅥ', 'ᄂ', 'ᅳ', 'ᄅ', 'ᅩ', 'ᄀ', 'ᅡ', 'ᄅ', 'ᅡ', 'ᄐ', 'ᅡ', 'ᄉ', 'ᅦ', 'ᄋ', 'ᅭ']\n",
            "duration: [15  5  6  6  6  4  4  7  7  7  9  9  7  3  3  7  7  3  5  4  5  9  5  4\n",
            "  5  8  5 10 12 16  7]\n",
            "start : 0.34\n",
            ",end : 2.78\n",
            "\n"
          ]
        },
        {
          "output_type": "stream",
          "name": "stderr",
          "text": [
            "<ipython-input-25-396638cc7985>:75: WavFileWarning: Chunk (non-data) not understood, skipping it.\n",
            "  _, wav = read(wav_path)\n"
          ]
        },
        {
          "output_type": "stream",
          "name": "stdout",
          "text": [
            "phone : ['ᄌ', 'ᅥ', 'ᄂ', 'ᅳ', 'ᆫ', 'ᄒ', 'ᅡ', 'ᆨ', 'ᄊ', 'ᅢ', 'ᆼ', 'ᄃ', 'ᅳ', 'ᄅ', 'ᅳ', 'ᆯ', 'ᄀ', 'ᅡ', 'ᄅ', 'ᅳ', 'ᄎ', 'ᅵ', 'ᄂ', 'ᅳ', 'ᆫ', 'ᄋ', 'ᅵ', 'ᄅ', 'ᅳ', 'ᆯ', 'sp', 'ᄌ', 'ᅩ', 'ᄋ', 'ᅡ', 'ᄒ', 'ᅡ', 'ᆷ', 'ᄂ', 'ᅵ', 'ᄃ', 'ᅡ']\n",
            "duration: [16  7  6  3  5  6  2  5  6  7  8  3  4  3  4  4  6  9  3  5  7  6  5  2\n",
            "  5  6  4  4  4 13  2  8  6  6  4  5  3  9  5  4 10 18]\n",
            "start : 0.15\n",
            ",end : 3.02\n",
            "\n"
          ]
        },
        {
          "output_type": "stream",
          "name": "stderr",
          "text": [
            "<ipython-input-25-396638cc7985>:75: WavFileWarning: Chunk (non-data) not understood, skipping it.\n",
            "  _, wav = read(wav_path)\n"
          ]
        },
        {
          "output_type": "stream",
          "name": "stdout",
          "text": [
            "phone : ['ᄋ', 'ᅬ', 'ᄀ', 'ᅮ', 'ᄀ', 'ᅵ', 'ᄂ', 'ᅦ', 'ᄀ', 'ᅦ', 'ᄐ', 'ᅢ', 'ᄀ', 'ᅯ', 'ᆫ', 'ᄃ', 'ᅩ', 'ᄅ', 'ᅳ', 'ᆯ', 'ᄀ', 'ᅡ', 'ᄅ', 'ᅳ', 'ᄎ', 'ᅵ', 'ᄀ', 'ᅩ', 'ᄋ', 'ᅵ', 'ᄊ', 'ᅥ', 'ᄋ', 'ᅭ']\n",
            "duration: [12 10  4  6  5  8  4  8  5 11  8  4 11  7  5  3  6  5  5  4  6  6  4  4\n",
            " 10  4  4  4  4  3 11 17 16  6]\n",
            "start : 0.24\n",
            ",end : 2.91\n",
            "\n"
          ]
        },
        {
          "output_type": "stream",
          "name": "stderr",
          "text": [
            "<ipython-input-25-396638cc7985>:75: WavFileWarning: Chunk (non-data) not understood, skipping it.\n",
            "  _, wav = read(wav_path)\n"
          ]
        },
        {
          "output_type": "stream",
          "name": "stdout",
          "text": [
            "phone : ['ᄒ', 'ᅪ', 'ᄉ', 'ᅡ', 'ᆯ', 'ᄑ', 'ᅭ', 'ᄀ', 'ᅡ', 'sp', 'ᄇ', 'ᅮ', 'ᆨ', 'ᄍ', 'ᅩ', 'ᄀ', 'ᅳ', 'ᆯ', 'ᄀ', 'ᅡ', 'ᄅ', 'ᅵ', 'ᄏ', 'ᅵ', 'ᄀ', 'ᅩ', 'ᄋ', 'ᅵ', 'ᆮ', 'ᄄ', 'ᅡ']\n",
            "duration: [ 6  5  7  7  4  8  8  8 19  2  7  5  7  7  7  6  6  4  6  6  4  6  9  3\n",
            "  5  5  5  2 16 11 12]\n",
            "start : 0.31\n",
            ",end : 2.78\n",
            "\n"
          ]
        },
        {
          "output_type": "stream",
          "name": "stderr",
          "text": [
            "<ipython-input-25-396638cc7985>:75: WavFileWarning: Chunk (non-data) not understood, skipping it.\n",
            "  _, wav = read(wav_path)\n"
          ]
        },
        {
          "output_type": "stream",
          "name": "stdout",
          "text": [
            "phone : ['ᄉ', 'ᅵ', 'ᄀ', 'ᅨ', 'ᄂ', 'ᅳ', 'ᆫ', 'sp', 'ᄋ', 'ᅵ', 'ᆯ', 'ᄀ', 'ᅩ', 'ᆸ', 'ᄉ', 'ᅵ', 'ᄅ', 'ᅳ', 'ᆯ', 'ᄀ', 'ᅡ', 'ᄅ', 'ᅵ', 'ᄏ', 'ᅵ', 'ᄀ', 'ᅩ', 'ᄋ', 'ᅵ', 'ᄊ', 'ᅥ', 'ᄋ', 'ᅭ']\n",
            "duration: [11  4  5 10  6  9 13  8 15  7  5  4  6  6  9  5  3  3  4  8  6  3  5 10\n",
            "  3  4  5  3  3 11 15 15  4]\n",
            "start : 0.51\n",
            ",end : 3.15\n",
            "\n"
          ]
        },
        {
          "output_type": "stream",
          "name": "stderr",
          "text": [
            "<ipython-input-25-396638cc7985>:75: WavFileWarning: Chunk (non-data) not understood, skipping it.\n",
            "  _, wav = read(wav_path)\n"
          ]
        },
        {
          "output_type": "stream",
          "name": "stdout",
          "text": [
            "phone : ['ᄀ', 'ᅳ', 'ᄒ', 'ᅩ', 'ᄐ', 'ᅦ', 'ᄅ', 'ᅳ', 'ᆫ', 'sp', 'ᄒ', 'ᅩ', 'ᄒ', 'ᅪ', 'ᄅ', 'ᅩ', 'ᄋ', 'ᅮ', 'ᆫ', 'ᄉ', 'ᅵ', 'ᄉ', 'ᅥ', 'ᆯ', 'ᄃ', 'ᅳ', 'ᄅ', 'ᅳ', 'ᆯ', 'ᄀ', 'ᅡ', 'ᆮ', 'ᄎ', 'ᅮ', 'ᄀ', 'ᅩ', 'ᄋ', 'ᅵ', 'ᆮ', 'ᄄ', 'ᅡ']\n",
            "duration: [52  3  7  7 10  7  5 11 10  7 21  5  5  4  4  4  4  4  3  7  2  6 10  4\n",
            "  4  5  3  5  4 11  3  4  9  4  5  5  5  3 15  9 14]\n",
            "start : 0.0\n",
            ",end : 3.6\n",
            "\n"
          ]
        },
        {
          "output_type": "stream",
          "name": "stderr",
          "text": [
            "<ipython-input-25-396638cc7985>:75: WavFileWarning: Chunk (non-data) not understood, skipping it.\n",
            "  _, wav = read(wav_path)\n"
          ]
        },
        {
          "output_type": "stream",
          "name": "stdout",
          "text": [
            "phone : ['ᄌ', 'ᅥ', 'ᄂ', 'ᅳ', 'ᆫ', 'sp', 'ᄌ', 'ᅦ', 'ᄌ', 'ᅡ', 'ᄉ', 'ᅵ', 'ᄂ', 'ᅵ', 'ᄋ', 'ᅥ', 'ᆷ', 'ᄆ', 'ᅮ', 'ᄋ', 'ᅦ', 'ᄑ', 'ᅵ', 'ᄅ', 'ᅭ', 'ᄒ', 'ᅡ', 'ᆫ', 'ᄆ', 'ᅩ', 'ᄃ', 'ᅳ', 'ᆫ', 'ᄌ', 'ᅡ', 'ᄌ', 'ᅵ', 'ᄅ', 'ᅳ', 'ᆯ', 'sp', 'ᄀ', 'ᅡ', 'ᆮ', 'ᄎ', 'ᅮ', 'ᄀ', 'ᅩ', 'ᄋ', 'ᅵ', 'ᆮ', 'ᄄ', 'ᅡ', 'ᄀ', 'ᅩ', 'ᄌ', 'ᅡ', 'ᄉ', 'ᅵ', 'ᆫ', 'ᄒ', 'ᅡ', 'ᆷ', 'ᄂ', 'ᅵ', 'ᄃ', 'ᅡ']\n",
            "duration: [15  8  5 10 17 23 13  7  7  8  6  6  4  9  6 11  4  7  3  3  7  8  4  5\n",
            "  7  7  4  9  5 10  4  8  7  6  8  6  4  3  3 13 15 15  5  5  8  4  4  6\n",
            "  3  3  7  4  8  7 11  8  6  7  3  3  4  3  8  4  6  8 20]\n",
            "start : 0.67\n",
            ",end : 6.3\n",
            "\n"
          ]
        },
        {
          "output_type": "stream",
          "name": "stderr",
          "text": [
            "<ipython-input-25-396638cc7985>:75: WavFileWarning: Chunk (non-data) not understood, skipping it.\n",
            "  _, wav = read(wav_path)\n"
          ]
        },
        {
          "output_type": "stream",
          "name": "stdout",
          "text": [
            "phone : ['ᄀ', 'ᅡ', 'ᆷ', 'ᄃ', 'ᅩ', 'ᆨ', 'ᄁ', 'ᅪ', 'ᄂ', 'ᅵ', 'ᄉ', 'ᅵ', 'ᄒ', 'ᅥ', 'ᆷ', 'ᄌ', 'ᅵ', 'ᄅ', 'ᅳ', 'ᆯ', 'ᄈ', 'ᅡ', 'ᆯ', 'ᄅ', 'ᅵ', 'ᄀ', 'ᅥ', 'ᄃ', 'ᅮ', 'ᆫ', 'ᄀ', 'ᅥ', 'ᆮ', 'ᄀ', 'ᅡ', 'ᄐ', 'ᅡ']\n",
            "duration: [11  8  6  4  8  4  5  6  5  6 10  4  4  6  7  6  5  2  7  4  8 11  2  4\n",
            "  5  7  8  5  4  4  4  5  6  5  7 19 15]\n",
            "start : 0.28\n",
            ",end : 3.04\n",
            "\n"
          ]
        },
        {
          "output_type": "stream",
          "name": "stderr",
          "text": [
            "<ipython-input-25-396638cc7985>:75: WavFileWarning: Chunk (non-data) not understood, skipping it.\n",
            "  _, wav = read(wav_path)\n"
          ]
        },
        {
          "output_type": "stream",
          "name": "stdout",
          "text": [
            "phone : ['ᄉ', 'ᅵ', 'ᄒ', 'ᅥ', 'ᄆ', 'ᅦ', 'ᄉ', 'ᅥ', 'ᄌ', 'ᅩ', 'ᄋ', 'ᅳ', 'ᆫ', 'ᄉ', 'ᅥ', 'ᆼ', 'ᄌ', 'ᅥ', 'ᄀ', 'ᅳ', 'ᆯ', 'ᄀ', 'ᅥ', 'ᄃ', 'ᅮ', 'ᄅ', 'ᅧ', 'ᄆ', 'ᅧ', 'ᆫ', 'sp', 'ᄎ', 'ᅬ', 'ᄉ', 'ᅥ', 'ᄂ', 'ᅳ', 'ᆯ', 'ᄃ', 'ᅡ', 'ᄒ', 'ᅢ', 'ᄋ', 'ᅣ', 'ᄒ', 'ᅢ']\n",
            "duration: [11  4  5  7  5  7  6  6  7  6  6  3  3  6  6  9  5  5  4  4  3  4  9  5\n",
            "  2  7  8  8  8 12 13 17  6  5  8  3  5  6  6  9  3  2 11  2  7 30]\n",
            "start : 0.41\n",
            ",end : 4.06\n",
            "\n"
          ]
        },
        {
          "output_type": "stream",
          "name": "stderr",
          "text": [
            "<ipython-input-25-396638cc7985>:75: WavFileWarning: Chunk (non-data) not understood, skipping it.\n",
            "  _, wav = read(wav_path)\n"
          ]
        },
        {
          "output_type": "stream",
          "name": "stdout",
          "text": [
            "phone : ['ᄀ', 'ᅳ', 'ᄂ', 'ᅳ', 'ᆫ', 'sp', 'ᄂ', 'ᅢ', 'ᄀ', 'ᅦ', 'ᄌ', 'ᅡ', 'ᄉ', 'ᅵ', 'ᄂ', 'ᅵ', 'sp', 'ᄀ', 'ᅳ', 'ᄒ', 'ᅬ', 'ᄉ', 'ᅡ', 'ᄋ', 'ᅴ', 'ᄉ', 'ᅡ', 'ᄌ', 'ᅡ', 'ᆼ', 'ᄋ', 'ᅵ', 'ᄅ', 'ᅡ', 'ᄀ', 'ᅩ', 'ᄀ', 'ᅥ', 'ᄌ', 'ᅵ', 'ᆫ', 'ᄆ', 'ᅡ', 'ᆯ', 'ᄒ', 'ᅢ', 'ᆮ', 'ᄄ', 'ᅡ']\n",
            "duration: [ 5  5  5  8 18 23  9  6  5  8  9  6  7  7  7 17 11 15  9  5  6 10  2  3\n",
            "  3  7  4  6  6  4  3  3  6  5  6  5 12  7  5  5  4  5  4  3  3  4 14  8\n",
            " 10]\n",
            "start : 0.55\n",
            ",end : 4.59\n",
            "\n"
          ]
        },
        {
          "output_type": "stream",
          "name": "stderr",
          "text": [
            "<ipython-input-25-396638cc7985>:75: WavFileWarning: Chunk (non-data) not understood, skipping it.\n",
            "  _, wav = read(wav_path)\n"
          ]
        },
        {
          "output_type": "stream",
          "name": "stdout",
          "text": [
            "phone : ['ᄀ', 'ᅥ', 'ᄌ', 'ᅵ', 'ᆫ', 'ᄆ', 'ᅡ', 'ᆯ', 'ᄒ', 'ᅡ', 'ᄌ', 'ᅵ', 'ᄆ', 'ᅡ', 'ᄉ', 'ᅦ', 'ᄋ', 'ᅭ']\n",
            "duration: [ 5 11  5  2  5  5  3  4  5  4  5  4  7  7 10 15 12  6]\n",
            "start : 0.32\n",
            ",end : 1.66\n",
            "\n"
          ]
        },
        {
          "output_type": "stream",
          "name": "stderr",
          "text": [
            "<ipython-input-25-396638cc7985>:75: WavFileWarning: Chunk (non-data) not understood, skipping it.\n",
            "  _, wav = read(wav_path)\n"
          ]
        },
        {
          "output_type": "stream",
          "name": "stdout",
          "text": [
            "phone : ['ᄌ', 'ᅥ', 'ᄂ', 'ᅳ', 'ᆫ', 'ᄉ', 'ᅡ', 'ᄉ', 'ᅩ', 'ᄒ', 'ᅡ', 'ᆫ', 'ᄋ', 'ᅵ', 'ᄅ', 'ᅳ', 'ᆫ', 'sp', 'ᄀ', 'ᅥ', 'ᆨ', 'ᄍ', 'ᅥ', 'ᆼ', 'ᄒ', 'ᅡ', 'ᄌ', 'ᅵ', 'ᄋ', 'ᅡ', 'ᄂ', 'ᅳ', 'ᄅ', 'ᅧ', 'ᄀ', 'ᅩ', 'ᄂ', 'ᅩ', 'ᄅ', 'ᅧ', 'ᄏ', 'ᅡ', 'ᆷ', 'ᄂ', 'ᅵ', 'ᄃ', 'ᅡ']\n",
            "duration: [13  8  5  3  5  6  9  6  4  5  4  4  6  4  5 15 11 15 11  7  6  6  5  5\n",
            "  5  4  6  3  5  7  4  5  6  8  7 11  5  5  5  7  9  4  7  5  6  9 18]\n",
            "start : 0.4\n",
            ",end : 4.1\n",
            "\n"
          ]
        },
        {
          "output_type": "stream",
          "name": "stderr",
          "text": [
            "<ipython-input-25-396638cc7985>:75: WavFileWarning: Chunk (non-data) not understood, skipping it.\n",
            "  _, wav = read(wav_path)\n"
          ]
        },
        {
          "output_type": "stream",
          "name": "stdout",
          "text": [
            "phone : ['ᄌ', 'ᅥ', 'ᄂ', 'ᅳ', 'ᆫ', 'ᄀ', 'ᅥ', 'ᆨ', 'ᄍ', 'ᅥ', 'ᆼ', 'ᄒ', 'ᅡ', 'ᄌ', 'ᅵ', 'ᄆ', 'ᅡ', 'ᄉ', 'ᅦ', 'ᄋ', 'ᅭ']\n",
            "duration: [10  5  5  3  6  4  5  5  7  5  2  5  5  7  4  6  9  9 14 15  6]\n",
            "start : 0.5\n",
            ",end : 2.09\n",
            "\n"
          ]
        },
        {
          "output_type": "stream",
          "name": "stderr",
          "text": [
            "<ipython-input-25-396638cc7985>:75: WavFileWarning: Chunk (non-data) not understood, skipping it.\n",
            "  _, wav = read(wav_path)\n"
          ]
        },
        {
          "output_type": "stream",
          "name": "stdout",
          "text": [
            "phone : ['ᄋ', 'ᅩ', 'ᆮ', 'ᄁ', 'ᅥ', 'ᄅ', 'ᅵ', 'ᄋ', 'ᅦ', 'sp', 'ᄏ', 'ᅩ', 'ᄐ', 'ᅳ', 'ᄅ', 'ᅳ', 'ᆯ', 'ᄀ', 'ᅥ', 'ᄅ', 'ᅥ', 'ᄅ', 'ᅡ']\n",
            "duration: [33  8  6  6  8  4  7  2 18 11  8  6  9  4  6  6  5  5  9  5  5 10 17]\n",
            "start : 0.0\n",
            ",end : 2.3\n",
            "\n"
          ]
        },
        {
          "output_type": "stream",
          "name": "stderr",
          "text": [
            "<ipython-input-25-396638cc7985>:75: WavFileWarning: Chunk (non-data) not understood, skipping it.\n",
            "  _, wav = read(wav_path)\n"
          ]
        },
        {
          "output_type": "stream",
          "name": "stdout",
          "text": [
            "phone : ['ᄀ', 'ᅳ', 'ᄂ', 'ᅧ', 'ᄋ', 'ᅦ', 'ᄀ', 'ᅦ', 'ᄃ', 'ᅡ', 'ᄀ', 'ᅡ', 'ᄀ', 'ᅡ', 'ᄉ', 'ᅥ', 'sp', 'ᄆ', 'ᅡ', 'ᄅ', 'ᅳ', 'ᆯ', 'ᄀ', 'ᅥ', 'ᄅ', 'ᅥ', 'ᆮ', 'ᄊ', 'ᅳ', 'ᆷ', 'ᄂ', 'ᅵ', 'ᄃ', 'ᅡ']\n",
            "duration: [18  7  5  9  2  6  6 11  7  6  6  5  7  9 11 23  2  8  9  3  6  4  5  6\n",
            "  7  2  4  9  3  7  3  6  9 17]\n",
            "start : 0.26\n",
            ",end : 3.14\n",
            "\n"
          ]
        },
        {
          "output_type": "stream",
          "name": "stderr",
          "text": [
            "<ipython-input-25-396638cc7985>:75: WavFileWarning: Chunk (non-data) not understood, skipping it.\n",
            "  _, wav = read(wav_path)\n"
          ]
        },
        {
          "output_type": "stream",
          "name": "stdout",
          "text": [
            "phone : ['ᄌ', 'ᅥ', 'ᆫ', 'ᄒ', 'ᅪ', 'ᄌ', 'ᅡ', 'ᆯ', 'ᄆ', 'ᅩ', 'ᆮ', 'ᄀ', 'ᅥ', 'ᄉ', 'ᅧ', 'ᄊ', 'ᅥ', 'ᄋ', 'ᅭ']\n",
            "duration: [12  7  3  4  6  6  6  4  3  5  3  4  6  5  6 11 17 19  6]\n",
            "start : 0.35\n",
            ",end : 1.9\n",
            "\n"
          ]
        },
        {
          "output_type": "stream",
          "name": "stderr",
          "text": [
            "<ipython-input-25-396638cc7985>:75: WavFileWarning: Chunk (non-data) not understood, skipping it.\n",
            "  _, wav = read(wav_path)\n"
          ]
        },
        {
          "output_type": "stream",
          "name": "stdout",
          "text": [
            "phone : ['ᄇ', 'ᅧ', 'ᄀ', 'ᅦ', 'ᄆ', 'ᅡ', 'ᄂ', 'ᅳ', 'ᆫ', 'ᄋ', 'ᅩ', 'ᄉ', 'ᅵ', 'ᄀ', 'ᅥ', 'ᆯ', 'ᄅ', 'ᅧ', 'ᄋ', 'ᅵ', 'ᆮ', 'ᄄ', 'ᅡ']\n",
            "duration: [13  9  6 10  7 11  4  6  4  5  4 12  9 10  4  8  5  6  6  3 16  7 14]\n",
            "start : 0.1\n",
            ",end : 2.18\n",
            "\n"
          ]
        },
        {
          "output_type": "stream",
          "name": "stderr",
          "text": [
            "<ipython-input-25-396638cc7985>:75: WavFileWarning: Chunk (non-data) not understood, skipping it.\n",
            "  _, wav = read(wav_path)\n"
          ]
        },
        {
          "output_type": "stream",
          "name": "stdout",
          "text": [
            "phone : ['ᄀ', 'ᅡ', 'ᆷ', 'ᄀ', 'ᅵ', 'ᄋ', 'ᅦ', 'ᄀ', 'ᅥ', 'ᆯ', 'ᄅ', 'ᅧ', 'ᄊ', 'ᅥ', 'ᄋ', 'ᅭ']\n",
            "duration: [ 8 10  9  5  3  5  3  6  8  6  4  7 13 14 23  3]\n",
            "start : 0.37\n",
            ",end : 1.84\n",
            "\n"
          ]
        },
        {
          "output_type": "stream",
          "name": "stderr",
          "text": [
            "<ipython-input-25-396638cc7985>:75: WavFileWarning: Chunk (non-data) not understood, skipping it.\n",
            "  _, wav = read(wav_path)\n"
          ]
        },
        {
          "output_type": "stream",
          "name": "stdout",
          "text": [
            "phone : ['ᄁ', 'ᅳ', 'ᆫ', 'ᄂ', 'ᅢ', 'ᄅ', 'ᅧ', 'ᄆ', 'ᅧ', 'ᆫ', 'sp', 'ᄃ', 'ᅮ', 'ᄉ', 'ᅵ', 'ᄀ', 'ᅡ', 'ᆫ', 'ᄍ', 'ᅳ', 'ᆷ', 'ᄀ', 'ᅥ', 'ᆯ', 'ᄅ', 'ᅵ', 'ᆯ', 'ᄀ', 'ᅥ', 'ᄋ', 'ᅨ', 'ᄋ', 'ᅭ']\n",
            "duration: [11  5  6  4  8  6  8  6 15 12 14 13  5  8  5  5  7  6  5  6 14  6  5  5\n",
            "  4  7  3  8  6  4 13 17  4]\n",
            "start : 0.11\n",
            ",end : 3.03\n",
            "\n"
          ]
        },
        {
          "output_type": "stream",
          "name": "stderr",
          "text": [
            "<ipython-input-25-396638cc7985>:75: WavFileWarning: Chunk (non-data) not understood, skipping it.\n",
            "  _, wav = read(wav_path)\n"
          ]
        },
        {
          "output_type": "stream",
          "name": "stdout",
          "text": [
            "phone : ['ᄌ', 'ᅵ', 'ᄇ', 'ᅦ', 'ᄉ', 'ᅥ', 'ᄒ', 'ᅬ', 'ᄉ', 'ᅡ', 'ᄁ', 'ᅡ', 'ᄌ', 'ᅵ', 'sp', 'ᄌ', 'ᅵ', 'ᄒ', 'ᅡ', 'ᄎ', 'ᅥ', 'ᆯ', 'ᄅ', 'ᅩ', 'ᄋ', 'ᅥ', 'ᆯ', 'ᄆ', 'ᅡ', 'ᄂ', 'ᅡ', 'ᄀ', 'ᅥ', 'ᆯ', 'ᄅ', 'ᅧ', 'ᄋ', 'ᅭ']\n",
            "duration: [12  4  5  7  6  5  6  6  7  7 10 10 12 23 13 18  3  5  4 10  3  7  5  3\n",
            "  9  6  7  6  6  5  5  5  7  7  3  6 28  5]\n",
            "start : 0.41\n",
            ",end : 3.85\n",
            "\n"
          ]
        },
        {
          "output_type": "stream",
          "name": "stderr",
          "text": [
            "<ipython-input-25-396638cc7985>:75: WavFileWarning: Chunk (non-data) not understood, skipping it.\n",
            "  _, wav = read(wav_path)\n"
          ]
        },
        {
          "output_type": "stream",
          "name": "stdout",
          "text": [
            "phone : ['ᄀ', 'ᅵ', 'ᄅ', 'ᅳ', 'ᆯ', 'ᄀ', 'ᅥ', 'ᆫ', 'ᄂ', 'ᅥ', 'ᄆ', 'ᅧ', 'ᆫ', 'sp', 'ᄋ', 'ᅳ', 'ᆫ', 'ᄒ', 'ᅢ', 'ᆼ', 'ᄋ', 'ᅵ', 'ᄋ', 'ᅵ', 'ᄊ', 'ᅥ', 'ᄋ', 'ᅭ']\n",
            "duration: [ 6  8  3 10  3  4 10  6  6  4  8 13 13  8  7  8  5  4  6  3  4  2  5  5\n",
            " 12 17 12  5]\n",
            "start : 0.19\n",
            ",end : 2.48\n",
            "\n"
          ]
        },
        {
          "output_type": "stream",
          "name": "stderr",
          "text": [
            "<ipython-input-25-396638cc7985>:75: WavFileWarning: Chunk (non-data) not understood, skipping it.\n",
            "  _, wav = read(wav_path)\n"
          ]
        },
        {
          "output_type": "stream",
          "name": "stdout",
          "text": [
            "phone : ['ᄃ', 'ᅩ', 'ᆯ', 'ᄃ', 'ᅡ', 'ᄅ', 'ᅵ', 'ᄃ', 'ᅩ', 'ᄃ', 'ᅮ', 'ᄃ', 'ᅳ', 'ᄅ', 'ᅧ', 'ᄇ', 'ᅩ', 'ᄀ', 'ᅩ', 'sp', 'ᄀ', 'ᅥ', 'ᆫ', 'ᄂ', 'ᅥ', 'ᄅ', 'ᅡ']\n",
            "duration: [13 10  4  5  9  5  9  4 14  8  7  4  5  5 10  8  8  6 15  2  6  7  8  6\n",
            "  7  9 18]\n",
            "start : 0.26\n",
            ",end : 2.72\n",
            "\n"
          ]
        },
        {
          "output_type": "stream",
          "name": "stderr",
          "text": [
            "<ipython-input-25-396638cc7985>:75: WavFileWarning: Chunk (non-data) not understood, skipping it.\n",
            "  _, wav = read(wav_path)\n"
          ]
        },
        {
          "output_type": "stream",
          "name": "stdout",
          "text": [
            "phone : ['ᄇ', 'ᅩ', 'ᄐ', 'ᅩ', 'ᆼ', 'ᄋ', 'ᅳ', 'ᆫ', 'ᄒ', 'ᅬ', 'ᄉ', 'ᅡ', 'ᄋ', 'ᅦ', 'ᄀ', 'ᅳ', 'ᄂ', 'ᅣ', 'ᆼ', 'ᄀ', 'ᅥ', 'ᄅ', 'ᅥ', 'ᄀ', 'ᅡ', 'ᄋ', 'ᅭ']\n",
            "duration: [39  9  7  9  3  3  6  4  4  8  7  6 10  3  8  4  6  7  6  5  8  7  4  7\n",
            " 20 17  5]\n",
            "start : 0.0\n",
            ",end : 2.58\n",
            "\n"
          ]
        },
        {
          "output_type": "stream",
          "name": "stderr",
          "text": [
            "<ipython-input-25-396638cc7985>:75: WavFileWarning: Chunk (non-data) not understood, skipping it.\n",
            "  _, wav = read(wav_path)\n"
          ]
        },
        {
          "output_type": "stream",
          "name": "stdout",
          "text": [
            "phone : ['ᄌ', 'ᅥ', 'ᄍ', 'ᅩ', 'ᄀ', 'ᅳ', 'ᄅ', 'ᅩ', 'ᄀ', 'ᅥ', 'ᄅ', 'ᅥ', 'ᄀ', 'ᅡ', 'ᄉ', 'ᅵ', 'ᆸ', 'ᄊ', 'ᅵ', 'ᄋ', 'ᅩ']\n",
            "duration: [11  7  9  8  5  5  4  8  6  8  7  3  7  5  6  4  6 13 10 14  8]\n",
            "start : 0.37\n",
            ",end : 2.15\n",
            "\n"
          ]
        },
        {
          "output_type": "stream",
          "name": "stderr",
          "text": [
            "<ipython-input-25-396638cc7985>:75: WavFileWarning: Chunk (non-data) not understood, skipping it.\n",
            "  _, wav = read(wav_path)\n"
          ]
        },
        {
          "output_type": "stream",
          "name": "stdout",
          "text": [
            "phone : ['ᄋ', 'ᅧ', 'ᄀ', 'ᅵ', 'ᄁ', 'ᅡ', 'ᄌ', 'ᅵ', 'ᄀ', 'ᅥ', 'ᄅ', 'ᅥ', 'ᄋ', 'ᅪ', 'ᄊ', 'ᅥ', 'ᄋ', 'ᅭ']\n",
            "duration: [20  9  5  8  7  8  5  5  4  8  5  3  5  7 13 17 16  4]\n",
            "start : 0.0\n",
            ",end : 1.73\n",
            "\n"
          ]
        },
        {
          "output_type": "stream",
          "name": "stderr",
          "text": [
            "<ipython-input-25-396638cc7985>:75: WavFileWarning: Chunk (non-data) not understood, skipping it.\n",
            "  _, wav = read(wav_path)\n"
          ]
        },
        {
          "output_type": "stream",
          "name": "stdout",
          "text": [
            "phone : ['ᄋ', 'ᅮ', 'ᄅ', 'ᅵ', 'ᄀ', 'ᅡ', 'ᄋ', 'ᅥ', 'ᆯ', 'ᄆ', 'ᅡ', 'ᄂ', 'ᅡ', 'ᄀ', 'ᅥ', 'ᄅ', 'ᅥ', 'ᄋ', 'ᅩ', 'ᆫ', 'ᄀ', 'ᅥ', 'ᄌ', 'ᅵ']\n",
            "duration: [28  8  4  7  6  6  5  6  5  6  5  5  6  7  6  6  3  3  3  5  5  7 11 17]\n",
            "start : 0.0\n",
            ",end : 1.98\n",
            "\n"
          ]
        },
        {
          "output_type": "stream",
          "name": "stderr",
          "text": [
            "<ipython-input-25-396638cc7985>:75: WavFileWarning: Chunk (non-data) not understood, skipping it.\n",
            "  _, wav = read(wav_path)\n"
          ]
        },
        {
          "output_type": "stream",
          "name": "stdout",
          "text": [
            "phone : ['ᄆ', 'ᅢ', 'ᆫ', 'ᄇ', 'ᅡ', 'ᆯ', 'ᄅ', 'ᅩ', 'ᄀ', 'ᅥ', 'ᆮ', 'ᄍ', 'ᅵ', 'ᄆ', 'ᅡ', 'ᄅ', 'ᅡ']\n",
            "duration: [11  7  5  5  6  7  5  9  8  6  6  9  7  7 12 10 17]\n",
            "start : 0.32\n",
            ",end : 1.91\n",
            "\n"
          ]
        },
        {
          "output_type": "stream",
          "name": "stderr",
          "text": [
            "<ipython-input-25-396638cc7985>:75: WavFileWarning: Chunk (non-data) not understood, skipping it.\n",
            "  _, wav = read(wav_path)\n"
          ]
        },
        {
          "output_type": "stream",
          "name": "stdout",
          "text": [
            "phone : ['ᄀ', 'ᅵ', 'ᄅ', 'ᅳ', 'ᆯ', 'ᄀ', 'ᅥ', 'ᆮ', 'ᄄ', 'ᅡ', 'ᄌ', 'ᅩ', 'ᄋ', 'ᅳ', 'ᆫ', 'ᄉ', 'ᅢ', 'ᆼ', 'ᄀ', 'ᅡ', 'ᄀ', 'ᅵ', 'ᄄ', 'ᅥ', 'ᄋ', 'ᅩ', 'ᆯ', 'ᄅ', 'ᅡ', 'ᄊ', 'ᅥ', 'ᄋ', 'ᅭ']\n",
            "duration: [13  7  3  7  3  5  7  8  5 12  6  6  6  4  4  6  7  4  4  6  4  5  7  5\n",
            "  6  3  5  5  6 12 16 14  7]\n",
            "start : 0.27\n",
            ",end : 2.8\n",
            "\n"
          ]
        },
        {
          "output_type": "stream",
          "name": "stderr",
          "text": [
            "<ipython-input-25-396638cc7985>:75: WavFileWarning: Chunk (non-data) not understood, skipping it.\n",
            "  _, wav = read(wav_path)\n"
          ]
        },
        {
          "output_type": "stream",
          "name": "stdout",
          "text": [
            "phone : ['ᄂ', 'ᅡ', 'ᄆ', 'ᅮ', 'ᄆ', 'ᅵ', 'ᄐ', 'ᅦ', 'ᄉ', 'ᅥ', 'sp', 'ᄇ', 'ᅵ', 'ᄀ', 'ᅡ', 'ᄀ', 'ᅳ', 'ᄎ', 'ᅵ', 'ᄀ', 'ᅵ', 'ᄅ', 'ᅳ', 'ᆯ', 'ᄀ', 'ᅵ', 'ᄃ', 'ᅡ', 'ᄅ', 'ᅧ', 'ᆮ', 'ᄄ', 'ᅡ']\n",
            "duration: [14  6  7  5  5  7 11  7 10 21 21  6  6  6  8  6  5 11  6  6  6  4  5  4\n",
            "  8  4  6  5  6  7 16 10 13]\n",
            "start : 0.22\n",
            ",end : 3.33\n",
            "\n"
          ]
        },
        {
          "output_type": "stream",
          "name": "stderr",
          "text": [
            "<ipython-input-25-396638cc7985>:75: WavFileWarning: Chunk (non-data) not understood, skipping it.\n",
            "  _, wav = read(wav_path)\n"
          ]
        },
        {
          "output_type": "stream",
          "name": "stdout",
          "text": [
            "phone : ['ᄂ', 'ᅡ', 'ᄅ', 'ᅳ', 'ᆯ', 'ᄇ', 'ᅩ', 'ᄌ', 'ᅡ', 'ᄆ', 'ᅡ', 'ᄌ', 'ᅡ', 'sp', 'ᄋ', 'ᅡ', 'ᄀ', 'ᅵ', 'ᄂ', 'ᅳ', 'ᆫ', 'ᄋ', 'ᅮ', 'ᄅ', 'ᅳ', 'ᄆ', 'ᅳ', 'ᆯ', 'ᄀ', 'ᅳ', 'ᄎ', 'ᅥ', 'ᄊ', 'ᅥ', 'ᄋ', 'ᅭ']\n",
            "duration: [14  6  5  4  5  4  7  8  7  7  9 11 25  5 19  8  6  4  4  6  4  6  4  5\n",
            "  6  4  6  4  6  4  8  7 13 19 12  8]\n",
            "start : 0.57\n",
            ",end : 3.82\n",
            "\n"
          ]
        },
        {
          "output_type": "stream",
          "name": "stderr",
          "text": [
            "<ipython-input-25-396638cc7985>:75: WavFileWarning: Chunk (non-data) not understood, skipping it.\n",
            "  _, wav = read(wav_path)\n"
          ]
        },
        {
          "output_type": "stream",
          "name": "stdout",
          "text": [
            "phone : ['ᄋ', 'ᅨ', 'ᄌ', 'ᅥ', 'ᆫ', 'ᄋ', 'ᅵ', 'ᄅ', 'ᅳ', 'ᆫ', 'ᄋ', 'ᅫ', 'ᄀ', 'ᅳ', 'ᄆ', 'ᅡ', 'ᆫ', 'ᄃ', 'ᅮ', 'ᄉ', 'ᅧ', 'ᄊ', 'ᅥ', 'ᄋ', 'ᅭ']\n",
            "duration: [ 5  9  7  5  6  4  4  5  4  3  7 11 10  2  7  6  4  2  4  6  8 13 15 15\n",
            " 10]\n",
            "start : 0.2\n",
            ",end : 2.2\n",
            "\n"
          ]
        },
        {
          "output_type": "stream",
          "name": "stderr",
          "text": [
            "<ipython-input-25-396638cc7985>:75: WavFileWarning: Chunk (non-data) not understood, skipping it.\n",
            "  _, wav = read(wav_path)\n"
          ]
        },
        {
          "output_type": "stream",
          "name": "stdout",
          "text": [
            "phone : ['ᄌ', 'ᅥ', 'sp', 'ᄀ', 'ᅳ', 'ᄆ', 'ᅡ', 'ᆫ', 'ᄃ', 'ᅮ', 'ᄀ', 'ᅦ', 'ᆮ', 'ᄊ', 'ᅳ', 'ᆷ', 'ᄂ', 'ᅵ', 'ᄃ', 'ᅡ']\n",
            "duration: [17 15  5  8  4  6  7  5  4  5  4  5  3  8  3  6  4  5 11 13]\n",
            "start : 0.23\n",
            ",end : 1.83\n",
            "\n"
          ]
        },
        {
          "output_type": "stream",
          "name": "stderr",
          "text": [
            "<ipython-input-25-396638cc7985>:75: WavFileWarning: Chunk (non-data) not understood, skipping it.\n",
            "  _, wav = read(wav_path)\n"
          ]
        },
        {
          "output_type": "stream",
          "name": "stdout",
          "text": [
            "phone : ['ᄌ', 'ᅥ', 'ᄂ', 'ᅳ', 'ᆫ', 'sp', 'ᄇ', 'ᅡ', 'ᆼ', 'ᄉ', 'ᅩ', 'ᆼ', 'ᄀ', 'ᅮ', 'ᄀ', 'ᅦ', 'ᄉ', 'ᅥ', 'ᄀ', 'ᅳ', 'ᆫ', 'ᄆ', 'ᅮ', 'ᄒ', 'ᅡ', 'ᄀ', 'ᅩ', 'ᄋ', 'ᅵ', 'ᆮ', 'ᄊ', 'ᅳ', 'ᆷ', 'ᄂ', 'ᅵ', 'ᄃ', 'ᅡ']\n",
            "duration: [10  6  6  7 13  3  8  3  6  7  7  3  5  3  4  8  7  9  9  4  3  9  2  6\n",
            "  4  6  2  5  2  3  8  5  7  4  5  9 19]\n",
            "start : 0.25\n",
            ",end : 2.88\n",
            "\n"
          ]
        },
        {
          "output_type": "stream",
          "name": "stderr",
          "text": [
            "<ipython-input-25-396638cc7985>:75: WavFileWarning: Chunk (non-data) not understood, skipping it.\n",
            "  _, wav = read(wav_path)\n"
          ]
        },
        {
          "output_type": "stream",
          "name": "stdout",
          "text": [
            "phone : ['ᄇ', 'ᅩ', 'ᄐ', 'ᅩ', 'ᆼ', 'ᄒ', 'ᅡ', 'ᄅ', 'ᅮ', 'ᄋ', 'ᅦ', 'ᄆ', 'ᅧ', 'ᆮ', 'ᄉ', 'ᅵ', 'ᄀ', 'ᅡ', 'ᆫ', 'ᄀ', 'ᅳ', 'ᆫ', 'ᄆ', 'ᅮ', 'ᄒ', 'ᅡ', 'ᄉ', 'ᅦ', 'ᄋ', 'ᅭ']\n",
            "duration: [18  8  7  9  3  7  5  3  7  8  4  6  7  4  9  3  6  6  7  6  5  8  3  2\n",
            "  5  7  9 12 16  3]\n",
            "start : 0.34\n",
            ",end : 2.7\n",
            "\n"
          ]
        },
        {
          "output_type": "stream",
          "name": "stderr",
          "text": [
            "<ipython-input-25-396638cc7985>:75: WavFileWarning: Chunk (non-data) not understood, skipping it.\n",
            "  _, wav = read(wav_path)\n"
          ]
        },
        {
          "output_type": "stream",
          "name": "stdout",
          "text": [
            "phone : ['ᄀ', 'ᅳ', 'ᄅ', 'ᅥ', 'ᄂ', 'ᅳ', 'ᆫ', 'ᄀ', 'ᅦ', 'ᄌ', 'ᅩ', 'ᄋ', 'ᅳ', 'ᆯ', 'ᄀ', 'ᅥ', 'ᆮ', 'ᄀ', 'ᅡ', 'ᄐ', 'ᅡ']\n",
            "duration: [ 6  5  6  6  4  4  6  4  7  9  4  5  3  3  6  5  5  5  7 18 26]\n",
            "start : 0.42\n",
            ",end : 2.09\n",
            "\n"
          ]
        },
        {
          "output_type": "stream",
          "name": "stderr",
          "text": [
            "<ipython-input-25-396638cc7985>:75: WavFileWarning: Chunk (non-data) not understood, skipping it.\n",
            "  _, wav = read(wav_path)\n"
          ]
        },
        {
          "output_type": "stream",
          "name": "stdout",
          "text": [
            "phone : ['ᄀ', 'ᅳ', 'ᄅ', 'ᅥ', 'ᄌ', 'ᅵ', 'ᄋ', 'ᅡ', 'ᆫ', 'ᄏ', 'ᅦ', 'ᆮ', 'ᄄ', 'ᅡ', 'ᄀ', 'ᅩ', 'ᄋ', 'ᅣ', 'ᆨ', 'ᄊ', 'ᅩ', 'ᄏ', 'ᅢ', 'ᆮ', 'ᄍ', 'ᅡ', 'ᄂ', 'ᅡ']\n",
            "duration: [12  5  5  8  6  2  5  6  5  7  4  5  5  6  5  7  5  6  6  5  5  9  4  3\n",
            " 10  9  6 20]\n",
            "start : 0.23\n",
            ",end : 2.33\n",
            "\n"
          ]
        },
        {
          "output_type": "stream",
          "name": "stderr",
          "text": [
            "<ipython-input-25-396638cc7985>:75: WavFileWarning: Chunk (non-data) not understood, skipping it.\n",
            "  _, wav = read(wav_path)\n"
          ]
        },
        {
          "output_type": "stream",
          "name": "stdout",
          "text": [
            "phone : ['ᄌ', 'ᅥ', 'ᄂ', 'ᅳ', 'ᆫ', 'ᄀ', 'ᅳ', 'ᄅ', 'ᅵ', 'ᄆ', 'ᅳ', 'ᆯ', 'ᄌ', 'ᅡ', 'ᆯ', 'ᄆ', 'ᅩ', 'ᆮ', 'ᄀ', 'ᅳ', 'ᄅ', 'ᅵ', 'ᄌ', 'ᅵ', 'ᄆ', 'ᅡ', 'ᆫ', 'sp', 'ᄀ', 'ᅳ', 'ᄅ', 'ᅵ', 'ᆷ', 'ᄀ', 'ᅳ', 'ᄅ', 'ᅵ', 'ᄂ', 'ᅳ', 'ᆫ', 'ᄀ', 'ᅥ', 'ᆯ', 'ᄌ', 'ᅩ', 'ᄋ', 'ᅡ', 'ᄒ', 'ᅢ', 'ᄋ', 'ᅭ']\n",
            "duration: [13  6  4  5 10  5  5  3  6  6  8  5  6  9  4  6  4  8  3  9  4  6  8  3\n",
            "  9 10  8 15 20  5  5  6  8  3  4  4  7  4  3  6  5  6  6 10  6  4  8 10\n",
            " 16 16  5]\n",
            "start : 0.56\n",
            ",end : 4.69\n",
            "\n"
          ]
        },
        {
          "output_type": "stream",
          "name": "stderr",
          "text": [
            "<ipython-input-25-396638cc7985>:75: WavFileWarning: Chunk (non-data) not understood, skipping it.\n",
            "  _, wav = read(wav_path)\n"
          ]
        },
        {
          "output_type": "stream",
          "name": "stdout",
          "text": [
            "phone : ['ᄂ', 'ᅮ', 'ᄀ', 'ᅮ', 'ᄅ', 'ᅳ', 'ᆯ', 'ᄀ', 'ᅳ', 'ᄅ', 'ᅵ', 'ᄀ', 'ᅩ', 'ᄀ', 'ᅨ', 'ᄉ', 'ᅵ', 'ᆫ', 'ᄀ', 'ᅥ', 'ᄋ', 'ᅨ', 'ᄋ', 'ᅭ']\n",
            "duration: [ 7  6  6  5  4  5  5  6  4  4  4  5  6  5  6  9  3  6  5  8  6  9 13  6]\n",
            "start : 0.64\n",
            ",end : 2.3\n",
            "\n"
          ]
        },
        {
          "output_type": "stream",
          "name": "stderr",
          "text": [
            "<ipython-input-25-396638cc7985>:75: WavFileWarning: Chunk (non-data) not understood, skipping it.\n",
            "  _, wav = read(wav_path)\n"
          ]
        },
        {
          "output_type": "stream",
          "name": "stdout",
          "text": [
            "phone : ['ᄉ', 'ᅥ', 'ᆫ', 'ᄉ', 'ᅢ', 'ᆼ', 'ᄂ', 'ᅵ', 'ᄆ', 'ᅳ', 'ᆯ', 'ᄆ', 'ᅡ', 'ᆫ', 'ᄂ', 'ᅡ', 'ᄇ', 'ᅬ', 'ᆸ', 'ᄁ', 'ᅵ', 'ᄅ', 'ᅳ', 'ᆯ', 'ᄀ', 'ᅵ', 'ᄃ', 'ᅢ', 'ᄒ', 'ᅡ', 'ᄀ', 'ᅩ', 'ᄋ', 'ᅵ', 'ᆮ', 'ᄊ', 'ᅳ', 'ᆷ', 'ᄂ', 'ᅵ', 'ᄃ', 'ᅡ']\n",
            "duration: [ 8  6  3  4  7  4  3  4  5  4  4  7  6  5  4  5  4  7  9  4  7  4 10  4\n",
            "  9  5  3  4  6  5  4  4  4  3  2  9  3  7  4  6  9 20]\n",
            "start : 0.34\n",
            ",end : 3.07\n",
            "\n"
          ]
        },
        {
          "output_type": "stream",
          "name": "stderr",
          "text": [
            "<ipython-input-25-396638cc7985>:75: WavFileWarning: Chunk (non-data) not understood, skipping it.\n",
            "  _, wav = read(wav_path)\n"
          ]
        },
        {
          "output_type": "stream",
          "name": "stdout",
          "text": [
            "phone : ['ᄂ', 'ᅥ', 'ᄆ', 'ᅮ', 'ᄀ', 'ᅵ', 'ᄃ', 'ᅢ', 'ᄒ', 'ᅡ', 'ᄌ', 'ᅵ', 'ᄆ', 'ᅡ']\n",
            "duration: [ 5  7  6  6  8  7  4  4  6  6  9  5  7 32]\n",
            "start : 0.36\n",
            ",end : 1.67\n",
            "\n"
          ]
        },
        {
          "output_type": "stream",
          "name": "stderr",
          "text": [
            "<ipython-input-25-396638cc7985>:75: WavFileWarning: Chunk (non-data) not understood, skipping it.\n",
            "  _, wav = read(wav_path)\n"
          ]
        },
        {
          "output_type": "stream",
          "name": "stdout",
          "text": [
            "phone : ['ᄉ', 'ᅮ', 'ᆫ', 'ᄉ', 'ᅥ', 'ᄅ', 'ᅳ', 'ᆯ', 'ᄀ', 'ᅵ', 'ᄃ', 'ᅡ', 'ᄅ', 'ᅧ', 'ᄌ', 'ᅮ', 'ᄉ', 'ᅦ', 'ᄋ', 'ᅭ']\n",
            "duration: [ 8  6  6  5  8  4  6  3  5  5  4  6  4  7  4  5  7 14 22  6]\n",
            "start : 0.34\n",
            ",end : 1.91\n",
            "\n"
          ]
        },
        {
          "output_type": "stream",
          "name": "stderr",
          "text": [
            "<ipython-input-25-396638cc7985>:75: WavFileWarning: Chunk (non-data) not understood, skipping it.\n",
            "  _, wav = read(wav_path)\n"
          ]
        },
        {
          "output_type": "stream",
          "name": "stdout",
          "text": [
            "phone : ['ᄎ', 'ᅵ', 'ᆫ', 'ᄀ', 'ᅮ', 'ᄅ', 'ᅳ', 'ᆯ', 'ᄀ', 'ᅵ', 'ᄃ', 'ᅡ', 'ᄅ', 'ᅵ', 'ᄂ', 'ᅳ', 'ᆫ', 'ᄌ', 'ᅮ', 'ᆼ', 'ᄋ', 'ᅵ', 'ᆷ', 'ᄂ', 'ᅵ', 'ᄃ', 'ᅡ']\n",
            "duration: [ 9  5  8  4  6  5  6  5  4  5  6  6  3  5  5  3  7  4  4  3  3  7  6  6\n",
            "  6  8 19]\n",
            "start : 0.35\n",
            ",end : 2.19\n",
            "\n"
          ]
        },
        {
          "output_type": "stream",
          "name": "stderr",
          "text": [
            "<ipython-input-25-396638cc7985>:75: WavFileWarning: Chunk (non-data) not understood, skipping it.\n",
            "  _, wav = read(wav_path)\n"
          ]
        },
        {
          "output_type": "stream",
          "name": "stdout",
          "text": [
            "phone : ['ᄋ', 'ᅡ', 'ᄈ', 'ᅡ', 'ᄀ', 'ᅡ', 'ᄀ', 'ᅧ', 'ᆯ', 'ᄒ', 'ᅩ', 'ᆫ', 'ᄀ', 'ᅵ', 'ᄂ', 'ᅧ', 'ᄆ', 'ᅵ', 'ᄅ', 'ᅳ', 'ᆯ', 'sp', 'ᄀ', 'ᅵ', 'ᄋ', 'ᅥ', 'ᄏ', 'ᅡ', 'ᄌ', 'ᅵ', 'ᄆ', 'ᅩ', 'ᄐ', 'ᅢ']\n",
            "duration: [48  7 11  5  6  7  7  7  3  4  2  5  5  4  5  8  8  4  4  4 19 13 16  5\n",
            "  4  5  7  6  7  4  7  8 17 19]\n",
            "start : 0.0\n",
            ",end : 3.38\n",
            "\n"
          ]
        },
        {
          "output_type": "stream",
          "name": "stderr",
          "text": [
            "<ipython-input-25-396638cc7985>:75: WavFileWarning: Chunk (non-data) not understood, skipping it.\n",
            "  _, wav = read(wav_path)\n"
          ]
        },
        {
          "output_type": "stream",
          "name": "stdout",
          "text": [
            "phone : ['ᄌ', 'ᅥ', 'ᄅ', 'ᅳ', 'ᆯ', 'ᄀ', 'ᅵ', 'ᄋ', 'ᅥ', 'ᄏ', 'ᅡ', 'ᄉ', 'ᅵ', 'ᄀ', 'ᅦ', 'ᄊ', 'ᅥ', 'ᄋ', 'ᅭ']\n",
            "duration: [10  8  4  5  3 10  3  3  5  9  5  6  4  4  8 12 12 18  8]\n",
            "start : 0.47\n",
            ",end : 2.06\n",
            "\n"
          ]
        },
        {
          "output_type": "stream",
          "name": "stderr",
          "text": [
            "<ipython-input-25-396638cc7985>:75: WavFileWarning: Chunk (non-data) not understood, skipping it.\n",
            "  _, wav = read(wav_path)\n"
          ]
        },
        {
          "output_type": "stream",
          "name": "stdout",
          "text": [
            "phone : ['ᄀ', 'ᅳ', 'ᄋ', 'ᅧ', 'ᄌ', 'ᅡ', 'ᄂ', 'ᅡ', 'ᄎ', 'ᅳ', 'ᆫ', 'ᄋ', 'ᅡ', 'ᄌ', 'ᅮ', 'ᄋ', 'ᅵ', 'ᄀ', 'ᅳ', 'ᆫ', 'ᄃ', 'ᅦ', 'sp', 'ᄋ', 'ᅵ', 'ᄅ', 'ᅳ', 'ᄆ', 'ᅵ', 'ᄀ', 'ᅵ', 'ᄋ', 'ᅥ', 'ᆼ', 'ᄂ', 'ᅡ', 'ᄌ', 'ᅵ', 'ᄋ', 'ᅡ', 'ᄂ', 'ᅡ', 'ᄋ', 'ᅭ']\n",
            "duration: [18  6  3  8  7  7  7  8 15  3  5  6  8 10  3  4  5  5  5 10  5 26 17 16\n",
            "  7  5  6  5  6  9  5  4  2  9  4  7  9  2  5  9  7 12 20  3]\n",
            "start : 0.43\n",
            ",end : 4.42\n",
            "\n"
          ]
        },
        {
          "output_type": "stream",
          "name": "stderr",
          "text": [
            "<ipython-input-25-396638cc7985>:75: WavFileWarning: Chunk (non-data) not understood, skipping it.\n",
            "  _, wav = read(wav_path)\n"
          ]
        },
        {
          "output_type": "stream",
          "name": "stdout",
          "text": [
            "phone : ['ᄌ', 'ᅥ', 'ᄀ', 'ᅵ', 'ᄋ', 'ᅥ', 'ᆼ', 'ᄂ', 'ᅡ', 'ᄉ', 'ᅦ', 'ᄋ', 'ᅭ']\n",
            "duration: [13 11 10  6  4  3  8  4  9  9 17 13  8]\n",
            "start : 0.54\n",
            ",end : 1.87\n",
            "\n"
          ]
        },
        {
          "output_type": "stream",
          "name": "stderr",
          "text": [
            "<ipython-input-25-396638cc7985>:75: WavFileWarning: Chunk (non-data) not understood, skipping it.\n",
            "  _, wav = read(wav_path)\n"
          ]
        },
        {
          "output_type": "stream",
          "name": "stdout",
          "text": [
            "phone : ['ᄋ', 'ᅥ', 'ᄆ', 'ᅥ', 'ᄂ', 'ᅵ', 'ᄆ', 'ᅵ', 'ᄀ', 'ᅵ', 'ᄈ', 'ᅥ', 'ᄒ', 'ᅡ', 'ᄉ', 'ᅵ', 'ᄀ', 'ᅦ', 'ᄊ', 'ᅥ', 'ᄋ', 'ᅭ']\n",
            "duration: [ 4  8  8  5  6  3  6  5  7 10  9  4  3  5  7  3  4  7 11 19 22  5]\n",
            "start : 0.33\n",
            ",end : 2.2\n",
            "\n"
          ]
        },
        {
          "output_type": "stream",
          "name": "stderr",
          "text": [
            "<ipython-input-25-396638cc7985>:75: WavFileWarning: Chunk (non-data) not understood, skipping it.\n",
            "  _, wav = read(wav_path)\n"
          ]
        },
        {
          "output_type": "stream",
          "name": "stdout",
          "text": [
            "phone : ['ᄋ', 'ᅡ', 'ᄌ', 'ᅵ', 'ᆨ', 'ᄋ', 'ᅵ', 'ᄀ', 'ᅵ', 'ᆫ', 'ᄀ', 'ᅦ', 'ᄋ', 'ᅡ', 'ᄂ', 'ᅵ', 'ᄂ', 'ᅵ', 'ᄁ', 'ᅡ', 'sp', 'ᄀ', 'ᅵ', 'ᄈ', 'ᅥ', 'ᄒ', 'ᅡ', 'ᄀ', 'ᅵ', 'ᄋ', 'ᅦ', 'ᄂ', 'ᅳ', 'ᆫ', 'ᄋ', 'ᅵ', 'ᄅ', 'ᅳ', 'ᆷ', 'ᄂ', 'ᅵ', 'ᄃ', 'ᅡ']\n",
            "duration: [42  8  8  7  3  3  4  5  5  5  5  4  6  5  7  3  6  8 14 15 11 13  8 10\n",
            "  6  5  4  5  3  2  3  4  6  6  8  6  4  6  8  5  7 13 16]\n",
            "start : 0.0\n",
            ",end : 3.74\n",
            "\n"
          ]
        },
        {
          "output_type": "stream",
          "name": "stderr",
          "text": [
            "<ipython-input-25-396638cc7985>:75: WavFileWarning: Chunk (non-data) not understood, skipping it.\n",
            "  _, wav = read(wav_path)\n"
          ]
        },
        {
          "output_type": "stream",
          "name": "stdout",
          "text": [
            "phone : ['ᄋ', 'ᅥ', 'ᆷ', 'ᄆ', 'ᅡ', 'sp', 'ᄀ', 'ᅩ', 'ᄋ', 'ᅣ', 'ᆼ', 'ᄋ', 'ᅵ', 'ᄅ', 'ᅳ', 'ᆯ', 'ᄀ', 'ᅵ', 'ᄅ', 'ᅳ', 'ᄀ', 'ᅦ', 'ᄒ', 'ᅢ', 'ᄌ', 'ᅮ', 'ᄉ', 'ᅦ', 'ᄋ', 'ᅭ']\n",
            "duration: [46  8 10  6 26 24  7  6  5  6  5  3  4  4  2  5  7  7  5  4  6  5  3  4\n",
            "  4  7  8 14 21  5]\n",
            "start : 0.0\n",
            ",end : 3.1\n",
            "\n"
          ]
        },
        {
          "output_type": "stream",
          "name": "stderr",
          "text": [
            "<ipython-input-25-396638cc7985>:75: WavFileWarning: Chunk (non-data) not understood, skipping it.\n",
            "  _, wav = read(wav_path)\n"
          ]
        },
        {
          "output_type": "stream",
          "name": "stdout",
          "text": [
            "phone : ['ᄐ', 'ᅥ', 'ᆨ', 'ᄊ', 'ᅮ', 'ᄋ', 'ᅧ', 'ᄆ', 'ᅳ', 'ᆯ', 'ᄀ', 'ᅵ', 'ᄅ', 'ᅳ', 'ᆫ', 'ᄌ', 'ᅥ', 'ᄀ', 'ᅵ', 'ᄋ', 'ᅵ', 'ᄊ', 'ᅥ', 'ᄋ', 'ᅭ']\n",
            "duration: [13  4  6  7  4  3  5  6  4  4  6  5  5  4  6  6  5  5  3  6  4 11 17 20\n",
            "  8]\n",
            "start : 0.81\n",
            ",end : 2.74\n",
            "\n"
          ]
        },
        {
          "output_type": "stream",
          "name": "stderr",
          "text": [
            "<ipython-input-25-396638cc7985>:75: WavFileWarning: Chunk (non-data) not understood, skipping it.\n",
            "  _, wav = read(wav_path)\n"
          ]
        },
        {
          "output_type": "stream",
          "name": "stdout",
          "text": [
            "phone : ['ᄌ', 'ᅵ', 'ᆸ', 'ᄍ', 'ᅮ', 'ᆼ', 'ᄂ', 'ᅧ', 'ᄀ', 'ᅳ', 'ᆯ', 'ᄀ', 'ᅵ', 'ᄅ', 'ᅳ', 'ᄂ', 'ᅳ', 'ᆫ', 'ᄀ', 'ᅥ', 'ᄉ', 'ᅵ', 'sp', 'ᄀ', 'ᅩ', 'ᆼ', 'ᄇ', 'ᅮ', 'ᄅ', 'ᅳ', 'ᆯ', 'ᄌ', 'ᅡ', 'ᆯ', 'ᄒ', 'ᅡ', 'ᄂ', 'ᅳ', 'ᆫ', 'ᄇ', 'ᅵ', 'ᄀ', 'ᅧ', 'ᄅ', 'ᅵ', 'ᆷ', 'ᄂ', 'ᅵ', 'ᄃ', 'ᅡ']\n",
            "duration: [12  4  6  5  5  6  3  8  4  6  3  4  5  3  6  5  5  7  6 10 14 15 12 12\n",
            "  5 10  5  4  3  4  6  7  6  3  4  4  5  2  6  6  5  5  6  4  6  7  4  6\n",
            " 10 20]\n",
            "start : 0.39\n",
            ",end : 4.09\n",
            "\n"
          ]
        },
        {
          "output_type": "stream",
          "name": "stderr",
          "text": [
            "<ipython-input-25-396638cc7985>:75: WavFileWarning: Chunk (non-data) not understood, skipping it.\n",
            "  _, wav = read(wav_path)\n"
          ]
        },
        {
          "output_type": "stream",
          "name": "stdout",
          "text": [
            "phone : ['ᄌ', 'ᅥ', 'ᄂ', 'ᅳ', 'ᆫ', 'ᄋ', 'ᅵ', 'ᆯ', 'ᄀ', 'ᅵ', 'ᄌ', 'ᅡ', 'ᆼ', 'ᄋ', 'ᅦ', 'sp', 'ᄒ', 'ᅡ', 'ᄅ', 'ᅮ', 'ᄃ', 'ᅩ', 'ᆼ', 'ᄋ', 'ᅡ', 'ᆫ', 'ᄋ', 'ᅵ', 'ᄊ', 'ᅥ', 'ᆮ', 'ᄄ', 'ᅥ', 'ᆫ', 'ᄋ', 'ᅵ', 'ᄅ', 'ᅳ', 'ᆯ', 'sp', 'ᄆ', 'ᅩ', 'ᄃ', 'ᅮ', 'ᄀ', 'ᅵ', 'ᄅ', 'ᅩ', 'ᄏ', 'ᅡ', 'ᆷ', 'ᄂ', 'ᅵ', 'ᄃ', 'ᅡ']\n",
            "duration: [12  8  5  3  3  5  8  4  4  9 10  8  4  5 18  7 16  3  4  6  8  5  2  6\n",
            "  5  3  5  5  6  7  6  3  7  6  5  6  5  2 16  2  8 12  5  7  9  4  5  4\n",
            "  9  5  8  4  5 10 17]\n",
            "start : 0.48\n",
            ",end : 4.71\n",
            "\n"
          ]
        },
        {
          "output_type": "stream",
          "name": "stderr",
          "text": [
            "<ipython-input-25-396638cc7985>:75: WavFileWarning: Chunk (non-data) not understood, skipping it.\n",
            "  _, wav = read(wav_path)\n"
          ]
        },
        {
          "output_type": "stream",
          "name": "stdout",
          "text": [
            "phone : ['ᄒ', 'ᅡ', 'ᆫ', 'ᄀ', 'ᅮ', 'ᄀ', 'ᅴ', 'ᄌ', 'ᅡ', 'ᄃ', 'ᅩ', 'ᆼ', 'ᄎ', 'ᅡ', 'ᄉ', 'ᅡ', 'ᄂ', 'ᅥ', 'ᄇ', 'ᅳ', 'ᆫ', 'sp', 'ᄉ', 'ᅦ', 'ᄀ', 'ᅨ', 'ᄉ', 'ᅡ', 'ᆷ', 'ᄋ', 'ᅱ', 'ᄅ', 'ᅳ', 'ᆯ', 'ᄀ', 'ᅵ', 'ᄅ', 'ᅩ', 'ᄏ', 'ᅡ', 'ᄀ', 'ᅩ', 'ᄋ', 'ᅵ', 'ᆮ', 'ᄊ', 'ᅳ', 'ᆷ', 'ᄂ', 'ᅵ', 'ᄃ', 'ᅡ']\n",
            "duration: [25  6  8  3  5  5  7  6  7  4  5  7  7  4  8  6  6  7  7 10 12 18 13  8\n",
            "  6  7  8  8  4  3  5  4  6  5 12  3  5  5  8  6  4  4  4  3  2 10  2  6\n",
            "  3  7  9 18]\n",
            "start : 0.27\n",
            ",end : 4.46\n",
            "\n"
          ]
        },
        {
          "output_type": "stream",
          "name": "stderr",
          "text": [
            "<ipython-input-25-396638cc7985>:75: WavFileWarning: Chunk (non-data) not understood, skipping it.\n",
            "  _, wav = read(wav_path)\n"
          ]
        },
        {
          "output_type": "stream",
          "name": "stdout",
          "text": [
            "phone : ['ᄆ', 'ᅩ', 'ᄆ', 'ᅳ', 'ᆯ', 'ᄋ', 'ᅧ', 'ᄑ', 'ᅳ', 'ᄅ', 'ᅩ', 'ᄀ', 'ᅵ', 'ᄋ', 'ᅮ', 'ᄅ', 'ᅧ', 'ᄇ', 'ᅩ', 'ᄉ', 'ᅦ', 'ᄋ', 'ᅭ']\n",
            "duration: [26  8  7  5  4  4  7 12  3  2  7 11  3  4  3  6  8  6  6  8 13 18  5]\n",
            "start : 0.25\n",
            ",end : 2.29\n",
            "\n"
          ]
        },
        {
          "output_type": "stream",
          "name": "stderr",
          "text": [
            "<ipython-input-25-396638cc7985>:75: WavFileWarning: Chunk (non-data) not understood, skipping it.\n",
            "  _, wav = read(wav_path)\n"
          ]
        },
        {
          "output_type": "stream",
          "name": "stdout",
          "text": [
            "phone : ['ᄂ', 'ᅡ', 'ᄂ', 'ᅳ', 'ᆫ', 'ᄃ', 'ᅢ', 'ᄎ', 'ᅦ', 'ᄅ', 'ᅩ', 'ᄉ', 'ᅥ', 'ᆫ', 'ᄉ', 'ᅢ', 'ᆼ', 'ᄂ', 'ᅵ', 'ᄆ', 'ᅴ', 'ᄆ', 'ᅡ', 'ᆯ', 'ᄊ', 'ᅳ', 'ᄆ', 'ᅦ', 'sp', 'ᄌ', 'ᅮ', 'ᄋ', 'ᅴ', 'ᄅ', 'ᅳ', 'ᆯ', 'ᄀ', 'ᅵ', 'ᄋ', 'ᅮ', 'ᄅ', 'ᅵ', 'ᄌ', 'ᅵ', 'ᄋ', 'ᅡ', 'ᄂ', 'ᅡ', 'ᆮ', 'ᄄ', 'ᅡ']\n",
            "duration: [13  9  4  7  6  4  9 10 10  4 11  6  4  3  5  7  2  4  6  6  6  7  6  4\n",
            " 13  5  5 19 15 13  5  7  2  5  6  3  9  7  3  3  4  9  6  2  5  5  6  5\n",
            " 19 10 12]\n",
            "start : 0.5\n",
            ",end : 4.64\n",
            "\n"
          ]
        },
        {
          "output_type": "stream",
          "name": "stderr",
          "text": [
            "<ipython-input-25-396638cc7985>:75: WavFileWarning: Chunk (non-data) not understood, skipping it.\n",
            "  _, wav = read(wav_path)\n"
          ]
        },
        {
          "output_type": "stream",
          "name": "stdout",
          "text": [
            "phone : ['ᄋ', 'ᅵ', 'ᄅ', 'ᅡ', 'ᄃ', 'ᅵ', 'ᄋ', 'ᅩ', 'ᄀ', 'ᅩ', 'ᄎ', 'ᅵ', 'ᄂ', 'ᅳ', 'ᆫ', 'ᄃ', 'ᅦ', 'sp', 'ᄋ', 'ᅥ', 'ᆯ', 'ᄆ', 'ᅡ', 'ᄂ', 'ᅡ', 'ᄀ', 'ᅥ', 'ᆯ', 'ᄅ', 'ᅵ', 'ᆯ', 'ᄁ', 'ᅡ', 'ᄋ', 'ᅭ']\n",
            "duration: [50 11  5 10  5  8  3  3  6  7  9  6  4  4  7  6 27  9 14  6  6  5  6  5\n",
            "  7  6  5  6  3  5  6  7 15 19  7]\n",
            "start : 0.0\n",
            ",end : 3.58\n",
            "\n"
          ]
        },
        {
          "output_type": "stream",
          "name": "stderr",
          "text": [
            "<ipython-input-25-396638cc7985>:75: WavFileWarning: Chunk (non-data) not understood, skipping it.\n",
            "  _, wav = read(wav_path)\n"
          ]
        },
        {
          "output_type": "stream",
          "name": "stdout",
          "text": [
            "phone : ['ᄃ', 'ᅡ', 'ᄋ', 'ᅳ', 'ᆷ', 'ᄆ', 'ᅮ', 'ᆫ', 'ᄌ', 'ᅡ', 'ᆼ', 'ᄋ', 'ᅦ', 'ᄉ', 'ᅥ', 'sp', 'ᄐ', 'ᅳ', 'ᆯ', 'ᄅ', 'ᅵ', 'ᆫ', 'ᄇ', 'ᅮ', 'ᄇ', 'ᅮ', 'ᄂ', 'ᅳ', 'ᆯ', 'ᄀ', 'ᅩ', 'ᄎ', 'ᅵ', 'ᄉ', 'ᅦ', 'ᄋ', 'ᅭ']\n",
            "duration: [ 6  5  7  4  4  2  5  7  5  7  4  4  6  9 23 18  8  3  4  4  7  5  4  5\n",
            "  5  6  4  7  4  5  7  9  4  9 14 15  6]\n",
            "start : 0.62\n",
            ",end : 3.54\n",
            "\n"
          ]
        },
        {
          "output_type": "stream",
          "name": "stderr",
          "text": [
            "<ipython-input-25-396638cc7985>:75: WavFileWarning: Chunk (non-data) not understood, skipping it.\n",
            "  _, wav = read(wav_path)\n"
          ]
        },
        {
          "output_type": "stream",
          "name": "stdout",
          "text": [
            "phone : ['ᄆ', 'ᅵ', 'ᆮ', 'ᄍ', 'ᅮ', 'ᆯ', 'ᄎ', 'ᅵ', 'ᆫ', 'ᄇ', 'ᅮ', 'ᄇ', 'ᅮ', 'ᄂ', 'ᅳ', 'ᆯ', 'sp', 'ᄆ', 'ᅩ', 'ᄃ', 'ᅮ', 'ᄋ', 'ᅵ', 'ᄐ', 'ᅢ', 'ᆯ', 'ᄅ', 'ᅵ', 'ᄀ', 'ᅳ', 'ᄅ', 'ᅩ', 'ᄀ', 'ᅩ', 'ᄎ', 'ᅥ', 'ᄅ', 'ᅡ']\n",
            "duration: [12  7  4  4  5  5  6  6  8  4  6  6  7  5  9 10 17 14  9  5  5  5  6  9\n",
            "  4  5  5  4  7  4  4  5  5  6 13  8 10 19]\n",
            "start : 0.44\n",
            ",end : 3.6\n",
            "\n"
          ]
        },
        {
          "output_type": "stream",
          "name": "stderr",
          "text": [
            "<ipython-input-25-396638cc7985>:75: WavFileWarning: Chunk (non-data) not understood, skipping it.\n",
            "  _, wav = read(wav_path)\n"
          ]
        },
        {
          "output_type": "stream",
          "name": "stdout",
          "text": [
            "phone : ['ᄌ', 'ᅥ', 'ᄂ', 'ᅳ', 'ᆫ', 'ᄃ', 'ᅢ', 'ᄒ', 'ᅡ', 'ᄀ', 'ᅦ', 'ᄉ', 'ᅥ', 'sp', 'ᄀ', 'ᅮ', 'ᆼ', 'ᄆ', 'ᅮ', 'ᆫ', 'ᄒ', 'ᅡ', 'ᄀ', 'ᅳ', 'ᆯ', 'ᄀ', 'ᅩ', 'ᆼ', 'ᄇ', 'ᅮ', 'ᄒ', 'ᅡ', 'ᆯ', 'ᄀ', 'ᅥ', 'ᄋ', 'ᅨ', 'ᄋ', 'ᅭ']\n",
            "duration: [12  6  6  7  6  4  7  7  5  6 10 11 17 11 11  4  7  5  6  2  3  6  3  4\n",
            "  4  5  7  9  5  2  5  4  3  8  9  4 12 17  7]\n",
            "start : 0.37\n",
            ",end : 3.47\n",
            "\n"
          ]
        },
        {
          "output_type": "stream",
          "name": "stderr",
          "text": [
            "<ipython-input-25-396638cc7985>:75: WavFileWarning: Chunk (non-data) not understood, skipping it.\n",
            "  _, wav = read(wav_path)\n"
          ]
        },
        {
          "output_type": "stream",
          "name": "stdout",
          "text": [
            "phone : ['ᄀ', 'ᅡ', 'ᄋ', 'ᅳ', 'ᄅ', 'ᅳ', 'ᆫ', 'ᄋ', 'ᅵ', 'ᆯ', 'ᄂ', 'ᅧ', 'ᆫ', 'ᄌ', 'ᅮ', 'ᆼ', 'sp', 'ᄀ', 'ᅩ', 'ᆼ', 'ᄇ', 'ᅮ', 'ᄒ', 'ᅡ', 'ᄀ', 'ᅵ', 'ᄋ', 'ᅦ', 'sp', 'ᄌ', 'ᅦ', 'ᄋ', 'ᅵ', 'ᆯ', 'ᄌ', 'ᅩ', 'ᄋ', 'ᅳ', 'ᆫ', 'ᄀ', 'ᅨ', 'ᄌ', 'ᅥ', 'ᄅ', 'ᅵ', 'ᄃ', 'ᅡ']\n",
            "duration: [13  5 12  3  3  8  3  4  5  7  3  8  9  7 13 13 12 12  6  8  6  4  6  5\n",
            "  7  6  3 19  3 10  5  4  9  4  7  5  9  2  5  5  6  6  8  3  9 14 16]\n",
            "start : 0.38\n",
            ",end : 4.33\n",
            "\n"
          ]
        },
        {
          "output_type": "stream",
          "name": "stderr",
          "text": [
            "<ipython-input-25-396638cc7985>:75: WavFileWarning: Chunk (non-data) not understood, skipping it.\n",
            "  _, wav = read(wav_path)\n"
          ]
        },
        {
          "output_type": "stream",
          "name": "stdout",
          "text": [
            "phone : ['ᄋ', 'ᅵ', 'ᄌ', 'ᅮ', 'ᆼ', 'ᄋ', 'ᅦ', 'ᄉ', 'ᅥ', 'ᄒ', 'ᅡ', 'ᄂ', 'ᅡ', 'ᄅ', 'ᅳ', 'ᆯ', 'ᄀ', 'ᅩ', 'ᄅ', 'ᅳ', 'ᄉ', 'ᅦ', 'ᄋ', 'ᅭ']\n",
            "duration: [32  7  4  6  3  5  6  7  4  7  5  5  7  3  5  5  6  6  4  4  9 15 15  6]\n",
            "start : 0.0\n",
            ",end : 2.05\n",
            "\n"
          ]
        },
        {
          "output_type": "stream",
          "name": "stderr",
          "text": [
            "<ipython-input-25-396638cc7985>:75: WavFileWarning: Chunk (non-data) not understood, skipping it.\n",
            "  _, wav = read(wav_path)\n"
          ]
        },
        {
          "output_type": "stream",
          "name": "stdout",
          "text": [
            "phone : ['ᄌ', 'ᅦ', 'ᄋ', 'ᅵ', 'ᆯ', 'ᄌ', 'ᅩ', 'ᄋ', 'ᅳ', 'ᆫ', 'ᄀ', 'ᅥ', 'ᆯ', 'ᄀ', 'ᅩ', 'ᄅ', 'ᅳ', 'ᄉ', 'ᅧ', 'ᄊ', 'ᅥ', 'ᄋ', 'ᅭ']\n",
            "duration: [15 10  5  3  4  8  6  8  3  5  5  7  3  5  7  4  2  7  8 11 20 22  7]\n",
            "start : 0.5\n",
            ",end : 2.54\n",
            "\n"
          ]
        },
        {
          "output_type": "stream",
          "name": "stderr",
          "text": [
            "<ipython-input-25-396638cc7985>:75: WavFileWarning: Chunk (non-data) not understood, skipping it.\n",
            "  _, wav = read(wav_path)\n"
          ]
        },
        {
          "output_type": "stream",
          "name": "stdout",
          "text": [
            "phone : ['ᄌ', 'ᅦ', 'ᄂ', 'ᅡ', 'ᄋ', 'ᅵ', 'ᄅ', 'ᅳ', 'ᆯ', 'ᄌ', 'ᅩ', 'ᆷ', 'ᄀ', 'ᅩ', 'ᄅ', 'ᅧ', 'ᄒ', 'ᅢ', 'ᄌ', 'ᅮ', 'ᄉ', 'ᅧ', 'ᄊ', 'ᅳ', 'ᄆ', 'ᅧ', 'ᆫ', 'ᄌ', 'ᅩ', 'ᄏ', 'ᅦ', 'ᄊ', 'ᅥ', 'ᄋ', 'ᅭ']\n",
            "duration: [14 11  7  9  8  4  4  6  5  6  7 10  9  9  3  3  3  7  5  4  5  7  9  4\n",
            "  5  3  6  5  7  8  7 12 17 22  3]\n",
            "start : 0.44\n",
            ",end : 3.39\n",
            "\n"
          ]
        },
        {
          "output_type": "stream",
          "name": "stderr",
          "text": [
            "<ipython-input-25-396638cc7985>:75: WavFileWarning: Chunk (non-data) not understood, skipping it.\n",
            "  _, wav = read(wav_path)\n"
          ]
        },
        {
          "output_type": "stream",
          "name": "stdout",
          "text": [
            "phone : ['ᄆ', 'ᅩ', 'ᄃ', 'ᅳ', 'ᆫ', 'ᄌ', 'ᅥ', 'ᄆ', 'ᅳ', 'ᆯ', 'ᄀ', 'ᅩ', 'ᄅ', 'ᅧ', 'ᄒ', 'ᅢ', 'ᄊ', 'ᅳ', 'ᆯ', 'ᄄ', 'ᅢ', 'sp', 'ᄀ', 'ᅡ', 'ᄌ', 'ᅵ', 'ᄋ', 'ᅡ', 'ᆫ', 'ᄂ', 'ᅳ', 'ᆫ', 'ᄀ', 'ᅦ', 'ᄂ', 'ᅡ', 'ᆮ', 'ᄄ', 'ᅡ']\n",
            "duration: [30  9  4  7  6  5  5  3  5  5  5  8  5  3  4  8 10  5  7 13 15 17 15  9\n",
            "  7  3  9  4  8  3  4  7  4 11  6  9 18 14 10]\n",
            "start : 0.21\n",
            ",end : 3.93\n",
            "\n"
          ]
        },
        {
          "output_type": "stream",
          "name": "stderr",
          "text": [
            "<ipython-input-25-396638cc7985>:75: WavFileWarning: Chunk (non-data) not understood, skipping it.\n",
            "  _, wav = read(wav_path)\n"
          ]
        },
        {
          "output_type": "stream",
          "name": "stdout",
          "text": [
            "phone : ['ᄋ', 'ᅫ', 'ᄉ', 'ᅡ', 'ᄉ', 'ᅥ', 'ᄀ', 'ᅩ', 'ᄉ', 'ᅢ', 'ᆼ', 'ᄒ', 'ᅢ']\n",
            "duration: [10 15  9  7  7  5  6  8  8  8  3  6 23]\n",
            "start : 0.25\n",
            ",end : 1.58\n",
            "\n"
          ]
        },
        {
          "output_type": "stream",
          "name": "stderr",
          "text": [
            "<ipython-input-25-396638cc7985>:75: WavFileWarning: Chunk (non-data) not understood, skipping it.\n",
            "  _, wav = read(wav_path)\n"
          ]
        },
        {
          "output_type": "stream",
          "name": "stdout",
          "text": [
            "phone : ['ᄋ', 'ᅧ', 'ᄀ', 'ᅵ', 'ᄋ', 'ᅦ', 'ᄋ', 'ᅩ', 'ᄉ', 'ᅵ', 'ᄂ', 'ᅳ', 'ᄅ', 'ᅡ', 'ᄀ', 'ᅩ', 'ᄉ', 'ᅢ', 'ᆼ', 'ᄒ', 'ᅡ', 'ᄌ', 'ᅵ', 'ᄋ', 'ᅡ', 'ᄂ', 'ᅳ', 'ᄉ', 'ᅧ', 'ᄊ', 'ᅥ', 'ᄋ', 'ᅭ']\n",
            "duration: [15 10  7  3  2  3  4  5  8  8  3  6  5 10  6  8  7  4  3  6  5  5  3  5\n",
            "  6  3  3  7  7 12 15 16  6]\n",
            "start : 0.38\n",
            ",end : 2.88\n",
            "\n"
          ]
        },
        {
          "output_type": "stream",
          "name": "stderr",
          "text": [
            "<ipython-input-25-396638cc7985>:75: WavFileWarning: Chunk (non-data) not understood, skipping it.\n",
            "  _, wav = read(wav_path)\n"
          ]
        },
        {
          "output_type": "stream",
          "name": "stdout",
          "text": [
            "phone : ['ᄇ', 'ᅮ', 'ᄉ', 'ᅡ', 'ᄂ', 'ᅳ', 'ᆫ', 'sp', 'ᄀ', 'ᅮ', 'ᄀ', 'ᅧ', 'ᆼ', 'ᄒ', 'ᅡ', 'ᆯ', 'ᄀ', 'ᅩ', 'ᄉ', 'ᅵ', 'ᄆ', 'ᅡ', 'ᄂ', 'ᅡ', 'ᄋ', 'ᅭ']\n",
            "duration: [12  6  7  8  6 11 13 12 11  7  4  5  4  3  4  4  7  7  9  5  8 13  6 17\n",
            " 16  4]\n",
            "start : 0.29\n",
            ",end : 2.71\n",
            "\n"
          ]
        },
        {
          "output_type": "stream",
          "name": "stderr",
          "text": [
            "<ipython-input-25-396638cc7985>:75: WavFileWarning: Chunk (non-data) not understood, skipping it.\n",
            "  _, wav = read(wav_path)\n"
          ]
        },
        {
          "output_type": "stream",
          "name": "stdout",
          "text": [
            "phone : ['ᄋ', 'ᅥ', 'ᄃ', 'ᅵ', 'ᄅ', 'ᅳ', 'ᆯ', 'ᄀ', 'ᅮ', 'ᄀ', 'ᅧ', 'ᆼ', 'ᄒ', 'ᅡ', 'ᄀ', 'ᅩ', 'ᄉ', 'ᅵ', 'ᄑ', 'ᅳ', 'ᄉ', 'ᅦ', 'ᄋ', 'ᅭ']\n",
            "duration: [39 10  5  6  2  6  4  4  6  4  7  2  4  4  3  5  8  5  8  5  7 13 17 10]\n",
            "start : 0.0\n",
            ",end : 2.14\n",
            "\n"
          ]
        },
        {
          "output_type": "stream",
          "name": "stderr",
          "text": [
            "<ipython-input-25-396638cc7985>:75: WavFileWarning: Chunk (non-data) not understood, skipping it.\n",
            "  _, wav = read(wav_path)\n"
          ]
        },
        {
          "output_type": "stream",
          "name": "stdout",
          "text": [
            "phone : ['ᄋ', 'ᅵ', 'ᆯ', 'ᄌ', 'ᅡ', 'ᄅ', 'ᅵ', 'ᄅ', 'ᅳ', 'ᆯ', 'ᄀ', 'ᅮ', 'ᄒ', 'ᅡ', 'ᄀ', 'ᅩ', 'ᄋ', 'ᅵ', 'ᆮ', 'ᄊ', 'ᅳ', 'ᆷ', 'ᄂ', 'ᅵ', 'ᄃ', 'ᅡ']\n",
            "duration: [32  7  4  8  9  2  6  5  5  5  5  7  6  4  4  3  6  2  3  7  4  7  3  7\n",
            " 10 13]\n",
            "start : 0.0\n",
            ",end : 2.03\n",
            "\n"
          ]
        },
        {
          "output_type": "stream",
          "name": "stderr",
          "text": [
            "<ipython-input-25-396638cc7985>:75: WavFileWarning: Chunk (non-data) not understood, skipping it.\n",
            "  _, wav = read(wav_path)\n"
          ]
        },
        {
          "output_type": "stream",
          "name": "stdout",
          "text": [
            "phone : ['ᄌ', 'ᅵ', 'ᆨ', 'ᄍ', 'ᅡ', 'ᆼ', 'ᄋ', 'ᅳ', 'ᆫ', 'ᄀ', 'ᅮ', 'ᄒ', 'ᅡ', 'ᄉ', 'ᅧ', 'ᄊ', 'ᅥ', 'ᄋ', 'ᅭ']\n",
            "duration: [11  4  5  7  6  4  3  5  7  5  7  3  5  5  7 13 14 14 10]\n",
            "start : 0.26\n",
            ",end : 1.83\n",
            "\n"
          ]
        },
        {
          "output_type": "stream",
          "name": "stderr",
          "text": [
            "<ipython-input-25-396638cc7985>:75: WavFileWarning: Chunk (non-data) not understood, skipping it.\n",
            "  _, wav = read(wav_path)\n"
          ]
        },
        {
          "output_type": "stream",
          "name": "stdout",
          "text": [
            "phone : ['ᄀ', 'ᅳ', 'ᄀ', 'ᅢ', 'ᄂ', 'ᅳ', 'ᆫ', 'sp', 'ᄌ', 'ᅮ', 'ᄋ', 'ᅵ', 'ᄂ', 'ᅳ', 'ᆯ', 'ᄀ', 'ᅮ', 'ᄒ', 'ᅡ', 'ᄀ', 'ᅵ', 'ᄋ', 'ᅱ', 'ᄒ', 'ᅢ', 'sp', 'ᄀ', 'ᅡ', 'ᆼ', 'ᄋ', 'ᅳ', 'ᄅ', 'ᅩ', 'ᄄ', 'ᅱ', 'ᄋ', 'ᅥ', 'ᄃ', 'ᅳ', 'ᄅ', 'ᅥ', 'ᆮ', 'ᄄ', 'ᅡ']\n",
            "duration: [ 7 12  7 12  4 11 15 12 14  4  4  5  4  8  4  5  8  6  3  7  4 12 13  3\n",
            " 14 11 15  5  2  5  2  4  5  9  6  6  5  5  2  5  6 14  9 15]\n",
            "start : 0.42\n",
            ",end : 4.24\n",
            "\n"
          ]
        },
        {
          "output_type": "stream",
          "name": "stderr",
          "text": [
            "<ipython-input-25-396638cc7985>:75: WavFileWarning: Chunk (non-data) not understood, skipping it.\n",
            "  _, wav = read(wav_path)\n"
          ]
        },
        {
          "output_type": "stream",
          "name": "stdout",
          "text": [
            "phone : ['ᄀ', 'ᅳ', 'ᄋ', 'ᅴ', 'ᄉ', 'ᅡ', 'ᄀ', 'ᅡ', 'ᄀ', 'ᅳ', 'ᄂ', 'ᅧ', 'ᄋ', 'ᅴ', 'ᄆ', 'ᅩ', 'ᆨ', 'ᄊ', 'ᅮ', 'ᄆ', 'ᅳ', 'ᆯ', 'sp', 'ᄀ', 'ᅮ', 'ᄒ', 'ᅢ', 'ᄂ', 'ᅢ', 'ᆮ', 'ᄄ', 'ᅡ']\n",
            "duration: [15 15  2  5 10  7  8 14  9  6  6  4  6  4  7  3  8  6  4  7  3 16  2  8\n",
            "  5 10  3  6  6 18  6 18]\n",
            "start : 0.37\n",
            ",end : 3.23\n",
            "\n"
          ]
        },
        {
          "output_type": "stream",
          "name": "stderr",
          "text": [
            "<ipython-input-25-396638cc7985>:75: WavFileWarning: Chunk (non-data) not understood, skipping it.\n",
            "  _, wav = read(wav_path)\n"
          ]
        },
        {
          "output_type": "stream",
          "name": "stdout",
          "text": [
            "phone : ['ᄋ', 'ᅥ', 'ᆷ', 'ᄆ', 'ᅡ', 'ᄂ', 'ᅳ', 'ᆫ', 'sp', 'ᄈ', 'ᅡ', 'ᆼ', 'ᄋ', 'ᅳ', 'ᆯ', 'ᄀ', 'ᅮ', 'ᆸ', 'ᄁ', 'ᅩ', 'ᄀ', 'ᅨ', 'ᄉ', 'ᅦ', 'ᄋ', 'ᅭ']\n",
            "duration: [26  7  7  4  7  5  9 14  5  5  8  3  4  5  3  6  5  2  6  6  5  7  9 16\n",
            " 12  5]\n",
            "start : 0.0\n",
            ",end : 2.22\n",
            "\n"
          ]
        },
        {
          "output_type": "stream",
          "name": "stderr",
          "text": [
            "<ipython-input-25-396638cc7985>:75: WavFileWarning: Chunk (non-data) not understood, skipping it.\n",
            "  _, wav = read(wav_path)\n"
          ]
        },
        {
          "output_type": "stream",
          "name": "stdout",
          "text": [
            "phone : ['ᄂ', 'ᅡ', 'ᄂ', 'ᅳ', 'ᆫ', 'ᄉ', 'ᅩ', 'ᄉ', 'ᅵ', 'ᄌ', 'ᅵ', 'ᄅ', 'ᅳ', 'ᆯ', 'sp', 'ᄀ', 'ᅵ', 'ᄅ', 'ᅳ', 'ᄆ', 'ᅦ', 'ᄐ', 'ᅱ', 'ᄀ', 'ᅵ', 'ᄂ', 'ᅳ', 'ᆫ', 'ᄀ', 'ᅥ', 'ᆮ', 'ᄈ', 'ᅩ', 'ᄃ', 'ᅡ', 'sp', 'ᄉ', 'ᅥ', 'ᆨ', 'ᄊ', 'ᅬ', 'ᄋ', 'ᅦ', 'ᄀ', 'ᅮ', 'ᆷ', 'ᄂ', 'ᅳ', 'ᆫ', 'ᄀ', 'ᅥ', 'ᆯ', 'ᄌ', 'ᅩ', 'ᄋ', 'ᅡ', 'ᄒ', 'ᅢ']\n",
            "duration: [14  7  4  3  6  8  6  9  7  5  8  5  2 21 16 14  5  4  3  7  6 10  2  5\n",
            "  7  3  4  4  5  4  5  4 10 13 17 28 13  6  6 10  3  4  3  6  6  9  3  5\n",
            "  5  4  4  7 10  6  5  4  8 28]\n",
            "start : 0.48\n",
            ",end : 5.54\n",
            "\n"
          ]
        },
        {
          "output_type": "stream",
          "name": "stderr",
          "text": [
            "<ipython-input-25-396638cc7985>:75: WavFileWarning: Chunk (non-data) not understood, skipping it.\n",
            "  _, wav = read(wav_path)\n"
          ]
        },
        {
          "output_type": "stream",
          "name": "stdout",
          "text": [
            "phone : ['ᄎ', 'ᅮ', 'ᆨ', 'ᄁ', 'ᅮ', 'ᄂ', 'ᅳ', 'ᆫ', 'sp', 'ᄋ', 'ᅧ', 'ᆯ', 'ᄒ', 'ᅡ', 'ᆫ', 'ᄆ', 'ᅧ', 'ᆼ', 'ᄋ', 'ᅳ', 'ᄅ', 'ᅩ', 'ᄀ', 'ᅮ', 'ᄉ', 'ᅥ', 'ᆼ', 'ᄃ', 'ᅫ', 'ᄋ', 'ᅵ', 'ᆮ', 'ᄊ', 'ᅳ', 'ᆷ', 'ᄂ', 'ᅵ', 'ᄃ', 'ᅡ']\n",
            "duration: [11  5  6  5  7  5 13 15 16 13  8  3  7  3  6  4  8  3  3  4  4  6  8  4\n",
            "  6  7  7  4  3  7  3  2  9  2  7  4  7 10 15]\n",
            "start : 0.38\n",
            ",end : 3.4\n",
            "\n"
          ]
        },
        {
          "output_type": "stream",
          "name": "stderr",
          "text": [
            "<ipython-input-25-396638cc7985>:75: WavFileWarning: Chunk (non-data) not understood, skipping it.\n",
            "  _, wav = read(wav_path)\n"
          ]
        },
        {
          "output_type": "stream",
          "name": "stdout",
          "text": [
            "phone : ['ᄋ', 'ᅵ', 'ᄆ', 'ᅮ', 'ᆫ', 'ᄌ', 'ᅦ', 'ᄄ', 'ᅢ', 'ᄆ', 'ᅮ', 'ᄂ', 'ᅦ', 'ᄋ', 'ᅱ', 'ᄋ', 'ᅯ', 'ᆫ', 'ᄒ', 'ᅬ', 'ᄀ', 'ᅡ', 'ᄀ', 'ᅮ', 'ᄉ', 'ᅥ', 'ᆼ', 'ᄃ', 'ᅫ', 'ᆮ', 'ᄊ', 'ᅳ', 'ᆷ', 'ᄂ', 'ᅵ', 'ᄃ', 'ᅡ']\n",
            "duration: [47 12  5  7  6  5  8  9  6  6  5  6  7  8 12  5  4  3  4  3  7  6  9  4\n",
            "  7  5  7  4  5  3  8  3  6  4  6 11 13]\n",
            "start : 0.0\n",
            ",end : 3.21\n",
            "\n"
          ]
        },
        {
          "output_type": "stream",
          "name": "stderr",
          "text": [
            "<ipython-input-25-396638cc7985>:75: WavFileWarning: Chunk (non-data) not understood, skipping it.\n",
            "  _, wav = read(wav_path)\n"
          ]
        },
        {
          "output_type": "stream",
          "name": "stdout",
          "text": [
            "phone : ['ᄋ', 'ᅵ', 'ᄇ', 'ᅥ', 'ᆫ', 'ᄉ', 'ᅡ', 'ᄀ', 'ᅥ', 'ᄂ', 'ᅳ', 'ᆫ', 'sp', 'ᄆ', 'ᅡ', 'ᄋ', 'ᅣ', 'ᆨ', 'ᄁ', 'ᅪ', 'ᄀ', 'ᅪ', 'ᆯ', 'ᄅ', 'ᅧ', 'ᆫ', 'ᄃ', 'ᅬ', 'ᄋ', 'ᅥ', 'ᄋ', 'ᅵ', 'ᆮ', 'ᄄ', 'ᅡ']\n",
            "duration: [48  6  5  9  5  7  8 11  5  4  7 15 16 13  4  7  5  6  5  9  7  6  5  4\n",
            "  6  6  4  9  2  4  6  3 13  9 12]\n",
            "start : 0.0\n",
            ",end : 3.39\n",
            "\n"
          ]
        },
        {
          "output_type": "stream",
          "name": "stderr",
          "text": [
            "<ipython-input-25-396638cc7985>:75: WavFileWarning: Chunk (non-data) not understood, skipping it.\n",
            "  _, wav = read(wav_path)\n"
          ]
        },
        {
          "output_type": "stream",
          "name": "stdout",
          "text": [
            "phone : ['ᄀ', 'ᅳ', 'ᄋ', 'ᅵ', 'ᄅ', 'ᅳ', 'ᆫ', 'sp', 'ᄂ', 'ᅢ', 'ᄃ', 'ᅩ', 'ᆼ', 'ᄉ', 'ᅢ', 'ᆼ', 'ᄀ', 'ᅪ', 'ᄀ', 'ᅪ', 'ᆯ', 'ᄅ', 'ᅧ', 'ᆫ', 'ᄃ', 'ᅫ', 'ᄋ', 'ᅵ', 'ᄊ', 'ᅥ']\n",
            "duration: [15 11  7  5  5 14 15 15 11  7  7  3  6  7  7  3  6  6  6  6  5  4  5  6\n",
            "  5  5  4  3 17 22]\n",
            "start : 0.34\n",
            ",end : 3.1\n",
            "\n"
          ]
        },
        {
          "output_type": "stream",
          "name": "stderr",
          "text": [
            "<ipython-input-25-396638cc7985>:75: WavFileWarning: Chunk (non-data) not understood, skipping it.\n",
            "  _, wav = read(wav_path)\n"
          ]
        },
        {
          "output_type": "stream",
          "name": "stdout",
          "text": [
            "phone : ['ᄂ', 'ᅢ', 'ᄎ', 'ᅱ', 'ᄆ', 'ᅵ', 'ᄂ', 'ᅳ', 'ᆫ', 'sp', 'ᄀ', 'ᅵ', 'ᆯ', 'ᄀ', 'ᅥ', 'ᄅ', 'ᅵ', 'ᄋ', 'ᅴ', 'ᄉ', 'ᅡ', 'ᄅ', 'ᅡ', 'ᆷ', 'ᄃ', 'ᅳ', 'ᄅ', 'ᅳ', 'ᆯ', 'ᄀ', 'ᅪ', 'ᆫ', 'ᄎ', 'ᅡ', 'ᆯ', 'ᄒ', 'ᅡ', 'ᄂ', 'ᅳ', 'ᆫ', 'ᄀ', 'ᅥ', 'ᄋ', 'ᅣ']\n",
            "duration: [12 10 13  7  6  9  4 11 12 17 12  4  5  8  5  4  3  4  5  7  5  5  6  7\n",
            "  3  5  5  7  5  8  7  5  7  3  3  5  5  3  4  5  5  6 10 19]\n",
            "start : 0.26\n",
            ",end : 3.76\n",
            "\n"
          ]
        },
        {
          "output_type": "stream",
          "name": "stderr",
          "text": [
            "<ipython-input-25-396638cc7985>:75: WavFileWarning: Chunk (non-data) not understood, skipping it.\n",
            "  _, wav = read(wav_path)\n"
          ]
        },
        {
          "output_type": "stream",
          "name": "stdout",
          "text": [
            "phone : ['ᄀ', 'ᅳ', 'ᄋ', 'ᅵ', 'ᄉ', 'ᅡ', 'ᆼ', 'ᄒ', 'ᅡ', 'ᆫ', 'ᄂ', 'ᅡ', 'ᆷ', 'ᄌ', 'ᅡ', 'ᄂ', 'ᅳ', 'ᆫ', 'sp', 'ᄀ', 'ᅢ', 'ᄆ', 'ᅵ', 'ᄋ', 'ᅦ', 'ᄃ', 'ᅢ', 'ᄒ', 'ᅢ', 'ᄀ', 'ᅪ', 'ᆫ', 'ᄎ', 'ᅡ', 'ᆯ', 'ᄒ', 'ᅡ', 'ᄆ', 'ᅧ', 'ᆫ', 'ᄉ', 'ᅥ', 'sp', 'ᄌ', 'ᅳ', 'ᆯ', 'ᄀ', 'ᅥ', 'ᄋ', 'ᅮ', 'ᄆ', 'ᅳ', 'ᆯ', 'ᄎ', 'ᅡ', 'ᄌ', 'ᅡ', 'ᆮ', 'ᄄ', 'ᅡ']\n",
            "duration: [14  7  8  4  7  6  3  6  4  5  5  9  5  6  6  4  8 17 18 13  9  8  3  7\n",
            "  4  6  4  5  5  6  7  5  6  4  2  5  3  6  9  6  9 22  8 18  4  6  6  5\n",
            "  3  3  4  6  3  8  3  5  7 13 12 10]\n",
            "start : 0.3\n",
            ",end : 5.17\n",
            "\n"
          ]
        },
        {
          "output_type": "stream",
          "name": "stderr",
          "text": [
            "<ipython-input-25-396638cc7985>:75: WavFileWarning: Chunk (non-data) not understood, skipping it.\n",
            "  _, wav = read(wav_path)\n"
          ]
        },
        {
          "output_type": "stream",
          "name": "stdout",
          "text": [
            "phone : ['ᄌ', 'ᅥ', 'ᄂ', 'ᅳ', 'ᆫ', 'ᄀ', 'ᅳ', 'ᄉ', 'ᅡ', 'ᄀ', 'ᅩ', 'ᄋ', 'ᅦ', 'ᄀ', 'ᅪ', 'ᆫ', 'ᄒ', 'ᅢ', 'sp', 'ᄋ', 'ᅡ', 'ᄂ', 'ᅳ', 'ᆫ', 'ᄀ', 'ᅥ', 'ᄉ', 'ᅵ', 'ᄋ', 'ᅥ', 'ᆸ', 'ᄊ', 'ᅳ', 'ᆷ', 'ᄂ', 'ᅵ', 'ᄃ', 'ᅡ']\n",
            "duration: [ 8  9  5  5  8  7 11  8 10  3  7  3  3  7 12  5  4 15  6 19 10  3  4  7\n",
            "  4  6  9  2  3  4  5  7  6  8  4  7  9 16]\n",
            "start : 0.45\n",
            ",end : 3.57\n",
            "\n"
          ]
        },
        {
          "output_type": "stream",
          "name": "stderr",
          "text": [
            "<ipython-input-25-396638cc7985>:75: WavFileWarning: Chunk (non-data) not understood, skipping it.\n",
            "  _, wav = read(wav_path)\n"
          ]
        },
        {
          "output_type": "stream",
          "name": "stdout",
          "text": [
            "phone : ['ᄒ', 'ᅡ', 'ᆫ', 'ᄀ', 'ᅮ', 'ᄀ', 'ᅦ', 'ᄀ', 'ᅪ', 'ᆫ', 'ᄒ', 'ᅡ', 'ᆫ', 'ᄎ', 'ᅢ', 'ᆨ', 'ᄄ', 'ᅳ', 'ᄅ', 'ᅳ', 'ᆫ', 'ᄋ', 'ᅥ', 'ᄃ', 'ᅵ', 'ᄋ', 'ᅦ', 'ᄋ', 'ᅵ', 'ᆫ', 'ᄂ', 'ᅡ', 'ᄋ', 'ᅭ']\n",
            "duration: [19  5  7  4  4  5  6  6  7  4  4  4  6  7  5  6  4  5  4  7  6  6 12  6\n",
            "  3  7  3  3  3  6  5 11 16  5]\n",
            "start : 0.35\n",
            ",end : 2.8\n",
            "\n"
          ]
        },
        {
          "output_type": "stream",
          "name": "stderr",
          "text": [
            "<ipython-input-25-396638cc7985>:75: WavFileWarning: Chunk (non-data) not understood, skipping it.\n",
            "  _, wav = read(wav_path)\n"
          ]
        },
        {
          "output_type": "stream",
          "name": "stdout",
          "text": [
            "phone : ['ᄌ', 'ᅥ', 'ᄂ', 'ᅳ', 'ᆫ', 'ᄋ', 'ᅥ', 'ᄅ', 'ᅧ', 'ᄊ', 'ᅳ', 'ᆯ', 'ᄄ', 'ᅢ', 'sp', 'ᄆ', 'ᅡ', 'ᄂ', 'ᅳ', 'ᆫ', 'ᄋ', 'ᅥ', 'ᄅ', 'ᅧ', 'ᄋ', 'ᅮ', 'ᄆ', 'ᅳ', 'ᆯ', 'ᄀ', 'ᅧ', 'ᄁ', 'ᅥ', 'ᄊ', 'ᅥ', 'ᄋ', 'ᅭ']\n",
            "duration: [13  6  5  3  3  6  5  6  7  7  6  4 15 24 18 13  8  4  4  3  6  6  6  5\n",
            "  2  3  3  5  3  4  7  8  5 12 14 21 12]\n",
            "start : 0.38\n",
            ",end : 3.65\n",
            "\n"
          ]
        },
        {
          "output_type": "stream",
          "name": "stderr",
          "text": [
            "<ipython-input-25-396638cc7985>:75: WavFileWarning: Chunk (non-data) not understood, skipping it.\n",
            "  _, wav = read(wav_path)\n"
          ]
        },
        {
          "output_type": "stream",
          "name": "stdout",
          "text": [
            "phone : ['ᄌ', 'ᅥ', 'ᄒ', 'ᅵ', 'ᄇ', 'ᅮ', 'ᄇ', 'ᅮ', 'ᄂ', 'ᅳ', 'ᆫ', 'ᄀ', 'ᅧ', 'ᆯ', 'ᄒ', 'ᅩ', 'ᆫ', 'ᄒ', 'ᅡ', 'ᆫ', 'ᄌ', 'ᅵ', 'ᄏ', 'ᅮ', 'ᄋ', 'ᅦ', 'sp', 'ᄒ', 'ᅡ', 'ᆫ', 'ᄎ', 'ᅡ', 'ᄅ', 'ᅨ', 'ᄋ', 'ᅱ', 'ᄀ', 'ᅵ', 'ᄅ', 'ᅳ', 'ᆯ', 'ᄀ', 'ᅧ', 'ᄁ', 'ᅥ', 'ᆮ', 'ᄊ', 'ᅳ', 'ᆷ', 'ᄂ', 'ᅵ', 'ᄃ', 'ᅡ']\n",
            "duration: [14  5  8  5  4  7  7  6  7  5 10  5  7  4  4  3  3  5  5  6  9  4 14  4\n",
            "  2 25 21 19  4  7  8  6  4  5 12 10  7  6  2  6  4  6  7  8  5  3  8  3\n",
            "  6  4  8 13 15]\n",
            "start : 0.54\n",
            ",end : 5.01\n",
            "\n"
          ]
        },
        {
          "output_type": "stream",
          "name": "stderr",
          "text": [
            "<ipython-input-25-396638cc7985>:75: WavFileWarning: Chunk (non-data) not understood, skipping it.\n",
            "  _, wav = read(wav_path)\n"
          ]
        },
        {
          "output_type": "stream",
          "name": "stdout",
          "text": [
            "phone : ['ᄀ', 'ᅳ', 'ᄋ', 'ᅪ', 'ᄀ', 'ᅧ', 'ᆯ', 'ᄒ', 'ᅩ', 'ᆫ', 'ᄒ', 'ᅡ', 'ᄀ', 'ᅵ', 'ᄅ', 'ᅩ', 'ᄆ', 'ᅡ', 'ᄋ', 'ᅳ', 'ᆷ', 'ᄆ', 'ᅥ', 'ᄀ', 'ᅥ', 'ᆮ', 'ᄄ', 'ᅡ']\n",
            "duration: [18  5  7 10  7  8  2  5  4  3  5  5  8  6  5 14 10  4  9  2  6  4  5  7\n",
            "  4 17  9 16]\n",
            "start : 0.21\n",
            ",end : 2.59\n",
            "\n"
          ]
        },
        {
          "output_type": "stream",
          "name": "stderr",
          "text": [
            "<ipython-input-25-396638cc7985>:75: WavFileWarning: Chunk (non-data) not understood, skipping it.\n",
            "  _, wav = read(wav_path)\n"
          ]
        },
        {
          "output_type": "stream",
          "name": "stdout",
          "text": [
            "phone : ['ᄌ', 'ᅥ', 'ᄒ', 'ᅵ', 'ᄆ', 'ᅡ', 'ᆨ', 'ᄀ', 'ᅧ', 'ᆯ', 'ᄒ', 'ᅩ', 'ᆫ', 'ᄒ', 'ᅢ', 'ᄊ', 'ᅥ', 'ᄋ', 'ᅭ']\n",
            "duration: [17 10  6  8  9  7  5  5  8  3  4  3  3  3  6 10 16 24  8]\n",
            "start : 0.53\n",
            ",end : 2.33\n",
            "\n"
          ]
        },
        {
          "output_type": "stream",
          "name": "stderr",
          "text": [
            "<ipython-input-25-396638cc7985>:75: WavFileWarning: Chunk (non-data) not understood, skipping it.\n",
            "  _, wav = read(wav_path)\n"
          ]
        },
        {
          "output_type": "stream",
          "name": "stdout",
          "text": [
            "phone : ['ᄋ', 'ᅡ', 'ᄆ', 'ᅮ', 'ᄀ', 'ᅥ', 'ᆮ', 'ᄄ', 'ᅩ', 'sp', 'ᄀ', 'ᅧ', 'ᆯ', 'ᄌ', 'ᅥ', 'ᆼ', 'ᄃ', 'ᅬ', 'ᆫ', 'ᄀ', 'ᅥ', 'ᆫ', 'ᄋ', 'ᅥ', 'ᆸ', 'ᄊ', 'ᅥ', 'ᄋ', 'ᅭ']\n",
            "duration: [50  9  8  4  5  7 12  4 18  2  6  5  6  6  5  7  3  6  4  6  5  2  6  3\n",
            "  5 10 16 16  6]\n",
            "start : 0.0\n",
            ",end : 2.81\n",
            "\n"
          ]
        },
        {
          "output_type": "stream",
          "name": "stderr",
          "text": [
            "<ipython-input-25-396638cc7985>:75: WavFileWarning: Chunk (non-data) not understood, skipping it.\n",
            "  _, wav = read(wav_path)\n"
          ]
        },
        {
          "output_type": "stream",
          "name": "stdout",
          "text": [
            "phone : ['ᄒ', 'ᅡ', 'ᆨ', 'ᄁ', 'ᅭ', 'ᄋ', 'ᅵ', 'ᄉ', 'ᅡ', 'ᄒ', 'ᅬ', 'ᄋ', 'ᅦ', 'ᄉ', 'ᅥ', 'sp', 'ᄀ', 'ᅳ', 'ᄅ', 'ᅳ', 'ᆯ', 'ᄒ', 'ᅢ', 'ᄀ', 'ᅩ', 'ᄒ', 'ᅡ', 'ᄀ', 'ᅵ', 'ᄅ', 'ᅩ', 'ᄀ', 'ᅧ', 'ᆯ', 'ᄌ', 'ᅥ', 'ᆼ', 'ᄃ', 'ᅫ', 'ᆮ', 'ᄄ', 'ᅡ']\n",
            "duration: [43  5  6  4  7  8  6  7  5  7  6  2  8 10 20 19 14  8  2  4  6  6  5  5\n",
            "  6  4  5  7  5  5  7  6  7  4  8  4  7  5  6 14 12 10]\n",
            "start : 0.16\n",
            ",end : 4.05\n",
            "\n"
          ]
        },
        {
          "output_type": "stream",
          "name": "stderr",
          "text": [
            "<ipython-input-25-396638cc7985>:75: WavFileWarning: Chunk (non-data) not understood, skipping it.\n",
            "  _, wav = read(wav_path)\n"
          ]
        },
        {
          "output_type": "stream",
          "name": "stdout",
          "text": [
            "phone : ['ᄋ', 'ᅥ', 'ᄃ', 'ᅵ', 'ᄅ', 'ᅩ', 'ᄑ', 'ᅵ', 'ᄉ', 'ᅥ', 'ᄅ', 'ᅳ', 'ᆯ', 'ᄀ', 'ᅡ', 'ᆯ', 'sp', 'ᄌ', 'ᅵ', 'sp', 'ᄋ', 'ᅡ', 'ᄌ', 'ᅵ', 'ᆨ', 'ᄀ', 'ᅧ', 'ᆯ', 'ᄌ', 'ᅥ', 'ᆼ', 'ᄒ', 'ᅡ', 'ᄌ', 'ᅵ', 'ᄆ', 'ᅩ', 'ᄐ', 'ᅢ', 'ᄊ', 'ᅥ', 'ᄋ', 'ᅭ']\n",
            "duration: [31  9  5  4  4  6  9  6  6  6  3  5  5  6  6  9  3 13 16  4 18  9  7  4\n",
            "  4  5  5  5  7  5  3  4  4  6  5  5  8 10  5 12 18 21  8]\n",
            "start : 0.0\n",
            ",end : 3.88\n",
            "\n"
          ]
        },
        {
          "output_type": "stream",
          "name": "stderr",
          "text": [
            "<ipython-input-25-396638cc7985>:75: WavFileWarning: Chunk (non-data) not understood, skipping it.\n",
            "  _, wav = read(wav_path)\n"
          ]
        },
        {
          "output_type": "stream",
          "name": "stdout",
          "text": [
            "phone : ['ᄉ', 'ᅵ', 'ᆷ', 'ᄉ', 'ᅡ', 'ᄋ', 'ᅱ', 'ᄋ', 'ᅯ', 'ᆫ', 'ᄃ', 'ᅳ', 'ᄅ', 'ᅵ', 'ᄀ', 'ᅳ', 'ᄅ', 'ᅳ', 'ᆯ', 'ᄋ', 'ᅮ', 'ᄉ', 'ᅳ', 'ᆼ', 'ᄌ', 'ᅡ', 'ᄅ', 'ᅩ', 'ᄀ', 'ᅧ', 'ᆯ', 'ᄌ', 'ᅥ', 'ᆼ', 'ᄒ', 'ᅢ', 'ᄊ', 'ᅥ', 'ᄋ', 'ᅭ']\n",
            "duration: [ 9  5  5  6  5  6  8  5  3  8  4  3  6 12  9  6  4  4  9  6 10  6  5  8\n",
            "  6  6  4  5  6  6  6  7  4  4  4  5 12 17 15  3]\n",
            "start : 0.52\n",
            ",end : 3.56\n",
            "\n"
          ]
        },
        {
          "output_type": "stream",
          "name": "stderr",
          "text": [
            "<ipython-input-25-396638cc7985>:75: WavFileWarning: Chunk (non-data) not understood, skipping it.\n",
            "  _, wav = read(wav_path)\n"
          ]
        },
        {
          "output_type": "stream",
          "name": "stdout",
          "text": [
            "phone : ['ᄋ', 'ᅵ', 'ᄒ', 'ᅩ', 'ᄂ', 'ᅳ', 'ᆯ', 'sp', 'ᄀ', 'ᅧ', 'ᆯ', 'ᄉ', 'ᅵ', 'ᆷ', 'ᄒ', 'ᅢ', 'ᆮ', 'ᄄ', 'ᅡ']\n",
            "duration: [45 12  4  7  5  2 18  2  9  3  7  9  5  3  4  6 15  7 17]\n",
            "start : 0.0\n",
            ",end : 2.09\n",
            "\n"
          ]
        },
        {
          "output_type": "stream",
          "name": "stderr",
          "text": [
            "<ipython-input-25-396638cc7985>:75: WavFileWarning: Chunk (non-data) not understood, skipping it.\n",
            "  _, wav = read(wav_path)\n"
          ]
        },
        {
          "output_type": "stream",
          "name": "stdout",
          "text": [
            "phone : ['ᄌ', 'ᅩ', 'ᆷ', 'ᄃ', 'ᅥ', 'ᄃ', 'ᅡ', 'ᄋ', 'ᅵ', 'ᄋ', 'ᅥ', 'ᄐ', 'ᅳ', 'ᄅ', 'ᅳ', 'ᆯ', 'ᄋ', 'ᅥ', 'ᆷ', 'ᄀ', 'ᅧ', 'ᄏ', 'ᅡ', 'ᄀ', 'ᅦ', 'ᄒ', 'ᅡ', 'ᄀ', 'ᅵ', 'ᄅ', 'ᅩ', 'sp', 'ᄀ', 'ᅧ', 'ᆯ', 'ᄉ', 'ᅵ', 'ᆷ', 'ᄒ', 'ᅢ', 'ᄊ', 'ᅥ', 'ᄋ', 'ᅭ']\n",
            "duration: [12  6  9  5 10  8  6  5  4  6  6 11  5  3  3  7  4 11  8  7  7  7  6  7\n",
            "  7  3  4  8  4  5 15  3  7  5  6  9  4  3  4  5 12 18 11  4]\n",
            "start : 0.35\n",
            ",end : 3.84\n",
            "\n"
          ]
        },
        {
          "output_type": "stream",
          "name": "stderr",
          "text": [
            "<ipython-input-25-396638cc7985>:75: WavFileWarning: Chunk (non-data) not understood, skipping it.\n",
            "  _, wav = read(wav_path)\n"
          ]
        },
        {
          "output_type": "stream",
          "name": "stdout",
          "text": [
            "phone : ['ᄋ', 'ᅵ', 'ᄆ', 'ᅵ', 'ᆫ', 'ᄌ', 'ᅡ', 'ᄃ', 'ᅳ', 'ᄅ', 'ᅳ', 'ᆫ', 'sp', 'ᄋ', 'ᅲ', 'ᆨ', 'ᄎ', 'ᅦ', 'ᄌ', 'ᅥ', 'ᆨ', 'ᄌ', 'ᅥ', 'ᆼ', 'ᄉ', 'ᅵ', 'ᆫ', 'ᄌ', 'ᅥ', 'ᆨ', 'ᄀ', 'ᅩ', 'ᄐ', 'ᅩ', 'ᆼ', 'ᄋ', 'ᅳ', 'ᆯ', 'ᄀ', 'ᅧ', 'ᆫ', 'ᄃ', 'ᅧ', 'ᄋ', 'ᅪ', 'ᆮ', 'ᄄ', 'ᅡ']\n",
            "duration: [37  7  6  8  4  6  8  5  5  5  9 17  6 16 10  6  6  9  7 11  7  8  6  4\n",
            "  8  3  6  5  5  5  4  9 11  4  4  4  7  4  8  7  7  4  6  3  8 15 10 14]\n",
            "start : 0.0\n",
            ",end : 4.35\n",
            "\n"
          ]
        },
        {
          "output_type": "stream",
          "name": "stderr",
          "text": [
            "<ipython-input-25-396638cc7985>:75: WavFileWarning: Chunk (non-data) not understood, skipping it.\n",
            "  _, wav = read(wav_path)\n"
          ]
        },
        {
          "output_type": "stream",
          "name": "stdout",
          "text": [
            "phone : ['ᄃ', 'ᅥ', 'ᄋ', 'ᅵ', 'ᄉ', 'ᅡ', 'ᆼ', 'ᄆ', 'ᅩ', 'ᆮ', 'ᄀ', 'ᅧ', 'ᆫ', 'ᄃ', 'ᅵ', 'ᄀ', 'ᅦ', 'ᄊ', 'ᅥ']\n",
            "duration: [11  8  3  4  7  4  6  6  6  6  4  6  6  3  6  4  7 19 26]\n",
            "start : 0.66\n",
            ",end : 2.3\n",
            "\n"
          ]
        },
        {
          "output_type": "stream",
          "name": "stderr",
          "text": [
            "<ipython-input-25-396638cc7985>:75: WavFileWarning: Chunk (non-data) not understood, skipping it.\n",
            "  _, wav = read(wav_path)\n"
          ]
        },
        {
          "output_type": "stream",
          "name": "stdout",
          "text": [
            "phone : ['ᄌ', 'ᅥ', 'ᄂ', 'ᅳ', 'ᆫ', 'ᄒ', 'ᅡ', 'ᆫ', 'ᄀ', 'ᅮ', 'ᄀ', 'ᅦ', 'ᄋ', 'ᅩ', 'ᄌ', 'ᅡ', 'ᄆ', 'ᅡ', 'ᄌ', 'ᅡ', 'sp', 'ᄆ', 'ᅮ', 'ᆫ', 'ᄒ', 'ᅪ', 'ᄌ', 'ᅥ', 'ᆨ', 'ᄎ', 'ᅮ', 'ᆼ', 'ᄀ', 'ᅧ', 'ᄀ', 'ᅳ', 'ᆯ', 'ᄀ', 'ᅧ', 'ᆼ', 'ᄒ', 'ᅥ', 'ᆷ', 'ᄒ', 'ᅢ', 'ᄊ', 'ᅥ', 'ᄋ', 'ᅭ']\n",
            "duration: [15  8  6  2  5  7  4  7  4  5  4  5  7  7  8  8  7 10 11 15 16 15  5  3\n",
            "  4  6  4  6  5  9  5  4  5  5  4  4  2  6  7  4  5  3  4  4  6 13 14 18\n",
            "  6]\n",
            "start : 0.38\n",
            ",end : 4.29\n",
            "\n"
          ]
        },
        {
          "output_type": "stream",
          "name": "stderr",
          "text": [
            "<ipython-input-25-396638cc7985>:75: WavFileWarning: Chunk (non-data) not understood, skipping it.\n",
            "  _, wav = read(wav_path)\n"
          ]
        },
        {
          "output_type": "stream",
          "name": "stdout",
          "text": [
            "phone : ['ᄀ', 'ᅳ', 'ᄂ', 'ᅳ', 'ᆫ', 'ᄒ', 'ᅡ', 'ᆫ', 'ᄀ', 'ᅮ', 'ᄀ', 'ᅴ', 'ᄋ', 'ᅧ', 'ᄅ', 'ᅥ', 'ᄃ', 'ᅡ', 'ᄅ', 'ᅳ', 'ᆫ', 'ᄉ', 'ᅢ', 'ᆼ', 'ᄒ', 'ᅪ', 'ᆯ', 'ᄇ', 'ᅡ', 'ᆼ', 'ᄉ', 'ᅵ', 'ᄀ', 'ᅳ', 'ᆯ', 'sp', 'ᄀ', 'ᅧ', 'ᆼ', 'ᄒ', 'ᅥ', 'ᆷ', 'ᄒ', 'ᅡ', 'ᆯ', 'ᄉ', 'ᅮ', 'ᄋ', 'ᅵ', 'ᄊ', 'ᅥ', 'ᆮ', 'ᄄ', 'ᅡ']\n",
            "duration: [12  7  5  3  6  8  4  6  4  5  4  8  4 10  6  7  7  7  4  3  7  6  5  3\n",
            "  3  6  3  6  4  8  9  4  6  3 14 15 11  6  5  4  3  4  4  3  6  9  4  5\n",
            "  3 10  7 16 11 11]\n",
            "start : 0.34\n",
            ",end : 4.34\n",
            "\n"
          ]
        },
        {
          "output_type": "stream",
          "name": "stderr",
          "text": [
            "<ipython-input-25-396638cc7985>:75: WavFileWarning: Chunk (non-data) not understood, skipping it.\n",
            "  _, wav = read(wav_path)\n"
          ]
        },
        {
          "output_type": "stream",
          "name": "stdout",
          "text": [
            "phone : ['ᄌ', 'ᅦ', 'ᄀ', 'ᅡ', 'ᄌ', 'ᅡ', 'ᆯ', 'ᄆ', 'ᅩ', 'ᆮ', 'ᄀ', 'ᅨ', 'ᄉ', 'ᅡ', 'ᆫ', 'ᄒ', 'ᅢ', 'ᆫ', 'ᄂ', 'ᅡ', 'ᄇ', 'ᅪ', 'ᄋ', 'ᅭ']\n",
            "duration: [16  6  6  9  8  9  2  6  7  3  4  6  7  4  4  3  3  6  4  7  9 15 28  4]\n",
            "start : 0.5\n",
            ",end : 2.55\n",
            "\n"
          ]
        },
        {
          "output_type": "stream",
          "name": "stderr",
          "text": [
            "<ipython-input-25-396638cc7985>:75: WavFileWarning: Chunk (non-data) not understood, skipping it.\n",
            "  _, wav = read(wav_path)\n"
          ]
        },
        {
          "output_type": "stream",
          "name": "stdout",
          "text": [
            "phone : ['ᄏ', 'ᅡ', 'ᄃ', 'ᅳ', 'ᄅ', 'ᅩ', 'ᄀ', 'ᅨ', 'ᄉ', 'ᅡ', 'ᆫ', 'ᄒ', 'ᅡ', 'ᄀ', 'ᅦ', 'ᆮ', 'ᄊ', 'ᅳ', 'ᆷ', 'ᄂ', 'ᅵ', 'ᄃ', 'ᅡ']\n",
            "duration: [ 6  9  5  3  4  7  5  6  7  4  4  3  5  4  6  3  8  3  6  3  6 11 23]\n",
            "start : 0.43\n",
            ",end : 2.07\n",
            "\n"
          ]
        },
        {
          "output_type": "stream",
          "name": "stderr",
          "text": [
            "<ipython-input-25-396638cc7985>:75: WavFileWarning: Chunk (non-data) not understood, skipping it.\n",
            "  _, wav = read(wav_path)\n"
          ]
        },
        {
          "output_type": "stream",
          "name": "stdout",
          "text": [
            "phone : ['ᄌ', 'ᅵ', 'ᄀ', 'ᅳ', 'ᆷ', 'ᄋ', 'ᅧ', 'ᄀ', 'ᅵ', 'ᄋ', 'ᅦ', 'ᄋ', 'ᅡ', 'ᆫ', 'ᄀ', 'ᅨ', 'ᄉ', 'ᅦ', 'ᄋ', 'ᅭ']\n",
            "duration: [11  5  4  6  8  5 10  7  5  4  3  8  5  6  5  9  8 15 14 11]\n",
            "start : 0.63\n",
            ",end : 2.36\n",
            "\n"
          ]
        },
        {
          "output_type": "stream",
          "name": "stderr",
          "text": [
            "<ipython-input-25-396638cc7985>:75: WavFileWarning: Chunk (non-data) not understood, skipping it.\n",
            "  _, wav = read(wav_path)\n"
          ]
        },
        {
          "output_type": "stream",
          "name": "stdout",
          "text": [
            "phone : ['ᄉ', 'ᅡ', 'ᄌ', 'ᅡ', 'ᆼ', 'ᄂ', 'ᅵ', 'ᄆ', 'ᅵ', 'ᄀ', 'ᅵ', 'ᄃ', 'ᅡ', 'ᄅ', 'ᅵ', 'ᄀ', 'ᅩ', 'ᄀ', 'ᅨ', 'ᄉ', 'ᅵ', 'ᆷ', 'ᄂ', 'ᅵ', 'ᄃ', 'ᅡ']\n",
            "duration: [11  5  6  7  5  4  8  5  8  7  5  5  7  4  4  5  6  5  5  8  5  5  4  7\n",
            " 10 20]\n",
            "start : 0.39\n",
            ",end : 2.38\n",
            "\n"
          ]
        },
        {
          "output_type": "stream",
          "name": "stderr",
          "text": [
            "<ipython-input-25-396638cc7985>:75: WavFileWarning: Chunk (non-data) not understood, skipping it.\n",
            "  _, wav = read(wav_path)\n"
          ]
        },
        {
          "output_type": "stream",
          "name": "stdout",
          "text": [
            "Done 400\n",
            "phone : ['ᄋ', 'ᅥ', 'ᆷ', 'ᄆ', 'ᅡ', 'ᄂ', 'ᅳ', 'ᆫ', 'ᄇ', 'ᅧ', 'ᆼ', 'ᄋ', 'ᅯ', 'ᄂ', 'ᅦ', 'ᄂ', 'ᅮ', 'ᄋ', 'ᅯ', 'ᄀ', 'ᅨ', 'ᄉ', 'ᅦ', 'ᄋ', 'ᅭ']\n",
            "duration: [55  8  7  5  7  5  4  8  6 10  3  6  5  3  8  5  4  8  4  5  9 10 16 21\n",
            "  5]\n",
            "start : 0.0\n",
            ",end : 2.64\n",
            "\n"
          ]
        },
        {
          "output_type": "stream",
          "name": "stderr",
          "text": [
            "<ipython-input-25-396638cc7985>:75: WavFileWarning: Chunk (non-data) not understood, skipping it.\n",
            "  _, wav = read(wav_path)\n"
          ]
        },
        {
          "output_type": "stream",
          "name": "stdout",
          "text": [
            "phone : ['ᄋ', 'ᅮ', 'ᄅ', 'ᅵ', 'ᄂ', 'ᅳ', 'ᆫ', 'ᄇ', 'ᅡ', 'ᆷ', 'ᄉ', 'ᅢ', 'ᄃ', 'ᅩ', 'ᄅ', 'ᅩ', 'ᆨ', 'sp', 'ᄋ', 'ᅤ', 'ᄀ', 'ᅵ', 'ᄅ', 'ᅳ', 'ᆯ', 'ᄀ', 'ᅨ', 'ᄉ', 'ᅩ', 'ᄏ', 'ᅢ', 'ᆮ', 'ᄊ', 'ᅳ', 'ᆷ', 'ᄂ', 'ᅵ', 'ᄃ', 'ᅡ']\n",
            "duration: [47  7  5  5  4  5  9  5 12  5  7  9  5  6  5 13  6 18  9 12  8  5  4  6\n",
            "  4  8  8  6  5  8  4  3  7  4  8  4  5 11 16]\n",
            "start : 0.0\n",
            ",end : 3.7\n",
            "\n"
          ]
        },
        {
          "output_type": "stream",
          "name": "stderr",
          "text": [
            "<ipython-input-25-396638cc7985>:75: WavFileWarning: Chunk (non-data) not understood, skipping it.\n",
            "  _, wav = read(wav_path)\n"
          ]
        },
        {
          "output_type": "stream",
          "name": "stdout",
          "text": [
            "phone : ['ᄀ', 'ᅳ', 'ᄂ', 'ᅳ', 'ᆫ', 'ᄀ', 'ᅨ', 'ᄉ', 'ᅩ', 'ᄏ', 'ᅢ', 'ᄉ', 'ᅥ', 'sp', 'ᄉ', 'ᅢ', 'ᄅ', 'ᅩ', 'ᄋ', 'ᅮ', 'ᆫ', 'ᄇ', 'ᅧ', 'ᆫ', 'ᄆ', 'ᅧ', 'ᆼ', 'ᄀ', 'ᅥ', 'ᄅ', 'ᅵ', 'ᄅ', 'ᅳ', 'ᆯ', 'sp', 'ᄆ', 'ᅡ', 'ᆫ', 'ᄃ', 'ᅳ', 'ᄅ', 'ᅥ', 'ᄂ', 'ᅢ', 'ᆮ', 'ᄄ', 'ᅡ']\n",
            "duration: [20  7  6  4  9  4 10  5  7 12  6  9 24 18 13  6  5  6  3  3  5  5  7  5\n",
            "  4  9  5  7  4  5  6  4  8  7  3  5  8  7  3  4  5  7  6  4 15  8 14]\n",
            "start : 0.47\n",
            ",end : 4.5\n",
            "\n"
          ]
        },
        {
          "output_type": "stream",
          "name": "stderr",
          "text": [
            "<ipython-input-25-396638cc7985>:75: WavFileWarning: Chunk (non-data) not understood, skipping it.\n",
            "  _, wav = read(wav_path)\n"
          ]
        },
        {
          "output_type": "stream",
          "name": "stdout",
          "text": [
            "phone : ['ᄋ', 'ᅵ', 'ᄅ', 'ᅥ', 'ᄏ', 'ᅦ', 'ᄆ', 'ᅮ', 'ᄃ', 'ᅥ', 'ᄋ', 'ᅮ', 'ᆫ', 'ᄂ', 'ᅡ', 'ᆯ', 'ᄊ', 'ᅵ', 'ᄀ', 'ᅡ', 'sp', 'ᄋ', 'ᅩ', 'ᄅ', 'ᅢ', 'ᄀ', 'ᅨ', 'ᄉ', 'ᅩ', 'ᆨ', 'ᄄ', 'ᅬ', 'ᄌ', 'ᅵ', 'ᄂ', 'ᅳ', 'ᆫ', 'ᄋ', 'ᅡ', 'ᄂ', 'ᅳ', 'ᆯ', 'ᄀ', 'ᅥ', 'ᄋ', 'ᅨ', 'ᄋ', 'ᅭ']\n",
            "duration: [57  5  6  6  8  7  6  8  4  4  6  2  5  6  5  4 10  6  8 24  6 18 10  4\n",
            "  8  8  4  4  5  4  6  5  5  5  5  4  4  8 10  4  7  3  9 11  4 12 20 11]\n",
            "start : 0.0\n",
            ",end : 4.54\n",
            "\n"
          ]
        },
        {
          "output_type": "stream",
          "name": "stderr",
          "text": [
            "<ipython-input-25-396638cc7985>:75: WavFileWarning: Chunk (non-data) not understood, skipping it.\n",
            "  _, wav = read(wav_path)\n"
          ]
        },
        {
          "output_type": "stream",
          "name": "stdout",
          "text": [
            "phone : ['ᄒ', 'ᅬ', 'ᄋ', 'ᅴ', 'ᄀ', 'ᅡ', 'ᄇ', 'ᅡ', 'ᆷ', 'ᄂ', 'ᅳ', 'ᆮ', 'ᄄ', 'ᅩ', 'ᄅ', 'ᅩ', 'ᆨ', 'sp', 'ᄀ', 'ᅨ', 'ᄉ', 'ᅩ', 'ᆨ', 'ᄄ', 'ᅫ', 'ᆮ', 'ᄄ', 'ᅡ']\n",
            "duration: [ 7  3  9  3  6 10  7  8  7  2  6  8  4  9  4 11  5  6  7  7  6  5  6  6\n",
            "  7 18  9 14]\n",
            "start : 0.68\n",
            ",end : 3.0\n",
            "\n"
          ]
        },
        {
          "output_type": "stream",
          "name": "stderr",
          "text": [
            "<ipython-input-25-396638cc7985>:75: WavFileWarning: Chunk (non-data) not understood, skipping it.\n",
            "  _, wav = read(wav_path)\n"
          ]
        },
        {
          "output_type": "stream",
          "name": "stdout",
          "text": [
            "phone : ['ᄌ', 'ᅵ', 'ᄀ', 'ᅳ', 'ᆷ', 'ᄃ', 'ᅡ', 'ᆼ', 'ᄌ', 'ᅡ', 'ᆼ', 'ᄋ', 'ᅳ', 'ᆫ', 'ᄒ', 'ᅡ', 'ᆯ', 'ᄋ', 'ᅵ', 'ᄅ', 'ᅵ', 'ᄋ', 'ᅥ', 'ᆸ', 'ᄊ', 'ᅥ', 'ᄋ', 'ᅭ']\n",
            "duration: [15  5  3  6  7  6  6  7  6  5  4  2  3  6  3  7  4  2  4  3  4  6  3  4\n",
            " 12 13 20  6]\n",
            "start : 0.26\n",
            ",end : 2.26\n",
            "\n"
          ]
        },
        {
          "output_type": "stream",
          "name": "stderr",
          "text": [
            "<ipython-input-25-396638cc7985>:75: WavFileWarning: Chunk (non-data) not understood, skipping it.\n",
            "  _, wav = read(wav_path)\n"
          ]
        },
        {
          "output_type": "stream",
          "name": "stdout",
          "text": [
            "phone : ['ᄉ', 'ᅮ', 'ᆨ', 'ᄍ', 'ᅦ', 'ᄂ', 'ᅳ', 'ᆫ', 'ᄋ', 'ᅥ', 'ᆫ', 'ᄌ', 'ᅦ', 'ᄒ', 'ᅡ', 'ᆯ', 'ᄀ', 'ᅥ', 'ᄂ', 'ᅵ']\n",
            "duration: [ 8  5  5  8  6  4  5  3  6  7  6  6  6  2  5  4 10  8  8 16]\n",
            "start : 0.42\n",
            ",end : 1.91\n",
            "\n"
          ]
        },
        {
          "output_type": "stream",
          "name": "stderr",
          "text": [
            "<ipython-input-25-396638cc7985>:75: WavFileWarning: Chunk (non-data) not understood, skipping it.\n",
            "  _, wav = read(wav_path)\n"
          ]
        },
        {
          "output_type": "stream",
          "name": "stdout",
          "text": [
            "phone : ['ᄋ', 'ᅵ', 'ᄆ', 'ᅮ', 'ᆫ', 'ᄌ', 'ᅦ', 'ᄅ', 'ᅳ', 'ᆯ', 'ᄒ', 'ᅢ', 'ᄀ', 'ᅧ', 'ᆯ', 'ᄒ', 'ᅡ', 'ᄀ', 'ᅵ', 'ᄌ', 'ᅥ', 'ᄂ', 'ᅦ', 'ᄂ', 'ᅳ', 'ᆫ', 'sp', 'ᄌ', 'ᅵ', 'ᄇ', 'ᅦ', 'ᄆ', 'ᅩ', 'ᆮ', 'ᄀ', 'ᅡ']\n",
            "duration: [42 10  6  8  7  5  7  3  5  3  6  4  6  5  3  5  4  5  5  6  5  6  6  5\n",
            " 10 10 18 16  6  5  6  4  9 16  5 21]\n",
            "start : 0.0\n",
            ",end : 3.41\n",
            "\n"
          ]
        },
        {
          "output_type": "stream",
          "name": "stderr",
          "text": [
            "<ipython-input-25-396638cc7985>:75: WavFileWarning: Chunk (non-data) not understood, skipping it.\n",
            "  _, wav = read(wav_path)\n"
          ]
        },
        {
          "output_type": "stream",
          "name": "stdout",
          "text": [
            "phone : ['ᄌ', 'ᅵ', 'ᆨ', 'ᄍ', 'ᅡ', 'ᆼ', 'ᄉ', 'ᅡ', 'ᆼ', 'ᄉ', 'ᅡ', 'ᄋ', 'ᅪ', 'ᄋ', 'ᅴ', 'ᄀ', 'ᅡ', 'ᆯ', 'ᄃ', 'ᅳ', 'ᆼ', 'ᄋ', 'ᅳ', 'ᆫ', 'sp', 'ᄋ', 'ᅥ', 'ᄄ', 'ᅥ', 'ᄏ', 'ᅦ', 'ᄒ', 'ᅢ', 'ᄀ', 'ᅧ', 'ᆯ', 'ᄒ', 'ᅡ', 'ᄉ', 'ᅦ', 'ᄋ', 'ᅭ']\n",
            "duration: [15  3  4  8  5  6  5  6  5  7  2 10  4  5  4  7  7  6  7  6  5  5 13 11\n",
            "  4 22  7  7  8  8  3  3  3  6  5  2  6  4  8 12 18  4]\n",
            "start : 0.39\n",
            ",end : 3.71\n",
            "\n"
          ]
        }
      ]
    },
    {
      "cell_type": "markdown",
      "source": [
        "#loss.py\n"
      ],
      "metadata": {
        "id": "BnjQYPP9Onm1"
      }
    },
    {
      "cell_type": "code",
      "source": [
        "\n",
        "class FastSpeech2Loss(nn.Module): #로스값 계산\n",
        "    \"\"\" FastSpeech2 Loss \"\"\"\n",
        "\n",
        "    def __init__(self):\n",
        "        super(FastSpeech2Loss, self).__init__()\n",
        "        self.mse_loss = nn.MSELoss()\n",
        "        self.mae_loss = nn.L1Loss()\n",
        "\n",
        "    def forward(self, log_d_predicted, log_d_target, p_predicted, p_target, e_predicted, e_target, mel, mel_postnet, mel_target, src_mask, mel_mask):\n",
        "        log_d_target.requires_grad = False\n",
        "        p_target.requires_grad = False\n",
        "        e_target.requires_grad = False\n",
        "        mel_target.requires_grad = False\n",
        "\n",
        "        log_d_predicted = log_d_predicted.masked_select(src_mask)\n",
        "        log_d_target = log_d_target.masked_select(src_mask)\n",
        "        p_predicted = p_predicted.masked_select(src_mask)\n",
        "        p_target = p_target.masked_select(src_mask)\n",
        "        e_predicted = e_predicted.masked_select(src_mask)\n",
        "        e_target = e_target.masked_select(src_mask)\n",
        "\n",
        "        mel = mel.masked_select(mel_mask.unsqueeze(-1))\n",
        "        mel_postnet = mel_postnet.masked_select(mel_mask.unsqueeze(-1))\n",
        "        mel_target = mel_target.masked_select(mel_mask.unsqueeze(-1))\n",
        "\n",
        "        mel_loss = self.mse_loss(mel, mel_target)\n",
        "        mel_postnet_loss = self.mse_loss(mel_postnet, mel_target)\n",
        "\n",
        "        d_loss = self.mae_loss(log_d_predicted, log_d_target)\n",
        "        p_loss = self.mae_loss(p_predicted, p_target)\n",
        "        e_loss = self.mae_loss(e_predicted, e_target)\n",
        "\n",
        "        return mel_loss, mel_postnet_loss, d_loss, p_loss, e_loss"
      ],
      "metadata": {
        "id": "_AssZbT4Ooqd"
      },
      "execution_count": null,
      "outputs": []
    },
    {
      "cell_type": "markdown",
      "source": [
        "#modules.py"
      ],
      "metadata": {
        "id": "kgtfuaUgOwmM"
      }
    },
    {
      "cell_type": "code",
      "source": [
        "device = torch.device('cuda' if torch.cuda.is_available() else 'cpu')\n",
        "\n",
        "def clones(module, N):\n",
        "    return nn.ModuleList([copy.deepcopy(module) for _ in range(N)])\n",
        "\n",
        "class VarianceAdaptor(nn.Module): #variance adatptor 모듈 선언\n",
        "    \"\"\" Variance Adaptor \"\"\"\n",
        "\n",
        "    def __init__(self):\n",
        "        super(VarianceAdaptor, self).__init__()\n",
        "        self.duration_predictor = VariancePredictor()\n",
        "        self.length_regulator = LengthRegulator()\n",
        "        self.pitch_predictor = VariancePredictor()\n",
        "        self.energy_predictor = VariancePredictor()\n",
        "\n",
        "        self.energy_embedding_producer = Conv(1, hp.encoder_hidden, kernel_size=9, bias=False, padding=4)\n",
        "        self.pitch_embedding_producer = Conv(1, hp.encoder_hidden, kernel_size=9, bias=False, padding=4)\n",
        "\n",
        "    def forward(self, x, src_mask, mel_mask=None, duration_target=None, pitch_target=None, energy_target=None, max_len=None):\n",
        "        log_duration_prediction = self.duration_predictor(x, src_mask)\n",
        "\n",
        "        pitch_prediction = self.pitch_predictor(x, src_mask)\n",
        "        if pitch_target is not None:\n",
        "            pitch_embedding = self.pitch_embedding_producer(pitch_target.unsqueeze(2))\n",
        "        else:\n",
        "            pitch_embedding = self.pitch_embedding_producer(pitch_prediction.unsqueeze(2))\n",
        "\n",
        "        energy_prediction = self.energy_predictor(x, src_mask)\n",
        "        if energy_target is not None:\n",
        "            energy_embedding = self.energy_embedding_producer(energy_target.unsqueeze(2))\n",
        "        else:\n",
        "            energy_embedding = self.energy_embedding_producer(energy_prediction.unsqueeze(2))\n",
        "\n",
        "        x = x + pitch_embedding + energy_embedding #피치 임베딩, 에너지 임베딩을 최종값에 더함\n",
        "\n",
        "        if duration_target is not None:\n",
        "            x, mel_len = self.length_regulator(x, duration_target, max_len)\n",
        "        else:\n",
        "            duration_rounded = torch.clamp(torch.round(torch.exp(log_duration_prediction)-hp.log_offset), min=0)\n",
        "            x, mel_len = self.length_regulator(x, duration_rounded, max_len)\n",
        "            mel_mask = get_mask_from_lengths(mel_len)\n",
        "\n",
        "        return x, log_duration_prediction, pitch_prediction, energy_prediction, mel_len, mel_mask\n",
        "\n",
        "\n",
        "class LengthRegulator(nn.Module): #길이 조정\n",
        "    \"\"\" Length Regulator \"\"\"\n",
        "\n",
        "    def __init__(self):\n",
        "        super(LengthRegulator, self).__init__()\n",
        "\n",
        "    def LR(self, x, duration, max_len):\n",
        "        output = list()\n",
        "        mel_len = list()\n",
        "        for batch, expand_target in zip(x, duration):\n",
        "            expanded = self.expand(batch, expand_target)\n",
        "            output.append(expanded)\n",
        "            mel_len.append(expanded.shape[0])\n",
        "\n",
        "        if max_len is not None:\n",
        "            output = pad(output, max_len)\n",
        "        else:\n",
        "            output = pad(output)\n",
        "\n",
        "        return output, torch.LongTensor(mel_len).to(device)\n",
        "\n",
        "    def expand(self, batch, predicted):\n",
        "        out = list()\n",
        "\n",
        "        for i, vec in enumerate(batch):\n",
        "            expand_size = predicted[i].item()\n",
        "            out.append(vec.expand(int(expand_size), -1))\n",
        "        out = torch.cat(out, 0)\n",
        "\n",
        "        return out\n",
        "\n",
        "    def forward(self, x, duration, max_len):\n",
        "        output, mel_len = self.LR(x, duration, max_len)\n",
        "        return output, mel_len\n",
        "\n",
        "\n",
        "class VariancePredictor(nn.Module): #길이, 피치, 에너지 추측\n",
        "    \"\"\" Duration, Pitch and Energy Predictor \"\"\"\n",
        "\n",
        "    def __init__(self):\n",
        "        super(VariancePredictor, self).__init__()\n",
        "\n",
        "        self.input_size = hp.encoder_hidden\n",
        "        self.filter_size = hp.variance_predictor_filter_size\n",
        "        self.kernel = hp.variance_predictor_kernel_size\n",
        "        self.conv_output_size = hp.variance_predictor_filter_size\n",
        "        self.dropout = hp.variance_predictor_dropout\n",
        "\n",
        "        self.conv_layer = nn.Sequential(OrderedDict([\n",
        "            (\"conv1d_1\", Conv(self.input_size,\n",
        "                              self.filter_size,\n",
        "                              kernel_size=self.kernel,\n",
        "                              padding=(self.kernel-1)//2)),\n",
        "            (\"relu_1\", nn.ReLU()),\n",
        "            (\"layer_norm_1\", nn.LayerNorm(self.filter_size)),\n",
        "            (\"dropout_1\", nn.Dropout(self.dropout)),\n",
        "            (\"conv1d_2\", Conv(self.filter_size,\n",
        "                              self.filter_size,\n",
        "                              kernel_size=self.kernel,\n",
        "                              padding=1)),\n",
        "            (\"relu_2\", nn.ReLU()),\n",
        "            (\"layer_norm_2\", nn.LayerNorm(self.filter_size)),\n",
        "            (\"dropout_2\", nn.Dropout(self.dropout))\n",
        "        ]))\n",
        "\n",
        "        self.linear_layer = nn.Linear(self.conv_output_size, 1)\n",
        "\n",
        "    def forward(self, encoder_output, mask):\n",
        "        out = self.conv_layer(encoder_output)\n",
        "        out = self.linear_layer(out)\n",
        "        out = out.squeeze(-1)\n",
        "\n",
        "        if mask is not None:\n",
        "            out = out.masked_fill(mask, 0.)\n",
        "\n",
        "        return out\n",
        "\n",
        "\n",
        "class Conv(nn.Module):\n",
        "    \"\"\"\n",
        "    Convolution Module\n",
        "    \"\"\"\n",
        "\n",
        "    def __init__(self,\n",
        "                 in_channels,\n",
        "                 out_channels,\n",
        "                 kernel_size=1,\n",
        "                 stride=1,\n",
        "                 padding=0,\n",
        "                 dilation=1,\n",
        "                 bias=True,\n",
        "                 w_init='linear'):\n",
        "        \"\"\"\n",
        "        :param in_channels: dimension of input\n",
        "        :param out_channels: dimension of output\n",
        "        :param kernel_size: size of kernel\n",
        "        :param stride: size of stride\n",
        "        :param padding: size of padding\n",
        "        :param dilation: dilation rate\n",
        "        :param bias: boolean. if True, bias is included.\n",
        "        :param w_init: str. weight inits with xavier initialization.\n",
        "        \"\"\"\n",
        "        super(Conv, self).__init__()\n",
        "\n",
        "        self.conv = nn.Conv1d(in_channels,\n",
        "                              out_channels,\n",
        "                              kernel_size=kernel_size,\n",
        "                              stride=stride,\n",
        "                              padding=padding,\n",
        "                              dilation=dilation,\n",
        "                              bias=bias)\n",
        "\n",
        "    def forward(self, x):\n",
        "        x = x.contiguous().transpose(1, 2)\n",
        "        x = self.conv(x)\n",
        "        x = x.contiguous().transpose(1, 2)\n",
        "\n",
        "        return x"
      ],
      "metadata": {
        "id": "kV0VlMWLOy39"
      },
      "execution_count": null,
      "outputs": []
    },
    {
      "cell_type": "markdown",
      "source": [
        "\n",
        "#optimizer.py"
      ],
      "metadata": {
        "id": "yAYwLYUhO3v1"
      }
    },
    {
      "cell_type": "code",
      "source": [
        "\n",
        "class ScheduledOptim(): #옵티마이저 생성\n",
        "    ''' A simple wrapper class for learning rate scheduling '''\n",
        "\n",
        "    def __init__(self, optimizer, d_model, n_warmup_steps, current_steps):\n",
        "        self._optimizer = optimizer\n",
        "        self.n_warmup_steps = n_warmup_steps\n",
        "        self.n_current_steps = current_steps\n",
        "        self.init_lr = np.power(d_model, -0.5)\n",
        "\n",
        "    def step_and_update_lr(self):\n",
        "        self._update_learning_rate()\n",
        "        self._optimizer.step()\n",
        "\n",
        "    def zero_grad(self):\n",
        "        # print(self.init_lr)\n",
        "        self._optimizer.zero_grad()\n",
        "\n",
        "    def _get_lr_scale(self):\n",
        "        return np.min([\n",
        "            np.power(self.n_current_steps, -0.5),\n",
        "            np.power(self.n_warmup_steps, -1.5) * self.n_current_steps])\n",
        "\n",
        "    def _update_learning_rate(self):\n",
        "        ''' Learning rate scheduling per step '''\n",
        "        self.n_current_steps += 1\n",
        "        lr = self.init_lr * self._get_lr_scale()\n",
        "\n",
        "        for param_group in self._optimizer.param_groups:\n",
        "            param_group['lr'] = lr"
      ],
      "metadata": {
        "id": "xYzvV9-HO5z_"
      },
      "execution_count": null,
      "outputs": []
    },
    {
      "cell_type": "markdown",
      "source": [
        "# 원본 vocgan 보코더"
      ],
      "metadata": {
        "id": "X6eE3dRlORvG"
      }
    },
    {
      "cell_type": "code",
      "source": [
        "\"\"\"\n",
        "\t[VocGAN] Generator\n",
        "\n",
        "\t\tthis source code is implemenation of the modified-VocGAN from rishikksh20\n",
        "\t\tgit repository: https://github.com/rishikksh20/VocGAN\n",
        "\"\"\"\n",
        "\n",
        "\n",
        "import torch\n",
        "import torch.nn as nn\n",
        "import torch.nn.functional as F\n",
        "\n",
        "MAX_WAV_VALUE = 32768.0\n",
        "\n",
        "\n",
        "def weights_init(m):\n",
        "    classname = m.__class__.__name__\n",
        "    if classname.find(\"Conv\") != -1:\n",
        "        m.weight.data.normal_(0.0, 0.02)\n",
        "    elif classname.find(\"BatchNorm2d\") != -1:\n",
        "        m.weight.data.normal_(1.0, 0.02)\n",
        "        m.bias.data.fill_(0)\n",
        "\n",
        "class ResStack(nn.Module):\n",
        "    def __init__(self, channel, dilation=1):\n",
        "        super(ResStack, self).__init__()\n",
        "\n",
        "        self.block = nn.Sequential(\n",
        "                nn.LeakyReLU(0.2),\n",
        "                nn.ReflectionPad1d(dilation),\n",
        "                nn.utils.weight_norm(nn.Conv1d(channel, channel, kernel_size=3, dilation=dilation)),\n",
        "                nn.LeakyReLU(0.2),\n",
        "                nn.utils.weight_norm(nn.Conv1d(channel, channel, kernel_size=1)),\n",
        "            )\n",
        "\n",
        "\n",
        "        self.shortcut = nn.utils.weight_norm(nn.Conv1d(channel, channel, kernel_size=1))\n",
        "\n",
        "\n",
        "    def forward(self, x):\n",
        "        return self.shortcut(x) + self.block(x)\n",
        "\n",
        "    def remove_weight_norm(self):\n",
        "        nn.utils.remove_weight_norm(self.block[2])\n",
        "        nn.utils.remove_weight_norm(self.block[4])\n",
        "        nn.utils.remove_weight_norm(self.shortcut)\n",
        "\n",
        "\n",
        "# Modified VocGAN\n",
        "class Generator(nn.Module):\n",
        "    def __init__(self, mel_channel, n_residual_layers, ratios=[4, 4, 2, 2, 2, 2], mult=256, out_band=1):\n",
        "        super(Generator, self).__init__()\n",
        "        self.mel_channel = mel_channel\n",
        "\n",
        "        self.start = nn.Sequential(\n",
        "            nn.ReflectionPad1d(3),\n",
        "            nn.utils.weight_norm(nn.Conv1d(mel_channel, mult * 2, kernel_size=7, stride=1))\n",
        "        )\n",
        "        r = ratios[0]\n",
        "        self.upsample_1 = nn.Sequential(\n",
        "            nn.LeakyReLU(0.2),\n",
        "            nn.utils.weight_norm(nn.ConvTranspose1d(mult * 2, mult,\n",
        "                                                    kernel_size=r * 2, stride=r,\n",
        "                                                    padding=r // 2 + r % 2,\n",
        "                                                    output_padding=r % 2)\n",
        "                                 )\n",
        "        )\n",
        "        self.res_stack_1 = nn.Sequential(*[ResStack(mult, dilation=3 ** j) for j in range(n_residual_layers)])\n",
        "\n",
        "        r = ratios[1]\n",
        "        mult = mult // 2\n",
        "        self.upsample_2 = nn.Sequential(\n",
        "            nn.LeakyReLU(0.2),\n",
        "            nn.utils.weight_norm(nn.ConvTranspose1d(mult * 2, mult,\n",
        "                                                    kernel_size=r * 2, stride=r,\n",
        "                                                    padding=r // 2 + r % 2,\n",
        "                                                    output_padding=r % 2)\n",
        "                                 )\n",
        "        )\n",
        "        self.res_stack_2 = nn.Sequential(*[ResStack(mult, dilation=3 ** j) for j in range(n_residual_layers)])\n",
        "\n",
        "        r = ratios[2]\n",
        "        mult = mult // 2\n",
        "        self.upsample_3 = nn.Sequential(\n",
        "            nn.LeakyReLU(0.2),\n",
        "            nn.utils.weight_norm(nn.ConvTranspose1d(mult * 2, mult,\n",
        "                                                    kernel_size=r * 2, stride=r,\n",
        "                                                    padding=r // 2 + r % 2,\n",
        "                                                    output_padding=r % 2)\n",
        "                                 )\n",
        "        )\n",
        "\n",
        "        self.skip_upsample_1 = nn.utils.weight_norm(nn.ConvTranspose1d(mel_channel, mult,\n",
        "                                                                       kernel_size=64, stride=32,\n",
        "                                                                       padding=16,\n",
        "                                                                       output_padding=0)\n",
        "                                                    )\n",
        "        self.res_stack_3 = nn.Sequential(*[ResStack(mult, dilation=3 ** j) for j in range(n_residual_layers)])\n",
        "\n",
        "\n",
        "\n",
        "        r = ratios[3]\n",
        "        mult = mult // 2\n",
        "        self.upsample_4 = nn.Sequential(\n",
        "            nn.LeakyReLU(0.2),\n",
        "            nn.utils.weight_norm(nn.ConvTranspose1d(mult * 2, mult,\n",
        "                                                    kernel_size=r * 2, stride=r,\n",
        "                                                    padding=r // 2 + r % 2,\n",
        "                                                    output_padding=r % 2)\n",
        "                                 )\n",
        "        )\n",
        "\n",
        "        self.skip_upsample_2 = nn.utils.weight_norm(nn.ConvTranspose1d(mel_channel, mult,\n",
        "                                                                       kernel_size=128, stride=64,\n",
        "                                                                       padding=32,\n",
        "                                                                       output_padding=0)\n",
        "                                                    )\n",
        "        self.res_stack_4 = nn.Sequential(*[ResStack(mult, dilation=3 ** j) for j in range(n_residual_layers)])\n",
        "\n",
        "\n",
        "        r = ratios[4]\n",
        "        mult = mult // 2\n",
        "        self.upsample_5 = nn.Sequential(\n",
        "            nn.LeakyReLU(0.2),\n",
        "            nn.utils.weight_norm(nn.ConvTranspose1d(mult * 2, mult,\n",
        "                                                    kernel_size=r * 2, stride=r,\n",
        "                                                    padding=r // 2 + r % 2,\n",
        "                                                    output_padding=r % 2)\n",
        "                                 )\n",
        "        )\n",
        "\n",
        "        self.skip_upsample_3 = nn.utils.weight_norm(nn.ConvTranspose1d(mel_channel, mult,\n",
        "                                                                       kernel_size=256, stride=128,\n",
        "                                                                       padding=64,\n",
        "                                                                       output_padding=0)\n",
        "                                                    )\n",
        "        self.res_stack_5 = nn.Sequential(*[ResStack(mult, dilation=3 ** j) for j in range(n_residual_layers)])\n",
        "\n",
        "\n",
        "        r = ratios[5]\n",
        "        mult = mult // 2\n",
        "        self.upsample_6 = nn.Sequential(\n",
        "            nn.LeakyReLU(0.2),\n",
        "            nn.utils.weight_norm(nn.ConvTranspose1d(mult * 2, mult,\n",
        "                                                    kernel_size=r * 2, stride=r,\n",
        "                                                    padding=r // 2 + r % 2,\n",
        "                                                    output_padding=r % 2)\n",
        "                                 )\n",
        "        )\n",
        "\n",
        "        self.skip_upsample_4 = nn.utils.weight_norm(nn.ConvTranspose1d(mel_channel, mult,\n",
        "                                                                       kernel_size=512, stride=256,\n",
        "                                                                       padding=128,\n",
        "                                                                       output_padding=0)\n",
        "                                                    )\n",
        "        self.res_stack_6 = nn.Sequential(*[ResStack(mult, dilation=3 ** j) for j in range(n_residual_layers)])\n",
        "\n",
        "        self.out = nn.Sequential(\n",
        "            nn.LeakyReLU(0.2),\n",
        "            nn.ReflectionPad1d(3),\n",
        "            nn.utils.weight_norm(nn.Conv1d(mult, out_band, kernel_size=7, stride=1)),\n",
        "            nn.Tanh(),\n",
        "        )\n",
        "        self.apply(weights_init)\n",
        "\n",
        "    def forward(self, mel):\n",
        "        mel = (mel + 5.0) / 5.0  # roughly normalize spectrogram\n",
        "        # Mel Shape [B, num_mels, T] -> torch.Size([3, 80, 10])\n",
        "        x = self.start(mel)  # [B, dim*2, T] -> torch.Size([3, 512, 10])\n",
        "\n",
        "        x = self.upsample_1(x)\n",
        "        x = self.res_stack_1(x)  # [B, dim, T*4] -> torch.Size([3, 256, 40])\n",
        "\n",
        "        x = self.upsample_2(x)\n",
        "        x = self.res_stack_2(x)  # [B, dim/2, T*16] -> torch.Size([3, 128, 160])\n",
        "\n",
        "        x = self.upsample_3(x)\n",
        "        x = x + self.skip_upsample_1(mel)\n",
        "        x = self.res_stack_3(x)  # [B, dim/4, T*32] -> torch.Size([3, 64, 320])\n",
        "\n",
        "        x = self.upsample_4(x)\n",
        "        x = x + self.skip_upsample_2(mel)\n",
        "        x = self.res_stack_4(x)  # [B, dim/8, T*64] -> torch.Size([3, 32, 640])\n",
        "\n",
        "        x = self.upsample_5(x)\n",
        "        x = x + self.skip_upsample_3(mel)\n",
        "        x = self.res_stack_5(x)  # [B, dim/16, T*128] -> torch.Size([3, 16, 1280])\n",
        "\n",
        "        x = self.upsample_6(x)\n",
        "        x = x + self.skip_upsample_4(mel)\n",
        "        x = self.res_stack_6(x)  # [B, dim/32, T*256] -> torch.Size([3, 8, 2560])\n",
        "\n",
        "        out = self.out(x)  # [B, 1, T*256] -> torch.Size([3, 1, 2560])\n",
        "\n",
        "        return out\n",
        "\n",
        "    def eval(self, inference=False):\n",
        "        super(Generator, self).eval()\n",
        "\n",
        "        # don't remove weight norm while validation in training loop\n",
        "        if inference:\n",
        "            self.remove_weight_norm()\n",
        "\n",
        "    def remove_weight_norm(self):\n",
        "        \"\"\"Remove weight normalization module from all of the layers.\"\"\"\n",
        "\n",
        "        def _remove_weight_norm(m):\n",
        "            try:\n",
        "                torch.nn.utils.remove_weight_norm(m)\n",
        "            except ValueError:  # this module didn't have weight norm\n",
        "                return\n",
        "\n",
        "        self.apply(_remove_weight_norm)\n",
        "\n",
        "    def apply_weight_norm(self):\n",
        "        \"\"\"Apply weight normalization module from all of the layers.\"\"\"\n",
        "\n",
        "        def _apply_weight_norm(m):\n",
        "            if isinstance(m, torch.nn.Conv1d) or isinstance(m, torch.nn.ConvTranspose1d):\n",
        "                torch.nn.utils.weight_norm(m)\n",
        "\n",
        "        self.apply(_apply_weight_norm)\n",
        "\n",
        "\n",
        "    def infer(self, mel):\n",
        "        hop_length = 256\n",
        "        # pad input mel with zeros to cut artifact\n",
        "        # see https://github.com/seungwonpark/melgan/issues/8\n",
        "        zero = torch.full((1, self.mel_channel, 10), -11.5129).to(mel.device)\n",
        "        mel = torch.cat((mel, zero), dim=2)\n",
        "\n",
        "        audio = self.forward(mel)\n",
        "        return audio\n",
        "\n",
        "\n",
        "\n"
      ],
      "metadata": {
        "id": "5PU-PDQVOVDg"
      },
      "execution_count": null,
      "outputs": []
    },
    {
      "cell_type": "markdown",
      "source": [
        "#dataset.py"
      ],
      "metadata": {
        "id": "citoTcN0POt9"
      }
    },
    {
      "cell_type": "code",
      "source": [
        "\n",
        "device = torch.device('cuda' if torch.cuda.is_available() else 'cpu')\n",
        "\n",
        "\n",
        "class Dataset(Dataset): #데이터셋 객체 지정\n",
        "    def __init__(self, filename=\"train.txt\", sort=True):\n",
        "        self.basename, self.text = process_meta(os.path.join(hp.preprocessed_path, filename))\n",
        "\n",
        "        self.mean_mel, self.std_mel = np.load(os.path.join(hp.preprocessed_path, \"mel_stat.npy\"))\n",
        "        self.mean_f0, self.std_f0 = np.load(os.path.join(hp.preprocessed_path, \"f0_stat.npy\"))\n",
        "        self.mean_energy, self.std_energy = np.load(os.path.join(hp.preprocessed_path, \"energy_stat.npy\"))\n",
        "\n",
        "        self.sort = sort\n",
        "\n",
        "    def __len__(self):\n",
        "        return len(self.text)\n",
        "\n",
        "    def __getitem__(self, idx): #멜 데이터셋 불러오는 경우, 각각의 파일에 대해 mel, f0, alignment\n",
        "        t=self.text[idx]\n",
        "        basename=self.basename[idx]\n",
        "        phone = np.array(text_to_sequence(t, []))\n",
        "\n",
        "        mel_path = os.path.join(\n",
        "            hp.preprocessed_path, \"mel\", \"{}-mel-{}.npy\".format(hp.dataset, basename))\n",
        "        mel_target = np.load(mel_path)\n",
        "        D_path = os.path.join(\n",
        "            hp.preprocessed_path, \"alignment\", \"{}-ali-{}.npy\".format(hp.dataset, basename))\n",
        "        D = np.load(D_path)\n",
        "        f0_path = os.path.join(\n",
        "            hp.preprocessed_path, \"f0\", \"{}-f0-{}.npy\".format(hp.dataset, basename))\n",
        "        f0 = np.load(f0_path)\n",
        "        energy_path = os.path.join(\n",
        "            hp.preprocessed_path, \"energy\", \"{}-energy-{}.npy\".format(hp.dataset, basename))\n",
        "        energy = np.load(energy_path)\n",
        "\n",
        "        sample = {\"id\": basename,\n",
        "                  \"text\": phone,\n",
        "                  \"mel_target\": mel_target,\n",
        "                  \"D\": D,\n",
        "                  \"f0\": f0,\n",
        "                  \"energy\": energy}\n",
        "        return sample\n",
        "\n",
        "\n",
        "    def reprocess(self, batch, cut_list):\n",
        "        ids = [batch[ind][\"id\"] for ind in cut_list]\n",
        "        texts = [batch[ind][\"text\"] for ind in cut_list]\n",
        "        mel_targets = [standard_norm(batch[ind][\"mel_target\"], self.mean_mel, self.std_mel, is_mel=True) for ind in cut_list]\n",
        "        Ds = [batch[ind][\"D\"] for ind in cut_list]\n",
        "        f0s = [standard_norm(batch[ind][\"f0\"], self.mean_f0, self.std_f0) for ind in cut_list]\n",
        "        energies = [standard_norm(batch[ind][\"energy\"], self.mean_energy, self.std_energy) for ind in cut_list]\n",
        "\n",
        "        for text, D, id_ in zip(texts, Ds, ids):\n",
        "            if len(text) != len(D):\n",
        "                print('the dimension of text and duration should be the same')\n",
        "                print('text: ',sequence_to_text(text))\n",
        "                print(text, text.shape, D, D.shape, id_)\n",
        "        length_text = np.array(list())\n",
        "        for text in texts:\n",
        "            length_text = np.append(length_text, text.shape[0])\n",
        "\n",
        "        length_mel = np.array(list())\n",
        "        for mel in mel_targets:\n",
        "            length_mel = np.append(length_mel, mel.shape[0])\n",
        "\n",
        "        texts = pad_1D(texts)\n",
        "        Ds = pad_1D(Ds)\n",
        "        mel_targets = pad_2D(mel_targets)\n",
        "        f0s = pad_1D(f0s)\n",
        "        energies = pad_1D(energies)\n",
        "        log_Ds = np.log(Ds + hp.log_offset)\n",
        "\n",
        "        out = {\"id\": ids,\n",
        "               \"text\": texts,\n",
        "               \"mel_target\": mel_targets,\n",
        "               \"D\": Ds,\n",
        "               \"log_D\": log_Ds,\n",
        "               \"f0\": f0s,\n",
        "               \"energy\": energies,\n",
        "               \"src_len\": length_text,\n",
        "               \"mel_len\": length_mel}\n",
        "\n",
        "        return out\n",
        "\n",
        "    def collate_fn(self, batch):\n",
        "        len_arr = np.array([d[\"text\"].shape[0] for d in batch])\n",
        "        index_arr = np.argsort(-len_arr)\n",
        "        batchsize = len(batch)\n",
        "        real_batchsize = int(math.sqrt(batchsize))\n",
        "\n",
        "        cut_list = list()\n",
        "        for i in range(real_batchsize):\n",
        "            if self.sort:\n",
        "                cut_list.append(index_arr[i*real_batchsize:(i+1)*real_batchsize])\n",
        "            else:\n",
        "                cut_list.append(np.arange(i*real_batchsize, (i+1)*real_batchsize))\n",
        "\n",
        "        output = list()\n",
        "        for i in range(real_batchsize):\n",
        "            output.append(self.reprocess(batch, cut_list[i]))\n",
        "\n",
        "        return output\n",
        "\n",
        "#테스트인듯?\n",
        "if __name__ == \"__main__\":\n",
        "    # Test\n",
        "    dataset = Dataset('val.txt')\n",
        "    training_loader = DataLoader(dataset, batch_size=1, shuffle=False, collate_fn=dataset.collate_fn,\n",
        "        drop_last=True, num_workers=0)\n",
        "    total_step = hp.epochs * len(training_loader) * hp.batch_size\n",
        "\n",
        "    cnt = 0\n",
        "    for i, batchs in enumerate(training_loader):\n",
        "        for j, data_of_batch in enumerate(batchs):\n",
        "            mel_target = torch.from_numpy(\n",
        "                data_of_batch[\"mel_target\"]).float().to(device)\n",
        "            D = torch.from_numpy(data_of_batch[\"D\"]).int().to(device)\n",
        "            if mel_target.shape[1] == D.sum().item():\n",
        "                cnt += 1\n"
      ],
      "metadata": {
        "id": "q6fQGX0KPecF"
      },
      "execution_count": null,
      "outputs": []
    },
    {
      "cell_type": "markdown",
      "source": [
        "#fastspeech2.py"
      ],
      "metadata": {
        "id": "AGACyl2GPcE8"
      }
    },
    {
      "cell_type": "code",
      "source": [
        "device = torch.device('cuda' if torch.cuda.is_available() else 'cpu')\n",
        "\n",
        "class FastSpeech2(nn.Module): #전체 모듈\n",
        "    \"\"\" FastSpeech2 \"\"\"\n",
        "\n",
        "    def __init__(self, use_postnet=True):\n",
        "        super(FastSpeech2, self).__init__()\n",
        "\n",
        "        self.encoder = Encoder()\n",
        "        self.variance_adaptor = VarianceAdaptor()\n",
        "\n",
        "        self.decoder = Decoder()\n",
        "        self.mel_linear = nn.Linear(hp.decoder_hidden, hp.n_mel_channels)\n",
        "\n",
        "        self.use_postnet = use_postnet\n",
        "        if self.use_postnet:\n",
        "            self.postnet = PostNet()\n",
        "\n",
        "    def forward(self, src_seq, src_len, mel_len=None, d_target=None, p_target=None, e_target=None, max_src_len=None, max_mel_len=None):\n",
        "        src_mask = get_mask_from_lengths(src_len, max_src_len)\n",
        "        mel_mask = get_mask_from_lengths(mel_len, max_mel_len) if mel_len is not None else None\n",
        "\n",
        "        encoder_output = self.encoder(src_seq, src_mask)\n",
        "        if d_target is not None:\n",
        "            variance_adaptor_output, d_prediction, p_prediction, e_prediction, _, _ = self.variance_adaptor(\n",
        "                encoder_output, src_mask, mel_mask, d_target, p_target, e_target, max_mel_len)\n",
        "        else:\n",
        "            variance_adaptor_output, d_prediction, p_prediction, e_prediction, mel_len, mel_mask = self.variance_adaptor(\n",
        "                    encoder_output, src_mask, mel_mask, d_target, p_target, e_target, max_mel_len)\n",
        "\n",
        "        decoder_output = self.decoder(variance_adaptor_output, mel_mask)\n",
        "        mel_output = self.mel_linear(decoder_output)\n",
        "\n",
        "        if self.use_postnet:\n",
        "            mel_output_postnet = self.postnet(mel_output) + mel_output\n",
        "        else:\n",
        "            mel_output_postnet = mel_output\n",
        "\n",
        "        return mel_output, mel_output_postnet, d_prediction, p_prediction, e_prediction, src_mask, mel_mask, mel_len\n",
        "\n",
        "\n",
        "#파라미터 테스트\n",
        "if __name__ == \"__main__\":\n",
        "    # Test\n",
        "    model = FastSpeech2(use_postnet=False)\n",
        "    print(model)\n",
        "    print(sum(param.numel() for param in model.parameters()))"
      ],
      "metadata": {
        "id": "5kMVzvsZP8Nc"
      },
      "execution_count": null,
      "outputs": []
    },
    {
      "cell_type": "markdown",
      "source": [
        "#evaluate"
      ],
      "metadata": {
        "id": "62x4uTmYQJu7"
      }
    },
    {
      "cell_type": "code",
      "source": [
        "device = torch.device('cuda' if torch.cuda.is_available() else 'cpu')\n",
        "\n",
        "def get_FastSpeech2(num):\n",
        "    checkpoint_path = os.path.join(hp.checkpoint_path, \"checkpoint_{}.pth.tar\".format(num))\n",
        "    model = nn.DataParallel(FastSpeech2())\n",
        "    model.load_state_dict(torch.load(checkpoint_path)['model'])\n",
        "    model.requires_grad = False\n",
        "    model.eval()\n",
        "    return model\n",
        "\n",
        "def evaluate(model, step, vocoder=None):#평가모드\n",
        "    model.eval()\n",
        "    torch.manual_seed(0)\n",
        "\n",
        "    mean_mel, std_mel = torch.tensor(np.load(os.path.join(hp.preprocessed_path, \"mel_stat.npy\")), dtype=torch.float).to(device)\n",
        "    mean_f0, std_f0 = torch.tensor(np.load(os.path.join(hp.preprocessed_path, \"f0_stat.npy\")), dtype=torch.float).to(device)\n",
        "    mean_energy, std_energy = torch.tensor(np.load(os.path.join(hp.preprocessed_path, \"energy_stat.npy\")), dtype=torch.float).to(device)\n",
        "\n",
        "    eval_path = hp.eval_path\n",
        "    if not os.path.exists(eval_path):\n",
        "        os.makedirs(eval_path)\n",
        "\n",
        "    # Get dataset\n",
        "    dataset = Dataset(\"val.txt\", sort=False)\n",
        "    loader = DataLoader(dataset, batch_size=hp.batch_size**2, shuffle=False, collate_fn=dataset.collate_fn, drop_last=False, num_workers=0, )\n",
        "\n",
        "    # Get loss function\n",
        "    Loss = FastSpeech2Loss().to(device)\n",
        "\n",
        "    # Evaluation\n",
        "    d_l = []\n",
        "    f_l = []\n",
        "    e_l = []\n",
        "    mel_l = []\n",
        "    mel_p_l = []\n",
        "    current_step = 0\n",
        "    idx = 0\n",
        "    for i, batchs in enumerate(loader):\n",
        "        for j, data_of_batch in enumerate(batchs):\n",
        "            # Get Data\n",
        "            id_ = data_of_batch[\"id\"]\n",
        "            text = torch.from_numpy(data_of_batch[\"text\"]).long().to(device)\n",
        "            mel_target = torch.from_numpy(data_of_batch[\"mel_target\"]).float().to(device)\n",
        "            D = torch.from_numpy(data_of_batch[\"D\"]).int().to(device)\n",
        "            log_D = torch.from_numpy(data_of_batch[\"log_D\"]).int().to(device)\n",
        "            f0 = torch.from_numpy(data_of_batch[\"f0\"]).float().to(device)\n",
        "            energy = torch.from_numpy(data_of_batch[\"energy\"]).float().to(device)\n",
        "            src_len = torch.from_numpy(data_of_batch[\"src_len\"]).long().to(device)\n",
        "            mel_len = torch.from_numpy(data_of_batch[\"mel_len\"]).long().to(device)\n",
        "            max_src_len = np.max(data_of_batch[\"src_len\"]).astype(np.int32)\n",
        "            max_mel_len = np.max(data_of_batch[\"mel_len\"]).astype(np.int32)\n",
        "\n",
        "            with torch.no_grad():\n",
        "                # Forward\n",
        "                mel_output, mel_postnet_output, log_duration_output, f0_output, energy_output, src_mask, mel_mask, out_mel_len = model(\n",
        "                        text, src_len, mel_len, D, f0, energy, max_src_len, max_mel_len)\n",
        "\n",
        "                # Cal Loss\n",
        "                mel_loss, mel_postnet_loss, d_loss, f_loss, e_loss = Loss(\n",
        "                        log_duration_output, log_D, f0_output, f0, energy_output, energy, mel_output, mel_postnet_output, mel_target, ~src_mask, ~mel_mask)\n",
        "\n",
        "                d_l.append(d_loss.item())\n",
        "                f_l.append(f_loss.item())\n",
        "                e_l.append(e_loss.item())\n",
        "                mel_l.append(mel_loss.item())\n",
        "                mel_p_l.append(mel_postnet_loss.item())\n",
        "\n",
        "                if idx == 0 and vocoder is not None:\n",
        "                    # Run vocoding and plotting spectrogram only when the vocoder is defined\n",
        "                    for k in range(1):\n",
        "                        basename = id_[k]\n",
        "                        gt_length = mel_len[k]\n",
        "                        out_length = out_mel_len[k]\n",
        "\n",
        "                        mel_target_torch = mel_target[k:k+1, :gt_length]\n",
        "                        mel_target_ = mel_target[k, :gt_length]\n",
        "                        mel_postnet_torch = mel_postnet_output[k:k+1, :out_length]\n",
        "                        mel_postnet = mel_postnet_output[k, :out_length]\n",
        "\n",
        "                        mel_target_torch = utils.de_norm(mel_target_torch, mean_mel, std_mel).transpose(1, 2).detach()\n",
        "                        mel_target_ = utils.de_norm(mel_target_, mean_mel, std_mel).cpu().transpose(0, 1).detach()\n",
        "                        mel_postnet_torch = utils.de_norm(mel_postnet_torch, mean_mel, std_mel).transpose(1, 2).detach()\n",
        "                        mel_postnet = utils.de_norm(mel_postnet, mean_mel, std_mel).cpu().transpose(0, 1).detach()\n",
        "\n",
        "                        if hp.vocoder == \"vocgan\":\n",
        "                            utils.vocgan_infer(mel_target_torch, vocoder, path=os.path.join(hp.eval_path, 'eval_groundtruth_{}_{}.wav'.format(basename, hp.vocoder)))\n",
        "                            utils.vocgan_infer(mel_postnet_torch, vocoder, path=os.path.join(hp.eval_path, 'eval_step_{}_{}_{}.wav'.format(step, basename, hp.vocoder)))\n",
        "                        np.save(os.path.join(hp.eval_path, 'eval_step_{}_{}_mel.npy'.format(step, basename)), mel_postnet.numpy())\n",
        "\n",
        "                        f0_ = f0[k, :gt_length]\n",
        "                        energy_ = energy[k, :gt_length]\n",
        "                        f0_output_ = f0_output[k, :out_length]\n",
        "                        energy_output_ = energy_output[k, :out_length]\n",
        "\n",
        "                        f0_ = utils.de_norm(f0_, mean_f0, std_f0).detach().cpu().numpy()\n",
        "                        f0_output_ = utils.de_norm(f0_output, mean_f0, std_f0).detach().cpu().numpy()\n",
        "                        energy_ = utils.de_norm(energy_, mean_energy, std_energy).detach().cpu().numpy()\n",
        "                        energy_output_ = utils.de_norm(energy_output_, mean_energy, std_energy).detach().cpu().numpy()\n",
        "\n",
        "                        utils.plot_data([(mel_postnet.numpy(), f0_output_, energy_output_), (mel_target_.numpy(), f0_, energy_)],\n",
        "                            ['Synthesized Spectrogram', 'Ground-Truth Spectrogram'], filename=os.path.join(hp.eval_path, 'eval_step_{}_{}.png'.format(step, basename)))\n",
        "                        idx += 1\n",
        "                    print(\"done\")\n",
        "            current_step += 1\n",
        "\n",
        "    d_l = sum(d_l) / len(d_l)\n",
        "    f_l = sum(f_l) / len(f_l)\n",
        "    e_l = sum(e_l) / len(e_l)\n",
        "    mel_l = sum(mel_l) / len(mel_l)\n",
        "    mel_p_l = sum(mel_p_l) / len(mel_p_l)\n",
        "\n",
        "    str1 = \"FastSpeech2 Step {},\".format(step)\n",
        "    str2 = \"Duration Loss: {}\".format(d_l)\n",
        "    str3 = \"F0 Loss: {}\".format(f_l)\n",
        "    str4 = \"Energy Loss: {}\".format(e_l)\n",
        "    str5 = \"Mel Loss: {}\".format(mel_l)\n",
        "    str6 = \"Mel Postnet Loss: {}\".format(mel_p_l)\n",
        "\n",
        "    print(\"\\n\" + str1)\n",
        "    print(str2)\n",
        "    print(str3)\n",
        "    print(str4)\n",
        "    print(str5)\n",
        "    print(str6)\n",
        "\n",
        "    with open(os.path.join(hp.log_path, \"eval.txt\"), \"a\") as f_log:\n",
        "        f_log.write(str1 + \"\\n\")\n",
        "        f_log.write(str2 + \"\\n\")\n",
        "        f_log.write(str3 + \"\\n\")\n",
        "        f_log.write(str4 + \"\\n\")\n",
        "        f_log.write(str5 + \"\\n\")\n",
        "        f_log.write(str6 + \"\\n\")\n",
        "        f_log.write(\"\\n\")\n",
        "    model.train()\n",
        "\n",
        "    return d_l, f_l, e_l, mel_l, mel_p_l\n",
        "\n",
        "if __name__ == \"__main__\":\n",
        "\n",
        "    parser = argparse.ArgumentParser()\n",
        "    parser.add_argument('--step', type=int, default=30000)\n",
        "    args = parser.parse_args()\n",
        "\n",
        "    # Get model\n",
        "    model = get_FastSpeech2(args.step).to(device) #모델 파라미터 여기서 불러오는 것 같음\n",
        "    print(\"Model Has Been Defined\")\n",
        "    num_param = utils.get_param_num(model)\n",
        "    print('Number of FastSpeech2 Parameters:', num_param)\n",
        "\n",
        "    # Load vocoder\n",
        "    if hp.vocoder == 'vocgan': #보코더 종류 변환을 여기서 해야할듯?\n",
        "        vocoder = utils.get_vocgan(ckpt_path=hp.vocoder_pretrained_model_path)\n",
        "    vocoder.to(device)\n",
        "\n",
        "    # Init directories\n",
        "    if not os.path.exists(hp.log_path):\n",
        "        os.makedirs(hp.log_path)\n",
        "    if not os.path.exists(hp.eval_path):\n",
        "        os.makedirs(hp.eval_path)\n",
        "    evaluate(model, args.step, vocoder)"
      ],
      "metadata": {
        "id": "WG2kjXVhQKs8"
      },
      "execution_count": null,
      "outputs": []
    },
    {
      "cell_type": "markdown",
      "source": [
        "#train.py"
      ],
      "metadata": {
        "id": "aDBVRN3zQB8r"
      }
    },
    {
      "cell_type": "code",
      "source": [
        "\n",
        "os.environ[\"CUDA_DEVICE_ORDER\"]=\"PCI_BUS_ID\"\n",
        "os.environ[\"CUDA_VISIBLE_DEVICES\"]=hp.train_visible_devices\n",
        "\n",
        "def main(args): #학습모드\n",
        "    torch.manual_seed(0)\n",
        "\n",
        "    # Get device\n",
        "    device = torch.device('cuda'if torch.cuda.is_available()else 'cpu')\n",
        "\n",
        "    # Get dataset\n",
        "    dataset = Dataset(\"train.txt\")\n",
        "    loader = DataLoader(dataset, batch_size=hp.batch_size**2, shuffle=True,\n",
        "        collate_fn=dataset.collate_fn, drop_last=True, num_workers=0)\n",
        "\n",
        "    print(len(loader))\n",
        "\n",
        "    # Define model\n",
        "    model = nn.DataParallel(FastSpeech2()).to(device)\n",
        "    print(\"Model Has Been Defined\")\n",
        "    num_param = utils.get_param_num(model)\n",
        "    print('Number of FastSpeech2 Parameters:', num_param)\n",
        "\n",
        "    # Optimizer and loss\n",
        "    optimizer = torch.optim.Adam(model.parameters(), betas=hp.betas, eps=hp.eps, weight_decay = hp.weight_decay)\n",
        "    scheduled_optim = ScheduledOptim(optimizer, hp.decoder_hidden, hp.n_warm_up_step, args.restore_step)\n",
        "    Loss = FastSpeech2Loss().to(device)\n",
        "    print(\"Optimizer and Loss Function Defined.\")\n",
        "\n",
        "    # Load checkpoint if exists\n",
        "    checkpoint_path = os.path.join(hp.checkpoint_path)\n",
        "    try:\n",
        "        checkpoint = torch.load(os.path.join(\n",
        "            checkpoint_path, 'checkpoint_{}.pth.tar'.format(args.restore_step)))\n",
        "        model.load_state_dict(checkpoint['model'])\n",
        "        optimizer.load_state_dict(checkpoint['optimizer'])\n",
        "        print(\"\\n---Model Restored at Step {}---\\n\".format(args.restore_step))\n",
        "    except:\n",
        "        print(\"\\n---Start New Training---\\n\")\n",
        "        if not os.path.exists(checkpoint_path):\n",
        "            os.makedirs(checkpoint_path)\n",
        "\n",
        "    # read params\n",
        "    mean_mel, std_mel = torch.tensor(np.load(os.path.join(hp.preprocessed_path, \"mel_stat.npy\")), dtype=torch.float).to(device)\n",
        "    mean_f0, std_f0 = torch.tensor(np.load(os.path.join(hp.preprocessed_path, \"f0_stat.npy\")), dtype=torch.float).to(device)\n",
        "    mean_energy, std_energy = torch.tensor(np.load(os.path.join(hp.preprocessed_path, \"energy_stat.npy\")), dtype=torch.float).to(device)\n",
        "\n",
        "    mean_mel, std_mel = mean_mel.reshape(1, -1), std_mel.reshape(1, -1)\n",
        "    mean_f0, std_f0 = mean_f0.reshape(1, -1), std_f0.reshape(1, -1)\n",
        "    mean_energy, std_energy = mean_energy.reshape(1, -1), std_energy.reshape(1, -1)\n",
        "\n",
        "\n",
        "    # Load vocoder\n",
        "    if hp.vocoder == 'vocgan': #보코더 로드\n",
        "        vocoder = utils.get_vocgan(ckpt_path = hp.vocoder_pretrained_model_path)\n",
        "        vocoder.to(device)\n",
        "    # 보코더 지정\n",
        "    if hp.vocoder =='avocodo':\n",
        "        vocoder = utils.get_avocodo(ckpt_path = hp.vocoder_pretrained_model_path)\n",
        "        vocoder.to(device)\n",
        "\n",
        "    else:\n",
        "        vocoder = None\n",
        "\n",
        "    # Init logger\n",
        "    log_path = hp.log_path\n",
        "    if not os.path.exists(log_path):\n",
        "        os.makedirs(log_path)\n",
        "        os.makedirs(os.path.join(log_path, 'train'))\n",
        "        os.makedirs(os.path.join(log_path, 'validation'))\n",
        "    train_logger = SummaryWriter(os.path.join(log_path, 'train'))\n",
        "    val_logger = SummaryWriter(os.path.join(log_path, 'validation'))\n",
        "\n",
        "    # Define Some Information\n",
        "    Time = np.array([])\n",
        "    Start = time.perf_counter()\n",
        "\n",
        "    # Training\n",
        "    model = model.train()\n",
        "\n",
        "    from tqdm import tqdm\n",
        "    for epoch in tqdm(range(hp.epochs)):\n",
        "        # Get Training Loader\n",
        "        total_step = hp.epochs * len(loader) * hp.batch_size\n",
        "\n",
        "        for i, batchs in enumerate(loader):\n",
        "            for j, data_of_batch in enumerate(batchs):\n",
        "                start_time = time.perf_counter()\n",
        "\n",
        "                current_step = i*hp.batch_size + j + args.restore_step + epoch*len(loader)*hp.batch_size + 1\n",
        "\n",
        "                # Get Data\n",
        "                text = torch.from_numpy(data_of_batch[\"text\"]).long().to(device)\n",
        "                mel_target = torch.from_numpy(data_of_batch[\"mel_target\"]).float().to(device)\n",
        "                D = torch.from_numpy(data_of_batch[\"D\"]).long().to(device)\n",
        "                log_D = torch.from_numpy(data_of_batch[\"log_D\"]).float().to(device)\n",
        "                f0 = torch.from_numpy(data_of_batch[\"f0\"]).float().to(device)\n",
        "                energy = torch.from_numpy(data_of_batch[\"energy\"]).float().to(device)\n",
        "                src_len = torch.from_numpy(data_of_batch[\"src_len\"]).long().to(device)\n",
        "                mel_len = torch.from_numpy(data_of_batch[\"mel_len\"]).long().to(device)\n",
        "                max_src_len = np.max(data_of_batch[\"src_len\"]).astype(np.int32)\n",
        "                max_mel_len = np.max(data_of_batch[\"mel_len\"]).astype(np.int32)\n",
        "\n",
        "                # Forward\n",
        "                mel_output, mel_postnet_output, log_duration_output, f0_output, energy_output, src_mask, mel_mask, _ = model(\n",
        "                    text, src_len, mel_len, D, f0, energy, max_src_len, max_mel_len)\n",
        "\n",
        "                # Cal Loss\n",
        "                mel_loss, mel_postnet_loss, d_loss, f_loss, e_loss = Loss(\n",
        "                        log_duration_output, log_D, f0_output, f0, energy_output, energy, mel_output, mel_postnet_output, mel_target, ~src_mask, ~mel_mask)\n",
        "                total_loss = mel_loss + mel_postnet_loss + d_loss + f_loss + e_loss\n",
        "\n",
        "                # Logger\n",
        "                t_l = total_loss.item()\n",
        "                m_l = mel_loss.item()\n",
        "                m_p_l = mel_postnet_loss.item()\n",
        "                d_l = d_loss.item()\n",
        "                f_l = f_loss.item()\n",
        "                e_l = e_loss.item()\n",
        "                with open(os.path.join(log_path, \"total_loss.txt\"), \"a\") as f_total_loss:\n",
        "                    f_total_loss.write(str(t_l)+\"\\n\")\n",
        "                with open(os.path.join(log_path, \"mel_loss.txt\"), \"a\") as f_mel_loss:\n",
        "                    f_mel_loss.write(str(m_l)+\"\\n\")\n",
        "                with open(os.path.join(log_path, \"mel_postnet_loss.txt\"), \"a\") as f_mel_postnet_loss:\n",
        "                    f_mel_postnet_loss.write(str(m_p_l)+\"\\n\")\n",
        "                with open(os.path.join(log_path, \"duration_loss.txt\"), \"a\") as f_d_loss:\n",
        "                    f_d_loss.write(str(d_l)+\"\\n\")\n",
        "                with open(os.path.join(log_path, \"f0_loss.txt\"), \"a\") as f_f_loss:\n",
        "                    f_f_loss.write(str(f_l)+\"\\n\")\n",
        "                with open(os.path.join(log_path, \"energy_loss.txt\"), \"a\") as f_e_loss:\n",
        "                    f_e_loss.write(str(e_l)+\"\\n\")\n",
        "\n",
        "                # Backward\n",
        "                total_loss = total_loss / hp.acc_steps\n",
        "                total_loss.backward()\n",
        "                if current_step % hp.acc_steps != 0:\n",
        "                    continue\n",
        "\n",
        "                # Clipping gradients to avoid gradient explosion\n",
        "                nn.utils.clip_grad_norm_(model.parameters(), hp.grad_clip_thresh)\n",
        "\n",
        "                # Update weights\n",
        "                scheduled_optim.step_and_update_lr()\n",
        "                scheduled_optim.zero_grad()\n",
        "\n",
        "                # Print\n",
        "                if current_step % hp.log_step == 0:\n",
        "                    Now = time.perf_counter()\n",
        "\n",
        "                    str1 = \"Epoch [{}/{}], Step [{}/{}]:\".format(\n",
        "                        epoch+1, hp.epochs, current_step, total_step)\n",
        "                    str2 = \"Total Loss: {:.4f}, Mel Loss: {:.4f}, Mel PostNet Loss: {:.4f}, Duration Loss: {:.4f}, F0 Loss: {:.4f}, Energy Loss: {:.4f};\".format(\n",
        "                        t_l, m_l, m_p_l, d_l, f_l, e_l)\n",
        "                    str3 = \"Time Used: {:.3f}s, Estimated Time Remaining: {:.3f}s.\".format(\n",
        "                        (Now-Start), (total_step-current_step)*np.mean(Time))\n",
        "\n",
        "                    print(\"\\n\" + str1)\n",
        "                    print(str2)\n",
        "                    print(str3)\n",
        "\n",
        "                    with open(os.path.join(log_path, \"log.txt\"), \"a\") as f_log:\n",
        "                        f_log.write(str1 + \"\\n\")\n",
        "                        f_log.write(str2 + \"\\n\")\n",
        "                        f_log.write(str3 + \"\\n\")\n",
        "                        f_log.write(\"\\n\")\n",
        "\n",
        "                train_logger.add_scalar('Loss/total_loss', t_l, current_step)\n",
        "                train_logger.add_scalar('Loss/mel_loss', m_l, current_step)\n",
        "                train_logger.add_scalar('Loss/mel_postnet_loss', m_p_l, current_step)\n",
        "                train_logger.add_scalar('Loss/duration_loss', d_l, current_step)\n",
        "                train_logger.add_scalar('Loss/F0_loss', f_l, current_step)\n",
        "                train_logger.add_scalar('Loss/energy_loss', e_l, current_step)\n",
        "\n",
        "                if current_step % hp.save_step == 0:\n",
        "                    torch.save({'model': model.state_dict(), 'optimizer': optimizer.state_dict(\n",
        "                    )}, os.path.join(checkpoint_path, 'checkpoint_{}.pth.tar'.format(current_step)))\n",
        "                    print(\"save model at step {} ...\".format(current_step))\n",
        "\n",
        "                if current_step % hp.eval_step == 0:\n",
        "                    model.eval()\n",
        "                    with torch.no_grad():\n",
        "                        d_l, f_l, e_l, m_l, m_p_l = evaluate(model, current_step, vocoder)\n",
        "                        t_l = d_l + f_l + e_l + m_l + m_p_l\n",
        "\n",
        "                        val_logger.add_scalar('Loss/total_loss', t_l, current_step)\n",
        "                        val_logger.add_scalar('Loss/mel_loss', m_l, current_step)\n",
        "                        val_logger.add_scalar('Loss/mel_postnet_loss', m_p_l, current_step)\n",
        "                        val_logger.add_scalar('Loss/duration_loss', d_l, current_step)\n",
        "                        val_logger.add_scalar('Loss/F0_loss', f_l, current_step)\n",
        "                        val_logger.add_scalar('Loss/energy_loss', e_l, current_step)\n",
        "\n",
        "                    model.train()\n",
        "\n",
        "                end_time = time.perf_counter()\n",
        "                Time = np.append(Time, end_time - start_time)\n",
        "                if len(Time) == hp.clear_Time:\n",
        "                    temp_value = np.mean(Time)\n",
        "                    Time = np.delete(\n",
        "                        Time, [i for i in range(len(Time))], axis=None)\n",
        "                    Time = np.append(Time, temp_value)\n",
        "\n",
        "if __name__ == \"__main__\":\n",
        "\n",
        "    parser = argparse.ArgumentParser()\n",
        "    parser.add_argument('--restore_step', type=int, default=0)\n",
        "    args = parser.parse_args()\n",
        "\n",
        "    main(args)"
      ],
      "metadata": {
        "id": "4yl95YkOQDi7"
      },
      "execution_count": null,
      "outputs": []
    },
    {
      "cell_type": "markdown",
      "source": [
        "#synthesis.py"
      ],
      "metadata": {
        "id": "OqUPlV6pQUaD"
      }
    },
    {
      "cell_type": "code",
      "source": [
        "device = torch.device('cuda' if torch.cuda.is_available() else 'cpu')\n",
        "\n",
        "def kor_preprocess(text):\n",
        "    text = text.rstrip(punctuation)\n",
        "\n",
        "    g2p=G2p()\n",
        "    phone = g2p(text)\n",
        "    print('after g2p: ',phone)\n",
        "    phone = h2j(phone)\n",
        "    print('after h2j: ',phone)\n",
        "    phone = list(filter(lambda p: p != ' ', phone))\n",
        "    phone = '{' + '}{'.join(phone) + '}'\n",
        "    print('phone: ',phone)\n",
        "    phone = re.sub(r'\\{[^\\w\\s]?\\}', '{sp}', phone)\n",
        "    print('after re.sub: ',phone)\n",
        "    phone = phone.replace('}{', ' ')\n",
        "\n",
        "    print('|' + phone + '|')\n",
        "    sequence = np.array(text_to_sequence(phone,hp.text_cleaners))\n",
        "    sequence = np.stack([sequence])\n",
        "    return torch.from_numpy(sequence).long().to(device)\n",
        "\n",
        "def get_FastSpeech2(num):\n",
        "    checkpoint_path = os.path.join(hp.checkpoint_path, \"checkpoint_{}.pth.tar\".format(num))\n",
        "    model = nn.DataParallel(FastSpeech2())\n",
        "    model.load_state_dict(torch.load(checkpoint_path)['model'])\n",
        "    model.requires_grad = False\n",
        "    model.eval()\n",
        "    return model\n",
        "\n",
        "def synthesize(model, vocoder, text, sentence, prefix=''):\n",
        "    sentence = sentence[:10] # long filename will result in OS Error\n",
        "\n",
        "    mean_mel, std_mel = torch.tensor(np.load(os.path.join(hp.preprocessed_path, \"mel_stat.npy\")), dtype=torch.float).to(device)\n",
        "    mean_f0, std_f0 = torch.tensor(np.load(os.path.join(hp.preprocessed_path, \"f0_stat.npy\")), dtype=torch.float).to(device)\n",
        "    mean_energy, std_energy = torch.tensor(np.load(os.path.join(hp.preprocessed_path, \"energy_stat.npy\")), dtype=torch.float).to(device)\n",
        "\n",
        "    mean_mel, std_mel = mean_mel.reshape(1, -1), std_mel.reshape(1, -1)\n",
        "    mean_f0, std_f0 = mean_f0.reshape(1, -1), std_f0.reshape(1, -1)\n",
        "    mean_energy, std_energy = mean_energy.reshape(1, -1), std_energy.reshape(1, -1)\n",
        "\n",
        "    src_len = torch.from_numpy(np.array([text.shape[1]])).to(device)\n",
        "\n",
        "    mel, mel_postnet, log_duration_output, f0_output, energy_output, _, _, mel_len = model(text, src_len)\n",
        "\n",
        "    mel_torch = mel.transpose(1, 2).detach()\n",
        "    mel_postnet_torch = mel_postnet.transpose(1, 2).detach()\n",
        "    f0_output = f0_output[0]\n",
        "    energy_output = energy_output[0]\n",
        "\n",
        "    mel_torch = de_norm(mel_torch.transpose(1, 2), mean_mel, std_mel)\n",
        "    mel_postnet_torch = de_norm(mel_postnet_torch.transpose(1, 2), mean_mel, std_mel).transpose(1, 2)\n",
        "    f0_output = de_norm(f0_output, mean_f0, std_f0).squeeze().detach().cpu().numpy()\n",
        "    energy_output = de_norm(energy_output, mean_energy, std_energy).squeeze().detach().cpu().numpy()\n",
        "\n",
        "    if not os.path.exists(hp.test_path):\n",
        "        os.makedirs(hp.test_path)\n",
        "\n",
        "    tools.inv_mel_spec(mel_postnet_torch[0], os.path.join(hp.test_path, '{}_griffin_lim_{}.wav'.format(prefix, sentence)))\n",
        "\n",
        "    if vocoder is not None:\n",
        "        if hp.vocoder.lower() == \"vocgan\":\n",
        "            vocgan_infer(mel_postnet_torch, vocoder, path=os.path.join(hp.test_path, '{}_{}_{}.wav'.format(prefix, hp.vocoder, sentence)))\n",
        "\n",
        "    plot_data([(mel_postnet_torch[0].detach().cpu().numpy(), f0_output, energy_output)], ['Synthesized Spectrogram'], filename=os.path.join(hp.test_path, '{}_{}.png'.format(prefix, sentence)))\n",
        "\n",
        "\n",
        "if __name__ == \"__main__\":\n",
        "    # Test\n",
        "    parser = argparse.ArgumentParser()\n",
        "    parser.add_argument('--step', type=int, default=30000)\n",
        "    args = parser.parse_args()\n",
        "\n",
        "\n",
        "    model = get_FastSpeech2(args.step).to(device)\n",
        "    if hp.vocoder == 'vocgan':\n",
        "        vocoder = get_vocgan(ckpt_path=hp.vocoder_pretrained_model_path)\n",
        "        # 보코더 지정\n",
        "    if hp.vocoder =='avocodo':\n",
        "        vocoder = utils.get_avocodo(ckpt_path = hp.vocoder_pretrained_model_path)\n",
        "        vocoder.to(device)\n",
        "    else:\n",
        "        vocoder = None\n",
        "\n",
        "    #kss\n",
        "    eval_sentence=['그는 괜찮은 척하려고 애쓰는 것 같았다','그녀의 사랑을 얻기 위해 애썼지만 헛수고였다','용돈을 아껴써라','그는 아내를 많이 아낀다','요즘 공부가 안돼요','한 여자가 내 옆에 앉았다']\n",
        "    train_sentence=['가까운 시일 내에 한번, 댁으로 찾아가겠습니다','우리의 승리는 기적에 가까웠다','아이들의 얼굴에는 행복한 미소가 가득했다','헬륨은 공기보다 가볍다','이것은 간단한 문제가 아니다']\n",
        "    test_sentence=['안녕하세요, 한동대학교 딥러닝 연구실입니다.', '이 프로젝트가 여러분에게 도움이 되었으면 좋겠습니다.', '시간이 촉박해요','이런, 큰일 났어','좀 더 먹지 그래?','제가 뭘 잘못했죠?','더 이상 묻지마']\n",
        "\n",
        "    g2p=G2p()\n",
        "    print('which sentence do you want?')\n",
        "    print('1.eval_sentence 2.train_sentence 3.test_sentence 4.create new sentence')\n",
        "\n",
        "    mode=input()\n",
        "    print('you went for mode {}'.format(mode))\n",
        "    if mode=='4':\n",
        "        print('input sentence')\n",
        "        sentence = input()\n",
        "    elif mode=='1':\n",
        "        sentence = eval_sentence\n",
        "    elif mode=='2':\n",
        "        sentence = train_sentence\n",
        "    elif mode=='3':\n",
        "        sentence = test_sentence\n",
        "\n",
        "    print('sentence that will be synthesized: ')\n",
        "    print(sentence)\n",
        "    if mode != '4':\n",
        "        for s in sentence:\n",
        "            text = kor_preprocess(s)\n",
        "            synthesize(model, vocoder, text, s, prefix='step_{}'.format(args.step))\n",
        "    else:\n",
        "        text = kor_preprocess(sentence)\n",
        "        synthesize(model, vocoder, text, sentence, prefix='step_{}'.format(args.step))"
      ],
      "metadata": {
        "id": "5ryqqI6NQFdr"
      },
      "execution_count": null,
      "outputs": []
    }
  ]
}