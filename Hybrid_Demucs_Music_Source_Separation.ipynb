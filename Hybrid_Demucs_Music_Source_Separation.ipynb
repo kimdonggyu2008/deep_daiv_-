{
  "nbformat": 4,
  "nbformat_minor": 0,
  "metadata": {
    "colab": {
      "provenance": [],
      "gpuType": "T4",
      "include_colab_link": true
    },
    "kernelspec": {
      "name": "python3",
      "display_name": "Python 3"
    },
    "language_info": {
      "name": "python"
    },
    "accelerator": "GPU"
  },
  "cells": [
    {
      "cell_type": "markdown",
      "metadata": {
        "id": "view-in-github",
        "colab_type": "text"
      },
      "source": [
        "<a href=\"https://colab.research.google.com/github/kimdonggyu2008/deep_daiv_-/blob/main/Hybrid_Demucs_Music_Source_Separation.ipynb\" target=\"_parent\"><img src=\"https://colab.research.google.com/assets/colab-badge.svg\" alt=\"Open In Colab\"/></a>"
      ]
    },
    {
      "cell_type": "markdown",
      "metadata": {
        "id": "uLghRcAdqaph"
      },
      "source": [
        "# Hybrid Demucs from Colab\n",
        "\n",
        "This supports the Demucs source separation model (https://github.com/facebookresearch/demucs/)\n",
        "This is only for separation with pre-trained models, not training!\n",
        "\n",
        "You can either upload files manually (slow) or link your Google Drive account."
      ]
    },
    {
      "cell_type": "code",
      "metadata": {
        "id": "79JbZGcAqX3p"
      },
      "source": [
        "#!python3 -m pip install -U git+https://github.com/facebookresearch/demucs#egg=demucs"
      ],
      "execution_count": null,
      "outputs": []
    },
    {
      "cell_type": "code",
      "source": [
        "!pip install demucs"
      ],
      "metadata": {
        "colab": {
          "base_uri": "https://localhost:8080/",
          "height": 1000
        },
        "id": "oYPU0WSkHw9I",
        "outputId": "6dce6343-682c-4915-d4ab-d597999b2030"
      },
      "execution_count": 2,
      "outputs": [
        {
          "output_type": "stream",
          "name": "stdout",
          "text": [
            "Collecting demucs\n",
            "  Downloading demucs-4.0.1.tar.gz (1.2 MB)\n",
            "\u001b[2K     \u001b[90m━━━━━━━━━━━━━━━━━━━━━━━━━━━━━━━━━━━━━━━━\u001b[0m \u001b[32m1.2/1.2 MB\u001b[0m \u001b[31m13.0 MB/s\u001b[0m eta \u001b[36m0:00:00\u001b[0m\n",
            "\u001b[?25h  Preparing metadata (setup.py) ... \u001b[?25l\u001b[?25hdone\n",
            "Collecting dora-search (from demucs)\n",
            "  Downloading dora_search-0.1.12.tar.gz (87 kB)\n",
            "\u001b[2K     \u001b[90m━━━━━━━━━━━━━━━━━━━━━━━━━━━━━━━━━━━━━━━━\u001b[0m \u001b[32m87.1/87.1 kB\u001b[0m \u001b[31m8.9 MB/s\u001b[0m eta \u001b[36m0:00:00\u001b[0m\n",
            "\u001b[?25h  Installing build dependencies ... \u001b[?25l\u001b[?25hdone\n",
            "  Getting requirements to build wheel ... \u001b[?25l\u001b[?25hdone\n",
            "  Preparing metadata (pyproject.toml) ... \u001b[?25l\u001b[?25hdone\n",
            "Requirement already satisfied: einops in /usr/local/lib/python3.10/dist-packages (from demucs) (0.8.0)\n",
            "Collecting julius>=0.2.3 (from demucs)\n",
            "  Downloading julius-0.2.7.tar.gz (59 kB)\n",
            "\u001b[2K     \u001b[90m━━━━━━━━━━━━━━━━━━━━━━━━━━━━━━━━━━━━━━━━\u001b[0m \u001b[32m59.6/59.6 kB\u001b[0m \u001b[31m5.5 MB/s\u001b[0m eta \u001b[36m0:00:00\u001b[0m\n",
            "\u001b[?25h  Preparing metadata (setup.py) ... \u001b[?25l\u001b[?25hdone\n",
            "Collecting lameenc>=1.2 (from demucs)\n",
            "  Downloading lameenc-1.7.0-cp310-cp310-manylinux_2_17_x86_64.manylinux2014_x86_64.manylinux_2_28_x86_64.whl.metadata (803 bytes)\n",
            "Collecting openunmix (from demucs)\n",
            "  Downloading openunmix-1.3.0-py3-none-any.whl.metadata (17 kB)\n",
            "Requirement already satisfied: pyyaml in /usr/local/lib/python3.10/dist-packages (from demucs) (6.0.2)\n",
            "Requirement already satisfied: torch>=1.8.1 in /usr/local/lib/python3.10/dist-packages (from demucs) (2.4.0+cu121)\n",
            "Requirement already satisfied: torchaudio>=0.8 in /usr/local/lib/python3.10/dist-packages (from demucs) (2.4.0+cu121)\n",
            "Requirement already satisfied: tqdm in /usr/local/lib/python3.10/dist-packages (from demucs) (4.66.5)\n",
            "Requirement already satisfied: filelock in /usr/local/lib/python3.10/dist-packages (from torch>=1.8.1->demucs) (3.16.0)\n",
            "Requirement already satisfied: typing-extensions>=4.8.0 in /usr/local/lib/python3.10/dist-packages (from torch>=1.8.1->demucs) (4.12.2)\n",
            "Requirement already satisfied: sympy in /usr/local/lib/python3.10/dist-packages (from torch>=1.8.1->demucs) (1.13.2)\n",
            "Requirement already satisfied: networkx in /usr/local/lib/python3.10/dist-packages (from torch>=1.8.1->demucs) (3.3)\n",
            "Requirement already satisfied: jinja2 in /usr/local/lib/python3.10/dist-packages (from torch>=1.8.1->demucs) (3.1.4)\n",
            "Requirement already satisfied: fsspec in /usr/local/lib/python3.10/dist-packages (from torch>=1.8.1->demucs) (2024.6.1)\n",
            "Collecting omegaconf (from dora-search->demucs)\n",
            "  Downloading omegaconf-2.3.0-py3-none-any.whl.metadata (3.9 kB)\n",
            "Collecting retrying (from dora-search->demucs)\n",
            "  Downloading retrying-1.3.4-py3-none-any.whl.metadata (6.9 kB)\n",
            "Collecting submitit (from dora-search->demucs)\n",
            "  Downloading submitit-1.5.1-py3-none-any.whl.metadata (8.0 kB)\n",
            "Collecting treetable (from dora-search->demucs)\n",
            "  Downloading treetable-0.2.5.tar.gz (10 kB)\n",
            "  Preparing metadata (setup.py) ... \u001b[?25l\u001b[?25hdone\n",
            "Requirement already satisfied: numpy in /usr/local/lib/python3.10/dist-packages (from openunmix->demucs) (1.26.4)\n",
            "Requirement already satisfied: MarkupSafe>=2.0 in /usr/local/lib/python3.10/dist-packages (from jinja2->torch>=1.8.1->demucs) (2.1.5)\n",
            "Collecting antlr4-python3-runtime==4.9.* (from omegaconf->dora-search->demucs)\n",
            "  Downloading antlr4-python3-runtime-4.9.3.tar.gz (117 kB)\n",
            "\u001b[2K     \u001b[90m━━━━━━━━━━━━━━━━━━━━━━━━━━━━━━━━━━━━━━━━\u001b[0m \u001b[32m117.0/117.0 kB\u001b[0m \u001b[31m11.4 MB/s\u001b[0m eta \u001b[36m0:00:00\u001b[0m\n",
            "\u001b[?25h  Preparing metadata (setup.py) ... \u001b[?25l\u001b[?25hdone\n",
            "Requirement already satisfied: six>=1.7.0 in /usr/local/lib/python3.10/dist-packages (from retrying->dora-search->demucs) (1.16.0)\n",
            "Requirement already satisfied: cloudpickle>=1.2.1 in /usr/local/lib/python3.10/dist-packages (from submitit->dora-search->demucs) (2.2.1)\n",
            "Requirement already satisfied: mpmath<1.4,>=1.1.0 in /usr/local/lib/python3.10/dist-packages (from sympy->torch>=1.8.1->demucs) (1.3.0)\n",
            "Downloading lameenc-1.7.0-cp310-cp310-manylinux_2_17_x86_64.manylinux2014_x86_64.manylinux_2_28_x86_64.whl (239 kB)\n",
            "\u001b[2K   \u001b[90m━━━━━━━━━━━━━━━━━━━━━━━━━━━━━━━━━━━━━━━━\u001b[0m \u001b[32m239.8/239.8 kB\u001b[0m \u001b[31m12.1 MB/s\u001b[0m eta \u001b[36m0:00:00\u001b[0m\n",
            "\u001b[?25hDownloading openunmix-1.3.0-py3-none-any.whl (40 kB)\n",
            "\u001b[2K   \u001b[90m━━━━━━━━━━━━━━━━━━━━━━━━━━━━━━━━━━━━━━━━\u001b[0m \u001b[32m40.0/40.0 kB\u001b[0m \u001b[31m3.6 MB/s\u001b[0m eta \u001b[36m0:00:00\u001b[0m\n",
            "\u001b[?25hDownloading omegaconf-2.3.0-py3-none-any.whl (79 kB)\n",
            "\u001b[2K   \u001b[90m━━━━━━━━━━━━━━━━━━━━━━━━━━━━━━━━━━━━━━━━\u001b[0m \u001b[32m79.5/79.5 kB\u001b[0m \u001b[31m7.5 MB/s\u001b[0m eta \u001b[36m0:00:00\u001b[0m\n",
            "\u001b[?25hDownloading retrying-1.3.4-py3-none-any.whl (11 kB)\n",
            "Downloading submitit-1.5.1-py3-none-any.whl (74 kB)\n",
            "\u001b[2K   \u001b[90m━━━━━━━━━━━━━━━━━━━━━━━━━━━━━━━━━━━━━━━━\u001b[0m \u001b[32m74.7/74.7 kB\u001b[0m \u001b[31m8.3 MB/s\u001b[0m eta \u001b[36m0:00:00\u001b[0m\n",
            "\u001b[?25hBuilding wheels for collected packages: demucs, julius, dora-search, antlr4-python3-runtime, treetable\n",
            "  Building wheel for demucs (setup.py) ... \u001b[?25l\u001b[?25hdone\n",
            "  Created wheel for demucs: filename=demucs-4.0.1-py3-none-any.whl size=78388 sha256=4c8a526f9be609bb9fed42a2ee2eeb457b4d0d12ec2f3ee55a986d8099722747\n",
            "  Stored in directory: /root/.cache/pip/wheels/2a/65/a1/6cc0e525a84375af3b09823b3326b0ece53c4e68302c054548\n",
            "  Building wheel for julius (setup.py) ... \u001b[?25l\u001b[?25hdone\n",
            "  Created wheel for julius: filename=julius-0.2.7-py3-none-any.whl size=21869 sha256=d9f8a4220eaeb1231891bfd7a3aa34f71f1f240a2067d8627d4ef832622486ab\n",
            "  Stored in directory: /root/.cache/pip/wheels/b9/b2/05/f883527ffcb7f2ead5438a2c23439aa0c881eaa9a4c80256f4\n",
            "  Building wheel for dora-search (pyproject.toml) ... \u001b[?25l\u001b[?25hdone\n",
            "  Created wheel for dora-search: filename=dora_search-0.1.12-py3-none-any.whl size=75092 sha256=52f259703abbf3df7783bf81cc26491966a4280f26c0f828f4fa9a8aecfbcbc7\n",
            "  Stored in directory: /root/.cache/pip/wheels/b1/c2/c0/bea5cc405497284d584b958f293ef32c23bad42ae5e44d973c\n",
            "  Building wheel for antlr4-python3-runtime (setup.py) ... \u001b[?25l\u001b[?25hdone\n",
            "  Created wheel for antlr4-python3-runtime: filename=antlr4_python3_runtime-4.9.3-py3-none-any.whl size=144554 sha256=9d1c3301101a6123e10ccfbe751cebfa109e391e01d1562cc38daa1c415806dc\n",
            "  Stored in directory: /root/.cache/pip/wheels/12/93/dd/1f6a127edc45659556564c5730f6d4e300888f4bca2d4c5a88\n",
            "  Building wheel for treetable (setup.py) ... \u001b[?25l\u001b[?25hdone\n",
            "  Created wheel for treetable: filename=treetable-0.2.5-py3-none-any.whl size=7332 sha256=bfc9d2c2c24a7c345ef78e42cb55d58f8feccdcdc28942892d0784e38c452bd5\n",
            "  Stored in directory: /root/.cache/pip/wheels/72/55/0e/91c3655bdb162446f8a7cd477579397544454a63ae7c599c0c\n",
            "Successfully built demucs julius dora-search antlr4-python3-runtime treetable\n",
            "Installing collected packages: lameenc, antlr4-python3-runtime, treetable, submitit, retrying, omegaconf, julius, dora-search, openunmix, demucs\n",
            "Successfully installed antlr4-python3-runtime-4.9.3 demucs-4.0.1 dora-search-0.1.12 julius-0.2.7 lameenc-1.7.0 omegaconf-2.3.0 openunmix-1.3.0 retrying-1.3.4 submitit-1.5.1 treetable-0.2.5\n"
          ]
        },
        {
          "output_type": "display_data",
          "data": {
            "application/vnd.colab-display-data+json": {
              "pip_warning": {
                "packages": [
                  "pydevd_plugins"
                ]
              },
              "id": "89e1167310594fb89c59e6dc7b767ff1"
            }
          },
          "metadata": {}
        }
      ]
    },
    {
      "cell_type": "code",
      "source": [
        "import demucs.separate\n",
        "import numpy as np\n",
        "import librosa, soundfile\n",
        "import pandas as pd\n",
        "import os"
      ],
      "metadata": {
        "id": "sZ-LR4LWHuAI"
      },
      "execution_count": 1,
      "outputs": []
    },
    {
      "cell_type": "code",
      "metadata": {
        "id": "a-2p6OoOrOZK"
      },
      "source": [
        "# Please BE VERY CAREFUL, this will link your entire drive.\n",
        "# So don't edit code, except the one that says 'Customize the following options',\n",
        "# or you might mess up your files.\n",
        "# IF YOU DO NO WANT TO LINK DRIVE, please see below for an alternative!\n",
        "#from google.colab import drive\n",
        "#drive.mount('/gdrive')"
      ],
      "execution_count": 2,
      "outputs": []
    },
    {
      "cell_type": "code",
      "source": [
        "from google.colab import drive\n",
        "drive.mount('/content/drive')"
      ],
      "metadata": {
        "colab": {
          "base_uri": "https://localhost:8080/"
        },
        "id": "uKqR_AlcJ_P2",
        "outputId": "98aac1fe-bae5-4ffa-feae-b729663196a8"
      },
      "execution_count": 3,
      "outputs": [
        {
          "output_type": "stream",
          "name": "stdout",
          "text": [
            "Mounted at /content/drive\n"
          ]
        }
      ]
    },
    {
      "cell_type": "code",
      "metadata": {
        "id": "znCvBifRrO-b"
      },
      "source": [
        "# Customize the following options!\n",
        "model = \"htdemucs\"\n",
        "extensions = [\"mp3\", \"wav\", \"ogg\", \"flac\"]  # we will look for all those file types.\n",
        "two_stems = None   # only separate one stems from the rest, for instance\n",
        "# two_stems = \"vocals\"\n",
        "\n",
        "# Options for the output audio.\n",
        "mp3 = True\n",
        "mp3_rate = 320\n",
        "float32 = False  # output as float 32 wavs, unsused if 'mp3' is True.\n",
        "int24 = False    # output as int24 wavs, unused if 'mp3' is True.\n",
        "# You cannot set both `float32 = True` and `int24 = True` !!\n",
        "\n",
        "in_path = '/content/drive/MyDrive/제목없는 폴더/'\n",
        "out_path = '/content/drive/MyDrive/제목없는 폴더'"
      ],
      "execution_count": 4,
      "outputs": []
    },
    {
      "cell_type": "code",
      "metadata": {
        "id": "kMKN9BN4r37E"
      },
      "source": [
        "#@title Useful functions, don't forget to execute\n",
        "import io\n",
        "from pathlib import Path\n",
        "import select\n",
        "from shutil import rmtree\n",
        "import subprocess as sp\n",
        "import sys\n",
        "from typing import Dict, Tuple, Optional, IO\n",
        "\n",
        "from google.colab import files\n",
        "\n",
        "def find_files(in_path):\n",
        "    out = []\n",
        "    for file in Path(in_path).iterdir():\n",
        "        if file.suffix.lower().lstrip(\".\") in extensions:\n",
        "            out.append(file)\n",
        "    return out\n",
        "\n",
        "def copy_process_streams(process: sp.Popen):\n",
        "    def raw(stream: Optional[IO[bytes]]) -> IO[bytes]:\n",
        "        assert stream is not None\n",
        "        if isinstance(stream, io.BufferedIOBase):\n",
        "            stream = stream.raw\n",
        "        return stream\n",
        "\n",
        "    p_stdout, p_stderr = raw(process.stdout), raw(process.stderr)\n",
        "    stream_by_fd: Dict[int, Tuple[IO[bytes], io.StringIO, IO[str]]] = {\n",
        "        p_stdout.fileno(): (p_stdout, sys.stdout),\n",
        "        p_stderr.fileno(): (p_stderr, sys.stderr),\n",
        "    }\n",
        "    fds = list(stream_by_fd.keys())\n",
        "\n",
        "    while fds:\n",
        "        # `select` syscall will wait until one of the file descriptors has content.\n",
        "        ready, _, _ = select.select(fds, [], [])\n",
        "        for fd in ready:\n",
        "            p_stream, std = stream_by_fd[fd]\n",
        "            raw_buf = p_stream.read(2 ** 16)\n",
        "            if not raw_buf:\n",
        "                fds.remove(fd)\n",
        "                continue\n",
        "            buf = raw_buf.decode()\n",
        "            std.write(buf)\n",
        "            std.flush()\n",
        "\n",
        "def silence_below_threshold(audio_data, threshold):\n",
        "    # 절대값이 threshold보다 작은 값은 0으로 변환\n",
        "    audio_data[np.abs(audio_data) < threshold] = 0\n",
        "    return audio_data\n",
        "\n",
        "# def separate(inp=None, outp=None):\n",
        "#     inp = inp or in_path\n",
        "#     outp = outp or out_path\n",
        "#     cmd = [\"python3\", \"-m\", \"demucs.separate\", \"-o\", str(outp), \"-n\", model]\n",
        "#     if mp3:\n",
        "#         cmd += [\"--mp3\", f\"--mp3-bitrate={mp3_rate}\"]\n",
        "#     if float32:\n",
        "#         cmd += [\"--float32\"]\n",
        "#     if int24:\n",
        "#         cmd += [\"--int24\"]\n",
        "#     if two_stems is not None:\n",
        "#         cmd += [f\"--two-stems={two_stems}\"]\n",
        "#     files = [str(f) for f in find_files(inp)]\n",
        "#     if not files:\n",
        "#         print(f\"No valid audio files in {in_path}\")\n",
        "#         return\n",
        "#     print(\"Going to separate the files:\")\n",
        "#     print('\\n'.join(files))\n",
        "#     print(\"With command: \", \" \".join(cmd))\n",
        "#     p = sp.Popen(cmd + files, stdout=sp.PIPE, stderr=sp.PIPE)\n",
        "#     copy_process_streams(p)\n",
        "#     p.wait()\n",
        "#     if p.returncode != 0:\n",
        "#         print(\"Command failed, something went wrong.\")\n",
        "\n",
        "\n",
        "# def from_upload():\n",
        "#     out_path = Path('separated')\n",
        "#     in_path = Path('tmp_in')\n",
        "\n",
        "#     if in_path.exists():\n",
        "#         rmtree(in_path)\n",
        "#     in_path.mkdir()\n",
        "\n",
        "#     if out_path.exists():\n",
        "#         rmtree(out_path)\n",
        "#     out_path.mkdir()\n",
        "\n",
        "#     uploaded = files.upload()\n",
        "#     for name, content in uploaded.items():\n",
        "#         (in_path / name).write_bytes(content)\n",
        "#     separate(in_path, out_path)\n",
        "\n",
        "# 보컬과 배경음악만 분리하도록 two_stems 옵션을 추가하여 수정\n",
        "def separate_vocals_and_instrumental(inp=None, outp=None):\n",
        "    inp = inp or in_path\n",
        "    outp = outp or out_path\n",
        "    model = 'htdemucs'  # 사용할 모델 (예: htdemucs)\n",
        "    two_stems = 'vocals'  # 두 개의 stem으로 나누기: 보컬과 그 외\n",
        "    cmd = [\"python3\", \"-m\", \"demucs.separate\", \"-o\", str(outp), \"-n\", model]\n",
        "\n",
        "    # 두 스템 옵션을 추가 (보컬과 인스트루멘탈)\n",
        "    cmd += [f\"--two-stems={two_stems}\"]\n",
        "\n",
        "    # 입력 오디오 파일을 찾기\n",
        "    files = [str(f) for f in find_files(inp)]\n",
        "    if not files:\n",
        "        print(f\"No valid audio files in {in_path}\")\n",
        "        return\n",
        "\n",
        "    # 실행할 명령어 출력\n",
        "    print(\"Going to separate the files:\")\n",
        "    print('\\n'.join(files))\n",
        "    print(\"With command: \", \" \".join(cmd))\n",
        "\n",
        "    # 명령어 실행\n",
        "    p = sp.Popen(cmd + files, stdout=sp.PIPE, stderr=sp.PIPE)\n",
        "    copy_process_streams(p)\n",
        "    p.wait()\n",
        "\n",
        "    if p.returncode != 0:\n",
        "        print(\"Command failed, something went wrong.\")\n",
        "\n",
        "# 파일 업로드 후 보컬과 배경음악 분리 실행\n",
        "def from_upload_vocals_and_instrumental():\n",
        "    out_path = Path('separated')\n",
        "    in_path = Path('tmp_in')\n",
        "\n",
        "    if in_path.exists():\n",
        "        rmtree(in_path)\n",
        "    in_path.mkdir()\n",
        "\n",
        "    if out_path.exists():\n",
        "        rmtree(out_path)\n",
        "    out_path.mkdir()\n",
        "\n",
        "    uploaded = files.upload()\n",
        "    for name, content in uploaded.items():\n",
        "        (in_path / name).write_bytes(content)\n",
        "\n",
        "    # 보컬과 인스트루멘탈만 분리 실행\n",
        "    separate_vocals_and_instrumental(in_path, out_path)\n"
      ],
      "execution_count": 5,
      "outputs": []
    },
    {
      "cell_type": "code",
      "source": [
        "import numpy as np\n",
        "import wave\n",
        "import struct\n",
        "from scipy.signal import butter, lfilter\n",
        "from pathlib import Path\n",
        "\n",
        "# WAV 파일을 읽어들이는 함수\n",
        "def read_wav(filename):\n",
        "    with wave.open(filename, 'rb') as wav_file:\n",
        "        params = wav_file.getparams()  # 오디오 파일의 매개변수\n",
        "        n_channels, sampwidth, framerate, n_frames = params[:4]\n",
        "\n",
        "        # 오디오 데이터를 읽어서 numpy 배열로 변환\n",
        "        frames = wav_file.readframes(n_frames * n_channels)\n",
        "        out = struct.unpack_from(\"%dh\" % n_frames * n_channels, frames)\n",
        "        out = np.array(out)\n",
        "\n",
        "        return out, params\n",
        "\n",
        "# WAV 파일을 쓰는 함수 (파일 이름에 'vocals' 또는 'instrumental' 추가)\n",
        "def write_wav(output_folder, original_filename, audio_data, params, stem_type):\n",
        "    n_channels, sampwidth, framerate, n_frames = params[:4]\n",
        "\n",
        "    # 파일 이름에 보컬인지 인스트루멘탈인지 추가\n",
        "    output_filename = f\"{original_filename.stem}_{stem_type}.wav\"\n",
        "    output_filepath = Path(output_folder) / output_filename\n",
        "\n",
        "    with wave.open(output_filepath, 'wb') as wav_file:\n",
        "        wav_file.setparams(params)\n",
        "\n",
        "        # numpy 배열을 bytes로 변환하여 파일에 씀\n",
        "        frames = struct.pack(\"%dh\" % len(audio_data), *audio_data)\n",
        "        wav_file.writeframes(frames)\n",
        "\n",
        "# 고역 차단 필터를 적용하는 함수\n",
        "def high_pass_filter(audio_data, cutoff, fs, order=5):\n",
        "    nyquist = 0.5 * fs\n",
        "    normal_cutoff = cutoff / nyquist\n",
        "    b, a = butter(order, normal_cutoff, btype='high', analog=False)\n",
        "    filtered_audio = lfilter(b, a, audio_data)\n",
        "    return filtered_audio\n",
        "\n",
        "# 분리된 보컬에만 20Hz 이하 소리 제거를 적용하는 함수\n",
        "def apply_high_pass_filter_to_vocals(output_folder, original_filename, cutoff=20):\n",
        "    # 보컬 파일에 대해 필터 적용\n",
        "    vocals_file = Path(output_folder) / f\"{original_filename.stem}_vocals.wav\"\n",
        "    if vocals_file.exists():\n",
        "        print(f\"Processing vocals file: {vocals_file}\")\n",
        "        audio_data, params = read_wav(vocals_file)\n",
        "        framerate = params[2]\n",
        "\n",
        "        # 고역 차단 필터 적용 (cutoff 주파수는 20Hz)\n",
        "        filtered_audio = high_pass_filter(audio_data, cutoff, framerate)\n",
        "\n",
        "        # 보컬로 저장 (원본 파일 이름에 '_vocals' 추가)\n",
        "        write_wav(output_folder, original_filename, filtered_audio.astype(np.int16), params, \"vocals\")\n",
        "\n",
        "# 분리된 배경음악 파일에도 적용\n",
        "def rename_instrumental_files(output_folder, original_filename):\n",
        "    instrumental_file = Path(output_folder) / f\"{original_filename.stem}_no_vocals.wav\"\n",
        "    if instrumental_file.exists():\n",
        "        # 배경음악 파일 이름 변경 (원본 파일 이름에 '_instrumental' 추가)\n",
        "        new_filename = f\"{original_filename.stem}_instrumental.wav\"\n",
        "        new_filepath = instrumental_file.with_name(new_filename)\n",
        "        instrumental_file.rename(new_filepath)\n",
        "        print(f\"Renamed instrumental file to: {new_filepath}\")\n",
        "\n",
        "# 보컬과 배경음악만 분리하고 보컬에만 20Hz 이하 소리를 제거하는 기능 추가\n",
        "def separate_vocals_and_instrumental(inp=None, outp=None, cutoff=20):\n",
        "    inp = inp or in_path\n",
        "    outp = outp or out_path\n",
        "    model = 'htdemucs'  # 사용할 모델 (예: htdemucs)\n",
        "    two_stems = 'vocals'  # 두 개의 stem으로 나누기: 보컬과 그 외\n",
        "    cmd = [\"python3\", \"-m\", \"demucs.separate\", \"-o\", str(outp), \"-n\", model]\n",
        "\n",
        "    # 두 스템 옵션을 추가 (보컬과 인스트루멘탈)\n",
        "    cmd += [f\"--two-stems={two_stems}\"]\n",
        "\n",
        "    # 입력 오디오 파일을 찾기\n",
        "    files = [Path(f) for f in find_files(inp)]\n",
        "    if not files:\n",
        "        print(f\"No valid audio files in {in_path}\")\n",
        "        return\n",
        "\n",
        "    # 실행할 명령어 출력\n",
        "    print(\"Going to separate the files:\")\n",
        "    print('\\n'.join([str(f) for f in files]))\n",
        "    print(\"With command: \", \" \".join(cmd))\n",
        "\n",
        "    # 명령어 실행\n",
        "    p = sp.Popen(cmd + [str(f) for f in files], stdout=sp.PIPE, stderr=sp.PIPE)\n",
        "    copy_process_streams(p)\n",
        "    p.wait()\n",
        "\n",
        "    if p.returncode != 0:\n",
        "        print(\"Command failed, something went wrong.\")\n",
        "        return\n",
        "\n",
        "    # 보컬 및 배경음악 파일을 처리\n",
        "    for file in files:\n",
        "        # 보컬 파일에만 고역 차단 필터 적용 (20Hz 이하 제거)\n",
        "        apply_high_pass_filter_to_vocals(outp, file)\n",
        "\n",
        "        # 배경음악 파일 이름 변경\n",
        "        rename_instrumental_files(outp, file)\n",
        "\n",
        "    print(f\"Applied high-pass filter: cutoff={cutoff} Hz to vocals and renamed instrumental files.\")\n",
        "\n",
        "# 파일 업로드 후 보컬과 배경음악 분리 및 보컬에만 20Hz 이하 소리 제거 실행\n",
        "def from_upload_vocals_and_instrumental(cutoff=20):\n",
        "    out_path = Path('separated')\n",
        "    in_path = Path('tmp_in')\n",
        "\n",
        "    if in_path.exists():\n",
        "        rmtree(in_path)\n",
        "    in_path.mkdir()\n",
        "\n",
        "    if out_path.exists():\n",
        "        rmtree(out_path)\n",
        "    out_path.mkdir()\n",
        "\n",
        "    uploaded = files.upload()\n",
        "    for name, content in uploaded.items():\n",
        "        # 파일을 바이트로 작성하려면 open() 메서드 사용\n",
        "        with open(in_path / name, 'wb') as f:\n",
        "            f.write(content)\n",
        "\n",
        "    # 보컬과 인스트루멘탈 분리 및 보컬에만 20Hz 이하 소리 제거 실행\n",
        "    separate_vocals_and_instrumental(in_path, out_path, cutoff)\n"
      ],
      "metadata": {
        "id": "RImtA_PZpWYD"
      },
      "execution_count": 6,
      "outputs": []
    },
    {
      "cell_type": "code",
      "metadata": {
        "id": "gr9OJvf-tYyt"
      },
      "source": [
        "# This can be quite slow, in particular the loading, and saving from GDrive. Please be patient!\n",
        "# This is from google drive! Also, this will separate all the files inside the MyDrive/demucs folder,\n",
        "# so when you are happy with the results, remove the songs from there.\n",
        "# separate_vocals_and_instrumental()"
      ],
      "execution_count": 7,
      "outputs": []
    },
    {
      "cell_type": "code",
      "source": [
        "separate_vocals_and_instrumental(cutoff=20)"
      ],
      "metadata": {
        "colab": {
          "base_uri": "https://localhost:8080/"
        },
        "id": "Cz2wCRpireBv",
        "outputId": "c1c8092d-7928-4408-cf34-d9f63fcec9dd"
      },
      "execution_count": 8,
      "outputs": [
        {
          "output_type": "stream",
          "name": "stdout",
          "text": [
            "Going to separate the files:\n",
            "/content/drive/MyDrive/제목없는 폴더/기아_응원가_솔로1.wav\n",
            "/content/drive/MyDrive/제목없는 폴더/기아_응원가_솔로2.wav\n",
            "/content/drive/MyDrive/제목없는 폴더/기아_응원가_솔로3.wav\n",
            "/content/drive/MyDrive/제목없는 폴더/기아_응원가_솔로4.wav\n",
            "/content/drive/MyDrive/제목없는 폴더/NC_응원가_솔로1.wav\n",
            "/content/drive/MyDrive/제목없는 폴더/NC_응원가_솔로2.wav\n",
            "/content/drive/MyDrive/제목없는 폴더/NC_응원가_솔로3.wav\n",
            "/content/drive/MyDrive/제목없는 폴더/NC_응원가_솔로4.wav\n",
            "/content/drive/MyDrive/제목없는 폴더/NC_응원가_솔로5.wav\n",
            "/content/drive/MyDrive/제목없는 폴더/NC_응원가_솔로6.wav\n",
            "/content/drive/MyDrive/제목없는 폴더/삼성_응원가_솔로1.wav\n",
            "/content/drive/MyDrive/제목없는 폴더/삼성_응원가_솔로2.wav\n",
            "/content/drive/MyDrive/제목없는 폴더/삼성_응원가_솔로3.wav\n",
            "/content/drive/MyDrive/제목없는 폴더/두산_응원가_솔로1.wav\n",
            "/content/drive/MyDrive/제목없는 폴더/두산_응원가_솔로2.wav\n",
            "/content/drive/MyDrive/제목없는 폴더/LG트윈스_응원가_솔로.wav\n",
            "With command:  python3 -m demucs.separate -o /content/drive/MyDrive/제목없는 폴더 -n htdemucs --two-stems=vocals\n"
          ]
        },
        {
          "output_type": "stream",
          "name": "stderr",
          "text": [
            "Downloading: \"https://dl.fbaipublicfiles.com/demucs/hybrid_transformer/955717e8-8726e21a.th\" to /root/.cache/torch/hub/checkpoints/955717e8-8726e21a.th\n",
            "100%|██████████| 80.2M/80.2M [00:00<00:00, 127MB/s]\n"
          ]
        },
        {
          "output_type": "stream",
          "name": "stdout",
          "text": [
            "Selected model is a bag of 1 models. You will see that many progress bars per track.\n",
            "Separated tracks will be stored in /content/drive/MyDrive/제목없는 폴더/htdemucs\n",
            "Separating track /content/drive/MyDrive/제목없는 폴더/기아_응원가_솔로1.wav\n"
          ]
        },
        {
          "output_type": "stream",
          "name": "stderr",
          "text": [
            "100%|██████████████████████████████████████████████| 35.099999999999994/35.099999999999994 [00:04<00:00,  7.18seconds/s]\n"
          ]
        },
        {
          "output_type": "stream",
          "name": "stdout",
          "text": [
            "Separating track /content/drive/MyDrive/제목없는 폴더/기아_응원가_솔로2.wav\n"
          ]
        },
        {
          "output_type": "stream",
          "name": "stderr",
          "text": [
            "100%|██████████████████████████████████████████████| 40.949999999999996/40.949999999999996 [00:02<00:00, 18.78seconds/s]\n"
          ]
        },
        {
          "output_type": "stream",
          "name": "stdout",
          "text": [
            "Separating track /content/drive/MyDrive/제목없는 폴더/기아_응원가_솔로3.wav\n"
          ]
        },
        {
          "output_type": "stream",
          "name": "stderr",
          "text": [
            "100%|██████████████████████████████████████████████| 40.949999999999996/40.949999999999996 [00:02<00:00, 19.16seconds/s]\n"
          ]
        },
        {
          "output_type": "stream",
          "name": "stdout",
          "text": [
            "Separating track /content/drive/MyDrive/제목없는 폴더/기아_응원가_솔로4.wav\n"
          ]
        },
        {
          "output_type": "stream",
          "name": "stderr",
          "text": [
            "100%|████████████████████████████████████████████████████████████████████████| 52.65/52.65 [00:02<00:00, 18.51seconds/s]\n"
          ]
        },
        {
          "output_type": "stream",
          "name": "stdout",
          "text": [
            "Separating track /content/drive/MyDrive/제목없는 폴더/NC_응원가_솔로1.wav\n"
          ]
        },
        {
          "output_type": "stream",
          "name": "stderr",
          "text": [
            "100%|██████████████████████████████████████████████████████████████████████████| 46.8/46.8 [00:02<00:00, 18.97seconds/s]\n"
          ]
        },
        {
          "output_type": "stream",
          "name": "stdout",
          "text": [
            "Separating track /content/drive/MyDrive/제목없는 폴더/NC_응원가_솔로2.wav\n"
          ]
        },
        {
          "output_type": "stream",
          "name": "stderr",
          "text": [
            "100%|██████████████████████████████████████████████| 40.949999999999996/40.949999999999996 [00:02<00:00, 19.02seconds/s]\n"
          ]
        },
        {
          "output_type": "stream",
          "name": "stdout",
          "text": [
            "Separating track /content/drive/MyDrive/제목없는 폴더/NC_응원가_솔로3.wav\n"
          ]
        },
        {
          "output_type": "stream",
          "name": "stderr",
          "text": [
            "100%|██████████████████████████████████████████████| 111.14999999999999/111.14999999999999 [00:05<00:00, 18.99seconds/s]\n"
          ]
        },
        {
          "output_type": "stream",
          "name": "stdout",
          "text": [
            "Separating track /content/drive/MyDrive/제목없는 폴더/NC_응원가_솔로4.wav\n"
          ]
        },
        {
          "output_type": "stream",
          "name": "stderr",
          "text": [
            "100%|██████████████████████████████████████████████| 111.14999999999999/111.14999999999999 [00:05<00:00, 18.99seconds/s]\n"
          ]
        },
        {
          "output_type": "stream",
          "name": "stdout",
          "text": [
            "Separating track /content/drive/MyDrive/제목없는 폴더/NC_응원가_솔로5.wav\n"
          ]
        },
        {
          "output_type": "stream",
          "name": "stderr",
          "text": [
            "100%|████████████████████████████████████████████████████████████████████████| 105.3/105.3 [00:05<00:00, 18.99seconds/s]\n"
          ]
        },
        {
          "output_type": "stream",
          "name": "stdout",
          "text": [
            "Separating track /content/drive/MyDrive/제목없는 폴더/NC_응원가_솔로6.wav\n"
          ]
        },
        {
          "output_type": "stream",
          "name": "stderr",
          "text": [
            "100%|██████████████████████████████████████████████████████████████████████████| 58.5/58.5 [00:03<00:00, 18.23seconds/s]\n"
          ]
        },
        {
          "output_type": "stream",
          "name": "stdout",
          "text": [
            "Separating track /content/drive/MyDrive/제목없는 폴더/삼성_응원가_솔로1.wav\n"
          ]
        },
        {
          "output_type": "stream",
          "name": "stderr",
          "text": [
            "100%|██████████████████████████████████████████████| 40.949999999999996/40.949999999999996 [00:02<00:00, 18.45seconds/s]\n"
          ]
        },
        {
          "output_type": "stream",
          "name": "stdout",
          "text": [
            "Separating track /content/drive/MyDrive/제목없는 폴더/삼성_응원가_솔로2.wav\n"
          ]
        },
        {
          "output_type": "stream",
          "name": "stderr",
          "text": [
            "100%|██████████████████████████████████████████████| 40.949999999999996/40.949999999999996 [00:02<00:00, 18.52seconds/s]\n"
          ]
        },
        {
          "output_type": "stream",
          "name": "stdout",
          "text": [
            "Separating track /content/drive/MyDrive/제목없는 폴더/삼성_응원가_솔로3.wav\n"
          ]
        },
        {
          "output_type": "stream",
          "name": "stderr",
          "text": [
            "100%|██████████████████████████████████████████████| 40.949999999999996/40.949999999999996 [00:02<00:00, 18.17seconds/s]\n"
          ]
        },
        {
          "output_type": "stream",
          "name": "stdout",
          "text": [
            "Separating track /content/drive/MyDrive/제목없는 폴더/두산_응원가_솔로1.wav\n"
          ]
        },
        {
          "output_type": "stream",
          "name": "stderr",
          "text": [
            "100%|██████████████████████████████████████████████| 222.29999999999998/222.29999999999998 [00:11<00:00, 18.98seconds/s]\n"
          ]
        },
        {
          "output_type": "stream",
          "name": "stdout",
          "text": [
            "Separating track /content/drive/MyDrive/제목없는 폴더/두산_응원가_솔로2.wav\n"
          ]
        },
        {
          "output_type": "stream",
          "name": "stderr",
          "text": [
            "100%|██████████████████████████████████████████████| 140.39999999999998/140.39999999999998 [00:07<00:00, 19.00seconds/s]\n"
          ]
        },
        {
          "output_type": "stream",
          "name": "stdout",
          "text": [
            "Separating track /content/drive/MyDrive/제목없는 폴더/LG트윈스_응원가_솔로.wav\n"
          ]
        },
        {
          "output_type": "stream",
          "name": "stderr",
          "text": [
            "100%|██████████████████████████████████████████████████████████████████████████| 46.8/46.8 [00:02<00:00, 18.74seconds/s]\n"
          ]
        },
        {
          "output_type": "stream",
          "name": "stdout",
          "text": [
            "Applied high-pass filter: cutoff=20 Hz to vocals and renamed instrumental files.\n"
          ]
        }
      ]
    },
    {
      "cell_type": "code",
      "source": [
        "import os\n",
        "from pathlib import Path\n",
        "\n",
        "def rename_wav_files_with_parent_folder(directory):\n",
        "    \"\"\"\n",
        "    주어진 디렉터리 내의 모든 하위 폴더의 wav 파일에 대해 상위 폴더 이름을 추가하여 파일 이름을 변경합니다.\n",
        "\n",
        "    Parameters:\n",
        "    - directory: 작업할 최상위 디렉터리 경로\n",
        "    \"\"\"\n",
        "    directory_path = Path(directory)\n",
        "\n",
        "    # 디렉터리 내 모든 하위 wav 파일을 검색\n",
        "    for wav_file in directory_path.glob('**/*.wav'):\n",
        "        parent_folder = wav_file.parent.name  # 상위 폴더 이름\n",
        "        new_filename = f\"{parent_folder}_{wav_file.name}\"  # 상위 폴더 이름 + 기존 파일 이름\n",
        "        new_filepath = wav_file.with_name(new_filename)  # 새로운 파일 경로\n",
        "\n",
        "        # 파일 이름 변경\n",
        "        wav_file.rename(new_filepath)\n",
        "        print(f\"Renamed: {wav_file} -> {new_filepath}\")\n",
        "\n",
        "# 사용 예시: 현재 디렉토리의 하위 폴더들에 대해 이름 변경\n",
        "directory = '/content/drive/MyDrive/제목없는 폴더/htdemucs'  # 여기서 'your_directory_path'는 대상 디렉토리 경로\n",
        "rename_wav_files_with_parent_folder(directory)\n"
      ],
      "metadata": {
        "colab": {
          "base_uri": "https://localhost:8080/"
        },
        "id": "Dx81co7_xPov",
        "outputId": "1a141ab1-6de9-456d-bc32-8442f9ecaeb9"
      },
      "execution_count": 9,
      "outputs": [
        {
          "output_type": "stream",
          "name": "stdout",
          "text": [
            "Renamed: /content/drive/MyDrive/제목없는 폴더/htdemucs/vocals/키움_응원가_솔로1_vocals.wav -> /content/drive/MyDrive/제목없는 폴더/htdemucs/vocals/vocals_키움_응원가_솔로1_vocals.wav\n",
            "Renamed: /content/drive/MyDrive/제목없는 폴더/htdemucs/vocals/키움_응원가_솔로2_vocals.wav -> /content/drive/MyDrive/제목없는 폴더/htdemucs/vocals/vocals_키움_응원가_솔로2_vocals.wav\n",
            "Renamed: /content/drive/MyDrive/제목없는 폴더/htdemucs/vocals/한화_응원가_솔로1_vocals.wav -> /content/drive/MyDrive/제목없는 폴더/htdemucs/vocals/vocals_한화_응원가_솔로1_vocals.wav\n",
            "Renamed: /content/drive/MyDrive/제목없는 폴더/htdemucs/vocals/SSG_응원가_솔로_vocals.wav -> /content/drive/MyDrive/제목없는 폴더/htdemucs/vocals/vocals_SSG_응원가_솔로_vocals.wav\n",
            "Renamed: /content/drive/MyDrive/제목없는 폴더/htdemucs/instrumentals/키움_응원가_솔로1_no_vocals.wav -> /content/drive/MyDrive/제목없는 폴더/htdemucs/instrumentals/instrumentals_키움_응원가_솔로1_no_vocals.wav\n",
            "Renamed: /content/drive/MyDrive/제목없는 폴더/htdemucs/instrumentals/키움_응원가_솔로2_no_vocals.wav -> /content/drive/MyDrive/제목없는 폴더/htdemucs/instrumentals/instrumentals_키움_응원가_솔로2_no_vocals.wav\n",
            "Renamed: /content/drive/MyDrive/제목없는 폴더/htdemucs/instrumentals/한화_응원가_솔로1_no_vocals.wav -> /content/drive/MyDrive/제목없는 폴더/htdemucs/instrumentals/instrumentals_한화_응원가_솔로1_no_vocals.wav\n",
            "Renamed: /content/drive/MyDrive/제목없는 폴더/htdemucs/instrumentals/SSG_응원가_솔로_no_vocals.wav -> /content/drive/MyDrive/제목없는 폴더/htdemucs/instrumentals/instrumentals_SSG_응원가_솔로_no_vocals.wav\n",
            "Renamed: /content/drive/MyDrive/제목없는 폴더/htdemucs/기아_응원가_솔로1/vocals.wav -> /content/drive/MyDrive/제목없는 폴더/htdemucs/기아_응원가_솔로1/기아_응원가_솔로1_vocals.wav\n",
            "Renamed: /content/drive/MyDrive/제목없는 폴더/htdemucs/기아_응원가_솔로1/no_vocals.wav -> /content/drive/MyDrive/제목없는 폴더/htdemucs/기아_응원가_솔로1/기아_응원가_솔로1_no_vocals.wav\n",
            "Renamed: /content/drive/MyDrive/제목없는 폴더/htdemucs/기아_응원가_솔로2/vocals.wav -> /content/drive/MyDrive/제목없는 폴더/htdemucs/기아_응원가_솔로2/기아_응원가_솔로2_vocals.wav\n",
            "Renamed: /content/drive/MyDrive/제목없는 폴더/htdemucs/기아_응원가_솔로2/no_vocals.wav -> /content/drive/MyDrive/제목없는 폴더/htdemucs/기아_응원가_솔로2/기아_응원가_솔로2_no_vocals.wav\n",
            "Renamed: /content/drive/MyDrive/제목없는 폴더/htdemucs/기아_응원가_솔로3/vocals.wav -> /content/drive/MyDrive/제목없는 폴더/htdemucs/기아_응원가_솔로3/기아_응원가_솔로3_vocals.wav\n",
            "Renamed: /content/drive/MyDrive/제목없는 폴더/htdemucs/기아_응원가_솔로3/no_vocals.wav -> /content/drive/MyDrive/제목없는 폴더/htdemucs/기아_응원가_솔로3/기아_응원가_솔로3_no_vocals.wav\n",
            "Renamed: /content/drive/MyDrive/제목없는 폴더/htdemucs/기아_응원가_솔로4/vocals.wav -> /content/drive/MyDrive/제목없는 폴더/htdemucs/기아_응원가_솔로4/기아_응원가_솔로4_vocals.wav\n",
            "Renamed: /content/drive/MyDrive/제목없는 폴더/htdemucs/기아_응원가_솔로4/no_vocals.wav -> /content/drive/MyDrive/제목없는 폴더/htdemucs/기아_응원가_솔로4/기아_응원가_솔로4_no_vocals.wav\n",
            "Renamed: /content/drive/MyDrive/제목없는 폴더/htdemucs/NC_응원가_솔로1/vocals.wav -> /content/drive/MyDrive/제목없는 폴더/htdemucs/NC_응원가_솔로1/NC_응원가_솔로1_vocals.wav\n",
            "Renamed: /content/drive/MyDrive/제목없는 폴더/htdemucs/NC_응원가_솔로1/no_vocals.wav -> /content/drive/MyDrive/제목없는 폴더/htdemucs/NC_응원가_솔로1/NC_응원가_솔로1_no_vocals.wav\n",
            "Renamed: /content/drive/MyDrive/제목없는 폴더/htdemucs/NC_응원가_솔로2/vocals.wav -> /content/drive/MyDrive/제목없는 폴더/htdemucs/NC_응원가_솔로2/NC_응원가_솔로2_vocals.wav\n",
            "Renamed: /content/drive/MyDrive/제목없는 폴더/htdemucs/NC_응원가_솔로2/no_vocals.wav -> /content/drive/MyDrive/제목없는 폴더/htdemucs/NC_응원가_솔로2/NC_응원가_솔로2_no_vocals.wav\n",
            "Renamed: /content/drive/MyDrive/제목없는 폴더/htdemucs/NC_응원가_솔로3/vocals.wav -> /content/drive/MyDrive/제목없는 폴더/htdemucs/NC_응원가_솔로3/NC_응원가_솔로3_vocals.wav\n",
            "Renamed: /content/drive/MyDrive/제목없는 폴더/htdemucs/NC_응원가_솔로3/no_vocals.wav -> /content/drive/MyDrive/제목없는 폴더/htdemucs/NC_응원가_솔로3/NC_응원가_솔로3_no_vocals.wav\n",
            "Renamed: /content/drive/MyDrive/제목없는 폴더/htdemucs/NC_응원가_솔로4/vocals.wav -> /content/drive/MyDrive/제목없는 폴더/htdemucs/NC_응원가_솔로4/NC_응원가_솔로4_vocals.wav\n",
            "Renamed: /content/drive/MyDrive/제목없는 폴더/htdemucs/NC_응원가_솔로4/no_vocals.wav -> /content/drive/MyDrive/제목없는 폴더/htdemucs/NC_응원가_솔로4/NC_응원가_솔로4_no_vocals.wav\n",
            "Renamed: /content/drive/MyDrive/제목없는 폴더/htdemucs/NC_응원가_솔로5/vocals.wav -> /content/drive/MyDrive/제목없는 폴더/htdemucs/NC_응원가_솔로5/NC_응원가_솔로5_vocals.wav\n",
            "Renamed: /content/drive/MyDrive/제목없는 폴더/htdemucs/NC_응원가_솔로5/no_vocals.wav -> /content/drive/MyDrive/제목없는 폴더/htdemucs/NC_응원가_솔로5/NC_응원가_솔로5_no_vocals.wav\n",
            "Renamed: /content/drive/MyDrive/제목없는 폴더/htdemucs/NC_응원가_솔로6/vocals.wav -> /content/drive/MyDrive/제목없는 폴더/htdemucs/NC_응원가_솔로6/NC_응원가_솔로6_vocals.wav\n",
            "Renamed: /content/drive/MyDrive/제목없는 폴더/htdemucs/NC_응원가_솔로6/no_vocals.wav -> /content/drive/MyDrive/제목없는 폴더/htdemucs/NC_응원가_솔로6/NC_응원가_솔로6_no_vocals.wav\n",
            "Renamed: /content/drive/MyDrive/제목없는 폴더/htdemucs/삼성_응원가_솔로1/vocals.wav -> /content/drive/MyDrive/제목없는 폴더/htdemucs/삼성_응원가_솔로1/삼성_응원가_솔로1_vocals.wav\n",
            "Renamed: /content/drive/MyDrive/제목없는 폴더/htdemucs/삼성_응원가_솔로1/no_vocals.wav -> /content/drive/MyDrive/제목없는 폴더/htdemucs/삼성_응원가_솔로1/삼성_응원가_솔로1_no_vocals.wav\n",
            "Renamed: /content/drive/MyDrive/제목없는 폴더/htdemucs/삼성_응원가_솔로2/vocals.wav -> /content/drive/MyDrive/제목없는 폴더/htdemucs/삼성_응원가_솔로2/삼성_응원가_솔로2_vocals.wav\n",
            "Renamed: /content/drive/MyDrive/제목없는 폴더/htdemucs/삼성_응원가_솔로2/no_vocals.wav -> /content/drive/MyDrive/제목없는 폴더/htdemucs/삼성_응원가_솔로2/삼성_응원가_솔로2_no_vocals.wav\n",
            "Renamed: /content/drive/MyDrive/제목없는 폴더/htdemucs/삼성_응원가_솔로3/vocals.wav -> /content/drive/MyDrive/제목없는 폴더/htdemucs/삼성_응원가_솔로3/삼성_응원가_솔로3_vocals.wav\n",
            "Renamed: /content/drive/MyDrive/제목없는 폴더/htdemucs/삼성_응원가_솔로3/no_vocals.wav -> /content/drive/MyDrive/제목없는 폴더/htdemucs/삼성_응원가_솔로3/삼성_응원가_솔로3_no_vocals.wav\n",
            "Renamed: /content/drive/MyDrive/제목없는 폴더/htdemucs/두산_응원가_솔로1/vocals.wav -> /content/drive/MyDrive/제목없는 폴더/htdemucs/두산_응원가_솔로1/두산_응원가_솔로1_vocals.wav\n",
            "Renamed: /content/drive/MyDrive/제목없는 폴더/htdemucs/두산_응원가_솔로1/no_vocals.wav -> /content/drive/MyDrive/제목없는 폴더/htdemucs/두산_응원가_솔로1/두산_응원가_솔로1_no_vocals.wav\n",
            "Renamed: /content/drive/MyDrive/제목없는 폴더/htdemucs/두산_응원가_솔로2/vocals.wav -> /content/drive/MyDrive/제목없는 폴더/htdemucs/두산_응원가_솔로2/두산_응원가_솔로2_vocals.wav\n",
            "Renamed: /content/drive/MyDrive/제목없는 폴더/htdemucs/두산_응원가_솔로2/no_vocals.wav -> /content/drive/MyDrive/제목없는 폴더/htdemucs/두산_응원가_솔로2/두산_응원가_솔로2_no_vocals.wav\n",
            "Renamed: /content/drive/MyDrive/제목없는 폴더/htdemucs/LG트윈스_응원가_솔로/vocals.wav -> /content/drive/MyDrive/제목없는 폴더/htdemucs/LG트윈스_응원가_솔로/LG트윈스_응원가_솔로_vocals.wav\n",
            "Renamed: /content/drive/MyDrive/제목없는 폴더/htdemucs/LG트윈스_응원가_솔로/no_vocals.wav -> /content/drive/MyDrive/제목없는 폴더/htdemucs/LG트윈스_응원가_솔로/LG트윈스_응원가_솔로_no_vocals.wav\n"
          ]
        }
      ]
    },
    {
      "cell_type": "code",
      "source": [
        "import shutil\n",
        "from pathlib import Path\n",
        "\n",
        "def move_audio_files(directory):\n",
        "    \"\"\"\n",
        "    보컬 파일과 배경음악 파일을 각각 'vocals'와 'instrumentals' 폴더로 이동시키는 함수.\n",
        "\n",
        "    Parameters:\n",
        "    - directory: 작업할 최상위 디렉토리 경로\n",
        "    \"\"\"\n",
        "    directory_path = Path(directory)\n",
        "    vocals_path = directory_path / \"vocals\"\n",
        "    instrumentals_path = directory_path / \"instrumentals\"\n",
        "\n",
        "    # vocals 및 instrumentals 폴더 생성\n",
        "    vocals_path.mkdir(exist_ok=True)\n",
        "    instrumentals_path.mkdir(exist_ok=True)\n",
        "\n",
        "    # 디렉터리 내 모든 하위 wav 파일을 검색 및 분류\n",
        "    for wav_file in directory_path.glob('**/*.wav'):\n",
        "        if \"_vocals.wav\" in wav_file.name:\n",
        "            # 보컬 파일을 vocals 폴더로 이동\n",
        "            destination = vocals_path / wav_file.name\n",
        "            shutil.move(str(wav_file), str(destination))\n",
        "            print(f\"Moved {wav_file} to {destination}\")\n",
        "        elif \"_no_vocals.wav\" in wav_file.name:\n",
        "            # 배경음악 파일을 instrumentals 폴더로 이동\n",
        "            destination = instrumentals_path / wav_file.name\n",
        "            shutil.move(str(wav_file), str(destination))\n",
        "            print(f\"Moved {wav_file} to {destination}\")\n",
        "\n",
        "# 사용 예시: 특정 디렉토리 내의 보컬 파일과 배경음악 파일을 각각 이동\n",
        "directory = '/content/drive/MyDrive/제목없는 폴더/htdemucs'\n",
        "move_audio_files(directory)\n"
      ],
      "metadata": {
        "colab": {
          "base_uri": "https://localhost:8080/"
        },
        "id": "dj3aiVDUz6Vx",
        "outputId": "3961a4f3-6f39-451f-ec74-7758ce341dd5"
      },
      "execution_count": 10,
      "outputs": [
        {
          "output_type": "stream",
          "name": "stdout",
          "text": [
            "Moved /content/drive/MyDrive/제목없는 폴더/htdemucs/vocals/vocals_키움_응원가_솔로1_vocals.wav to /content/drive/MyDrive/제목없는 폴더/htdemucs/vocals/vocals_키움_응원가_솔로1_vocals.wav\n",
            "Moved /content/drive/MyDrive/제목없는 폴더/htdemucs/vocals/vocals_키움_응원가_솔로2_vocals.wav to /content/drive/MyDrive/제목없는 폴더/htdemucs/vocals/vocals_키움_응원가_솔로2_vocals.wav\n",
            "Moved /content/drive/MyDrive/제목없는 폴더/htdemucs/vocals/vocals_한화_응원가_솔로1_vocals.wav to /content/drive/MyDrive/제목없는 폴더/htdemucs/vocals/vocals_한화_응원가_솔로1_vocals.wav\n",
            "Moved /content/drive/MyDrive/제목없는 폴더/htdemucs/vocals/vocals_SSG_응원가_솔로_vocals.wav to /content/drive/MyDrive/제목없는 폴더/htdemucs/vocals/vocals_SSG_응원가_솔로_vocals.wav\n",
            "Moved /content/drive/MyDrive/제목없는 폴더/htdemucs/instrumentals/instrumentals_키움_응원가_솔로1_no_vocals.wav to /content/drive/MyDrive/제목없는 폴더/htdemucs/vocals/instrumentals_키움_응원가_솔로1_no_vocals.wav\n",
            "Moved /content/drive/MyDrive/제목없는 폴더/htdemucs/instrumentals/instrumentals_키움_응원가_솔로2_no_vocals.wav to /content/drive/MyDrive/제목없는 폴더/htdemucs/vocals/instrumentals_키움_응원가_솔로2_no_vocals.wav\n",
            "Moved /content/drive/MyDrive/제목없는 폴더/htdemucs/instrumentals/instrumentals_한화_응원가_솔로1_no_vocals.wav to /content/drive/MyDrive/제목없는 폴더/htdemucs/vocals/instrumentals_한화_응원가_솔로1_no_vocals.wav\n",
            "Moved /content/drive/MyDrive/제목없는 폴더/htdemucs/instrumentals/instrumentals_SSG_응원가_솔로_no_vocals.wav to /content/drive/MyDrive/제목없는 폴더/htdemucs/vocals/instrumentals_SSG_응원가_솔로_no_vocals.wav\n",
            "Moved /content/drive/MyDrive/제목없는 폴더/htdemucs/기아_응원가_솔로1/기아_응원가_솔로1_vocals.wav to /content/drive/MyDrive/제목없는 폴더/htdemucs/vocals/기아_응원가_솔로1_vocals.wav\n",
            "Moved /content/drive/MyDrive/제목없는 폴더/htdemucs/기아_응원가_솔로1/기아_응원가_솔로1_no_vocals.wav to /content/drive/MyDrive/제목없는 폴더/htdemucs/vocals/기아_응원가_솔로1_no_vocals.wav\n",
            "Moved /content/drive/MyDrive/제목없는 폴더/htdemucs/기아_응원가_솔로2/기아_응원가_솔로2_vocals.wav to /content/drive/MyDrive/제목없는 폴더/htdemucs/vocals/기아_응원가_솔로2_vocals.wav\n",
            "Moved /content/drive/MyDrive/제목없는 폴더/htdemucs/기아_응원가_솔로2/기아_응원가_솔로2_no_vocals.wav to /content/drive/MyDrive/제목없는 폴더/htdemucs/vocals/기아_응원가_솔로2_no_vocals.wav\n",
            "Moved /content/drive/MyDrive/제목없는 폴더/htdemucs/기아_응원가_솔로3/기아_응원가_솔로3_vocals.wav to /content/drive/MyDrive/제목없는 폴더/htdemucs/vocals/기아_응원가_솔로3_vocals.wav\n",
            "Moved /content/drive/MyDrive/제목없는 폴더/htdemucs/기아_응원가_솔로3/기아_응원가_솔로3_no_vocals.wav to /content/drive/MyDrive/제목없는 폴더/htdemucs/vocals/기아_응원가_솔로3_no_vocals.wav\n",
            "Moved /content/drive/MyDrive/제목없는 폴더/htdemucs/기아_응원가_솔로4/기아_응원가_솔로4_vocals.wav to /content/drive/MyDrive/제목없는 폴더/htdemucs/vocals/기아_응원가_솔로4_vocals.wav\n",
            "Moved /content/drive/MyDrive/제목없는 폴더/htdemucs/기아_응원가_솔로4/기아_응원가_솔로4_no_vocals.wav to /content/drive/MyDrive/제목없는 폴더/htdemucs/vocals/기아_응원가_솔로4_no_vocals.wav\n",
            "Moved /content/drive/MyDrive/제목없는 폴더/htdemucs/NC_응원가_솔로1/NC_응원가_솔로1_vocals.wav to /content/drive/MyDrive/제목없는 폴더/htdemucs/vocals/NC_응원가_솔로1_vocals.wav\n",
            "Moved /content/drive/MyDrive/제목없는 폴더/htdemucs/NC_응원가_솔로1/NC_응원가_솔로1_no_vocals.wav to /content/drive/MyDrive/제목없는 폴더/htdemucs/vocals/NC_응원가_솔로1_no_vocals.wav\n",
            "Moved /content/drive/MyDrive/제목없는 폴더/htdemucs/NC_응원가_솔로2/NC_응원가_솔로2_vocals.wav to /content/drive/MyDrive/제목없는 폴더/htdemucs/vocals/NC_응원가_솔로2_vocals.wav\n",
            "Moved /content/drive/MyDrive/제목없는 폴더/htdemucs/NC_응원가_솔로2/NC_응원가_솔로2_no_vocals.wav to /content/drive/MyDrive/제목없는 폴더/htdemucs/vocals/NC_응원가_솔로2_no_vocals.wav\n",
            "Moved /content/drive/MyDrive/제목없는 폴더/htdemucs/NC_응원가_솔로3/NC_응원가_솔로3_vocals.wav to /content/drive/MyDrive/제목없는 폴더/htdemucs/vocals/NC_응원가_솔로3_vocals.wav\n",
            "Moved /content/drive/MyDrive/제목없는 폴더/htdemucs/NC_응원가_솔로3/NC_응원가_솔로3_no_vocals.wav to /content/drive/MyDrive/제목없는 폴더/htdemucs/vocals/NC_응원가_솔로3_no_vocals.wav\n",
            "Moved /content/drive/MyDrive/제목없는 폴더/htdemucs/NC_응원가_솔로4/NC_응원가_솔로4_vocals.wav to /content/drive/MyDrive/제목없는 폴더/htdemucs/vocals/NC_응원가_솔로4_vocals.wav\n",
            "Moved /content/drive/MyDrive/제목없는 폴더/htdemucs/NC_응원가_솔로4/NC_응원가_솔로4_no_vocals.wav to /content/drive/MyDrive/제목없는 폴더/htdemucs/vocals/NC_응원가_솔로4_no_vocals.wav\n",
            "Moved /content/drive/MyDrive/제목없는 폴더/htdemucs/NC_응원가_솔로5/NC_응원가_솔로5_vocals.wav to /content/drive/MyDrive/제목없는 폴더/htdemucs/vocals/NC_응원가_솔로5_vocals.wav\n",
            "Moved /content/drive/MyDrive/제목없는 폴더/htdemucs/NC_응원가_솔로5/NC_응원가_솔로5_no_vocals.wav to /content/drive/MyDrive/제목없는 폴더/htdemucs/vocals/NC_응원가_솔로5_no_vocals.wav\n",
            "Moved /content/drive/MyDrive/제목없는 폴더/htdemucs/NC_응원가_솔로6/NC_응원가_솔로6_vocals.wav to /content/drive/MyDrive/제목없는 폴더/htdemucs/vocals/NC_응원가_솔로6_vocals.wav\n",
            "Moved /content/drive/MyDrive/제목없는 폴더/htdemucs/NC_응원가_솔로6/NC_응원가_솔로6_no_vocals.wav to /content/drive/MyDrive/제목없는 폴더/htdemucs/vocals/NC_응원가_솔로6_no_vocals.wav\n",
            "Moved /content/drive/MyDrive/제목없는 폴더/htdemucs/삼성_응원가_솔로1/삼성_응원가_솔로1_vocals.wav to /content/drive/MyDrive/제목없는 폴더/htdemucs/vocals/삼성_응원가_솔로1_vocals.wav\n",
            "Moved /content/drive/MyDrive/제목없는 폴더/htdemucs/삼성_응원가_솔로1/삼성_응원가_솔로1_no_vocals.wav to /content/drive/MyDrive/제목없는 폴더/htdemucs/vocals/삼성_응원가_솔로1_no_vocals.wav\n",
            "Moved /content/drive/MyDrive/제목없는 폴더/htdemucs/삼성_응원가_솔로2/삼성_응원가_솔로2_vocals.wav to /content/drive/MyDrive/제목없는 폴더/htdemucs/vocals/삼성_응원가_솔로2_vocals.wav\n",
            "Moved /content/drive/MyDrive/제목없는 폴더/htdemucs/삼성_응원가_솔로2/삼성_응원가_솔로2_no_vocals.wav to /content/drive/MyDrive/제목없는 폴더/htdemucs/vocals/삼성_응원가_솔로2_no_vocals.wav\n",
            "Moved /content/drive/MyDrive/제목없는 폴더/htdemucs/삼성_응원가_솔로3/삼성_응원가_솔로3_vocals.wav to /content/drive/MyDrive/제목없는 폴더/htdemucs/vocals/삼성_응원가_솔로3_vocals.wav\n",
            "Moved /content/drive/MyDrive/제목없는 폴더/htdemucs/삼성_응원가_솔로3/삼성_응원가_솔로3_no_vocals.wav to /content/drive/MyDrive/제목없는 폴더/htdemucs/vocals/삼성_응원가_솔로3_no_vocals.wav\n",
            "Moved /content/drive/MyDrive/제목없는 폴더/htdemucs/두산_응원가_솔로1/두산_응원가_솔로1_vocals.wav to /content/drive/MyDrive/제목없는 폴더/htdemucs/vocals/두산_응원가_솔로1_vocals.wav\n",
            "Moved /content/drive/MyDrive/제목없는 폴더/htdemucs/두산_응원가_솔로1/두산_응원가_솔로1_no_vocals.wav to /content/drive/MyDrive/제목없는 폴더/htdemucs/vocals/두산_응원가_솔로1_no_vocals.wav\n",
            "Moved /content/drive/MyDrive/제목없는 폴더/htdemucs/두산_응원가_솔로2/두산_응원가_솔로2_vocals.wav to /content/drive/MyDrive/제목없는 폴더/htdemucs/vocals/두산_응원가_솔로2_vocals.wav\n",
            "Moved /content/drive/MyDrive/제목없는 폴더/htdemucs/두산_응원가_솔로2/두산_응원가_솔로2_no_vocals.wav to /content/drive/MyDrive/제목없는 폴더/htdemucs/vocals/두산_응원가_솔로2_no_vocals.wav\n",
            "Moved /content/drive/MyDrive/제목없는 폴더/htdemucs/LG트윈스_응원가_솔로/LG트윈스_응원가_솔로_vocals.wav to /content/drive/MyDrive/제목없는 폴더/htdemucs/vocals/LG트윈스_응원가_솔로_vocals.wav\n",
            "Moved /content/drive/MyDrive/제목없는 폴더/htdemucs/LG트윈스_응원가_솔로/LG트윈스_응원가_솔로_no_vocals.wav to /content/drive/MyDrive/제목없는 폴더/htdemucs/vocals/LG트윈스_응원가_솔로_no_vocals.wav\n"
          ]
        }
      ]
    }
  ]
}